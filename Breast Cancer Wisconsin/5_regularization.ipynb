{
 "cells": [
  {
   "cell_type": "markdown",
   "id": "492d2c75",
   "metadata": {},
   "source": [
    "&nbsp;"
   ]
  },
  {
   "cell_type": "markdown",
   "id": "87a8a48f",
   "metadata": {},
   "source": [
    "# 5. Regularization \n",
    "While training a machine learning model, the model can easily be overfitted or underfitted. \n",
    "To avoid this, we use regularization in machine learning to properly fit a model onto our test set. Overfitting occurs when the model learns too much detail and noise from the training data to the point when new data is exposed, the model will perform poorly on it. Regularization techniques help reduce the chance of overfitting by either adding penalties or stopping before the validation set's performance starts to decline. "
   ]
  },
  {
   "cell_type": "code",
   "execution_count": 1,
   "id": "5540d173",
   "metadata": {},
   "outputs": [],
   "source": [
    "# Standard libraries. \n",
    "import pandas as pd\n",
    "import numpy as np \n",
    "import os\n",
    "from plotly.subplots import make_subplots\n",
    "import plotly.graph_objects as go\n",
    "import plotly.express as px\n",
    "\n",
    "# Importing our functions. \n",
    "import functions\n",
    "import visuals\n",
    "\n",
    "# Importing emsemble models. \n",
    "from sklearn.ensemble import GradientBoostingClassifier, RandomForestClassifier\n",
    "from xgboost import XGBClassifier\n",
    "\n",
    "# Import transformers. \n",
    "from sklearn.pipeline import Pipeline\n",
    "from sklearn.preprocessing import StandardScaler, Normalizer, OneHotEncoder, FunctionTransformer, LabelEncoder\n",
    "\n",
    "# Converts plotly output into static images, so it can be viewed inside github repository. \n",
    "import plotly.io as pio\n",
    "pio.renderers.default = \"svg\""
   ]
  },
  {
   "cell_type": "code",
   "execution_count": 2,
   "id": "65ad2d82",
   "metadata": {
    "scrolled": false
   },
   "outputs": [
    {
     "data": {
      "text/html": [
       "<div>\n",
       "<style scoped>\n",
       "    .dataframe tbody tr th:only-of-type {\n",
       "        vertical-align: middle;\n",
       "    }\n",
       "\n",
       "    .dataframe tbody tr th {\n",
       "        vertical-align: top;\n",
       "    }\n",
       "\n",
       "    .dataframe thead th {\n",
       "        text-align: right;\n",
       "    }\n",
       "</style>\n",
       "<table border=\"1\" class=\"dataframe\">\n",
       "  <thead>\n",
       "    <tr style=\"text-align: right;\">\n",
       "      <th></th>\n",
       "      <th>radius_mean</th>\n",
       "      <th>texture_mean</th>\n",
       "      <th>perimeter_mean</th>\n",
       "      <th>area_mean</th>\n",
       "      <th>smoothness_mean</th>\n",
       "      <th>compactness_mean</th>\n",
       "      <th>concavity_mean</th>\n",
       "      <th>concave points_mean</th>\n",
       "      <th>symmetry_mean</th>\n",
       "      <th>fractal_dimension_mean</th>\n",
       "      <th>...</th>\n",
       "      <th>texture_worst</th>\n",
       "      <th>perimeter_worst</th>\n",
       "      <th>area_worst</th>\n",
       "      <th>smoothness_worst</th>\n",
       "      <th>compactness_worst</th>\n",
       "      <th>concavity_worst</th>\n",
       "      <th>concave points_worst</th>\n",
       "      <th>symmetry_worst</th>\n",
       "      <th>fractal_dimension_worst</th>\n",
       "      <th>diagnosis</th>\n",
       "    </tr>\n",
       "    <tr>\n",
       "      <th>id</th>\n",
       "      <th></th>\n",
       "      <th></th>\n",
       "      <th></th>\n",
       "      <th></th>\n",
       "      <th></th>\n",
       "      <th></th>\n",
       "      <th></th>\n",
       "      <th></th>\n",
       "      <th></th>\n",
       "      <th></th>\n",
       "      <th></th>\n",
       "      <th></th>\n",
       "      <th></th>\n",
       "      <th></th>\n",
       "      <th></th>\n",
       "      <th></th>\n",
       "      <th></th>\n",
       "      <th></th>\n",
       "      <th></th>\n",
       "      <th></th>\n",
       "      <th></th>\n",
       "    </tr>\n",
       "  </thead>\n",
       "  <tbody>\n",
       "    <tr>\n",
       "      <th>896864</th>\n",
       "      <td>12.98</td>\n",
       "      <td>19.35</td>\n",
       "      <td>84.52</td>\n",
       "      <td>514.0</td>\n",
       "      <td>0.09579</td>\n",
       "      <td>0.11250</td>\n",
       "      <td>0.07107</td>\n",
       "      <td>0.02950</td>\n",
       "      <td>0.1761</td>\n",
       "      <td>0.06540</td>\n",
       "      <td>...</td>\n",
       "      <td>21.95</td>\n",
       "      <td>99.21</td>\n",
       "      <td>634.3</td>\n",
       "      <td>0.1288</td>\n",
       "      <td>0.32530</td>\n",
       "      <td>0.34390</td>\n",
       "      <td>0.09858</td>\n",
       "      <td>0.3596</td>\n",
       "      <td>0.09166</td>\n",
       "      <td>0</td>\n",
       "    </tr>\n",
       "    <tr>\n",
       "      <th>89382601</th>\n",
       "      <td>14.61</td>\n",
       "      <td>15.69</td>\n",
       "      <td>92.68</td>\n",
       "      <td>664.9</td>\n",
       "      <td>0.07618</td>\n",
       "      <td>0.03515</td>\n",
       "      <td>0.01447</td>\n",
       "      <td>0.01877</td>\n",
       "      <td>0.1632</td>\n",
       "      <td>0.05255</td>\n",
       "      <td>...</td>\n",
       "      <td>21.75</td>\n",
       "      <td>103.70</td>\n",
       "      <td>840.8</td>\n",
       "      <td>0.1011</td>\n",
       "      <td>0.07087</td>\n",
       "      <td>0.04746</td>\n",
       "      <td>0.05813</td>\n",
       "      <td>0.2530</td>\n",
       "      <td>0.05695</td>\n",
       "      <td>0</td>\n",
       "    </tr>\n",
       "  </tbody>\n",
       "</table>\n",
       "<p>2 rows × 31 columns</p>\n",
       "</div>"
      ],
      "text/plain": [
       "          radius_mean  texture_mean  perimeter_mean  area_mean  \\\n",
       "id                                                               \n",
       "896864          12.98         19.35           84.52      514.0   \n",
       "89382601        14.61         15.69           92.68      664.9   \n",
       "\n",
       "          smoothness_mean  compactness_mean  concavity_mean  \\\n",
       "id                                                            \n",
       "896864            0.09579           0.11250         0.07107   \n",
       "89382601          0.07618           0.03515         0.01447   \n",
       "\n",
       "          concave points_mean  symmetry_mean  fractal_dimension_mean  ...  \\\n",
       "id                                                                    ...   \n",
       "896864                0.02950         0.1761                 0.06540  ...   \n",
       "89382601              0.01877         0.1632                 0.05255  ...   \n",
       "\n",
       "          texture_worst  perimeter_worst  area_worst  smoothness_worst  \\\n",
       "id                                                                       \n",
       "896864            21.95            99.21       634.3            0.1288   \n",
       "89382601          21.75           103.70       840.8            0.1011   \n",
       "\n",
       "          compactness_worst  concavity_worst  concave points_worst  \\\n",
       "id                                                                   \n",
       "896864              0.32530          0.34390               0.09858   \n",
       "89382601            0.07087          0.04746               0.05813   \n",
       "\n",
       "          symmetry_worst  fractal_dimension_worst  diagnosis  \n",
       "id                                                            \n",
       "896864            0.3596                  0.09166          0  \n",
       "89382601          0.2530                  0.05695          0  \n",
       "\n",
       "[2 rows x 31 columns]"
      ]
     },
     "execution_count": 2,
     "metadata": {},
     "output_type": "execute_result"
    }
   ],
   "source": [
    "root = os.getcwd() # Set up root directory.\n",
    "df = pd.read_csv(r\"{}\\train.csv\".format(root)) # Import train data. \n",
    "df = df.set_index(\"id\") # Set paitent id as index. \n",
    "\n",
    "X = df.iloc[:,:-1] # Splitting features and labels. \n",
    "y = df.iloc[:,-1]\n",
    "\n",
    "df.head(2)"
   ]
  },
  {
   "cell_type": "markdown",
   "id": "6e6b39b0",
   "metadata": {},
   "source": [
    "&nbsp;"
   ]
  },
  {
   "cell_type": "markdown",
   "id": "3864f017",
   "metadata": {},
   "source": [
    "### Section A: Overfitting\n",
    "This section will focus on analyzing whether our classifiers overfitted on the training data. We want to avoid overfitting because if a model familiarises itself with the training data, it also inheirts its noise which would result in any predictions on unseen data to perform poorly. "
   ]
  },
  {
   "cell_type": "markdown",
   "id": "72fd2b16",
   "metadata": {},
   "source": [
    "**A.1: Gradient Boosting Classifier**<br>\n",
    "Let's check if our hypertuned Gradient Boosting Classifier overfitted."
   ]
  },
  {
   "cell_type": "code",
   "execution_count": 3,
   "id": "b9354759",
   "metadata": {},
   "outputs": [
    {
     "name": "stdout",
     "output_type": "stream",
     "text": [
      "Model scored an Train_Recall_Score of: 100.00% and a Validation_Recall_Score of: 97.36%\n"
     ]
    }
   ],
   "source": [
    "overfitGBC = functions.model_evaluation()\n",
    "overfitGBC.preprocessing(df)\n",
    "overfitGBC.add_pipe_component(\"n\", Normalizer())\n",
    "overfitGBC.add_pipe_component(\"clf\", GradientBoostingClassifier(learning_rate=0.1, max_depth=2, min_samples_split=30,\n",
    "                                                               n_estimators=500))\n",
    "pipe = Pipeline(steps=overfitGBC.estimators)\n",
    "pipe = pipe.fit(X, y)\n",
    "overfitGBC.overfitting_checker(X, y, pipe)"
   ]
  },
  {
   "cell_type": "markdown",
   "id": "9672fdf8",
   "metadata": {},
   "source": [
    "**A.2: Random Forest Classifier**<br>\n",
    "The next step is to check our Random Forest Classifier"
   ]
  },
  {
   "cell_type": "code",
   "execution_count": 4,
   "id": "930cd26f",
   "metadata": {},
   "outputs": [
    {
     "name": "stdout",
     "output_type": "stream",
     "text": [
      "Model scored an Train_Recall_Score of: 97.25% and a Validation_Recall_Score of: 95.16%\n"
     ]
    }
   ],
   "source": [
    "overfitRFC = functions.model_evaluation()\n",
    "overfitRFC.preprocessing(df)\n",
    "overfitRFC.add_pipe_component(\"clf\", RandomForestClassifier(max_depth=20, min_samples_leaf=10, min_samples_split=2,\n",
    "                                                               n_estimators=250))\n",
    "pipe = Pipeline(steps=overfitRFC.estimators)\n",
    "pipe = pipe.fit(X, y)\n",
    "overfitRFC.overfitting_checker(X, y, pipe)"
   ]
  },
  {
   "cell_type": "markdown",
   "id": "c2f6ff15",
   "metadata": {},
   "source": [
    "**A.3: XGB Classifier**<br>\n",
    "Finally, we can test if our XGB Classifier overfitted."
   ]
  },
  {
   "cell_type": "code",
   "execution_count": 5,
   "id": "ad59d47a",
   "metadata": {},
   "outputs": [
    {
     "name": "stdout",
     "output_type": "stream",
     "text": [
      "Model scored an Train_Recall_Score of: 100.00% and a Validation_Recall_Score of: 96.70%\n"
     ]
    }
   ],
   "source": [
    "overfitXGB = functions.model_evaluation()\n",
    "overfitXGB.preprocessing(df)\n",
    "overfitXGB.add_pipe_component(\"n\", Normalizer())\n",
    "overfitXGB.add_pipe_component(\"clf\", XGBClassifier(learning_rate=0.1, max_depth=2, min_child_weight=1,\n",
    "                                                               n_estimators=250))\n",
    "pipe = Pipeline(steps=overfitXGB.estimators)\n",
    "pipe = pipe.fit(X, y)\n",
    "overfitXGB.overfitting_checker(X, y, pipe)"
   ]
  },
  {
   "cell_type": "markdown",
   "id": "86e5da6d",
   "metadata": {},
   "source": [
    "* It looks like all of our classifiers contain some degree of overfitting. So the next section will be focused on limiting it."
   ]
  },
  {
   "cell_type": "markdown",
   "id": "faa81f59",
   "metadata": {},
   "source": [
    "| Model | Model Type | Train Recall | Validation Recall |\n",
    "|---------|---------|---------|---------|\n",
    "| **Gradient Boosting Classifier** |  Normalized | 100.00% |97.36% |\n",
    "| **Random Forest Classifier** |  Base Model | 96.87% |95.60% |\n",
    "| **XGB Classifier** |  Normalized | 100.00% |96.70% |"
   ]
  },
  {
   "cell_type": "markdown",
   "id": "79782ac4",
   "metadata": {},
   "source": [
    "&nbsp;"
   ]
  },
  {
   "cell_type": "markdown",
   "id": "a2d7bec1",
   "metadata": {},
   "source": [
    "### Section B: Regularization\n",
    "This section will focus on enabling regularization techniques for all our chosen models to counter overfitting. Regularization is the process of adding penalties or early stopping to prevent a model from overfitting to the training data."
   ]
  },
  {
   "cell_type": "markdown",
   "id": "856eedf5",
   "metadata": {},
   "source": [
    "**B.1: Regularizing Gradient Boosting Classifier**<br>\n",
    "To enable early stopping for our Gradient Boosting Classifier, we include the \"n_iter_no_change\" (early stopping), \"validation_fraction\" (validation set %) and \"tol\" (tolerance level)."
   ]
  },
  {
   "cell_type": "code",
   "execution_count": 6,
   "id": "702adcd3",
   "metadata": {},
   "outputs": [
    {
     "name": "stdout",
     "output_type": "stream",
     "text": [
      "Model scored an Train_Recall_Score of: 98.43% and a Validation_Recall of: 95.03% and the difference between the two is: -3.30%\n"
     ]
    }
   ],
   "source": [
    "testGBC, trainGBC, testTrainDifference = list(), list(), list()\n",
    "\n",
    "# ML algorithms are stochastic in nature, so we'll evlauate our model through 10 iterations. \n",
    "for i in range(1,11): \n",
    "    GBC = functions.model_evaluation() # Creating our class instance. \n",
    "    GBC.preprocessing(df) \n",
    "    # Adding transformers to pipeline.\n",
    "    GBC.add_pipe_component(\"n\", Normalizer())\n",
    "    GBC.add_pipe_component(\"clf\", GradientBoostingClassifier(learning_rate=0.1, max_depth=2, min_samples_split=30, \n",
    "                                                            n_estimators=500, validation_fraction=0.2,\n",
    "                                                            n_iter_no_change=15, tol=0.1))\n",
    "    pipe = Pipeline(steps=GBC.estimators) # Creating pipeline instance.  \n",
    "    pipe = pipe.fit(X, y) # Fitting the data to our estimator. \n",
    "    GBC.overfitting_checker_no_print(X, y, pipe) # Evaluation using cross validation, enabling train score. \n",
    "    \n",
    "    # Storing average results.  \n",
    "    trainGBC.append(GBC.results[\"train_score\"].mean()*100)\n",
    "    testGBC.append(GBC.results[\"test_score\"].mean()*100)\n",
    "    testTrainDifference.append(round(GBC.results[\"test_score\"].mean() - GBC.results[\"train_score\"].mean(), 2))\n",
    "    \n",
    "print('Model scored an Train_Recall_Score of: %.2f%% and a Validation_Recall of: %.2f%% and the difference between the two is: %.2f%%' \n",
    "      % (np.mean(trainGBC), np.mean(testGBC), np.mean(testTrainDifference)*100))"
   ]
  },
  {
   "cell_type": "markdown",
   "id": "3721b4fc",
   "metadata": {},
   "source": [
    "**B.2: Regularizing Random Forest Classifier**<br>\n",
    "To regularize our Random Forest Classifier we increased our min_samples_split to 15."
   ]
  },
  {
   "cell_type": "code",
   "execution_count": 7,
   "id": "1301b657",
   "metadata": {},
   "outputs": [
    {
     "name": "stdout",
     "output_type": "stream",
     "text": [
      "Model scored an Train_Recall_Score of: 98.50% and a Validation_Recall of: 95.16% and the difference between the two is: -3.10%\n"
     ]
    }
   ],
   "source": [
    "testRFC, trainRFC, testTrainDifference2 = list(), list(), list()\n",
    "\n",
    "for i in range(1,11):\n",
    "    # Check if the model overfit. \n",
    "    RFC = functions.model_evaluation()\n",
    "    RFC.preprocessing(df)\n",
    "    # Checking if our hypertuned models overfited.\n",
    "    RFC.add_pipe_component(\"clf\", RandomForestClassifier(max_depth=20, min_samples_split=15, min_samples_leaf=2, \n",
    "                                                               n_estimators=250))\n",
    "    pipe = Pipeline(steps=RFC.estimators)\n",
    "    pipe = pipe.fit(X, y)\n",
    "    RFC.overfitting_checker_no_print(X, y, pipe) \n",
    "    \n",
    "    # Storing average results.  \n",
    "    trainRFC.append(RFC.results[\"train_score\"].mean()*100)\n",
    "    testRFC.append(RFC.results[\"test_score\"].mean()*100)\n",
    "    testTrainDifference2.append(round(RFC.results[\"test_score\"].mean() - RFC.results[\"train_score\"].mean(),2 ))\n",
    "    \n",
    "print('Model scored an Train_Recall_Score of: %.2f%% and a Validation_Recall of: %.2f%% and the difference between the two is: %.2f%%' \n",
    "      % (np.mean(trainRFC), np.mean(testRFC), np.mean(testTrainDifference2)*100))"
   ]
  },
  {
   "cell_type": "markdown",
   "id": "87bf6e1d",
   "metadata": {},
   "source": [
    "| Model | Model Type | Regularization Metrics | Recall |\n",
    "|---------|---------|---------|---------|\n",
    "| **Gradient Boosting Classifier** | Normalized|validation_fraction=0.2, n_iter_no_change=15, tol=0.1 | 94.70% |\n",
    "| **Random Forest Classifier** | Base Model | min_samples_split=10, max_depth=20 |95.60% |"
   ]
  },
  {
   "cell_type": "markdown",
   "id": "9d3cff27",
   "metadata": {},
   "source": [
    "**B.3: Regularizing XGB Classifier**<br>\n",
    "To regularize our XGB Regressor we can implement the early stopping technique. This method involves the algorithm to stop training n number of epochs once the loss function of the validation set starts to deteroriate."
   ]
  },
  {
   "cell_type": "code",
   "execution_count": 8,
   "id": "e295ddb3",
   "metadata": {},
   "outputs": [
    {
     "data": {
      "text/html": [
       "<div>\n",
       "<style scoped>\n",
       "    .dataframe tbody tr th:only-of-type {\n",
       "        vertical-align: middle;\n",
       "    }\n",
       "\n",
       "    .dataframe tbody tr th {\n",
       "        vertical-align: top;\n",
       "    }\n",
       "\n",
       "    .dataframe thead th {\n",
       "        text-align: right;\n",
       "    }\n",
       "</style>\n",
       "<table border=\"1\" class=\"dataframe\">\n",
       "  <thead>\n",
       "    <tr style=\"text-align: right;\">\n",
       "      <th></th>\n",
       "      <th>radius_mean</th>\n",
       "      <th>texture_mean</th>\n",
       "      <th>perimeter_mean</th>\n",
       "      <th>area_mean</th>\n",
       "      <th>smoothness_mean</th>\n",
       "      <th>compactness_mean</th>\n",
       "      <th>concavity_mean</th>\n",
       "      <th>concave points_mean</th>\n",
       "      <th>symmetry_mean</th>\n",
       "      <th>fractal_dimension_mean</th>\n",
       "      <th>...</th>\n",
       "      <th>radius_worst</th>\n",
       "      <th>texture_worst</th>\n",
       "      <th>perimeter_worst</th>\n",
       "      <th>area_worst</th>\n",
       "      <th>smoothness_worst</th>\n",
       "      <th>compactness_worst</th>\n",
       "      <th>concavity_worst</th>\n",
       "      <th>concave points_worst</th>\n",
       "      <th>symmetry_worst</th>\n",
       "      <th>fractal_dimension_worst</th>\n",
       "    </tr>\n",
       "  </thead>\n",
       "  <tbody>\n",
       "    <tr>\n",
       "      <th>0</th>\n",
       "      <td>0.015681</td>\n",
       "      <td>0.023376</td>\n",
       "      <td>0.102107</td>\n",
       "      <td>0.620954</td>\n",
       "      <td>0.000116</td>\n",
       "      <td>0.000136</td>\n",
       "      <td>0.000086</td>\n",
       "      <td>0.000036</td>\n",
       "      <td>0.000213</td>\n",
       "      <td>0.000079</td>\n",
       "      <td>...</td>\n",
       "      <td>0.017421</td>\n",
       "      <td>0.026517</td>\n",
       "      <td>0.119854</td>\n",
       "      <td>0.766286</td>\n",
       "      <td>0.000156</td>\n",
       "      <td>0.000393</td>\n",
       "      <td>0.000415</td>\n",
       "      <td>0.000119</td>\n",
       "      <td>0.000434</td>\n",
       "      <td>0.000111</td>\n",
       "    </tr>\n",
       "    <tr>\n",
       "      <th>1</th>\n",
       "      <td>0.013505</td>\n",
       "      <td>0.014503</td>\n",
       "      <td>0.085667</td>\n",
       "      <td>0.614589</td>\n",
       "      <td>0.000070</td>\n",
       "      <td>0.000032</td>\n",
       "      <td>0.000013</td>\n",
       "      <td>0.000017</td>\n",
       "      <td>0.000151</td>\n",
       "      <td>0.000049</td>\n",
       "      <td>...</td>\n",
       "      <td>0.015215</td>\n",
       "      <td>0.020104</td>\n",
       "      <td>0.095853</td>\n",
       "      <td>0.777179</td>\n",
       "      <td>0.000093</td>\n",
       "      <td>0.000066</td>\n",
       "      <td>0.000044</td>\n",
       "      <td>0.000054</td>\n",
       "      <td>0.000234</td>\n",
       "      <td>0.000053</td>\n",
       "    </tr>\n",
       "  </tbody>\n",
       "</table>\n",
       "<p>2 rows × 30 columns</p>\n",
       "</div>"
      ],
      "text/plain": [
       "   radius_mean  texture_mean  perimeter_mean  area_mean  smoothness_mean  \\\n",
       "0     0.015681      0.023376        0.102107   0.620954         0.000116   \n",
       "1     0.013505      0.014503        0.085667   0.614589         0.000070   \n",
       "\n",
       "   compactness_mean  concavity_mean  concave points_mean  symmetry_mean  \\\n",
       "0          0.000136        0.000086             0.000036       0.000213   \n",
       "1          0.000032        0.000013             0.000017       0.000151   \n",
       "\n",
       "   fractal_dimension_mean  ...  radius_worst  texture_worst  perimeter_worst  \\\n",
       "0                0.000079  ...      0.017421       0.026517         0.119854   \n",
       "1                0.000049  ...      0.015215       0.020104         0.095853   \n",
       "\n",
       "   area_worst  smoothness_worst  compactness_worst  concavity_worst  \\\n",
       "0    0.766286          0.000156           0.000393         0.000415   \n",
       "1    0.777179          0.000093           0.000066         0.000044   \n",
       "\n",
       "   concave points_worst  symmetry_worst  fractal_dimension_worst  \n",
       "0              0.000119        0.000434                 0.000111  \n",
       "1              0.000054        0.000234                 0.000053  \n",
       "\n",
       "[2 rows x 30 columns]"
      ]
     },
     "execution_count": 8,
     "metadata": {},
     "output_type": "execute_result"
    }
   ],
   "source": [
    "n = Normalizer() # Creating our normalizer instance. \n",
    "normalizedData = n.fit_transform(X) # Transforming our feature space. \n",
    "dfNormalized = pd.DataFrame(data=normalizedData, columns=list(X.columns)) # Output results into a dataframe. \n",
    "dfNormalized.head(2)"
   ]
  },
  {
   "cell_type": "code",
   "execution_count": 9,
   "id": "ed2a1acf",
   "metadata": {},
   "outputs": [],
   "source": [
    "# Getting axes. \n",
    "XGB = functions.Early_Stopping(dfNormalized, y, XGBClassifier(eval_metric=[\"logloss\"], learning_rate=0.1, max_depth=2, \n",
    "                                                   min_child_weight=1, n_estimators=250))"
   ]
  },
  {
   "cell_type": "code",
   "execution_count": 10,
   "id": "f852d82a",
   "metadata": {},
   "outputs": [
    {
     "data": {
      "image/svg+xml": [
       "<svg class=\"main-svg\" xmlns=\"http://www.w3.org/2000/svg\" xmlns:xlink=\"http://www.w3.org/1999/xlink\" width=\"800\" height=\"400\" style=\"\" viewBox=\"0 0 800 400\"><rect x=\"0\" y=\"0\" width=\"800\" height=\"400\" style=\"fill: rgb(255, 255, 255); fill-opacity: 1;\"/><defs id=\"defs-3fa70e\"><g class=\"clips\"><clipPath id=\"clip3fa70exyplot\" class=\"plotclip\"><rect width=\"620\" height=\"220\"/></clipPath><clipPath class=\"axesclip\" id=\"clip3fa70ex\"><rect x=\"80\" y=\"0\" width=\"620\" height=\"400\"/></clipPath><clipPath class=\"axesclip\" id=\"clip3fa70ey\"><rect x=\"0\" y=\"100\" width=\"800\" height=\"220\"/></clipPath><clipPath class=\"axesclip\" id=\"clip3fa70exy\"><rect x=\"80\" y=\"100\" width=\"620\" height=\"220\"/></clipPath></g><g class=\"gradients\"/><g class=\"patterns\"/></defs><g class=\"bglayer\"><rect class=\"bg\" x=\"80\" y=\"100\" width=\"620\" height=\"220\" style=\"fill: rgb(248, 248, 246); fill-opacity: 1; stroke-width: 0;\"/></g><g class=\"layer-below\"><g class=\"imagelayer\"/><g class=\"shapelayer\"/></g><g class=\"cartesianlayer\"><g class=\"subplot xy\"><g class=\"layer-subplot\"><g class=\"shapelayer\"/><g class=\"imagelayer\"/></g><g class=\"minor-gridlayer\"><g class=\"x\"/><g class=\"y\"/></g><g class=\"gridlayer\"><g class=\"x\"><path class=\"xgrid crisp\" transform=\"translate(204.5,0)\" d=\"M0,100v220\" style=\"stroke: rgb(255, 255, 255); stroke-opacity: 1; stroke-width: 1px;\"/><path class=\"xgrid crisp\" transform=\"translate(329,0)\" d=\"M0,100v220\" style=\"stroke: rgb(255, 255, 255); stroke-opacity: 1; stroke-width: 1px;\"/><path class=\"xgrid crisp\" transform=\"translate(453.49,0)\" d=\"M0,100v220\" style=\"stroke: rgb(255, 255, 255); stroke-opacity: 1; stroke-width: 1px;\"/><path class=\"xgrid crisp\" transform=\"translate(577.99,0)\" d=\"M0,100v220\" style=\"stroke: rgb(255, 255, 255); stroke-opacity: 1; stroke-width: 1px;\"/></g><g class=\"y\"><path class=\"ygrid crisp\" transform=\"translate(0,247.19)\" d=\"M80,0h620\" style=\"stroke: rgb(255, 255, 255); stroke-opacity: 1; stroke-width: 1px;\"/><path class=\"ygrid crisp\" transform=\"translate(0,182.43)\" d=\"M80,0h620\" style=\"stroke: rgb(255, 255, 255); stroke-opacity: 1; stroke-width: 1px;\"/><path class=\"ygrid crisp\" transform=\"translate(0,117.66)\" d=\"M80,0h620\" style=\"stroke: rgb(255, 255, 255); stroke-opacity: 1; stroke-width: 1px;\"/></g></g><g class=\"zerolinelayer\"><path class=\"xzl zl crisp\" transform=\"translate(80,0)\" d=\"M0,100v220\" style=\"stroke: rgb(255, 255, 255); stroke-opacity: 1; stroke-width: 2px;\"/><path class=\"yzl zl crisp\" transform=\"translate(0,311.95)\" d=\"M80,0h620\" style=\"stroke: rgb(255, 255, 255); stroke-opacity: 1; stroke-width: 2px;\"/></g><path class=\"xlines-below\"/><path class=\"ylines-below\"/><g class=\"overlines-below\"/><g class=\"xaxislayer-below\"/><g class=\"yaxislayer-below\"/><g class=\"overaxes-below\"/><g class=\"plot\" transform=\"translate(80,100)\" clip-path=\"url(#clip3fa70exyplot)\"><g class=\"scatterlayer mlayer\"><g class=\"trace scatter trace4c291c\" style=\"stroke-miterlimit: 2; opacity: 1;\"><g class=\"fills\"/><g class=\"errorbars\"/><g class=\"lines\"><path class=\"js-line\" d=\"M0,11L4.98,46.01L7.47,59.73L12.45,80.94L14.94,89.41L22.41,108.87L24.9,114.71L34.86,131.38L37.35,134.75L39.84,138.36L42.33,140.37L52.29,150.35L54.78,152.16L57.27,152.85L59.76,154.88L67.23,159.05L69.72,159.82L72.21,161.52L74.7,162.17L77.19,163.35L79.68,163.3L82.17,164.32L84.66,164.51L94.62,164.68L97.11,165.32L102.09,167.43L104.58,166.97L109.56,166.89L112.05,168.18L117.03,168.89L119.52,168.29L126.99,167.98L129.48,169.08L134.46,169.73L136.95,169.16L139.44,170.02L141.93,169.93L144.42,169.4L146.91,169.91L151.89,169.29L154.38,170.08L161.85,169.75L164.34,170.01L166.83,169.53L169.32,170.2L171.81,169.54L174.3,169.99L209.16,169.04L211.65,169.62L216.63,168.94L219.12,169.62L221.61,169.88L224.1,169.36L229.08,169.6L231.57,169.89L239.04,169.92L241.53,170.39L246.51,170.44L249,170.12L253.98,170.36L256.47,170.05L261.45,170.72L263.94,170.45L268.92,170.45L271.41,170.58L276.39,171.3L278.88,171.01L288.84,171.49L291.33,171.19L296.31,171.13L298.8,171.13L321.2,170.71L323.69,170.51L346.1,170.44L348.59,170.76L363.53,170.69L366.02,171.07L380.96,170.88L383.45,171.11L418.31,170.7L420.8,170.9L438.23,170.64L440.72,170.66L453.17,170.43L455.66,170.63L502.97,169.99L505.46,170.18L540.32,169.86L542.81,170.02L575.18,169.7L577.67,169.87L602.57,169.79L605.06,169.95L620,169.83\" style=\"vector-effect: non-scaling-stroke; fill: none; stroke: rgb(99, 110, 250); stroke-opacity: 1; stroke-width: 2px; opacity: 1;\"/></g><g class=\"points\"/><g class=\"text\"/></g><g class=\"trace scatter trace5b67bb\" style=\"stroke-miterlimit: 2; opacity: 1;\"><g class=\"fills\"/><g class=\"errorbars\"/><g class=\"lines\"><path class=\"js-line\" d=\"M0,12.54L4.98,50.43L7.47,65.55L12.45,89.46L14.94,99.18L19.92,115.27L22.41,121.9L27.39,133.73L29.88,138.76L37.35,150.9L39.84,154.3L49.8,165.16L52.29,167.29L59.76,173.14L62.25,174.66L72.21,180.09L74.7,181.19L92.13,187.4L94.62,188.1L122.01,194.41L124.5,194.84L154.38,199.09L156.87,199.33L194.22,202.53L196.71,202.68L256.47,205.62L258.96,205.72L333.65,207.39L336.14,207.44L488.03,208.55L490.52,208.56L620,209\" style=\"vector-effect: non-scaling-stroke; fill: none; stroke: rgb(239, 85, 59); stroke-opacity: 1; stroke-width: 2px; opacity: 1;\"/></g><g class=\"points\"/><g class=\"text\"/></g></g></g><g class=\"overplot\"/><path class=\"xlines-above crisp\" d=\"M0,0\" style=\"fill: none;\"/><path class=\"ylines-above crisp\" d=\"M0,0\" style=\"fill: none;\"/><g class=\"overlines-above\"/><g class=\"xaxislayer-above\"><g class=\"xtick\"><text text-anchor=\"middle\" x=\"0\" y=\"333\" transform=\"translate(80,0)\" style=\"font-family: 'Open Sans', verdana, arial, sans-serif; font-size: 12px; fill: rgb(42, 63, 95); fill-opacity: 1; white-space: pre; opacity: 1;\">0</text></g><g class=\"xtick\"><text text-anchor=\"middle\" x=\"0\" y=\"333\" style=\"font-family: 'Open Sans', verdana, arial, sans-serif; font-size: 12px; fill: rgb(42, 63, 95); fill-opacity: 1; white-space: pre; opacity: 1;\" transform=\"translate(204.5,0)\">50</text></g><g class=\"xtick\"><text text-anchor=\"middle\" x=\"0\" y=\"333\" style=\"font-family: 'Open Sans', verdana, arial, sans-serif; font-size: 12px; fill: rgb(42, 63, 95); fill-opacity: 1; white-space: pre; opacity: 1;\" transform=\"translate(329,0)\">100</text></g><g class=\"xtick\"><text text-anchor=\"middle\" x=\"0\" y=\"333\" style=\"font-family: 'Open Sans', verdana, arial, sans-serif; font-size: 12px; fill: rgb(42, 63, 95); fill-opacity: 1; white-space: pre; opacity: 1;\" transform=\"translate(453.49,0)\">150</text></g><g class=\"xtick\"><text text-anchor=\"middle\" x=\"0\" y=\"333\" style=\"font-family: 'Open Sans', verdana, arial, sans-serif; font-size: 12px; fill: rgb(42, 63, 95); fill-opacity: 1; white-space: pre; opacity: 1;\" transform=\"translate(577.99,0)\">200</text></g></g><g class=\"yaxislayer-above\"><g class=\"ytick\"><text text-anchor=\"end\" x=\"79\" y=\"4.199999999999999\" transform=\"translate(0,311.95)\" style=\"font-family: 'Open Sans', verdana, arial, sans-serif; font-size: 12px; fill: rgb(42, 63, 95); fill-opacity: 1; white-space: pre; opacity: 1;\">0</text></g><g class=\"ytick\"><text text-anchor=\"end\" x=\"79\" y=\"4.199999999999999\" style=\"font-family: 'Open Sans', verdana, arial, sans-serif; font-size: 12px; fill: rgb(42, 63, 95); fill-opacity: 1; white-space: pre; opacity: 1;\" transform=\"translate(0,247.19)\">0.2</text></g><g class=\"ytick\"><text text-anchor=\"end\" x=\"79\" y=\"4.199999999999999\" style=\"font-family: 'Open Sans', verdana, arial, sans-serif; font-size: 12px; fill: rgb(42, 63, 95); fill-opacity: 1; white-space: pre; opacity: 1;\" transform=\"translate(0,182.43)\">0.4</text></g><g class=\"ytick\"><text text-anchor=\"end\" x=\"79\" y=\"4.199999999999999\" style=\"font-family: 'Open Sans', verdana, arial, sans-serif; font-size: 12px; fill: rgb(42, 63, 95); fill-opacity: 1; white-space: pre; opacity: 1;\" transform=\"translate(0,117.66)\">0.6</text></g></g><g class=\"overaxes-above\"/></g></g><g class=\"polarlayer\"/><g class=\"smithlayer\"/><g class=\"ternarylayer\"/><g class=\"geolayer\"/><g class=\"funnelarealayer\"/><g class=\"pielayer\"/><g class=\"iciclelayer\"/><g class=\"treemaplayer\"/><g class=\"sunburstlayer\"/><g class=\"glimages\"/><defs id=\"topdefs-3fa70e\"><g class=\"clips\"/><clipPath id=\"legend3fa70e\"><rect width=\"76\" height=\"48\" x=\"0\" y=\"0\"/></clipPath></defs><g class=\"layer-above\"><g class=\"imagelayer\"/><g class=\"shapelayer\"/></g><g class=\"infolayer\"><g class=\"legend\" pointer-events=\"all\" transform=\"translate(712.4,100)\"><rect class=\"bg\" shape-rendering=\"crispEdges\" style=\"stroke: rgb(68, 68, 68); stroke-opacity: 1; fill: rgb(255, 255, 255); fill-opacity: 1; stroke-width: 0px;\" width=\"76\" height=\"48\" x=\"0\" y=\"0\"/><g class=\"scrollbox\" transform=\"\" clip-path=\"url(#legend3fa70e)\"><g class=\"groups\"><g class=\"traces\" transform=\"translate(0,14.5)\" style=\"opacity: 1;\"><text class=\"legendtext\" text-anchor=\"start\" x=\"40\" y=\"4.680000000000001\" style=\"font-family: 'Open Sans', verdana, arial, sans-serif; font-size: 12px; fill: rgb(42, 63, 95); fill-opacity: 1; white-space: pre;\">Train</text><g class=\"layers\" style=\"opacity: 1;\"><g class=\"legendfill\"/><g class=\"legendlines\"><path class=\"js-line\" d=\"M5,0h30\" style=\"fill: none; stroke: rgb(99, 110, 250); stroke-opacity: 1; stroke-width: 2px;\"/></g><g class=\"legendsymbols\"><g class=\"legendpoints\"/></g></g><rect class=\"legendtoggle\" x=\"0\" y=\"-9.5\" width=\"70.234375\" height=\"19\" style=\"fill: rgb(0, 0, 0); fill-opacity: 0;\"/></g><g class=\"traces\" transform=\"translate(0,33.5)\" style=\"opacity: 1;\"><text class=\"legendtext\" text-anchor=\"start\" x=\"40\" y=\"4.680000000000001\" style=\"font-family: 'Open Sans', verdana, arial, sans-serif; font-size: 12px; fill: rgb(42, 63, 95); fill-opacity: 1; white-space: pre;\">Test</text><g class=\"layers\" style=\"opacity: 1;\"><g class=\"legendfill\"/><g class=\"legendlines\"><path class=\"js-line\" d=\"M5,0h30\" style=\"fill: none; stroke: rgb(239, 85, 59); stroke-opacity: 1; stroke-width: 2px;\"/></g><g class=\"legendsymbols\"><g class=\"legendpoints\"/></g></g><rect class=\"legendtoggle\" x=\"0\" y=\"-9.5\" width=\"70.234375\" height=\"19\" style=\"fill: rgb(0, 0, 0); fill-opacity: 0;\"/></g></g></g><rect class=\"scrollbar\" rx=\"20\" ry=\"3\" width=\"0\" height=\"0\" style=\"fill: rgb(128, 139, 164); fill-opacity: 1;\" x=\"0\" y=\"0\"/></g><g class=\"g-gtitle\"><text class=\"gtitle\" x=\"40\" y=\"50\" text-anchor=\"start\" dy=\"0em\" style=\"font-family: 'Arial Black'; font-size: 20px; fill: rgb(42, 63, 95); opacity: 1; font-weight: normal; white-space: pre;\">XGB Classifier Loss Curve</text></g><g class=\"g-xtitle\"><text class=\"xtitle\" x=\"390\" y=\"360.8\" text-anchor=\"middle\" style=\"font-family: 'Open Sans', verdana, arial, sans-serif; font-size: 14px; fill: rgb(42, 63, 95); opacity: 1; font-weight: normal; white-space: pre;\">Epochs</text></g><g class=\"g-ytitle\"><text class=\"ytitle\" transform=\"rotate(-90,34.575,210)\" x=\"34.575\" y=\"210\" text-anchor=\"middle\" style=\"font-family: 'Open Sans', verdana, arial, sans-serif; font-size: 14px; fill: rgb(42, 63, 95); opacity: 1; font-weight: normal; white-space: pre;\">LogLoss</text></g></g></svg>"
      ]
     },
     "metadata": {},
     "output_type": "display_data"
    }
   ],
   "source": [
    "# Inputting axes into our plot. \n",
    "visuals.LogLoss_Curve(XGB.x_axis, XGB.results[\"validation_1\"]['logloss'], \n",
    "                        XGB.results[\"validation_0\"]['logloss'])"
   ]
  },
  {
   "cell_type": "code",
   "execution_count": 11,
   "id": "9bacd030",
   "metadata": {},
   "outputs": [],
   "source": [
    "# We'll set \"n_estimators\" to 500, to ensure the model has enough training time to overfit. \n",
    "earlyStoppingXGB = functions.Early_Stopping(dfNormalized, y, XGBClassifier(early_stopping_rounds=10, eval_metric=[\"logloss\"], \n",
    "                                                    learning_rate=0.1,max_depth=2, min_child_weight=1, n_estimators=500))"
   ]
  },
  {
   "cell_type": "code",
   "execution_count": 12,
   "id": "2ad1bd96",
   "metadata": {},
   "outputs": [
    {
     "data": {
      "image/svg+xml": [
       "<svg class=\"main-svg\" xmlns=\"http://www.w3.org/2000/svg\" xmlns:xlink=\"http://www.w3.org/1999/xlink\" width=\"800\" height=\"400\" style=\"\" viewBox=\"0 0 800 400\"><rect x=\"0\" y=\"0\" width=\"800\" height=\"400\" style=\"fill: rgb(255, 255, 255); fill-opacity: 1;\"/><defs id=\"defs-5e7491\"><g class=\"clips\"><clipPath id=\"clip5e7491xyplot\" class=\"plotclip\"><rect width=\"640\" height=\"260\"/></clipPath><clipPath class=\"axesclip\" id=\"clip5e7491x\"><rect x=\"80\" y=\"0\" width=\"640\" height=\"400\"/></clipPath><clipPath class=\"axesclip\" id=\"clip5e7491y\"><rect x=\"0\" y=\"60\" width=\"800\" height=\"260\"/></clipPath><clipPath class=\"axesclip\" id=\"clip5e7491xy\"><rect x=\"80\" y=\"60\" width=\"640\" height=\"260\"/></clipPath></g><g class=\"gradients\"/><g class=\"patterns\"/></defs><g class=\"bglayer\"><rect class=\"bg\" x=\"80\" y=\"60\" width=\"640\" height=\"260\" style=\"fill: rgb(248, 248, 246); fill-opacity: 1; stroke-width: 0;\"/></g><g class=\"layer-below\"><g class=\"imagelayer\"/><g class=\"shapelayer\"/></g><g class=\"cartesianlayer\"><g class=\"subplot xy\"><g class=\"layer-subplot\"><g class=\"shapelayer\"/><g class=\"imagelayer\"/></g><g class=\"minor-gridlayer\"><g class=\"x\"/><g class=\"y\"/></g><g class=\"gridlayer\"><g class=\"x\"><path class=\"xgrid crisp\" transform=\"translate(162.05,0)\" d=\"M0,60v260\" style=\"stroke: rgb(255, 255, 255); stroke-opacity: 1; stroke-width: 1px;\"/><path class=\"xgrid crisp\" transform=\"translate(244.1,0)\" d=\"M0,60v260\" style=\"stroke: rgb(255, 255, 255); stroke-opacity: 1; stroke-width: 1px;\"/><path class=\"xgrid crisp\" transform=\"translate(326.15,0)\" d=\"M0,60v260\" style=\"stroke: rgb(255, 255, 255); stroke-opacity: 1; stroke-width: 1px;\"/><path class=\"xgrid crisp\" transform=\"translate(408.21,0)\" d=\"M0,60v260\" style=\"stroke: rgb(255, 255, 255); stroke-opacity: 1; stroke-width: 1px;\"/><path class=\"xgrid crisp\" transform=\"translate(490.26,0)\" d=\"M0,60v260\" style=\"stroke: rgb(255, 255, 255); stroke-opacity: 1; stroke-width: 1px;\"/><path class=\"xgrid crisp\" transform=\"translate(572.31,0)\" d=\"M0,60v260\" style=\"stroke: rgb(255, 255, 255); stroke-opacity: 1; stroke-width: 1px;\"/><path class=\"xgrid crisp\" transform=\"translate(654.36,0)\" d=\"M0,60v260\" style=\"stroke: rgb(255, 255, 255); stroke-opacity: 1; stroke-width: 1px;\"/></g><g class=\"y\"><path class=\"ygrid crisp\" transform=\"translate(0,273.18)\" d=\"M80,0h640\" style=\"stroke: rgb(255, 255, 255); stroke-opacity: 1; stroke-width: 1px;\"/><path class=\"ygrid crisp\" transform=\"translate(0,225.58)\" d=\"M80,0h640\" style=\"stroke: rgb(255, 255, 255); stroke-opacity: 1; stroke-width: 1px;\"/><path class=\"ygrid crisp\" transform=\"translate(0,177.99)\" d=\"M80,0h640\" style=\"stroke: rgb(255, 255, 255); stroke-opacity: 1; stroke-width: 1px;\"/><path class=\"ygrid crisp\" transform=\"translate(0,130.39)\" d=\"M80,0h640\" style=\"stroke: rgb(255, 255, 255); stroke-opacity: 1; stroke-width: 1px;\"/><path class=\"ygrid crisp\" transform=\"translate(0,82.8)\" d=\"M80,0h640\" style=\"stroke: rgb(255, 255, 255); stroke-opacity: 1; stroke-width: 1px;\"/></g></g><g class=\"zerolinelayer\"><path class=\"xzl zl crisp\" transform=\"translate(80,0)\" d=\"M0,60v260\" style=\"stroke: rgb(255, 255, 255); stroke-opacity: 1; stroke-width: 2px;\"/></g><path class=\"xlines-below\"/><path class=\"ylines-below\"/><g class=\"overlines-below\"/><g class=\"xaxislayer-below\"/><g class=\"yaxislayer-below\"/><g class=\"overaxes-below\"/><g class=\"plot\" transform=\"translate(80,60)\" clip-path=\"url(#clip5e7491xyplot)\"><g class=\"scatterlayer mlayer\"><g class=\"trace scatter tracea2ac78\" style=\"stroke-miterlimit: 2; opacity: 1;\"><g class=\"fills\"/><g class=\"errorbars\"/><g class=\"lines\"><path class=\"js-line\" d=\"M0,13L8.21,41.31L16.41,64.46L24.62,84.63L32.82,101.6L41.03,115.81L49.23,128.26L65.64,148.62L73.85,156.85L82.05,165.44L90.26,171.97L98.46,178.72L106.67,183.69L114.87,189.94L123.08,194.89L131.28,200.21L139.49,203.16L164.1,214.41L172.31,217.83L180.51,220.49L188.72,221.5L196.92,224.49L205.13,226.65L229.74,231.75L237.95,234.25L246.15,235.19L254.36,236.94L262.56,236.85L270.77,238.36L287.18,238.77L295.38,238.27L320,239.83L328.21,241.74L336.41,242.93L344.62,242.26L361.03,242.14L369.23,244.03L377.44,245.03L385.64,245.08L393.85,244.2L402.05,244.13L418.46,243.74L426.67,245.36L434.87,246.31L443.08,246.31L451.28,245.48L459.49,246.75L475.9,245.83L484.1,246.58L492.31,246.51L500.51,245.66L508.72,246.83L516.92,246.65L525.13,245.8L533.33,246.34L541.54,246.73L549.74,246.03L557.95,247L566.15,246.04L574.36,246.7L582.56,246.59L607.18,246.13L615.38,245.92L623.59,246.42L631.79,245.63L640,245.4\" style=\"vector-effect: non-scaling-stroke; fill: none; stroke: rgb(99, 110, 250); stroke-opacity: 1; stroke-width: 2px; opacity: 1;\"/></g><g class=\"points\"/><g class=\"text\"/></g></g></g><g class=\"overplot\"/><path class=\"xlines-above crisp\" d=\"M0,0\" style=\"fill: none;\"/><path class=\"ylines-above crisp\" d=\"M0,0\" style=\"fill: none;\"/><g class=\"overlines-above\"/><g class=\"xaxislayer-above\"><g class=\"xtick\"><text text-anchor=\"middle\" x=\"0\" y=\"333\" transform=\"translate(80,0)\" style=\"font-family: 'Open Sans', verdana, arial, sans-serif; font-size: 12px; fill: rgb(42, 63, 95); fill-opacity: 1; white-space: pre; opacity: 1;\">0</text></g><g class=\"xtick\"><text text-anchor=\"middle\" x=\"0\" y=\"333\" style=\"font-family: 'Open Sans', verdana, arial, sans-serif; font-size: 12px; fill: rgb(42, 63, 95); fill-opacity: 1; white-space: pre; opacity: 1;\" transform=\"translate(162.05,0)\">10</text></g><g class=\"xtick\"><text text-anchor=\"middle\" x=\"0\" y=\"333\" style=\"font-family: 'Open Sans', verdana, arial, sans-serif; font-size: 12px; fill: rgb(42, 63, 95); fill-opacity: 1; white-space: pre; opacity: 1;\" transform=\"translate(244.1,0)\">20</text></g><g class=\"xtick\"><text text-anchor=\"middle\" x=\"0\" y=\"333\" style=\"font-family: 'Open Sans', verdana, arial, sans-serif; font-size: 12px; fill: rgb(42, 63, 95); fill-opacity: 1; white-space: pre; opacity: 1;\" transform=\"translate(326.15,0)\">30</text></g><g class=\"xtick\"><text text-anchor=\"middle\" x=\"0\" y=\"333\" style=\"font-family: 'Open Sans', verdana, arial, sans-serif; font-size: 12px; fill: rgb(42, 63, 95); fill-opacity: 1; white-space: pre; opacity: 1;\" transform=\"translate(408.21,0)\">40</text></g><g class=\"xtick\"><text text-anchor=\"middle\" x=\"0\" y=\"333\" style=\"font-family: 'Open Sans', verdana, arial, sans-serif; font-size: 12px; fill: rgb(42, 63, 95); fill-opacity: 1; white-space: pre; opacity: 1;\" transform=\"translate(490.26,0)\">50</text></g><g class=\"xtick\"><text text-anchor=\"middle\" x=\"0\" y=\"333\" style=\"font-family: 'Open Sans', verdana, arial, sans-serif; font-size: 12px; fill: rgb(42, 63, 95); fill-opacity: 1; white-space: pre; opacity: 1;\" transform=\"translate(572.31,0)\">60</text></g><g class=\"xtick\"><text text-anchor=\"middle\" x=\"0\" y=\"333\" style=\"font-family: 'Open Sans', verdana, arial, sans-serif; font-size: 12px; fill: rgb(42, 63, 95); fill-opacity: 1; white-space: pre; opacity: 1;\" transform=\"translate(654.36,0)\">70</text></g></g><g class=\"yaxislayer-above\"><g class=\"ytick\"><text text-anchor=\"end\" x=\"79\" y=\"4.199999999999999\" transform=\"translate(0,273.18)\" style=\"font-family: 'Open Sans', verdana, arial, sans-serif; font-size: 12px; fill: rgb(42, 63, 95); fill-opacity: 1; white-space: pre; opacity: 1;\">0.2</text></g><g class=\"ytick\"><text text-anchor=\"end\" x=\"79\" y=\"4.199999999999999\" style=\"font-family: 'Open Sans', verdana, arial, sans-serif; font-size: 12px; fill: rgb(42, 63, 95); fill-opacity: 1; white-space: pre; opacity: 1;\" transform=\"translate(0,225.58)\">0.3</text></g><g class=\"ytick\"><text text-anchor=\"end\" x=\"79\" y=\"4.199999999999999\" style=\"font-family: 'Open Sans', verdana, arial, sans-serif; font-size: 12px; fill: rgb(42, 63, 95); fill-opacity: 1; white-space: pre; opacity: 1;\" transform=\"translate(0,177.99)\">0.4</text></g><g class=\"ytick\"><text text-anchor=\"end\" x=\"79\" y=\"4.199999999999999\" style=\"font-family: 'Open Sans', verdana, arial, sans-serif; font-size: 12px; fill: rgb(42, 63, 95); fill-opacity: 1; white-space: pre; opacity: 1;\" transform=\"translate(0,130.39)\">0.5</text></g><g class=\"ytick\"><text text-anchor=\"end\" x=\"79\" y=\"4.199999999999999\" style=\"font-family: 'Open Sans', verdana, arial, sans-serif; font-size: 12px; fill: rgb(42, 63, 95); fill-opacity: 1; white-space: pre; opacity: 1;\" transform=\"translate(0,82.8)\">0.6</text></g></g><g class=\"overaxes-above\"/></g></g><g class=\"polarlayer\"/><g class=\"smithlayer\"/><g class=\"ternarylayer\"/><g class=\"geolayer\"/><g class=\"funnelarealayer\"/><g class=\"pielayer\"/><g class=\"iciclelayer\"/><g class=\"treemaplayer\"/><g class=\"sunburstlayer\"/><g class=\"glimages\"/><defs id=\"topdefs-5e7491\"><g class=\"clips\"/></defs><g class=\"layer-above\"><g class=\"imagelayer\"/><g class=\"shapelayer\"><path data-index=\"0\" fill-rule=\"evenodd\" d=\"M646.15,320L646.15,60\" clip-path=\"url(#clip5e7491x)\" style=\"opacity: 1; stroke: rgb(0, 0, 0); stroke-opacity: 1; fill: rgb(0, 0, 0); fill-opacity: 0; stroke-dasharray: 9px, 9px; stroke-width: 2px;\"/></g></g><g class=\"infolayer\"><g class=\"g-gtitle\"><text class=\"gtitle\" x=\"40\" y=\"30\" text-anchor=\"start\" dy=\"0em\" style=\"font-family: 'Arial Black'; font-size: 20px; fill: rgb(42, 63, 95); opacity: 1; font-weight: normal; white-space: pre;\">XGB Classifier Early Stopping</text></g><g class=\"g-xtitle\"><text class=\"xtitle\" x=\"400\" y=\"360.8\" text-anchor=\"middle\" style=\"font-family: 'Open Sans', verdana, arial, sans-serif; font-size: 14px; fill: rgb(42, 63, 95); opacity: 1; font-weight: normal; white-space: pre;\">Epochs</text></g><g class=\"g-ytitle\"><text class=\"ytitle\" transform=\"rotate(-90,34.575,190)\" x=\"34.575\" y=\"190\" text-anchor=\"middle\" style=\"font-family: 'Open Sans', verdana, arial, sans-serif; font-size: 14px; fill: rgb(42, 63, 95); opacity: 1; font-weight: normal; white-space: pre;\">Logloss</text></g></g></svg>"
      ]
     },
     "metadata": {},
     "output_type": "display_data"
    },
    {
     "name": "stdout",
     "output_type": "stream",
     "text": [
      "The model stopped training at around 78 epochs, with the best loss score observed at: 69.\n"
     ]
    }
   ],
   "source": [
    "# Plot early stopping results. \n",
    "fig = px.line(x=earlyStoppingXGB.x_axis, y=earlyStoppingXGB.results['validation_1']['logloss'])\n",
    "fig.add_vline(x=earlyStoppingXGB.clf.best_ntree_limit, line_width=2, line_dash=\"dash\", line_color=\"black\") # Best loss score. \n",
    "fig.update_layout(title='XGB Classifier Early Stopping',\n",
    "                       xaxis_title='Epochs',\n",
    "                       yaxis_title='Logloss',\n",
    "                       height=400, width=800, plot_bgcolor='#F8F8F6', title_font_size=20, \n",
    "                       title_font_family='Arial Black')\n",
    "fig.show()\n",
    "\n",
    "print(\"The model stopped training at around 78 epochs, with the best loss score observed at: %.0f.\" % (\n",
    "    earlyStoppingXGB.clf.best_ntree_limit))\n",
    "# Now we know that we should set our number of trees (n_estimator) to =69 to avoid overfitting."
   ]
  },
  {
   "cell_type": "markdown",
   "id": "de380a1c",
   "metadata": {},
   "source": [
    "&nbsp;"
   ]
  },
  {
   "cell_type": "markdown",
   "id": "fa025a97",
   "metadata": {},
   "source": [
    "### Section C: Threshold Manipulation\n",
    "Threshold manipulation is the process of changing the default threshold value used to classify predictions into classes. We can create an array of threshold values and iterate through them to optimize for our weighted recall evaluation metric. \n",
    "\n",
    "Since algorithms are stochastic in nature we will run our expirement through 10 iterations and record the threshold that outputs the highest score. "
   ]
  },
  {
   "cell_type": "markdown",
   "id": "9f18e014",
   "metadata": {},
   "source": [
    "**C.1: Gradient Boosting Classifier Optimal Threshold**<br>\n",
    "Now it's time to explore some threshold values on our Gradient Boosting Classifier."
   ]
  },
  {
   "cell_type": "code",
   "execution_count": 13,
   "id": "d4633305",
   "metadata": {},
   "outputs": [
    {
     "name": "stdout",
     "output_type": "stream",
     "text": [
      "Threshold=0.428, Recall_Score=0.95604\n"
     ]
    },
    {
     "data": {
      "image/svg+xml": [
       "<svg class=\"main-svg\" xmlns=\"http://www.w3.org/2000/svg\" xmlns:xlink=\"http://www.w3.org/1999/xlink\" width=\"800\" height=\"400\" style=\"\" viewBox=\"0 0 800 400\"><rect x=\"0\" y=\"0\" width=\"800\" height=\"400\" style=\"fill: rgb(255, 255, 255); fill-opacity: 1;\"/><defs id=\"defs-9da982\"><g class=\"clips\"><clipPath id=\"clip9da982xyplot\" class=\"plotclip\"><rect width=\"640\" height=\"260\"/></clipPath><clipPath class=\"axesclip\" id=\"clip9da982x\"><rect x=\"80\" y=\"0\" width=\"640\" height=\"400\"/></clipPath><clipPath class=\"axesclip\" id=\"clip9da982y\"><rect x=\"0\" y=\"60\" width=\"800\" height=\"260\"/></clipPath><clipPath class=\"axesclip\" id=\"clip9da982xy\"><rect x=\"80\" y=\"60\" width=\"640\" height=\"260\"/></clipPath></g><g class=\"gradients\"/><g class=\"patterns\"/></defs><g class=\"bglayer\"><rect class=\"bg\" x=\"80\" y=\"60\" width=\"640\" height=\"260\" style=\"fill: rgb(248, 248, 246); fill-opacity: 1; stroke-width: 0;\"/></g><g class=\"layer-below\"><g class=\"imagelayer\"/><g class=\"shapelayer\"/></g><g class=\"cartesianlayer\"><g class=\"subplot xy\"><g class=\"layer-subplot\"><g class=\"shapelayer\"/><g class=\"imagelayer\"/></g><g class=\"minor-gridlayer\"><g class=\"x\"/><g class=\"y\"/></g><g class=\"gridlayer\"><g class=\"x\"><path class=\"xgrid crisp\" transform=\"translate(208.13,0)\" d=\"M0,60v260\" style=\"stroke: rgb(255, 255, 255); stroke-opacity: 1; stroke-width: 1px;\"/><path class=\"xgrid crisp\" transform=\"translate(336.26,0)\" d=\"M0,60v260\" style=\"stroke: rgb(255, 255, 255); stroke-opacity: 1; stroke-width: 1px;\"/><path class=\"xgrid crisp\" transform=\"translate(464.38,0)\" d=\"M0,60v260\" style=\"stroke: rgb(255, 255, 255); stroke-opacity: 1; stroke-width: 1px;\"/><path class=\"xgrid crisp\" transform=\"translate(592.51,0)\" d=\"M0,60v260\" style=\"stroke: rgb(255, 255, 255); stroke-opacity: 1; stroke-width: 1px;\"/></g><g class=\"y\"><path class=\"ygrid crisp\" transform=\"translate(0,291.46000000000004)\" d=\"M80,0h640\" style=\"stroke: rgb(255, 255, 255); stroke-opacity: 1; stroke-width: 1px;\"/><path class=\"ygrid crisp\" transform=\"translate(0,252.17)\" d=\"M80,0h640\" style=\"stroke: rgb(255, 255, 255); stroke-opacity: 1; stroke-width: 1px;\"/><path class=\"ygrid crisp\" transform=\"translate(0,212.88)\" d=\"M80,0h640\" style=\"stroke: rgb(255, 255, 255); stroke-opacity: 1; stroke-width: 1px;\"/><path class=\"ygrid crisp\" transform=\"translate(0,173.59)\" d=\"M80,0h640\" style=\"stroke: rgb(255, 255, 255); stroke-opacity: 1; stroke-width: 1px;\"/><path class=\"ygrid crisp\" transform=\"translate(0,134.31)\" d=\"M80,0h640\" style=\"stroke: rgb(255, 255, 255); stroke-opacity: 1; stroke-width: 1px;\"/><path class=\"ygrid crisp\" transform=\"translate(0,95.02000000000001)\" d=\"M80,0h640\" style=\"stroke: rgb(255, 255, 255); stroke-opacity: 1; stroke-width: 1px;\"/></g></g><g class=\"zerolinelayer\"><path class=\"xzl zl crisp\" transform=\"translate(80,0)\" d=\"M0,60v260\" style=\"stroke: rgb(255, 255, 255); stroke-opacity: 1; stroke-width: 2px;\"/></g><path class=\"xlines-below\"/><path class=\"ylines-below\"/><g class=\"overlines-below\"/><g class=\"xaxislayer-below\"/><g class=\"yaxislayer-below\"/><g class=\"overaxes-below\"/><g class=\"plot\" transform=\"translate(80,60)\" clip-path=\"url(#clip9da982xyplot)\"><g class=\"scatterlayer mlayer\"><g class=\"trace scatter tracecd48ae\" style=\"stroke-miterlimit: 2; opacity: 1;\"><g class=\"fills\"/><g class=\"errorbars\"/><g class=\"lines\"><path class=\"js-line\" d=\"M0,247L6.41,247L7.05,246.14L8.33,246.14L8.97,244.41L10.25,218.51L10.89,215.05L12.17,213.32L12.81,195.19L13.45,195.19L14.09,158.93L15.38,151.15L16.02,118.34L17.3,112.3L17.94,109.71L19.22,107.98L19.86,107.98L20.5,107.98L21.14,74.31L21.78,74.31L22.42,72.58L23.7,72.58L24.34,70.85L25.63,70.85L26.27,69.13L28.19,69.13L28.83,64.81L30.11,62.22L30.75,62.22L31.39,62.22L32.03,61.35L33.31,57.9L33.95,58.76L35.24,58.76L35.88,57.9L36.52,57.9L37.16,51.86L40.36,48.4L41,48.4L43.56,48.4L44.2,46.68L44.84,46.68L45.49,44.95L46.77,44.08L47.41,44.08L48.05,44.08L48.69,43.22L49.33,43.22L49.97,44.08L51.25,39.77L51.89,39.77L53.81,39.77L54.45,38.9L55.74,36.31L56.38,36.31L57.66,35.45L58.3,35.45L59.58,33.72L60.22,33.72L62.14,32L62.78,32L63.42,32L64.06,31.13L65.99,31.13L66.63,32L73.03,32L73.67,31.13L74.31,31.13L74.95,30.27L76.24,30.27L76.88,29.41L77.52,29.41L78.16,27.68L80.08,27.68L80.72,26.82L86.49,26.82L87.13,25.95L96.74,25.95L97.38,25.09L98.66,24.23L99.3,24.23L101.22,24.23L101.86,25.09L103.78,25.09L104.42,24.23L106.99,24.23L107.63,23.36L113.39,23.36L114.03,22.5L123.64,22.5L124.28,21.63L128.13,21.63L128.77,20.77L132.61,20.77L133.25,21.63L136.46,21.63L137.1,20.77L141.58,20.77L142.22,21.63L182.58,21.63L183.22,20.77L187.71,20.77L188.35,19.04L190.27,19.04L190.91,19.91L193.47,19.91L194.11,18.18L206.93,18.18L207.57,17.32L210.77,17.32L211.41,16.45L229.35,16.45L229.99,15.59L240.24,15.59L240.88,14.73L267.15,14.73L267.79,13.86L273.55,13.86L274.19,13L278.04,13L278.68,13.86L285.73,13.86L286.37,13L304.94,13L305.59,13.86L320.96,13.86L321.6,13L326.09,13L326.73,13.86L352.35,13.86L352.99,14.73L379.9,14.73L380.54,15.59L382.46,15.59L383.1,16.45L384.38,15.59L385.03,15.59L417.06,15.59L417.7,14.73L421.54,14.73L422.18,15.59L423.46,16.45L424.1,16.45L448.45,16.45L449.09,17.32L452.93,17.32L453.57,18.18L456.14,18.18L456.78,19.04L468.31,19.04L468.95,18.18L483.04,18.18L483.68,19.04L493.93,19.04L494.57,19.91L508.67,19.91L509.31,20.77L510.59,21.63L511.23,21.63L524.68,21.63L525.33,22.5L526.61,23.36L527.25,23.36L536.86,23.36L537.5,24.23L541.34,24.23L541.98,25.09L549.03,25.09L549.67,25.95L552.87,25.95L553.51,26.82L561.84,26.82L562.48,25.95L564.4,25.95L565.05,26.82L576.58,26.82L577.22,27.68L577.86,27.68L578.5,29.41L579.78,29.41L580.42,30.27L581.06,30.27L581.7,31.13L583.62,31.13L584.26,30.27L587.47,30.27L588.11,32.86L589.39,34.59L590.03,35.45L590.67,36.31L591.31,35.45L591.95,35.45L592.59,36.31L594.51,38.04L595.16,42.36L595.8,43.22L596.44,48.4L599,48.4L599.64,50.13L600.28,52.72L600.92,58.76L602.84,58.76L603.48,60.49L604.76,60.49L605.41,62.22L607.33,64.81L607.97,64.81L609.25,67.4L609.89,70.85L610.53,70.85L611.17,71.72L611.81,71.72L612.45,73.44L613.73,78.62L614.37,78.62L615.02,78.62L615.66,88.12L616.94,88.99L617.58,104.53L618.86,114.03L619.5,114.89L620.78,117.48L621.42,117.48L622.06,117.48L622.7,122.66L623.98,123.52L624.62,123.52L626.55,126.98L627.19,131.3L629.11,133.89L629.75,135.61L630.39,135.61L631.03,136.48L632.31,136.48L632.95,137.34L640,137.34\" style=\"vector-effect: non-scaling-stroke; fill: none; stroke: rgb(99, 110, 250); stroke-opacity: 1; stroke-width: 2px; opacity: 1;\"/></g><g class=\"points\"/><g class=\"text\"/></g></g></g><g class=\"overplot\"/><path class=\"xlines-above crisp\" d=\"M0,0\" style=\"fill: none;\"/><path class=\"ylines-above crisp\" d=\"M0,0\" style=\"fill: none;\"/><g class=\"overlines-above\"/><g class=\"xaxislayer-above\"><g class=\"xtick\"><text text-anchor=\"middle\" x=\"0\" y=\"333\" transform=\"translate(80,0)\" style=\"font-family: 'Open Sans', verdana, arial, sans-serif; font-size: 12px; fill: rgb(42, 63, 95); fill-opacity: 1; white-space: pre; opacity: 1;\">0</text></g><g class=\"xtick\"><text text-anchor=\"middle\" x=\"0\" y=\"333\" style=\"font-family: 'Open Sans', verdana, arial, sans-serif; font-size: 12px; fill: rgb(42, 63, 95); fill-opacity: 1; white-space: pre; opacity: 1;\" transform=\"translate(208.13,0)\">0.2</text></g><g class=\"xtick\"><text text-anchor=\"middle\" x=\"0\" y=\"333\" style=\"font-family: 'Open Sans', verdana, arial, sans-serif; font-size: 12px; fill: rgb(42, 63, 95); fill-opacity: 1; white-space: pre; opacity: 1;\" transform=\"translate(336.26,0)\">0.4</text></g><g class=\"xtick\"><text text-anchor=\"middle\" x=\"0\" y=\"333\" style=\"font-family: 'Open Sans', verdana, arial, sans-serif; font-size: 12px; fill: rgb(42, 63, 95); fill-opacity: 1; white-space: pre; opacity: 1;\" transform=\"translate(464.38,0)\">0.6</text></g><g class=\"xtick\"><text text-anchor=\"middle\" x=\"0\" y=\"333\" style=\"font-family: 'Open Sans', verdana, arial, sans-serif; font-size: 12px; fill: rgb(42, 63, 95); fill-opacity: 1; white-space: pre; opacity: 1;\" transform=\"translate(592.51,0)\">0.8</text></g></g><g class=\"yaxislayer-above\"><g class=\"ytick\"><text text-anchor=\"end\" x=\"79\" y=\"4.199999999999999\" transform=\"translate(0,291.46000000000004)\" style=\"font-family: 'Open Sans', verdana, arial, sans-serif; font-size: 12px; fill: rgb(42, 63, 95); fill-opacity: 1; white-space: pre; opacity: 1;\">0.4</text></g><g class=\"ytick\"><text text-anchor=\"end\" x=\"79\" y=\"4.199999999999999\" style=\"font-family: 'Open Sans', verdana, arial, sans-serif; font-size: 12px; fill: rgb(42, 63, 95); fill-opacity: 1; white-space: pre; opacity: 1;\" transform=\"translate(0,252.17)\">0.5</text></g><g class=\"ytick\"><text text-anchor=\"end\" x=\"79\" y=\"4.199999999999999\" style=\"font-family: 'Open Sans', verdana, arial, sans-serif; font-size: 12px; fill: rgb(42, 63, 95); fill-opacity: 1; white-space: pre; opacity: 1;\" transform=\"translate(0,212.88)\">0.6</text></g><g class=\"ytick\"><text text-anchor=\"end\" x=\"79\" y=\"4.199999999999999\" style=\"font-family: 'Open Sans', verdana, arial, sans-serif; font-size: 12px; fill: rgb(42, 63, 95); fill-opacity: 1; white-space: pre; opacity: 1;\" transform=\"translate(0,173.59)\">0.7</text></g><g class=\"ytick\"><text text-anchor=\"end\" x=\"79\" y=\"4.199999999999999\" style=\"font-family: 'Open Sans', verdana, arial, sans-serif; font-size: 12px; fill: rgb(42, 63, 95); fill-opacity: 1; white-space: pre; opacity: 1;\" transform=\"translate(0,134.31)\">0.8</text></g><g class=\"ytick\"><text text-anchor=\"end\" x=\"79\" y=\"4.199999999999999\" style=\"font-family: 'Open Sans', verdana, arial, sans-serif; font-size: 12px; fill: rgb(42, 63, 95); fill-opacity: 1; white-space: pre; opacity: 1;\" transform=\"translate(0,95.02000000000001)\">0.9</text></g></g><g class=\"overaxes-above\"/></g></g><g class=\"polarlayer\"/><g class=\"smithlayer\"/><g class=\"ternarylayer\"/><g class=\"geolayer\"/><g class=\"funnelarealayer\"/><g class=\"pielayer\"/><g class=\"iciclelayer\"/><g class=\"treemaplayer\"/><g class=\"sunburstlayer\"/><g class=\"glimages\"/><defs id=\"topdefs-9da982\"><g class=\"clips\"/></defs><g class=\"layer-above\"><g class=\"imagelayer\"/><g class=\"shapelayer\"><path data-index=\"0\" fill-rule=\"evenodd\" d=\"M354.19,320L354.19,60\" clip-path=\"url(#clip9da982x)\" style=\"opacity: 1; stroke: rgb(0, 0, 0); stroke-opacity: 1; fill: rgb(0, 0, 0); fill-opacity: 0; stroke-dasharray: 9px, 9px; stroke-width: 2px;\"/></g></g><g class=\"infolayer\"><g class=\"g-gtitle\"><text class=\"gtitle\" x=\"40\" y=\"30\" text-anchor=\"start\" dy=\"0em\" style=\"font-family: 'Arial Black'; font-size: 20px; fill: rgb(42, 63, 95); opacity: 1; font-weight: normal; white-space: pre;\">Threshold Manipulation for Gradient Boosting Classifier</text></g><g class=\"g-xtitle\"><text class=\"xtitle\" x=\"400\" y=\"360.8\" text-anchor=\"middle\" style=\"font-family: 'Open Sans', verdana, arial, sans-serif; font-size: 14px; fill: rgb(42, 63, 95); opacity: 1; font-weight: normal; white-space: pre;\">Thresholds</text></g><g class=\"g-ytitle\"><text class=\"ytitle\" transform=\"rotate(-90,34.575,190)\" x=\"34.575\" y=\"190\" text-anchor=\"middle\" style=\"font-family: 'Open Sans', verdana, arial, sans-serif; font-size: 14px; fill: rgb(42, 63, 95); opacity: 1; font-weight: normal; white-space: pre;\">recall_score</text></g></g></svg>"
      ]
     },
     "metadata": {},
     "output_type": "display_data"
    }
   ],
   "source": [
    "# Evaluating our array of threshold values and output the best recall score. \n",
    "visuals.threshold_manipulation(dfNormalized, y, GradientBoostingClassifier(learning_rate=0.1, max_depth=2,\n",
    "                                                  min_samples_split=30, n_estimators=500, validation_fraction=0.2,\n",
    "                                                  n_iter_no_change=15, tol=0.1), \"Gradient Boosting Classifier\")"
   ]
  },
  {
   "cell_type": "markdown",
   "id": "92a0689e",
   "metadata": {},
   "source": [
    "**C.2: Random Forest Classifier Optimal Threshold**<br>\n",
    "The next step is to repeat the process for our Random Forest Classifier."
   ]
  },
  {
   "cell_type": "code",
   "execution_count": 14,
   "id": "01fdcd58",
   "metadata": {
    "scrolled": false
   },
   "outputs": [
    {
     "name": "stdout",
     "output_type": "stream",
     "text": [
      "Threshold=0.492, Recall_Score=0.95824\n"
     ]
    },
    {
     "data": {
      "image/svg+xml": [
       "<svg class=\"main-svg\" xmlns=\"http://www.w3.org/2000/svg\" xmlns:xlink=\"http://www.w3.org/1999/xlink\" width=\"800\" height=\"400\" style=\"\" viewBox=\"0 0 800 400\"><rect x=\"0\" y=\"0\" width=\"800\" height=\"400\" style=\"fill: rgb(255, 255, 255); fill-opacity: 1;\"/><defs id=\"defs-146c8f\"><g class=\"clips\"><clipPath id=\"clip146c8fxyplot\" class=\"plotclip\"><rect width=\"640\" height=\"260\"/></clipPath><clipPath class=\"axesclip\" id=\"clip146c8fx\"><rect x=\"80\" y=\"0\" width=\"640\" height=\"400\"/></clipPath><clipPath class=\"axesclip\" id=\"clip146c8fy\"><rect x=\"0\" y=\"60\" width=\"800\" height=\"260\"/></clipPath><clipPath class=\"axesclip\" id=\"clip146c8fxy\"><rect x=\"80\" y=\"60\" width=\"640\" height=\"260\"/></clipPath></g><g class=\"gradients\"/><g class=\"patterns\"/></defs><g class=\"bglayer\"><rect class=\"bg\" x=\"80\" y=\"60\" width=\"640\" height=\"260\" style=\"fill: rgb(248, 248, 246); fill-opacity: 1; stroke-width: 0;\"/></g><g class=\"layer-below\"><g class=\"imagelayer\"/><g class=\"shapelayer\"/></g><g class=\"cartesianlayer\"><g class=\"subplot xy\"><g class=\"layer-subplot\"><g class=\"shapelayer\"/><g class=\"imagelayer\"/></g><g class=\"minor-gridlayer\"><g class=\"x\"/><g class=\"y\"/></g><g class=\"gridlayer\"><g class=\"x\"><path class=\"xgrid crisp\" transform=\"translate(208.13,0)\" d=\"M0,60v260\" style=\"stroke: rgb(255, 255, 255); stroke-opacity: 1; stroke-width: 1px;\"/><path class=\"xgrid crisp\" transform=\"translate(336.26,0)\" d=\"M0,60v260\" style=\"stroke: rgb(255, 255, 255); stroke-opacity: 1; stroke-width: 1px;\"/><path class=\"xgrid crisp\" transform=\"translate(464.38,0)\" d=\"M0,60v260\" style=\"stroke: rgb(255, 255, 255); stroke-opacity: 1; stroke-width: 1px;\"/><path class=\"xgrid crisp\" transform=\"translate(592.51,0)\" d=\"M0,60v260\" style=\"stroke: rgb(255, 255, 255); stroke-opacity: 1; stroke-width: 1px;\"/></g><g class=\"y\"><path class=\"ygrid crisp\" transform=\"translate(0,291.51)\" d=\"M80,0h640\" style=\"stroke: rgb(255, 255, 255); stroke-opacity: 1; stroke-width: 1px;\"/><path class=\"ygrid crisp\" transform=\"translate(0,252.37)\" d=\"M80,0h640\" style=\"stroke: rgb(255, 255, 255); stroke-opacity: 1; stroke-width: 1px;\"/><path class=\"ygrid crisp\" transform=\"translate(0,213.23)\" d=\"M80,0h640\" style=\"stroke: rgb(255, 255, 255); stroke-opacity: 1; stroke-width: 1px;\"/><path class=\"ygrid crisp\" transform=\"translate(0,174.07999999999998)\" d=\"M80,0h640\" style=\"stroke: rgb(255, 255, 255); stroke-opacity: 1; stroke-width: 1px;\"/><path class=\"ygrid crisp\" transform=\"translate(0,134.94)\" d=\"M80,0h640\" style=\"stroke: rgb(255, 255, 255); stroke-opacity: 1; stroke-width: 1px;\"/><path class=\"ygrid crisp\" transform=\"translate(0,95.8)\" d=\"M80,0h640\" style=\"stroke: rgb(255, 255, 255); stroke-opacity: 1; stroke-width: 1px;\"/></g></g><g class=\"zerolinelayer\"><path class=\"xzl zl crisp\" transform=\"translate(80,0)\" d=\"M0,60v260\" style=\"stroke: rgb(255, 255, 255); stroke-opacity: 1; stroke-width: 2px;\"/></g><path class=\"xlines-below\"/><path class=\"ylines-below\"/><g class=\"overlines-below\"/><g class=\"xaxislayer-below\"/><g class=\"yaxislayer-below\"/><g class=\"overaxes-below\"/><g class=\"plot\" transform=\"translate(80,60)\" clip-path=\"url(#clip146c8fxyplot)\"><g class=\"scatterlayer mlayer\"><g class=\"trace scatter trace6a94cc\" style=\"stroke-miterlimit: 2; opacity: 1;\"><g class=\"fills\"/><g class=\"errorbars\"/><g class=\"lines\"><path class=\"js-line\" d=\"M0,247L1.28,174.74L1.92,156.67L3.84,129.14L4.48,123.12L6.41,109.35L7.05,108.49L8.33,101.61L8.97,99.89L10.89,93.01L11.53,90.43L12.81,87.85L13.45,83.54L18.58,68.92L19.22,68.92L20.5,67.2L21.14,66.34L21.78,66.34L22.42,62.9L23.7,62.9L24.34,62.04L25.63,56.88L26.27,56.88L27.55,56.01L28.19,56.01L30.75,53.43L31.39,53.43L32.03,53.43L32.67,51.71L34.59,49.13L35.24,49.13L35.88,49.13L36.52,48.27L39.08,48.27L39.72,47.41L40.36,47.41L41,46.55L41.64,46.55L42.28,45.69L47.41,45.69L48.05,44.83L49.33,44.83L49.97,43.97L53.17,43.97L53.81,42.25L57.02,42.25L57.66,43.11L60.22,40.53L60.86,40.53L64.7,40.53L65.35,39.67L69.19,39.67L69.83,38.81L71.11,37.95L71.75,37.95L76.24,37.95L76.88,36.23L78.8,36.23L79.44,35.37L85.85,35.37L86.49,34.51L88.41,34.51L89.05,33.65L92.89,33.65L93.53,32.79L95.46,32.79L96.1,31.93L100.58,31.93L101.22,32.79L101.86,32.79L102.5,31.93L103.14,31.93L103.78,31.07L110.83,31.07L111.47,30.21L112.11,30.21L112.75,29.35L114.03,29.35L114.67,28.49L117.24,28.49L117.88,27.63L124.92,27.63L125.57,26.76L126.85,26.76L127.49,25.9L132.61,25.9L133.25,25.04L139.66,25.04L140.3,24.18L144.14,24.18L144.78,23.32L152.47,23.32L153.11,22.46L155.68,22.46L156.32,21.6L165.29,21.6L165.93,20.74L186.43,20.74L187.07,21.6L196.04,21.6L196.68,19.88L199.24,19.88L199.88,19.02L201.8,17.3L202.44,17.3L209.49,17.3L210.13,16.44L215.9,16.44L216.54,15.58L227.43,15.58L228.07,14.72L230.63,14.72L231.27,13.86L232.55,13.86L233.19,14.72L234.47,14.72L235.12,15.58L242.16,15.58L242.8,14.72L249.21,14.72L249.85,13.86L251.13,14.72L251.77,14.72L256.26,14.72L256.9,13.86L261.38,13.86L262.02,14.72L289.57,14.72L290.21,15.58L292.77,15.58L293.41,14.72L301.74,14.72L302.38,13.86L314.55,13.86L315.2,13L322.24,13L322.88,13.86L338.9,13.86L339.54,14.72L349.79,14.72L350.43,13.86L351.07,13.86L351.71,14.72L352.99,15.58L353.63,15.58L367.09,15.58L367.73,14.72L369.65,14.72L370.29,15.58L372.85,15.58L373.49,16.44L379.9,16.44L380.54,15.58L381.18,15.58L381.82,16.44L393.35,16.44L393.99,17.3L397.84,17.3L398.48,16.44L410.01,16.44L410.65,17.3L411.93,17.3L412.57,18.16L413.85,18.16L414.49,17.3L420.9,17.3L421.54,18.16L422.82,18.16L423.46,17.3L424.74,17.3L425.39,18.16L427.31,18.16L427.95,19.02L429.23,19.02L429.87,19.88L431.15,19.88L431.79,20.74L446.53,20.74L447.17,19.88L459.34,19.88L459.98,21.6L463.82,21.6L464.46,22.46L475.36,22.46L476,23.32L488.17,23.32L488.81,24.18L491.37,24.18L492.01,23.32L495.86,23.32L496.5,24.18L497.14,24.18L497.78,25.04L499.06,25.04L499.7,24.18L506.75,24.18L507.39,25.04L514.43,25.04L515.08,25.9L531.73,25.9L532.37,26.76L533.65,26.76L534.29,27.63L540.06,27.63L540.7,28.49L541.98,29.35L542.62,29.35L543.9,30.21L544.54,30.21L546.47,31.93L547.11,31.93L549.03,31.93L549.67,32.79L552.87,32.79L553.51,34.51L559.28,34.51L559.92,35.37L561.84,35.37L562.48,36.23L566.97,36.23L567.61,37.09L572.09,37.09L572.73,37.95L575.94,37.95L576.58,38.81L577.22,38.81L577.86,39.67L583.62,39.67L584.26,40.53L585.55,40.53L586.19,41.39L587.47,41.39L588.11,42.25L597.72,42.25L598.36,43.11L599.64,44.83L600.28,44.83L602.84,44.83L603.48,45.69L605.41,45.69L606.05,46.55L606.69,46.55L607.33,48.27L612.45,48.27L613.09,49.13L613.73,49.13L614.37,50.85L615.02,50.85L615.66,51.71L617.58,53.43L618.22,53.43L618.86,53.43L619.5,55.15L620.78,56.88L621.42,56.88L622.06,56.88L622.7,58.6L624.62,61.18L625.27,63.76L626.55,66.34L627.19,66.34L629.75,69.78L630.39,69.78L631.03,70.64L631.67,74.94L632.95,75.8L633.59,78.38L634.87,78.38L635.52,81.82L638.72,97.31L639.36,100.75L640,107.63\" style=\"vector-effect: non-scaling-stroke; fill: none; stroke: rgb(99, 110, 250); stroke-opacity: 1; stroke-width: 2px; opacity: 1;\"/></g><g class=\"points\"/><g class=\"text\"/></g></g></g><g class=\"overplot\"/><path class=\"xlines-above crisp\" d=\"M0,0\" style=\"fill: none;\"/><path class=\"ylines-above crisp\" d=\"M0,0\" style=\"fill: none;\"/><g class=\"overlines-above\"/><g class=\"xaxislayer-above\"><g class=\"xtick\"><text text-anchor=\"middle\" x=\"0\" y=\"333\" transform=\"translate(80,0)\" style=\"font-family: 'Open Sans', verdana, arial, sans-serif; font-size: 12px; fill: rgb(42, 63, 95); fill-opacity: 1; white-space: pre; opacity: 1;\">0</text></g><g class=\"xtick\"><text text-anchor=\"middle\" x=\"0\" y=\"333\" style=\"font-family: 'Open Sans', verdana, arial, sans-serif; font-size: 12px; fill: rgb(42, 63, 95); fill-opacity: 1; white-space: pre; opacity: 1;\" transform=\"translate(208.13,0)\">0.2</text></g><g class=\"xtick\"><text text-anchor=\"middle\" x=\"0\" y=\"333\" style=\"font-family: 'Open Sans', verdana, arial, sans-serif; font-size: 12px; fill: rgb(42, 63, 95); fill-opacity: 1; white-space: pre; opacity: 1;\" transform=\"translate(336.26,0)\">0.4</text></g><g class=\"xtick\"><text text-anchor=\"middle\" x=\"0\" y=\"333\" style=\"font-family: 'Open Sans', verdana, arial, sans-serif; font-size: 12px; fill: rgb(42, 63, 95); fill-opacity: 1; white-space: pre; opacity: 1;\" transform=\"translate(464.38,0)\">0.6</text></g><g class=\"xtick\"><text text-anchor=\"middle\" x=\"0\" y=\"333\" style=\"font-family: 'Open Sans', verdana, arial, sans-serif; font-size: 12px; fill: rgb(42, 63, 95); fill-opacity: 1; white-space: pre; opacity: 1;\" transform=\"translate(592.51,0)\">0.8</text></g></g><g class=\"yaxislayer-above\"><g class=\"ytick\"><text text-anchor=\"end\" x=\"79\" y=\"4.199999999999999\" transform=\"translate(0,291.51)\" style=\"font-family: 'Open Sans', verdana, arial, sans-serif; font-size: 12px; fill: rgb(42, 63, 95); fill-opacity: 1; white-space: pre; opacity: 1;\">0.4</text></g><g class=\"ytick\"><text text-anchor=\"end\" x=\"79\" y=\"4.199999999999999\" style=\"font-family: 'Open Sans', verdana, arial, sans-serif; font-size: 12px; fill: rgb(42, 63, 95); fill-opacity: 1; white-space: pre; opacity: 1;\" transform=\"translate(0,252.37)\">0.5</text></g><g class=\"ytick\"><text text-anchor=\"end\" x=\"79\" y=\"4.199999999999999\" style=\"font-family: 'Open Sans', verdana, arial, sans-serif; font-size: 12px; fill: rgb(42, 63, 95); fill-opacity: 1; white-space: pre; opacity: 1;\" transform=\"translate(0,213.23)\">0.6</text></g><g class=\"ytick\"><text text-anchor=\"end\" x=\"79\" y=\"4.199999999999999\" style=\"font-family: 'Open Sans', verdana, arial, sans-serif; font-size: 12px; fill: rgb(42, 63, 95); fill-opacity: 1; white-space: pre; opacity: 1;\" transform=\"translate(0,174.07999999999998)\">0.7</text></g><g class=\"ytick\"><text text-anchor=\"end\" x=\"79\" y=\"4.199999999999999\" style=\"font-family: 'Open Sans', verdana, arial, sans-serif; font-size: 12px; fill: rgb(42, 63, 95); fill-opacity: 1; white-space: pre; opacity: 1;\" transform=\"translate(0,134.94)\">0.8</text></g><g class=\"ytick\"><text text-anchor=\"end\" x=\"79\" y=\"4.199999999999999\" style=\"font-family: 'Open Sans', verdana, arial, sans-serif; font-size: 12px; fill: rgb(42, 63, 95); fill-opacity: 1; white-space: pre; opacity: 1;\" transform=\"translate(0,95.8)\">0.9</text></g></g><g class=\"overaxes-above\"/></g></g><g class=\"polarlayer\"/><g class=\"smithlayer\"/><g class=\"ternarylayer\"/><g class=\"geolayer\"/><g class=\"funnelarealayer\"/><g class=\"pielayer\"/><g class=\"iciclelayer\"/><g class=\"treemaplayer\"/><g class=\"sunburstlayer\"/><g class=\"glimages\"/><defs id=\"topdefs-146c8f\"><g class=\"clips\"/></defs><g class=\"layer-above\"><g class=\"imagelayer\"/><g class=\"shapelayer\"><path data-index=\"0\" fill-rule=\"evenodd\" d=\"M395.2,320L395.2,60\" clip-path=\"url(#clip146c8fx)\" style=\"opacity: 1; stroke: rgb(0, 0, 0); stroke-opacity: 1; fill: rgb(0, 0, 0); fill-opacity: 0; stroke-dasharray: 9px, 9px; stroke-width: 2px;\"/></g></g><g class=\"infolayer\"><g class=\"g-gtitle\"><text class=\"gtitle\" x=\"40\" y=\"30\" text-anchor=\"start\" dy=\"0em\" style=\"font-family: 'Arial Black'; font-size: 20px; fill: rgb(42, 63, 95); opacity: 1; font-weight: normal; white-space: pre;\">Threshold Manipulation for Random Forest Classifier</text></g><g class=\"g-xtitle\"><text class=\"xtitle\" x=\"400\" y=\"360.8\" text-anchor=\"middle\" style=\"font-family: 'Open Sans', verdana, arial, sans-serif; font-size: 14px; fill: rgb(42, 63, 95); opacity: 1; font-weight: normal; white-space: pre;\">Thresholds</text></g><g class=\"g-ytitle\"><text class=\"ytitle\" transform=\"rotate(-90,34.575,190)\" x=\"34.575\" y=\"190\" text-anchor=\"middle\" style=\"font-family: 'Open Sans', verdana, arial, sans-serif; font-size: 14px; fill: rgb(42, 63, 95); opacity: 1; font-weight: normal; white-space: pre;\">recall_score</text></g></g></svg>"
      ]
     },
     "metadata": {},
     "output_type": "display_data"
    }
   ],
   "source": [
    "visuals.threshold_manipulation(X, y, RandomForestClassifier(max_depth=20, min_samples_split=10, min_samples_leaf=2, \n",
    "                                                               n_estimators=250), \"Random Forest Classifier\")"
   ]
  },
  {
   "cell_type": "markdown",
   "id": "28db40a4",
   "metadata": {},
   "source": [
    "**C.3: XGB Classifier Optimal Threshold**<br>\n",
    "Finally, testing our threshold function on our XGB Classifier."
   ]
  },
  {
   "cell_type": "code",
   "execution_count": 15,
   "id": "647bf816",
   "metadata": {
    "scrolled": false
   },
   "outputs": [
    {
     "name": "stdout",
     "output_type": "stream",
     "text": [
      "Threshold=0.648, Recall_Score=0.96044\n"
     ]
    },
    {
     "data": {
      "image/svg+xml": [
       "<svg class=\"main-svg\" xmlns=\"http://www.w3.org/2000/svg\" xmlns:xlink=\"http://www.w3.org/1999/xlink\" width=\"800\" height=\"400\" style=\"\" viewBox=\"0 0 800 400\"><rect x=\"0\" y=\"0\" width=\"800\" height=\"400\" style=\"fill: rgb(255, 255, 255); fill-opacity: 1;\"/><defs id=\"defs-99ce96\"><g class=\"clips\"><clipPath id=\"clip99ce96xyplot\" class=\"plotclip\"><rect width=\"640\" height=\"260\"/></clipPath><clipPath class=\"axesclip\" id=\"clip99ce96x\"><rect x=\"80\" y=\"0\" width=\"640\" height=\"400\"/></clipPath><clipPath class=\"axesclip\" id=\"clip99ce96y\"><rect x=\"0\" y=\"60\" width=\"800\" height=\"260\"/></clipPath><clipPath class=\"axesclip\" id=\"clip99ce96xy\"><rect x=\"80\" y=\"60\" width=\"640\" height=\"260\"/></clipPath></g><g class=\"gradients\"/><g class=\"patterns\"/></defs><g class=\"bglayer\"><rect class=\"bg\" x=\"80\" y=\"60\" width=\"640\" height=\"260\" style=\"fill: rgb(248, 248, 246); fill-opacity: 1; stroke-width: 0;\"/></g><g class=\"layer-below\"><g class=\"imagelayer\"/><g class=\"shapelayer\"/></g><g class=\"cartesianlayer\"><g class=\"subplot xy\"><g class=\"layer-subplot\"><g class=\"shapelayer\"/><g class=\"imagelayer\"/></g><g class=\"minor-gridlayer\"><g class=\"x\"/><g class=\"y\"/></g><g class=\"gridlayer\"><g class=\"x\"><path class=\"xgrid crisp\" transform=\"translate(208.13,0)\" d=\"M0,60v260\" style=\"stroke: rgb(255, 255, 255); stroke-opacity: 1; stroke-width: 1px;\"/><path class=\"xgrid crisp\" transform=\"translate(336.26,0)\" d=\"M0,60v260\" style=\"stroke: rgb(255, 255, 255); stroke-opacity: 1; stroke-width: 1px;\"/><path class=\"xgrid crisp\" transform=\"translate(464.38,0)\" d=\"M0,60v260\" style=\"stroke: rgb(255, 255, 255); stroke-opacity: 1; stroke-width: 1px;\"/><path class=\"xgrid crisp\" transform=\"translate(592.51,0)\" d=\"M0,60v260\" style=\"stroke: rgb(255, 255, 255); stroke-opacity: 1; stroke-width: 1px;\"/></g><g class=\"y\"><path class=\"ygrid crisp\" transform=\"translate(0,291.57)\" d=\"M80,0h640\" style=\"stroke: rgb(255, 255, 255); stroke-opacity: 1; stroke-width: 1px;\"/><path class=\"ygrid crisp\" transform=\"translate(0,252.57)\" d=\"M80,0h640\" style=\"stroke: rgb(255, 255, 255); stroke-opacity: 1; stroke-width: 1px;\"/><path class=\"ygrid crisp\" transform=\"translate(0,213.57)\" d=\"M80,0h640\" style=\"stroke: rgb(255, 255, 255); stroke-opacity: 1; stroke-width: 1px;\"/><path class=\"ygrid crisp\" transform=\"translate(0,174.57)\" d=\"M80,0h640\" style=\"stroke: rgb(255, 255, 255); stroke-opacity: 1; stroke-width: 1px;\"/><path class=\"ygrid crisp\" transform=\"translate(0,135.57)\" d=\"M80,0h640\" style=\"stroke: rgb(255, 255, 255); stroke-opacity: 1; stroke-width: 1px;\"/><path class=\"ygrid crisp\" transform=\"translate(0,96.57)\" d=\"M80,0h640\" style=\"stroke: rgb(255, 255, 255); stroke-opacity: 1; stroke-width: 1px;\"/></g></g><g class=\"zerolinelayer\"><path class=\"xzl zl crisp\" transform=\"translate(80,0)\" d=\"M0,60v260\" style=\"stroke: rgb(255, 255, 255); stroke-opacity: 1; stroke-width: 2px;\"/></g><path class=\"xlines-below\"/><path class=\"ylines-below\"/><g class=\"overlines-below\"/><g class=\"xaxislayer-below\"/><g class=\"yaxislayer-below\"/><g class=\"overaxes-below\"/><g class=\"plot\" transform=\"translate(80,60)\" clip-path=\"url(#clip99ce96xyplot)\"><g class=\"scatterlayer mlayer\"><g class=\"trace scatter traceb15f6a\" style=\"stroke-miterlimit: 2; opacity: 1;\"><g class=\"fills\"/><g class=\"errorbars\"/><g class=\"lines\"><path class=\"js-line\" d=\"M0,247L1.28,247L1.92,180.14L3.84,109.86L4.48,99.57L6.41,86.71L7.05,84.14L8.97,72.14L9.61,71.29L10.25,68.71L10.89,62.71L13.45,50.71L14.09,49.86L17.3,46.43L17.94,46.43L19.22,46.43L19.86,45.57L23.06,42.14L23.7,42.14L26.91,38.71L27.55,38.71L28.19,38.71L28.83,37.86L30.75,37.86L31.39,37L32.03,37L32.67,36.14L35.24,36.14L35.88,34.43L37.16,34.43L37.8,32.71L39.72,31L40.36,31L42.92,31L43.56,30.14L45.49,28.43L46.13,28.43L48.69,28.43L49.33,27.57L49.97,27.57L50.61,26.71L51.89,25.86L52.53,25.86L59.58,25.86L60.22,26.71L63.42,26.71L64.06,25.86L67.91,25.86L68.55,25L71.11,25L71.75,24.14L77.52,24.14L78.16,23.29L79.44,22.43L80.08,22.43L90.33,22.43L90.97,21.57L92.25,21.57L92.89,20.71L101.22,20.71L101.86,19.86L108.91,19.86L109.55,20.71L112.75,20.71L113.39,19.86L135.18,19.86L135.82,20.71L146.07,20.71L146.71,21.57L148.63,21.57L149.27,20.71L167.21,20.71L167.85,19.86L169.13,19.86L169.77,19L176.18,19L176.82,18.14L194.11,18.14L194.75,17.29L229.35,17.29L229.99,16.43L246.01,16.43L246.65,15.57L290.21,15.57L290.85,16.43L308.15,16.43L308.79,17.29L322.88,17.29L323.52,16.43L333.13,16.43L333.77,15.57L335.06,15.57L335.7,13.86L344.02,13.86L344.66,14.71L364.52,14.71L365.17,13.86L399.12,13.86L399.76,14.71L403.6,14.71L404.24,15.57L404.88,15.57L405.53,14.71L407.45,14.71L408.09,13.86L414.49,13.86L415.14,13L424.1,13L424.74,13.86L432.43,13.86L433.07,13L436.28,13L436.92,13.86L437.56,13.86L438.2,14.71L453.57,14.71L454.21,15.57L463.18,15.57L463.82,16.43L469.59,16.43L470.23,15.57L474.07,15.57L474.71,14.71L490.73,14.71L491.37,15.57L508.67,15.57L509.31,14.71L511.23,14.71L511.87,15.57L513.15,14.71L513.79,14.71L520.84,14.71L521.48,15.57L523.4,17.29L524.04,17.29L531.73,17.29L532.37,18.14L542.62,18.14L543.26,19L546.47,19L547.11,18.14L548.39,18.14L549.03,19L553.51,19L554.15,19.86L557.36,19.86L558,20.71L559.28,20.71L559.92,21.57L564.4,21.57L565.05,23.29L566.33,23.29L566.97,25L569.53,25L570.17,25.86L572.09,27.57L572.73,27.57L577.22,27.57L577.86,28.43L581.7,28.43L582.34,29.29L590.03,29.29L590.67,30.14L592.59,31.86L593.23,31.86L594.51,31.86L595.16,32.71L595.8,32.71L596.44,34.43L599.64,34.43L600.28,35.29L602.2,35.29L602.84,36.14L604.76,36.14L605.41,37L606.69,37.86L607.33,37.86L609.89,40.43L610.53,40.43L611.81,43L612.45,43L614.37,46.43L615.02,46.43L617.58,46.43L618.22,48.14L620.14,48.14L620.78,49L623.34,51.57L623.98,51.57L624.62,51.57L625.27,53.29L626.55,55.86L627.19,60.14L632.31,73.86L632.95,76.43L636.8,104.71L637.44,115.86L639.36,137.29L640,138.14\" style=\"vector-effect: non-scaling-stroke; fill: none; stroke: rgb(99, 110, 250); stroke-opacity: 1; stroke-width: 2px; opacity: 1;\"/></g><g class=\"points\"/><g class=\"text\"/></g></g></g><g class=\"overplot\"/><path class=\"xlines-above crisp\" d=\"M0,0\" style=\"fill: none;\"/><path class=\"ylines-above crisp\" d=\"M0,0\" style=\"fill: none;\"/><g class=\"overlines-above\"/><g class=\"xaxislayer-above\"><g class=\"xtick\"><text text-anchor=\"middle\" x=\"0\" y=\"333\" transform=\"translate(80,0)\" style=\"font-family: 'Open Sans', verdana, arial, sans-serif; font-size: 12px; fill: rgb(42, 63, 95); fill-opacity: 1; white-space: pre; opacity: 1;\">0</text></g><g class=\"xtick\"><text text-anchor=\"middle\" x=\"0\" y=\"333\" style=\"font-family: 'Open Sans', verdana, arial, sans-serif; font-size: 12px; fill: rgb(42, 63, 95); fill-opacity: 1; white-space: pre; opacity: 1;\" transform=\"translate(208.13,0)\">0.2</text></g><g class=\"xtick\"><text text-anchor=\"middle\" x=\"0\" y=\"333\" style=\"font-family: 'Open Sans', verdana, arial, sans-serif; font-size: 12px; fill: rgb(42, 63, 95); fill-opacity: 1; white-space: pre; opacity: 1;\" transform=\"translate(336.26,0)\">0.4</text></g><g class=\"xtick\"><text text-anchor=\"middle\" x=\"0\" y=\"333\" style=\"font-family: 'Open Sans', verdana, arial, sans-serif; font-size: 12px; fill: rgb(42, 63, 95); fill-opacity: 1; white-space: pre; opacity: 1;\" transform=\"translate(464.38,0)\">0.6</text></g><g class=\"xtick\"><text text-anchor=\"middle\" x=\"0\" y=\"333\" style=\"font-family: 'Open Sans', verdana, arial, sans-serif; font-size: 12px; fill: rgb(42, 63, 95); fill-opacity: 1; white-space: pre; opacity: 1;\" transform=\"translate(592.51,0)\">0.8</text></g></g><g class=\"yaxislayer-above\"><g class=\"ytick\"><text text-anchor=\"end\" x=\"79\" y=\"4.199999999999999\" transform=\"translate(0,291.57)\" style=\"font-family: 'Open Sans', verdana, arial, sans-serif; font-size: 12px; fill: rgb(42, 63, 95); fill-opacity: 1; white-space: pre; opacity: 1;\">0.4</text></g><g class=\"ytick\"><text text-anchor=\"end\" x=\"79\" y=\"4.199999999999999\" style=\"font-family: 'Open Sans', verdana, arial, sans-serif; font-size: 12px; fill: rgb(42, 63, 95); fill-opacity: 1; white-space: pre; opacity: 1;\" transform=\"translate(0,252.57)\">0.5</text></g><g class=\"ytick\"><text text-anchor=\"end\" x=\"79\" y=\"4.199999999999999\" style=\"font-family: 'Open Sans', verdana, arial, sans-serif; font-size: 12px; fill: rgb(42, 63, 95); fill-opacity: 1; white-space: pre; opacity: 1;\" transform=\"translate(0,213.57)\">0.6</text></g><g class=\"ytick\"><text text-anchor=\"end\" x=\"79\" y=\"4.199999999999999\" style=\"font-family: 'Open Sans', verdana, arial, sans-serif; font-size: 12px; fill: rgb(42, 63, 95); fill-opacity: 1; white-space: pre; opacity: 1;\" transform=\"translate(0,174.57)\">0.7</text></g><g class=\"ytick\"><text text-anchor=\"end\" x=\"79\" y=\"4.199999999999999\" style=\"font-family: 'Open Sans', verdana, arial, sans-serif; font-size: 12px; fill: rgb(42, 63, 95); fill-opacity: 1; white-space: pre; opacity: 1;\" transform=\"translate(0,135.57)\">0.8</text></g><g class=\"ytick\"><text text-anchor=\"end\" x=\"79\" y=\"4.199999999999999\" style=\"font-family: 'Open Sans', verdana, arial, sans-serif; font-size: 12px; fill: rgb(42, 63, 95); fill-opacity: 1; white-space: pre; opacity: 1;\" transform=\"translate(0,96.57)\">0.9</text></g></g><g class=\"overaxes-above\"/></g></g><g class=\"polarlayer\"/><g class=\"smithlayer\"/><g class=\"ternarylayer\"/><g class=\"geolayer\"/><g class=\"funnelarealayer\"/><g class=\"pielayer\"/><g class=\"iciclelayer\"/><g class=\"treemaplayer\"/><g class=\"sunburstlayer\"/><g class=\"glimages\"/><defs id=\"topdefs-99ce96\"><g class=\"clips\"/></defs><g class=\"layer-above\"><g class=\"imagelayer\"/><g class=\"shapelayer\"><path data-index=\"0\" fill-rule=\"evenodd\" d=\"M495.14,320L495.14,60\" clip-path=\"url(#clip99ce96x)\" style=\"opacity: 1; stroke: rgb(0, 0, 0); stroke-opacity: 1; fill: rgb(0, 0, 0); fill-opacity: 0; stroke-dasharray: 9px, 9px; stroke-width: 2px;\"/></g></g><g class=\"infolayer\"><g class=\"g-gtitle\"><text class=\"gtitle\" x=\"40\" y=\"30\" text-anchor=\"start\" dy=\"0em\" style=\"font-family: 'Arial Black'; font-size: 20px; fill: rgb(42, 63, 95); opacity: 1; font-weight: normal; white-space: pre;\">Threshold Manipulation for XGB Classifier</text></g><g class=\"g-xtitle\"><text class=\"xtitle\" x=\"400\" y=\"360.8\" text-anchor=\"middle\" style=\"font-family: 'Open Sans', verdana, arial, sans-serif; font-size: 14px; fill: rgb(42, 63, 95); opacity: 1; font-weight: normal; white-space: pre;\">Thresholds</text></g><g class=\"g-ytitle\"><text class=\"ytitle\" transform=\"rotate(-90,34.575,190)\" x=\"34.575\" y=\"190\" text-anchor=\"middle\" style=\"font-family: 'Open Sans', verdana, arial, sans-serif; font-size: 14px; fill: rgb(42, 63, 95); opacity: 1; font-weight: normal; white-space: pre;\">recall_score</text></g></g></svg>"
      ]
     },
     "metadata": {},
     "output_type": "display_data"
    }
   ],
   "source": [
    "# Setting n_estimators=69, for early stopping. \n",
    "visuals.threshold_manipulation(dfNormalized, y, XGBClassifier(learning_rate=0.1,max_depth=2, min_child_weight=1,\n",
    "                                                                n_estimators=69), \"XGB Classifier\")"
   ]
  },
  {
   "cell_type": "markdown",
   "id": "58f91652",
   "metadata": {},
   "source": [
    "**C.4: Conclusion**<br>\n",
    "To sum up, we successfully regularized our regressor models through early stopping and managed to soften the impact of overfitting, whilst still retaining our strong validation performance. With all our models regularized and fitted with the best combination of hyperparameters and thresholds it is now time to truely test our algorithms on the holdout dataset, that we put aside from the beginning of the project."
   ]
  },
  {
   "cell_type": "markdown",
   "id": "fbd59346",
   "metadata": {},
   "source": [
    "&nbsp;"
   ]
  },
  {
   "cell_type": "markdown",
   "id": "c5b0efb3",
   "metadata": {},
   "source": [
    "| Model | Model Type | Regularized Hyperparameters |Threshold | \n",
    "|---------|---------|---------|---------|\n",
    "| **Gradient Boosting Classifier** | Normalized   |learning_rate=0.1, max_depth=2, min_samples_split=30, n_estimators=500, <br>validation_fraction=0.2, n_iter_no_change=15, tol=0.1 |  0.454   |\n",
    "| **Random Forest Classifier** | Base Model |max_depth=20, min_samples_split=10, min_samples_leaf=2,  n_estimators=250 | 0.497   |\n",
    "| **XGB Classifier** | Normalized | learning_rate=0.1, max_depth=2, min_child_weight=1, n_estimators=69 | 0.648   |"
   ]
  },
  {
   "cell_type": "markdown",
   "id": "11ce7275",
   "metadata": {},
   "source": [
    "&nbsp;"
   ]
  },
  {
   "cell_type": "markdown",
   "id": "569e4552",
   "metadata": {},
   "source": [
    "&nbsp;\n",
    "**Author:** Aaron Chew&nbsp;&nbsp;&nbsp;&nbsp;&nbsp;&nbsp; **|** &nbsp;&nbsp;&nbsp;&nbsp;&nbsp;&nbsp;**Date Published:** 11/08/2022 &nbsp;&nbsp;&nbsp;&nbsp;&nbsp;&nbsp;**|** &nbsp;&nbsp;&nbsp;&nbsp;&nbsp;&nbsp;**Email:** aaronsamuelchew@gmail.com &nbsp;&nbsp;&nbsp;&nbsp;&nbsp;&nbsp;**|**&nbsp;&nbsp;&nbsp;&nbsp;&nbsp;&nbsp; **GitHub:** https://github.com/aaron-chew  "
   ]
  }
 ],
 "metadata": {
  "kernelspec": {
   "display_name": "Python 3",
   "language": "python",
   "name": "python3"
  },
  "language_info": {
   "codemirror_mode": {
    "name": "ipython",
    "version": 3
   },
   "file_extension": ".py",
   "mimetype": "text/x-python",
   "name": "python",
   "nbconvert_exporter": "python",
   "pygments_lexer": "ipython3",
   "version": "3.7.4"
  }
 },
 "nbformat": 4,
 "nbformat_minor": 5
}
