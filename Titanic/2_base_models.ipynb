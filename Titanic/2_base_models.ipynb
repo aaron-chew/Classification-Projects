{
 "cells": [
  {
   "cell_type": "markdown",
   "id": "f993059b",
   "metadata": {},
   "source": [
    "&nbsp;"
   ]
  },
  {
   "cell_type": "markdown",
   "id": "0e38c121",
   "metadata": {},
   "source": [
    "# 2. Base Models\n",
    "Whenever conducting empirical testing, it is always a good idea to have a point of reference to compare against, this can come in the form of a benchmark. A benchmark is something that serves as a standard by which others may be measured or judged. In the world of machine learning, benchmarks don’t have to consist of world class models, on the contrary a good starting point is always the default algorithms. The point of having a benchmark is to test out our hypotheses to analyze whether our assumptions measure up and perform the way we hypothesize."
   ]
  },
  {
   "cell_type": "code",
   "execution_count": 1,
   "id": "df014d92",
   "metadata": {},
   "outputs": [],
   "source": [
    "# Standard libraries. \n",
    "import pandas as pd\n",
    "import numpy as np \n",
    "import os\n",
    "import plotly.express as px\n",
    "import plotly.graph_objects as go\n",
    "from plotly.subplots import make_subplots\n",
    "\n",
    "# Importing functions. \n",
    "import visuals\n",
    "\n",
    "# Importing models. \n",
    "from xgboost import XGBClassifier\n",
    "from sklearn.svm import SVC\n",
    "from sklearn.tree import DecisionTreeClassifier\n",
    "from sklearn.ensemble import RandomForestClassifier, GradientBoostingClassifier\n",
    "from sklearn.linear_model import LogisticRegression, Perceptron\n",
    "from sklearn.neighbors import KNeighborsClassifier\n",
    "from sklearn.model_selection import cross_validate, StratifiedKFold\n",
    "\n",
    "# Importing transformers. \n",
    "from sklearn.impute import SimpleImputer\n",
    "from sklearn.preprocessing import OneHotEncoder\n",
    "from sklearn.compose import ColumnTransformer\n",
    "from sklearn.pipeline import Pipeline\n",
    "\n",
    "# Converts plotly output into static images, so it can be viewed inside github repository. \n",
    "import plotly.io as pio\n",
    "pio.renderers.default = \"svg\""
   ]
  },
  {
   "cell_type": "code",
   "execution_count": 2,
   "id": "03a76b66",
   "metadata": {},
   "outputs": [
    {
     "data": {
      "text/html": [
       "<div>\n",
       "<style scoped>\n",
       "    .dataframe tbody tr th:only-of-type {\n",
       "        vertical-align: middle;\n",
       "    }\n",
       "\n",
       "    .dataframe tbody tr th {\n",
       "        vertical-align: top;\n",
       "    }\n",
       "\n",
       "    .dataframe thead th {\n",
       "        text-align: right;\n",
       "    }\n",
       "</style>\n",
       "<table border=\"1\" class=\"dataframe\">\n",
       "  <thead>\n",
       "    <tr style=\"text-align: right;\">\n",
       "      <th></th>\n",
       "      <th>Pclass</th>\n",
       "      <th>Sex</th>\n",
       "      <th>Age</th>\n",
       "      <th>SibSp</th>\n",
       "      <th>Parch</th>\n",
       "      <th>Ticket</th>\n",
       "      <th>Fare</th>\n",
       "      <th>Embarked</th>\n",
       "      <th>Age Group</th>\n",
       "      <th>Martial Status</th>\n",
       "      <th>Survived</th>\n",
       "    </tr>\n",
       "    <tr>\n",
       "      <th>Name</th>\n",
       "      <th></th>\n",
       "      <th></th>\n",
       "      <th></th>\n",
       "      <th></th>\n",
       "      <th></th>\n",
       "      <th></th>\n",
       "      <th></th>\n",
       "      <th></th>\n",
       "      <th></th>\n",
       "      <th></th>\n",
       "      <th></th>\n",
       "    </tr>\n",
       "  </thead>\n",
       "  <tbody>\n",
       "    <tr>\n",
       "      <th>Braund, Mr. Owen Harris</th>\n",
       "      <td>3</td>\n",
       "      <td>male</td>\n",
       "      <td>22.0</td>\n",
       "      <td>1</td>\n",
       "      <td>0</td>\n",
       "      <td>A/5 21171</td>\n",
       "      <td>7.2500</td>\n",
       "      <td>S</td>\n",
       "      <td>young adult</td>\n",
       "      <td>Not Married</td>\n",
       "      <td>0</td>\n",
       "    </tr>\n",
       "    <tr>\n",
       "      <th>Cumings, Mrs. John Bradley (Florence Briggs Thayer)</th>\n",
       "      <td>1</td>\n",
       "      <td>female</td>\n",
       "      <td>38.0</td>\n",
       "      <td>1</td>\n",
       "      <td>0</td>\n",
       "      <td>PC 17599</td>\n",
       "      <td>71.2833</td>\n",
       "      <td>C</td>\n",
       "      <td>middle aged</td>\n",
       "      <td>Married</td>\n",
       "      <td>1</td>\n",
       "    </tr>\n",
       "  </tbody>\n",
       "</table>\n",
       "</div>"
      ],
      "text/plain": [
       "                                                    Pclass     Sex   Age  \\\n",
       "Name                                                                       \n",
       "Braund, Mr. Owen Harris                                  3    male  22.0   \n",
       "Cumings, Mrs. John Bradley (Florence Briggs Tha...       1  female  38.0   \n",
       "\n",
       "                                                    SibSp  Parch     Ticket  \\\n",
       "Name                                                                          \n",
       "Braund, Mr. Owen Harris                                 1      0  A/5 21171   \n",
       "Cumings, Mrs. John Bradley (Florence Briggs Tha...      1      0   PC 17599   \n",
       "\n",
       "                                                       Fare Embarked  \\\n",
       "Name                                                                   \n",
       "Braund, Mr. Owen Harris                              7.2500        S   \n",
       "Cumings, Mrs. John Bradley (Florence Briggs Tha...  71.2833        C   \n",
       "\n",
       "                                                      Age Group  \\\n",
       "Name                                                              \n",
       "Braund, Mr. Owen Harris                             young adult   \n",
       "Cumings, Mrs. John Bradley (Florence Briggs Tha...  middle aged   \n",
       "\n",
       "                                                   Martial Status  Survived  \n",
       "Name                                                                         \n",
       "Braund, Mr. Owen Harris                               Not Married         0  \n",
       "Cumings, Mrs. John Bradley (Florence Briggs Tha...        Married         1  "
      ]
     },
     "execution_count": 2,
     "metadata": {},
     "output_type": "execute_result"
    }
   ],
   "source": [
    "root = os.getcwd() # Setting root directory as cwd. \n",
    "df = pd.read_csv(r\"{}\\train_new_features.csv\".format(root)) # Importing the train set.\n",
    "df.set_index(\"Name\", inplace=True)\n",
    "df.head(2)"
   ]
  },
  {
   "cell_type": "markdown",
   "id": "b25c391c",
   "metadata": {},
   "source": [
    "&nbsp;"
   ]
  },
  {
   "cell_type": "markdown",
   "id": "5a092ae5",
   "metadata": {},
   "source": [
    "### Section A: Base Model Testing\n",
    "In this section we will be exploring a variety of Machine Learning algorithms and how well they perform with our newly processed data. We'll pick out the top 3 best performing models and use them as our benchmarks, when conducting hypotheses. As mentioned earlier, we are dealing with an imbalanced dataset, so the scoring metric we'll focus on is the f1_score.\n",
    "\n",
    "Furthermore, we'll be constructing a pipeline with applied steps. Since we're dealing with two different data types (numerical and categorical) we will create a ColumnTransformer object that will enable us to apply different transformers to specific feature data types. Because for example, it wouldn't make sense to OneHotEncode a numerical feature. "
   ]
  },
  {
   "cell_type": "markdown",
   "id": "55803824",
   "metadata": {},
   "source": [
    "**A.1: Splitting Numerical & Categorical Features**<br>\n",
    "Our first step before constructing our pipeline estimator is to categorize our features into either \"numerical\" or \"categorical\"."
   ]
  },
  {
   "cell_type": "code",
   "execution_count": 3,
   "id": "2ac70285",
   "metadata": {},
   "outputs": [
    {
     "name": "stdout",
     "output_type": "stream",
     "text": [
      "Numerical columns are: ['Age', 'Fare']\n",
      "Categorical columns are: ['Pclass', 'Sex', 'SibSp', 'Parch', 'Ticket', 'Embarked', 'Age Group', 'Martial Status']\n"
     ]
    }
   ],
   "source": [
    "# Separating our numerical & categorical columns for ColumnTransformer. \n",
    "numerical = list(df.select_dtypes(['float64']).columns)\n",
    "print(f'Numerical columns are: {numerical}')\n",
    "\n",
    "categorical = list(df.select_dtypes(exclude=['float64']).columns)\n",
    "categorical.remove(\"Survived\") # Remove label from data. \n",
    "print(f'Categorical columns are: {categorical}')"
   ]
  },
  {
   "cell_type": "markdown",
   "id": "c7210c42",
   "metadata": {},
   "source": [
    "**A.2: Constructing our Pipeline**<br>\n",
    "As mentioned earlier, specific transforms such as OHE are only suitable for categorical data, so we need to utilize a ColumnTransformer which gives us the ability to apply certain steps to specific data types. We'll then combine and apply this step into our final pipeline just before adding in our model."
   ]
  },
  {
   "cell_type": "code",
   "execution_count": 4,
   "id": "d8b30859",
   "metadata": {},
   "outputs": [
    {
     "name": "stdout",
     "output_type": "stream",
     "text": [
      "CART scored an f1 train score of: 99.8034% and a test score of: 82.8641%\n",
      "LR scored an f1 train score of: 88.5457% and a test score of: 81.6441%\n",
      "Per scored an f1 train score of: 62.1870% and a test score of: 61.9638%\n",
      "KNN scored an f1 train score of: 79.3820% and a test score of: 71.1578%\n",
      "RFC scored an f1 train score of: 99.7754% and a test score of: 82.4101%\n",
      "GBC scored an f1 train score of: 85.2434% and a test score of: 81.3029%\n",
      "XGBC scored an f1 train score of: 97.1543% and a test score of: 81.4177%\n",
      "SVC scored an f1 train score of: 64.3767% and a test score of: 63.5922%\n"
     ]
    }
   ],
   "source": [
    "X = df.iloc[:,:-1]\n",
    "y = df.iloc[:,-1]\n",
    "\n",
    "models, results = list(), list()\n",
    "modelNames = ['CART', 'LR', 'Per', 'KNN', 'RFC', 'GBC', 'XGBC', 'SVC']\n",
    "modelInstance = [DecisionTreeClassifier(), LogisticRegression(max_iter=1000), Perceptron(), KNeighborsClassifier(), \n",
    "                 RandomForestClassifier(), GradientBoostingClassifier(), XGBClassifier(), SVC()]\n",
    "\n",
    "modelScores = {}\n",
    "\n",
    "# Storing the model name and instance inside as tuples inside a list. \n",
    "for name, model in zip(modelNames,modelInstance):\n",
    "    # Define categorical pipeline.\n",
    "    cat_pipe = Pipeline([\n",
    "        ('imputer', SimpleImputer(strategy='most_frequent')),\n",
    "        ('encoder', OneHotEncoder(handle_unknown='ignore', sparse=False))])\n",
    "\n",
    "    # Define numerical pipeline\n",
    "    num_pipe = Pipeline([\n",
    "        ('imputer', SimpleImputer(strategy='median'))])\n",
    "\n",
    "    # Combine categorical and numerical pipelines.\n",
    "    preprocessor = ColumnTransformer([\n",
    "        ('cat', cat_pipe, categorical),\n",
    "        ('num', num_pipe, numerical)])\n",
    "\n",
    "    # Fit a pipeline with transformers and an estimator to the training data.\n",
    "    pipe = Pipeline([\n",
    "        ('preprocessor', preprocessor),\n",
    "        (name, model)])\n",
    "\n",
    "    # StratifedKFold preserves the distribution of the population with each sample fold. \n",
    "    cv = StratifiedKFold(n_splits=5, shuffle=True, random_state=42)\n",
    "    cv_results = cross_validate(pipe, X, y, cv=cv, scoring='f1_weighted', return_train_score=True)\n",
    "    results.append(cv_results['test_score'])\n",
    "    print(\"%s scored an f1 train score of: %.4f%% and a test score of: %.4f%%\" % (name, \n",
    "                                                                                  cv_results['train_score'].mean()*100, \n",
    "                                                                                  cv_results['test_score'].mean()*100))\n",
    "    \n",
    "    # Storing results to use as benchmark values.\n",
    "    modelScores[name] = round(cv_results['test_score'].mean()*100,4)"
   ]
  },
  {
   "cell_type": "markdown",
   "id": "adec54ab",
   "metadata": {},
   "source": [
    "**A.3: Table of Results**<br>\n",
    "Based on the results, the three models I will choose are: Logistic Regression, Gradient Boosting Classifier and the XGB Classifier."
   ]
  },
  {
   "cell_type": "markdown",
   "id": "00c0667c",
   "metadata": {},
   "source": [
    "| Model | Train f1_score | Validation f1_score | Overfit | Accept Model |\n",
    "|---------|---------|---------|---------|---------|\n",
    "| **Decision Tree** | 99.80% | 83.10% |✔️ |❌ |\n",
    "| **Logistic Regression** | 88.55% | 81.64% |❌ |✔️ |\n",
    "| **Perceptron** | 62.19% | 61.96% |❌ |❌ |\n",
    "| **K Neighbors Classifier** | 79.38% | 71.16% |❌ |❌ |\n",
    "| **Random Forest Classifier** | 99.80% | 81.91% |✔️ |❌ |\n",
    "| **Gradient Boosting Classifier** | 85.24% | 81.43% |❌ |✔️ |\n",
    "| **XGBoost Classifier** | 97.15% | 81.42% |✔️ |✔️ |\n",
    "| **Support Vector Classifier** | 64.38% | 63.59% |❌ |❌ |"
   ]
  },
  {
   "cell_type": "markdown",
   "id": "e79e1e7f",
   "metadata": {},
   "source": [
    "**A.4: Visualizing Results**<br>\n",
    "We can plot the results of each fold into a boxplot and visualize the distribution over the 5 folds."
   ]
  },
  {
   "cell_type": "code",
   "execution_count": 5,
   "id": "16af5904",
   "metadata": {},
   "outputs": [
    {
     "data": {
      "image/svg+xml": [
       "<svg class=\"main-svg\" xmlns=\"http://www.w3.org/2000/svg\" xmlns:xlink=\"http://www.w3.org/1999/xlink\" width=\"950\" height=\"450\" style=\"\" viewBox=\"0 0 950 450\"><rect x=\"0\" y=\"0\" width=\"950\" height=\"450\" style=\"fill: rgb(255, 255, 255); fill-opacity: 1;\"/><defs id=\"defs-39b8e6\"><g class=\"clips\"><clipPath id=\"clip39b8e6xyplot\" class=\"plotclip\"><rect width=\"832\" height=\"240\"/></clipPath><clipPath class=\"axesclip\" id=\"clip39b8e6x\"><rect x=\"21\" y=\"0\" width=\"832\" height=\"450\"/></clipPath><clipPath class=\"axesclip\" id=\"clip39b8e6y\"><rect x=\"0\" y=\"130\" width=\"950\" height=\"240\"/></clipPath><clipPath class=\"axesclip\" id=\"clip39b8e6xy\"><rect x=\"21\" y=\"130\" width=\"832\" height=\"240\"/></clipPath></g><g class=\"gradients\"/><g class=\"patterns\"/></defs><g class=\"bglayer\"><rect class=\"bg\" x=\"21\" y=\"130\" width=\"832\" height=\"240\" style=\"fill: rgb(248, 248, 246); fill-opacity: 1; stroke-width: 0;\"/></g><g class=\"layer-below\"><g class=\"imagelayer\"/><g class=\"shapelayer\"/></g><g class=\"cartesianlayer\"><g class=\"subplot xy\"><g class=\"layer-subplot\"><g class=\"shapelayer\"/><g class=\"imagelayer\"/></g><g class=\"minor-gridlayer\"><g class=\"x\"/><g class=\"y\"/></g><g class=\"gridlayer\"><g class=\"x\"/><g class=\"y\"><path class=\"ygrid crisp\" transform=\"translate(0,339.97)\" d=\"M21,0h832\" style=\"stroke: rgb(255, 255, 255); stroke-opacity: 1; stroke-width: 1px;\"/><path class=\"ygrid crisp\" transform=\"translate(0,283.97)\" d=\"M21,0h832\" style=\"stroke: rgb(255, 255, 255); stroke-opacity: 1; stroke-width: 1px;\"/><path class=\"ygrid crisp\" transform=\"translate(0,227.97)\" d=\"M21,0h832\" style=\"stroke: rgb(255, 255, 255); stroke-opacity: 1; stroke-width: 1px;\"/><path class=\"ygrid crisp\" transform=\"translate(0,171.97)\" d=\"M21,0h832\" style=\"stroke: rgb(255, 255, 255); stroke-opacity: 1; stroke-width: 1px;\"/></g></g><g class=\"zerolinelayer\"/><path class=\"xlines-below\"/><path class=\"ylines-below\"/><g class=\"overlines-below\"/><g class=\"xaxislayer-below\"/><g class=\"yaxislayer-below\"/><g class=\"overaxes-below\"/><g class=\"plot\" transform=\"translate(21,130)\" clip-path=\"url(#clip39b8e6xyplot)\"><g class=\"boxlayer mlayer\"><g class=\"trace boxes\" style=\"opacity: 1;\"><path class=\"box\" d=\"M26.52,18.61H77.48M26.52,36.25H77.48V15.2H26.52ZM52,36.25V51.16M52,15.2V12.53M39.26,51.16H64.74M39.26,12.53H64.74\" style=\"vector-effect: non-scaling-stroke; stroke-width: 2px; stroke: rgb(99, 110, 250); stroke-opacity: 1; fill: rgb(99, 110, 250); fill-opacity: 0.5;\"/><g class=\"points\"/></g><g class=\"trace boxes\" style=\"opacity: 1;\"><path class=\"box\" d=\"M130.52,34.62H181.48M130.52,41.76H181.48V27.69H130.52ZM156,41.76V42.92M156,27.69V12M143.26,42.92H168.74M143.26,12H168.74\" style=\"vector-effect: non-scaling-stroke; stroke-width: 2px; stroke: rgb(239, 85, 59); stroke-opacity: 1; fill: rgb(239, 85, 59); fill-opacity: 0.5;\"/><g class=\"points\"/></g><g class=\"trace boxes\" style=\"opacity: 1;\"><path class=\"box\" d=\"M234.52,133.37H285.48M234.52,194.36H285.48V89.88H234.52ZM260,194.36V228M260,89.88V75.76M247.26,228H272.74M247.26,75.76H272.74\" style=\"vector-effect: non-scaling-stroke; stroke-width: 2px; stroke: rgb(0, 204, 150); stroke-opacity: 1; fill: rgb(0, 204, 150); fill-opacity: 0.5;\"/><g class=\"points\"/></g><g class=\"trace boxes\" style=\"opacity: 1;\"><path class=\"box\" d=\"M338.52,97.43H389.48M338.52,98.57H389.48V81.11H338.52ZM364,98.57V100.08M364,81.11V80.58M351.26,100.08H376.74M351.26,80.58H376.74\" style=\"vector-effect: non-scaling-stroke; stroke-width: 2px; stroke: rgb(171, 99, 250); stroke-opacity: 1; fill: rgb(171, 99, 250); fill-opacity: 0.5;\"/><g class=\"points\"/></g><g class=\"trace boxes\" style=\"opacity: 1;\"><path class=\"box\" d=\"M442.52,28.64H493.48M442.52,36.24H493.48V20.05H442.52ZM468,36.24V41.82M468,20.05V16.2M455.26,41.82H480.74M455.26,16.2H480.74\" style=\"vector-effect: non-scaling-stroke; stroke-width: 2px; stroke: rgb(255, 161, 90); stroke-opacity: 1; fill: rgb(255, 161, 90); fill-opacity: 0.5;\"/><g class=\"points\"/></g><g class=\"trace boxes\" style=\"opacity: 1;\"><path class=\"box\" d=\"M546.52,34.95H597.48M546.52,40.39H597.48V27.73H546.52ZM572,40.39V47.59M572,27.73V23.82M559.26,47.59H584.74M559.26,23.82H584.74\" style=\"vector-effect: non-scaling-stroke; stroke-width: 2px; stroke: rgb(25, 211, 243); stroke-opacity: 1; fill: rgb(25, 211, 243); fill-opacity: 0.5;\"/><g class=\"points\"/></g><g class=\"trace boxes\" style=\"opacity: 1;\"><path class=\"box\" d=\"M650.52,36.4H701.48M650.52,41.91H701.48V24.01H650.52ZM676,41.91V46.91M676,24.01V21.9M663.26,46.91H688.74M663.26,21.9H688.74\" style=\"vector-effect: non-scaling-stroke; stroke-width: 2px; stroke: rgb(255, 102, 146); stroke-opacity: 1; fill: rgb(255, 102, 146); fill-opacity: 0.5;\"/><g class=\"points\"/></g><g class=\"trace boxes\" style=\"opacity: 1;\"><path class=\"box\" d=\"M754.52,136.12H805.48M754.52,140.92H805.48V125.97H754.52ZM780,140.92V141.06M780,125.97V124.89M767.26,141.06H792.74M767.26,124.89H792.74\" style=\"vector-effect: non-scaling-stroke; stroke-width: 2px; stroke: rgb(182, 232, 128); stroke-opacity: 1; fill: rgb(182, 232, 128); fill-opacity: 0.5;\"/><g class=\"points\"/></g></g></g><g class=\"overplot\"/><path class=\"xlines-above crisp\" d=\"M0,0\" style=\"fill: none;\"/><path class=\"ylines-above crisp\" d=\"M0,0\" style=\"fill: none;\"/><g class=\"overlines-above\"/><g class=\"xaxislayer-above\"><g class=\"xtick\"><text text-anchor=\"middle\" x=\"0\" y=\"383\" transform=\"translate(73,0)\" style=\"font-family: 'Open Sans', verdana, arial, sans-serif; font-size: 12px; fill: rgb(42, 63, 95); fill-opacity: 1; white-space: pre; opacity: 1;\">CART</text></g><g class=\"xtick\"><text text-anchor=\"middle\" x=\"0\" y=\"383\" transform=\"translate(177,0)\" style=\"font-family: 'Open Sans', verdana, arial, sans-serif; font-size: 12px; fill: rgb(42, 63, 95); fill-opacity: 1; white-space: pre; opacity: 1;\">LR</text></g><g class=\"xtick\"><text text-anchor=\"middle\" x=\"0\" y=\"383\" transform=\"translate(281,0)\" style=\"font-family: 'Open Sans', verdana, arial, sans-serif; font-size: 12px; fill: rgb(42, 63, 95); fill-opacity: 1; white-space: pre; opacity: 1;\">Per</text></g><g class=\"xtick\"><text text-anchor=\"middle\" x=\"0\" y=\"383\" transform=\"translate(385,0)\" style=\"font-family: 'Open Sans', verdana, arial, sans-serif; font-size: 12px; fill: rgb(42, 63, 95); fill-opacity: 1; white-space: pre; opacity: 1;\">KNN</text></g><g class=\"xtick\"><text text-anchor=\"middle\" x=\"0\" y=\"383\" transform=\"translate(489,0)\" style=\"font-family: 'Open Sans', verdana, arial, sans-serif; font-size: 12px; fill: rgb(42, 63, 95); fill-opacity: 1; white-space: pre; opacity: 1;\">RFC</text></g><g class=\"xtick\"><text text-anchor=\"middle\" x=\"0\" y=\"383\" transform=\"translate(593,0)\" style=\"font-family: 'Open Sans', verdana, arial, sans-serif; font-size: 12px; fill: rgb(42, 63, 95); fill-opacity: 1; white-space: pre; opacity: 1;\">GBC</text></g><g class=\"xtick\"><text text-anchor=\"middle\" x=\"0\" y=\"383\" transform=\"translate(697,0)\" style=\"font-family: 'Open Sans', verdana, arial, sans-serif; font-size: 12px; fill: rgb(42, 63, 95); fill-opacity: 1; white-space: pre; opacity: 1;\">XGBC</text></g><g class=\"xtick\"><text text-anchor=\"middle\" x=\"0\" y=\"383\" transform=\"translate(801,0)\" style=\"font-family: 'Open Sans', verdana, arial, sans-serif; font-size: 12px; fill: rgb(42, 63, 95); fill-opacity: 1; white-space: pre; opacity: 1;\">SVC</text></g></g><g class=\"yaxislayer-above\"><g class=\"ytick\"><text text-anchor=\"end\" x=\"20\" y=\"4.199999999999999\" transform=\"translate(0,339.97)\" style=\"font-family: 'Open Sans', verdana, arial, sans-serif; font-size: 12px; fill: rgb(42, 63, 95); fill-opacity: 1; white-space: pre; opacity: 1;\">0.5</text></g><g class=\"ytick\"><text text-anchor=\"end\" x=\"20\" y=\"4.199999999999999\" style=\"font-family: 'Open Sans', verdana, arial, sans-serif; font-size: 12px; fill: rgb(42, 63, 95); fill-opacity: 1; white-space: pre; opacity: 1;\" transform=\"translate(0,283.97)\">0.6</text></g><g class=\"ytick\"><text text-anchor=\"end\" x=\"20\" y=\"4.199999999999999\" style=\"font-family: 'Open Sans', verdana, arial, sans-serif; font-size: 12px; fill: rgb(42, 63, 95); fill-opacity: 1; white-space: pre; opacity: 1;\" transform=\"translate(0,227.97)\">0.7</text></g><g class=\"ytick\"><text text-anchor=\"end\" x=\"20\" y=\"4.199999999999999\" style=\"font-family: 'Open Sans', verdana, arial, sans-serif; font-size: 12px; fill: rgb(42, 63, 95); fill-opacity: 1; white-space: pre; opacity: 1;\" transform=\"translate(0,171.97)\">0.8</text></g></g><g class=\"overaxes-above\"/></g></g><g class=\"polarlayer\"/><g class=\"smithlayer\"/><g class=\"ternarylayer\"/><g class=\"geolayer\"/><g class=\"funnelarealayer\"/><g class=\"pielayer\"/><g class=\"iciclelayer\"/><g class=\"treemaplayer\"/><g class=\"sunburstlayer\"/><g class=\"glimages\"/><defs id=\"topdefs-39b8e6\"><g class=\"clips\"/><clipPath id=\"legend39b8e6\"><rect width=\"80\" height=\"162\" x=\"0\" y=\"0\"/></clipPath></defs><g class=\"layer-above\"><g class=\"imagelayer\"/><g class=\"shapelayer\"/></g><g class=\"infolayer\"><g class=\"legend\" pointer-events=\"all\" transform=\"translate(869.64,130)\"><rect class=\"bg\" shape-rendering=\"crispEdges\" style=\"stroke: rgb(68, 68, 68); stroke-opacity: 1; fill: rgb(255, 255, 255); fill-opacity: 1; stroke-width: 0px;\" width=\"80\" height=\"162\" x=\"0\" y=\"0\"/><g class=\"scrollbox\" transform=\"\" clip-path=\"url(#legend39b8e6)\"><g class=\"groups\"><g class=\"traces\" transform=\"translate(0,14.5)\" style=\"opacity: 1;\"><text class=\"legendtext\" text-anchor=\"start\" x=\"40\" y=\"4.680000000000001\" style=\"font-family: 'Open Sans', verdana, arial, sans-serif; font-size: 12px; fill: rgb(42, 63, 95); fill-opacity: 1; white-space: pre;\">CART</text><g class=\"layers\" style=\"opacity: 1;\"><g class=\"legendfill\"/><g class=\"legendlines\"/><g class=\"legendsymbols\"><g class=\"legendpoints\"><path class=\"legendbox\" d=\"M6,6H-6V-6H6Z\" transform=\"translate(20,0)\" style=\"stroke-width: 2px; fill: rgb(99, 110, 250); fill-opacity: 0.5; stroke: rgb(99, 110, 250); stroke-opacity: 1;\"/></g></g></g><rect class=\"legendtoggle\" x=\"0\" y=\"-9.5\" width=\"74.703125\" height=\"19\" style=\"fill: rgb(0, 0, 0); fill-opacity: 0;\"/></g><g class=\"traces\" transform=\"translate(0,33.5)\" style=\"opacity: 1;\"><text class=\"legendtext\" text-anchor=\"start\" x=\"40\" y=\"4.680000000000001\" style=\"font-family: 'Open Sans', verdana, arial, sans-serif; font-size: 12px; fill: rgb(42, 63, 95); fill-opacity: 1; white-space: pre;\">LR</text><g class=\"layers\" style=\"opacity: 1;\"><g class=\"legendfill\"/><g class=\"legendlines\"/><g class=\"legendsymbols\"><g class=\"legendpoints\"><path class=\"legendbox\" d=\"M6,6H-6V-6H6Z\" transform=\"translate(20,0)\" style=\"stroke-width: 2px; fill: rgb(239, 85, 59); fill-opacity: 0.5; stroke: rgb(239, 85, 59); stroke-opacity: 1;\"/></g></g></g><rect class=\"legendtoggle\" x=\"0\" y=\"-9.5\" width=\"74.703125\" height=\"19\" style=\"fill: rgb(0, 0, 0); fill-opacity: 0;\"/></g><g class=\"traces\" transform=\"translate(0,52.5)\" style=\"opacity: 1;\"><text class=\"legendtext\" text-anchor=\"start\" x=\"40\" y=\"4.680000000000001\" style=\"font-family: 'Open Sans', verdana, arial, sans-serif; font-size: 12px; fill: rgb(42, 63, 95); fill-opacity: 1; white-space: pre;\">Per</text><g class=\"layers\" style=\"opacity: 1;\"><g class=\"legendfill\"/><g class=\"legendlines\"/><g class=\"legendsymbols\"><g class=\"legendpoints\"><path class=\"legendbox\" d=\"M6,6H-6V-6H6Z\" transform=\"translate(20,0)\" style=\"stroke-width: 2px; fill: rgb(0, 204, 150); fill-opacity: 0.5; stroke: rgb(0, 204, 150); stroke-opacity: 1;\"/></g></g></g><rect class=\"legendtoggle\" x=\"0\" y=\"-9.5\" width=\"74.703125\" height=\"19\" style=\"fill: rgb(0, 0, 0); fill-opacity: 0;\"/></g><g class=\"traces\" transform=\"translate(0,71.5)\" style=\"opacity: 1;\"><text class=\"legendtext\" text-anchor=\"start\" x=\"40\" y=\"4.680000000000001\" style=\"font-family: 'Open Sans', verdana, arial, sans-serif; font-size: 12px; fill: rgb(42, 63, 95); fill-opacity: 1; white-space: pre;\">KNN</text><g class=\"layers\" style=\"opacity: 1;\"><g class=\"legendfill\"/><g class=\"legendlines\"/><g class=\"legendsymbols\"><g class=\"legendpoints\"><path class=\"legendbox\" d=\"M6,6H-6V-6H6Z\" transform=\"translate(20,0)\" style=\"stroke-width: 2px; fill: rgb(171, 99, 250); fill-opacity: 0.5; stroke: rgb(171, 99, 250); stroke-opacity: 1;\"/></g></g></g><rect class=\"legendtoggle\" x=\"0\" y=\"-9.5\" width=\"74.703125\" height=\"19\" style=\"fill: rgb(0, 0, 0); fill-opacity: 0;\"/></g><g class=\"traces\" transform=\"translate(0,90.5)\" style=\"opacity: 1;\"><text class=\"legendtext\" text-anchor=\"start\" x=\"40\" y=\"4.680000000000001\" style=\"font-family: 'Open Sans', verdana, arial, sans-serif; font-size: 12px; fill: rgb(42, 63, 95); fill-opacity: 1; white-space: pre;\">RFC</text><g class=\"layers\" style=\"opacity: 1;\"><g class=\"legendfill\"/><g class=\"legendlines\"/><g class=\"legendsymbols\"><g class=\"legendpoints\"><path class=\"legendbox\" d=\"M6,6H-6V-6H6Z\" transform=\"translate(20,0)\" style=\"stroke-width: 2px; fill: rgb(255, 161, 90); fill-opacity: 0.5; stroke: rgb(255, 161, 90); stroke-opacity: 1;\"/></g></g></g><rect class=\"legendtoggle\" x=\"0\" y=\"-9.5\" width=\"74.703125\" height=\"19\" style=\"fill: rgb(0, 0, 0); fill-opacity: 0;\"/></g><g class=\"traces\" transform=\"translate(0,109.5)\" style=\"opacity: 1;\"><text class=\"legendtext\" text-anchor=\"start\" x=\"40\" y=\"4.680000000000001\" style=\"font-family: 'Open Sans', verdana, arial, sans-serif; font-size: 12px; fill: rgb(42, 63, 95); fill-opacity: 1; white-space: pre;\">GBC</text><g class=\"layers\" style=\"opacity: 1;\"><g class=\"legendfill\"/><g class=\"legendlines\"/><g class=\"legendsymbols\"><g class=\"legendpoints\"><path class=\"legendbox\" d=\"M6,6H-6V-6H6Z\" transform=\"translate(20,0)\" style=\"stroke-width: 2px; fill: rgb(25, 211, 243); fill-opacity: 0.5; stroke: rgb(25, 211, 243); stroke-opacity: 1;\"/></g></g></g><rect class=\"legendtoggle\" x=\"0\" y=\"-9.5\" width=\"74.703125\" height=\"19\" style=\"fill: rgb(0, 0, 0); fill-opacity: 0;\"/></g><g class=\"traces\" transform=\"translate(0,128.5)\" style=\"opacity: 1;\"><text class=\"legendtext\" text-anchor=\"start\" x=\"40\" y=\"4.680000000000001\" style=\"font-family: 'Open Sans', verdana, arial, sans-serif; font-size: 12px; fill: rgb(42, 63, 95); fill-opacity: 1; white-space: pre;\">XGBC</text><g class=\"layers\" style=\"opacity: 1;\"><g class=\"legendfill\"/><g class=\"legendlines\"/><g class=\"legendsymbols\"><g class=\"legendpoints\"><path class=\"legendbox\" d=\"M6,6H-6V-6H6Z\" transform=\"translate(20,0)\" style=\"stroke-width: 2px; fill: rgb(255, 102, 146); fill-opacity: 0.5; stroke: rgb(255, 102, 146); stroke-opacity: 1;\"/></g></g></g><rect class=\"legendtoggle\" x=\"0\" y=\"-9.5\" width=\"74.703125\" height=\"19\" style=\"fill: rgb(0, 0, 0); fill-opacity: 0;\"/></g><g class=\"traces\" transform=\"translate(0,147.5)\" style=\"opacity: 1;\"><text class=\"legendtext\" text-anchor=\"start\" x=\"40\" y=\"4.680000000000001\" style=\"font-family: 'Open Sans', verdana, arial, sans-serif; font-size: 12px; fill: rgb(42, 63, 95); fill-opacity: 1; white-space: pre;\">SVC</text><g class=\"layers\" style=\"opacity: 1;\"><g class=\"legendfill\"/><g class=\"legendlines\"/><g class=\"legendsymbols\"><g class=\"legendpoints\"><path class=\"legendbox\" d=\"M6,6H-6V-6H6Z\" transform=\"translate(20,0)\" style=\"stroke-width: 2px; fill: rgb(182, 232, 128); fill-opacity: 0.5; stroke: rgb(182, 232, 128); stroke-opacity: 1;\"/></g></g></g><rect class=\"legendtoggle\" x=\"0\" y=\"-9.5\" width=\"74.703125\" height=\"19\" style=\"fill: rgb(0, 0, 0); fill-opacity: 0;\"/></g></g></g><rect class=\"scrollbar\" rx=\"20\" ry=\"3\" width=\"0\" height=\"0\" style=\"fill: rgb(128, 139, 164); fill-opacity: 1;\" x=\"0\" y=\"0\"/></g><g class=\"g-gtitle\"><text class=\"gtitle\" x=\"0\" y=\"22.5\" text-anchor=\"start\" dy=\"0.7em\" style=\"font-family: 'Arial Black'; font-size: 20px; fill: rgb(42, 63, 95); opacity: 1; font-weight: normal; white-space: pre;\">Performance Over 5 Folds</text></g><g class=\"g-xtitle\"/><g class=\"g-ytitle\"/></g></svg>"
      ]
     },
     "metadata": {},
     "output_type": "display_data"
    }
   ],
   "source": [
    "# Plotting distribution of fold results from kfold. \n",
    "visuals.kfold(scores=results)"
   ]
  },
  {
   "cell_type": "markdown",
   "id": "dcec40b1",
   "metadata": {},
   "source": [
    "* Perceptron had the biggest spread of scores across 5 folds with a normal distribution. \n",
    "* While the rest of the algorithms had scores more concerntrated. \n",
    "* KNN and CART seem to be bother skewed. "
   ]
  },
  {
   "cell_type": "markdown",
   "id": "8d34de71",
   "metadata": {},
   "source": [
    "&nbsp;"
   ]
  },
  {
   "cell_type": "markdown",
   "id": "1b96e188",
   "metadata": {},
   "source": [
    "&nbsp;\n",
    "**Author:** Aaron Chew&nbsp;&nbsp;&nbsp;&nbsp;&nbsp;&nbsp; **|** &nbsp;&nbsp;&nbsp;&nbsp;&nbsp;&nbsp;**Date Published:** 11/08/2022 &nbsp;&nbsp;&nbsp;&nbsp;&nbsp;&nbsp;**|** &nbsp;&nbsp;&nbsp;&nbsp;&nbsp;&nbsp;**Email:** aaronsamuelchew@gmail.com &nbsp;&nbsp;&nbsp;&nbsp;&nbsp;&nbsp;**|**&nbsp;&nbsp;&nbsp;&nbsp;&nbsp;&nbsp; **GitHub:** https://github.com/aaron-chew  "
   ]
  }
 ],
 "metadata": {
  "kernelspec": {
   "display_name": "Python 3",
   "language": "python",
   "name": "python3"
  },
  "language_info": {
   "codemirror_mode": {
    "name": "ipython",
    "version": 3
   },
   "file_extension": ".py",
   "mimetype": "text/x-python",
   "name": "python",
   "nbconvert_exporter": "python",
   "pygments_lexer": "ipython3",
   "version": "3.7.4"
  }
 },
 "nbformat": 4,
 "nbformat_minor": 5
}
