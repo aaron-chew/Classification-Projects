{
 "cells": [
  {
   "cell_type": "markdown",
   "id": "e0dce71e",
   "metadata": {},
   "source": [
    "&nbsp;"
   ]
  },
  {
   "cell_type": "markdown",
   "id": "9fbb6dbe",
   "metadata": {},
   "source": [
    "# 5. Regularization \n",
    "While training a machine learning model, the model can easily be overfitted or underfitted. \n",
    "To avoid this, we use regularization in machine learning to properly fit a model onto our test set. Overfitting occurs when the model learns too much detail and noise from the training data to the point when new data is exposed, the model will perform poorly on it. Regularization techniques help reduce the chance of overfitting by either adding penalties or stopping before the validation set's performance starts to decline. "
   ]
  },
  {
   "cell_type": "code",
   "execution_count": 1,
   "id": "232d4c4f",
   "metadata": {},
   "outputs": [],
   "source": [
    "# Standard libraries. \n",
    "import pandas as pd\n",
    "import numpy as np \n",
    "import os\n",
    "from plotly.subplots import make_subplots\n",
    "import plotly.graph_objects as go\n",
    "import plotly.express as px\n",
    "\n",
    "# Importing our functions. \n",
    "import functions\n",
    "import plot_functions\n",
    "\n",
    "# Importing chosen models. \n",
    "from sklearn.linear_model import LogisticRegression\n",
    "from xgboost import XGBClassifier\n",
    "from sklearn.ensemble import GradientBoostingClassifier\n",
    "\n",
    "# Importing transformers. \n",
    "from sklearn.decomposition import PCA\n",
    "\n",
    "# Converts plotly output into static images, so it can be viewed inside github repository. \n",
    "import plotly.io as pio\n",
    "pio.renderers.default = \"svg\""
   ]
  },
  {
   "cell_type": "code",
   "execution_count": 2,
   "id": "e4ade344",
   "metadata": {
    "scrolled": true
   },
   "outputs": [
    {
     "data": {
      "text/html": [
       "<div>\n",
       "<style scoped>\n",
       "    .dataframe tbody tr th:only-of-type {\n",
       "        vertical-align: middle;\n",
       "    }\n",
       "\n",
       "    .dataframe tbody tr th {\n",
       "        vertical-align: top;\n",
       "    }\n",
       "\n",
       "    .dataframe thead th {\n",
       "        text-align: right;\n",
       "    }\n",
       "</style>\n",
       "<table border=\"1\" class=\"dataframe\">\n",
       "  <thead>\n",
       "    <tr style=\"text-align: right;\">\n",
       "      <th></th>\n",
       "      <th>Pclass</th>\n",
       "      <th>Sex</th>\n",
       "      <th>Age</th>\n",
       "      <th>SibSp</th>\n",
       "      <th>Parch</th>\n",
       "      <th>Ticket</th>\n",
       "      <th>Fare</th>\n",
       "      <th>Embarked</th>\n",
       "      <th>Age Group</th>\n",
       "      <th>Martial Status</th>\n",
       "      <th>Survived</th>\n",
       "    </tr>\n",
       "    <tr>\n",
       "      <th>Name</th>\n",
       "      <th></th>\n",
       "      <th></th>\n",
       "      <th></th>\n",
       "      <th></th>\n",
       "      <th></th>\n",
       "      <th></th>\n",
       "      <th></th>\n",
       "      <th></th>\n",
       "      <th></th>\n",
       "      <th></th>\n",
       "      <th></th>\n",
       "    </tr>\n",
       "  </thead>\n",
       "  <tbody>\n",
       "    <tr>\n",
       "      <th>Braund, Mr. Owen Harris</th>\n",
       "      <td>3</td>\n",
       "      <td>male</td>\n",
       "      <td>22.0</td>\n",
       "      <td>1</td>\n",
       "      <td>0</td>\n",
       "      <td>A/5 21171</td>\n",
       "      <td>7.2500</td>\n",
       "      <td>S</td>\n",
       "      <td>young adult</td>\n",
       "      <td>Not Married</td>\n",
       "      <td>0</td>\n",
       "    </tr>\n",
       "    <tr>\n",
       "      <th>Cumings, Mrs. John Bradley (Florence Briggs Thayer)</th>\n",
       "      <td>1</td>\n",
       "      <td>female</td>\n",
       "      <td>38.0</td>\n",
       "      <td>1</td>\n",
       "      <td>0</td>\n",
       "      <td>PC 17599</td>\n",
       "      <td>71.2833</td>\n",
       "      <td>C</td>\n",
       "      <td>middle aged</td>\n",
       "      <td>Married</td>\n",
       "      <td>1</td>\n",
       "    </tr>\n",
       "  </tbody>\n",
       "</table>\n",
       "</div>"
      ],
      "text/plain": [
       "                                                    Pclass     Sex   Age  \\\n",
       "Name                                                                       \n",
       "Braund, Mr. Owen Harris                                  3    male  22.0   \n",
       "Cumings, Mrs. John Bradley (Florence Briggs Tha...       1  female  38.0   \n",
       "\n",
       "                                                    SibSp  Parch     Ticket  \\\n",
       "Name                                                                          \n",
       "Braund, Mr. Owen Harris                                 1      0  A/5 21171   \n",
       "Cumings, Mrs. John Bradley (Florence Briggs Tha...      1      0   PC 17599   \n",
       "\n",
       "                                                       Fare Embarked  \\\n",
       "Name                                                                   \n",
       "Braund, Mr. Owen Harris                              7.2500        S   \n",
       "Cumings, Mrs. John Bradley (Florence Briggs Tha...  71.2833        C   \n",
       "\n",
       "                                                      Age Group  \\\n",
       "Name                                                              \n",
       "Braund, Mr. Owen Harris                             young adult   \n",
       "Cumings, Mrs. John Bradley (Florence Briggs Tha...  middle aged   \n",
       "\n",
       "                                                   Martial Status  Survived  \n",
       "Name                                                                         \n",
       "Braund, Mr. Owen Harris                               Not Married         0  \n",
       "Cumings, Mrs. John Bradley (Florence Briggs Tha...        Married         1  "
      ]
     },
     "execution_count": 2,
     "metadata": {},
     "output_type": "execute_result"
    }
   ],
   "source": [
    "root = os.getcwd() # Setting root directory as cwd. \n",
    "df = pd.read_csv(r\"{}\\train_new_features.csv\".format(root)) # Importing the train set.\n",
    "processed = pd.read_csv(r\"{}\\train_processed.csv\".format(root))\n",
    "df.set_index(\"Name\", inplace=True)\n",
    "df.head(2)"
   ]
  },
  {
   "cell_type": "markdown",
   "id": "620b7042",
   "metadata": {},
   "source": [
    "&nbsp;"
   ]
  },
  {
   "cell_type": "markdown",
   "id": "f642d540",
   "metadata": {},
   "source": [
    "### Section A: Overfitting\n",
    "This section will focus on analyzing whether our classifiers overfitted on the training data. We want to avoid overfitting because if a model familiarises itself with the training data, it also inheirts its noise which would result in any predictions on unseen data to perform poorly. "
   ]
  },
  {
   "cell_type": "markdown",
   "id": "14d440ab",
   "metadata": {},
   "source": [
    "**A.1: Logistic Regression**<br>\n",
    "Let's check if our Logistic Regression Classifier overfitted."
   ]
  },
  {
   "cell_type": "code",
   "execution_count": 3,
   "id": "7cfb902c",
   "metadata": {},
   "outputs": [
    {
     "name": "stdout",
     "output_type": "stream",
     "text": [
      "Model scored an Train_F1_Score of: 0.82 and a Validation_F1_Score of: 0.80\n"
     ]
    }
   ],
   "source": [
    "# Splitting the data. \n",
    "X = processed.iloc[:,:-1]\n",
    "y = processed.iloc[:,-1]\n",
    "\n",
    "pca = PCA(n_components=20)\n",
    "pcaLR = pca.fit_transform(X)\n",
    "\n",
    "# Check if the model overfit. \n",
    "LR = functions.model_evaluation()\n",
    "# Checking if our hypertuned models overfited. \n",
    "LR.overfitting_checker(pcaLR, y, LogisticRegression(max_iter=1000, C=1.0))"
   ]
  },
  {
   "cell_type": "markdown",
   "id": "4f2d6923",
   "metadata": {},
   "source": [
    "**A.2: Gradient Boosting Classifier**<br>\n",
    "The next step is to check whether our Gradient Boosting Classifier overfitted or not. "
   ]
  },
  {
   "cell_type": "code",
   "execution_count": 4,
   "id": "fbef9cb9",
   "metadata": {},
   "outputs": [
    {
     "name": "stdout",
     "output_type": "stream",
     "text": [
      "Model scored an Train_F1_Score of: 0.93 and a Validation_F1_Score of: 0.82\n"
     ]
    }
   ],
   "source": [
    "pca = PCA(n_components=17)\n",
    "pcaGBC = pca.fit_transform(X)\n",
    "\n",
    "# Check if the model overfit. \n",
    "GBC = functions.model_evaluation()\n",
    "# Checking if our hypertuned models overfited. \n",
    "GBC.overfitting_checker(pcaGBC, y, GradientBoostingClassifier(learning_rate=0.1, max_depth=2, min_samples_split=30,\n",
    "                                                             n_estimators=250))"
   ]
  },
  {
   "cell_type": "markdown",
   "id": "1315cb56",
   "metadata": {},
   "source": [
    "**A.3: XGB Classifier**<br>\n",
    "And finally, our XGB Classifier. "
   ]
  },
  {
   "cell_type": "code",
   "execution_count": 5,
   "id": "74e18a5f",
   "metadata": {},
   "outputs": [
    {
     "name": "stdout",
     "output_type": "stream",
     "text": [
      "Model scored an Train_F1_Score of: 0.93 and a Validation_F1_Score of: 0.81\n"
     ]
    }
   ],
   "source": [
    "pca = PCA(n_components=19)\n",
    "pcaXGB = pca.fit_transform(X)\n",
    "\n",
    "# Check if the model overfit. \n",
    "XGB = functions.model_evaluation()\n",
    "# Checking if our hypertuned models overfited. \n",
    "XGB.overfitting_checker(pcaXGB, y, XGBClassifier(learning_rate=0.01, max_depth=20, min_child_weight=5, n_estimators=500))"
   ]
  },
  {
   "cell_type": "markdown",
   "id": "9d6c6376",
   "metadata": {},
   "source": [
    "* Based on our overfitting function, the only classifier to not overfit was the Logistic Regression. "
   ]
  },
  {
   "cell_type": "markdown",
   "id": "ace6aa28",
   "metadata": {},
   "source": [
    "| Model | Model Type | Train f1_score | Validation f1_score |\n",
    "|---------|---------|---------|---------|\n",
    "| **Logistic Regression** |  PCA Data | 82% |81% |\n",
    "| **Gradient Boosting Classifier** |  PCA Data | 93% |82% |\n",
    "| **XGB Classifier** |  PCA Data | 93% |81% |"
   ]
  },
  {
   "cell_type": "markdown",
   "id": "29ee3e5a",
   "metadata": {},
   "source": [
    "&nbsp;"
   ]
  },
  {
   "cell_type": "markdown",
   "id": "c850cba0",
   "metadata": {},
   "source": [
    "### Section B: Regularization\n",
    "This section will focus on enabling regularization techniques for all our chosen models to counter overfitting. Regularization is the process of adding penalties or early stopping to prevent a model from overfitting to the training data."
   ]
  },
  {
   "cell_type": "markdown",
   "id": "65e64365",
   "metadata": {},
   "source": [
    "**B.1: Regularizing Logistic Regression**<br>\n",
    "To regualrize our Logistic Regression we'll set the \"penalty\" parameter to \"elasticnet\" which is a combination of L1 and L2 regularization. The l1_ratio will determine how much influence l1 will penalize our model. We will also set \"solver\" to 'saga', just because this is the only solver that is compatible with elasticnet."
   ]
  },
  {
   "cell_type": "code",
   "execution_count": 6,
   "id": "418845a7",
   "metadata": {},
   "outputs": [
    {
     "name": "stdout",
     "output_type": "stream",
     "text": [
      "Model scored an Train_F1_Score of: 0.80 and a Validation_F1_Score of: 0.79\n"
     ]
    }
   ],
   "source": [
    "# Check if the model overfit. \n",
    "LR = functions.model_evaluation()\n",
    "# Checking if our hypertuned models overfited. \n",
    "LR.overfitting_checker(pcaLR, y, LogisticRegression(max_iter=5000, C=1.0, penalty='elasticnet', \n",
    "                                                    solver='saga', l1_ratio=0.90))"
   ]
  },
  {
   "cell_type": "markdown",
   "id": "ff12d7f9",
   "metadata": {},
   "source": [
    "**B.2: Regularizing Gradient Boosting Classifier**<br>\n",
    "To enable early stopping for our Gradient Boosting Classifier we include the \"n_iter_no_change\" (early stopping), \"validation_fraction\" (validation set %) and \"tol\" (tolerance level) parameters."
   ]
  },
  {
   "cell_type": "code",
   "execution_count": 7,
   "id": "8726ed9a",
   "metadata": {},
   "outputs": [
    {
     "name": "stdout",
     "output_type": "stream",
     "text": [
      "Model scored an Train_F1_Score of: 0.83 and a Validation_F1_Score of: 0.79\n"
     ]
    }
   ],
   "source": [
    "# Check if the model overfit. \n",
    "GBC = functions.model_evaluation()\n",
    "# Checking if our hypertuned models overfited. \n",
    "GBC.overfitting_checker(pcaGBC, y, GradientBoostingClassifier(learning_rate=0.1, max_depth=2, min_samples_split=30,\n",
    "                                                             n_estimators=250, validation_fraction=0.2,\n",
    "                                                             n_iter_no_change=20, tol=2.5))"
   ]
  },
  {
   "cell_type": "markdown",
   "id": "c3f8a154",
   "metadata": {},
   "source": [
    "| Model | Model Type | Regularization Metrics | f1_score |\n",
    "|---------|---------|---------|---------|\n",
    "| **Logistic Regression** | PCA Data|penalty=\"elasticnet\", solver=\"saga\", l1_ratio=0.90 | 79% |\n",
    "| **Gradient Boosting Classifier** | PCA Data | min_samples_split=10, max_depth=20 |77% |"
   ]
  },
  {
   "cell_type": "markdown",
   "id": "bf146e70",
   "metadata": {},
   "source": [
    "**B.3: Regularizing XGB Classifier**<br>\n",
    "To regularize our XGB Classifer we can implement the early stopping technique. This method involves the algorithm to stop training n number of epochs once the loss function of the validation set starts to deteroriate."
   ]
  },
  {
   "cell_type": "code",
   "execution_count": 8,
   "id": "36017ff2",
   "metadata": {},
   "outputs": [],
   "source": [
    "train_test = functions.Early_Stopping(pcaXGB, y, XGBClassifier(eval_metric=[\"logloss\"], learning_rate=0.01, max_depth=20,\n",
    "                                                               min_child_weight=5, n_estimators=500))"
   ]
  },
  {
   "cell_type": "code",
   "execution_count": 9,
   "id": "bd5cb594",
   "metadata": {},
   "outputs": [
    {
     "data": {
      "image/svg+xml": [
       "<svg class=\"main-svg\" xmlns=\"http://www.w3.org/2000/svg\" xmlns:xlink=\"http://www.w3.org/1999/xlink\" width=\"800\" height=\"400\" style=\"\" viewBox=\"0 0 800 400\"><rect x=\"0\" y=\"0\" width=\"800\" height=\"400\" style=\"fill: rgb(255, 255, 255); fill-opacity: 1;\"/><defs id=\"defs-d81e69\"><g class=\"clips\"><clipPath id=\"clipd81e69xyplot\" class=\"plotclip\"><rect width=\"620\" height=\"220\"/></clipPath><clipPath class=\"axesclip\" id=\"clipd81e69x\"><rect x=\"80\" y=\"0\" width=\"620\" height=\"400\"/></clipPath><clipPath class=\"axesclip\" id=\"clipd81e69y\"><rect x=\"0\" y=\"100\" width=\"800\" height=\"220\"/></clipPath><clipPath class=\"axesclip\" id=\"clipd81e69xy\"><rect x=\"80\" y=\"100\" width=\"620\" height=\"220\"/></clipPath></g><g class=\"gradients\"/><g class=\"patterns\"/></defs><g class=\"bglayer\"><rect class=\"bg\" x=\"80\" y=\"100\" width=\"620\" height=\"220\" style=\"fill: rgb(248, 248, 246); fill-opacity: 1; stroke-width: 0;\"/></g><g class=\"layer-below\"><g class=\"imagelayer\"/><g class=\"shapelayer\"/></g><g class=\"cartesianlayer\"><g class=\"subplot xy\"><g class=\"layer-subplot\"><g class=\"shapelayer\"/><g class=\"imagelayer\"/></g><g class=\"minor-gridlayer\"><g class=\"x\"/><g class=\"y\"/></g><g class=\"gridlayer\"><g class=\"x\"><path class=\"xgrid crisp\" transform=\"translate(204.25,0)\" d=\"M0,100v220\" style=\"stroke: rgb(255, 255, 255); stroke-opacity: 1; stroke-width: 1px;\"/><path class=\"xgrid crisp\" transform=\"translate(328.5,0)\" d=\"M0,100v220\" style=\"stroke: rgb(255, 255, 255); stroke-opacity: 1; stroke-width: 1px;\"/><path class=\"xgrid crisp\" transform=\"translate(452.75,0)\" d=\"M0,100v220\" style=\"stroke: rgb(255, 255, 255); stroke-opacity: 1; stroke-width: 1px;\"/><path class=\"xgrid crisp\" transform=\"translate(576.99,0)\" d=\"M0,100v220\" style=\"stroke: rgb(255, 255, 255); stroke-opacity: 1; stroke-width: 1px;\"/></g><g class=\"y\"><path class=\"ygrid crisp\" transform=\"translate(0,285.5)\" d=\"M80,0h620\" style=\"stroke: rgb(255, 255, 255); stroke-opacity: 1; stroke-width: 1px;\"/><path class=\"ygrid crisp\" transform=\"translate(0,240.67)\" d=\"M80,0h620\" style=\"stroke: rgb(255, 255, 255); stroke-opacity: 1; stroke-width: 1px;\"/><path class=\"ygrid crisp\" transform=\"translate(0,195.84)\" d=\"M80,0h620\" style=\"stroke: rgb(255, 255, 255); stroke-opacity: 1; stroke-width: 1px;\"/><path class=\"ygrid crisp\" transform=\"translate(0,151.01)\" d=\"M80,0h620\" style=\"stroke: rgb(255, 255, 255); stroke-opacity: 1; stroke-width: 1px;\"/><path class=\"ygrid crisp\" transform=\"translate(0,106.19)\" d=\"M80,0h620\" style=\"stroke: rgb(255, 255, 255); stroke-opacity: 1; stroke-width: 1px;\"/></g></g><g class=\"zerolinelayer\"><path class=\"xzl zl crisp\" transform=\"translate(80,0)\" d=\"M0,100v220\" style=\"stroke: rgb(255, 255, 255); stroke-opacity: 1; stroke-width: 2px;\"/></g><path class=\"xlines-below\"/><path class=\"ylines-below\"/><g class=\"overlines-below\"/><g class=\"xaxislayer-below\"/><g class=\"yaxislayer-below\"/><g class=\"overaxes-below\"/><g class=\"plot\" transform=\"translate(80,100)\" clip-path=\"url(#clipd81e69xyplot)\"><g class=\"scatterlayer mlayer\"><g class=\"trace scatter tracee71223\" style=\"stroke-miterlimit: 2; opacity: 1;\"><g class=\"fills\"/><g class=\"errorbars\"/><g class=\"lines\"><path class=\"js-line\" d=\"M0,11L11.18,25.09L12.42,26.54L23.61,38.07L24.85,39.19L36.03,48.96L37.27,49.85L52.18,60.63L53.43,61.36L69.58,70.61L70.82,71.2L86.97,78.8L88.22,79.26L101.88,83.97L103.13,84.28L136.67,93.09L137.92,93.51L159.04,97.6L160.28,97.64L167.74,98.78L168.98,98.92L176.43,99.7L177.68,99.82L185.13,100.79L186.37,100.92L202.53,103.52L203.77,103.69L213.71,105.11L214.95,105.35L229.86,107.05L231.1,107.19L241.04,108.22L242.28,108.4L267.13,110.25L268.38,110.25L290.74,111.17L291.98,111.27L364.05,112.24L365.29,112.21L383.93,112.52L385.17,112.5L410.02,112.18L411.26,112.12L426.17,112.15L427.41,112.04L438.6,111.75L439.84,111.73L451.02,111.49L452.26,111.55L470.9,111.51L472.14,111.41L500.72,111.6L501.96,111.55L545.45,110.55L546.69,110.44L583.97,110L585.21,109.91L620,109.27\" style=\"vector-effect: non-scaling-stroke; fill: none; stroke: rgb(99, 110, 250); stroke-opacity: 1; stroke-width: 2px; opacity: 1;\"/></g><g class=\"points\"/><g class=\"text\"/></g><g class=\"trace scatter tracef56eef\" style=\"stroke-miterlimit: 2; opacity: 1;\"><g class=\"fills\"/><g class=\"errorbars\"/><g class=\"lines\"><path class=\"js-line\" d=\"M0,11.26L11.18,27.69L12.42,29.36L27.33,47.75L28.58,49.1L41,62.68L42.24,63.91L59.64,79.37L60.88,80.4L75.79,91.47L77.03,92.3L94.43,103.52L95.67,104.28L110.58,113.13L111.82,113.78L129.22,122.3L130.46,122.84L157.8,134.43L159.04,134.88L178.92,141.94L180.16,142.35L201.28,148.92L202.53,149.29L234.83,158.42L236.07,158.76L268.38,166.59L269.62,166.9L305.65,173.98L306.89,174.22L370.26,184.21L371.5,184.38L438.6,192.76L439.84,192.89L485.81,197.72L487.05,197.84L577.76,205.82L579,205.9L620,209\" style=\"vector-effect: non-scaling-stroke; fill: none; stroke: rgb(239, 85, 59); stroke-opacity: 1; stroke-width: 2px; opacity: 1;\"/></g><g class=\"points\"/><g class=\"text\"/></g></g></g><g class=\"overplot\"/><path class=\"xlines-above crisp\" d=\"M0,0\" style=\"fill: none;\"/><path class=\"ylines-above crisp\" d=\"M0,0\" style=\"fill: none;\"/><g class=\"overlines-above\"/><g class=\"xaxislayer-above\"><g class=\"xtick\"><text text-anchor=\"middle\" x=\"0\" y=\"333\" transform=\"translate(80,0)\" style=\"font-family: 'Open Sans', verdana, arial, sans-serif; font-size: 12px; fill: rgb(42, 63, 95); fill-opacity: 1; white-space: pre; opacity: 1;\">0</text></g><g class=\"xtick\"><text text-anchor=\"middle\" x=\"0\" y=\"333\" style=\"font-family: 'Open Sans', verdana, arial, sans-serif; font-size: 12px; fill: rgb(42, 63, 95); fill-opacity: 1; white-space: pre; opacity: 1;\" transform=\"translate(204.25,0)\">100</text></g><g class=\"xtick\"><text text-anchor=\"middle\" x=\"0\" y=\"333\" style=\"font-family: 'Open Sans', verdana, arial, sans-serif; font-size: 12px; fill: rgb(42, 63, 95); fill-opacity: 1; white-space: pre; opacity: 1;\" transform=\"translate(328.5,0)\">200</text></g><g class=\"xtick\"><text text-anchor=\"middle\" x=\"0\" y=\"333\" style=\"font-family: 'Open Sans', verdana, arial, sans-serif; font-size: 12px; fill: rgb(42, 63, 95); fill-opacity: 1; white-space: pre; opacity: 1;\" transform=\"translate(452.75,0)\">300</text></g><g class=\"xtick\"><text text-anchor=\"middle\" x=\"0\" y=\"333\" style=\"font-family: 'Open Sans', verdana, arial, sans-serif; font-size: 12px; fill: rgb(42, 63, 95); fill-opacity: 1; white-space: pre; opacity: 1;\" transform=\"translate(576.99,0)\">400</text></g></g><g class=\"yaxislayer-above\"><g class=\"ytick\"><text text-anchor=\"end\" x=\"79\" y=\"4.199999999999999\" transform=\"translate(0,285.5)\" style=\"font-family: 'Open Sans', verdana, arial, sans-serif; font-size: 12px; fill: rgb(42, 63, 95); fill-opacity: 1; white-space: pre; opacity: 1;\">0.3</text></g><g class=\"ytick\"><text text-anchor=\"end\" x=\"79\" y=\"4.199999999999999\" style=\"font-family: 'Open Sans', verdana, arial, sans-serif; font-size: 12px; fill: rgb(42, 63, 95); fill-opacity: 1; white-space: pre; opacity: 1;\" transform=\"translate(0,240.67)\">0.4</text></g><g class=\"ytick\"><text text-anchor=\"end\" x=\"79\" y=\"4.199999999999999\" style=\"font-family: 'Open Sans', verdana, arial, sans-serif; font-size: 12px; fill: rgb(42, 63, 95); fill-opacity: 1; white-space: pre; opacity: 1;\" transform=\"translate(0,195.84)\">0.5</text></g><g class=\"ytick\"><text text-anchor=\"end\" x=\"79\" y=\"4.199999999999999\" style=\"font-family: 'Open Sans', verdana, arial, sans-serif; font-size: 12px; fill: rgb(42, 63, 95); fill-opacity: 1; white-space: pre; opacity: 1;\" transform=\"translate(0,151.01)\">0.6</text></g><g class=\"ytick\"><text text-anchor=\"end\" x=\"79\" y=\"4.199999999999999\" style=\"font-family: 'Open Sans', verdana, arial, sans-serif; font-size: 12px; fill: rgb(42, 63, 95); fill-opacity: 1; white-space: pre; opacity: 1;\" transform=\"translate(0,106.19)\">0.7</text></g></g><g class=\"overaxes-above\"/></g></g><g class=\"polarlayer\"/><g class=\"smithlayer\"/><g class=\"ternarylayer\"/><g class=\"geolayer\"/><g class=\"funnelarealayer\"/><g class=\"pielayer\"/><g class=\"iciclelayer\"/><g class=\"treemaplayer\"/><g class=\"sunburstlayer\"/><g class=\"glimages\"/><defs id=\"topdefs-d81e69\"><g class=\"clips\"/><clipPath id=\"legendd81e69\"><rect width=\"76\" height=\"48\" x=\"0\" y=\"0\"/></clipPath></defs><g class=\"layer-above\"><g class=\"imagelayer\"/><g class=\"shapelayer\"/></g><g class=\"infolayer\"><g class=\"legend\" pointer-events=\"all\" transform=\"translate(712.4,100)\"><rect class=\"bg\" shape-rendering=\"crispEdges\" style=\"stroke: rgb(68, 68, 68); stroke-opacity: 1; fill: rgb(255, 255, 255); fill-opacity: 1; stroke-width: 0px;\" width=\"76\" height=\"48\" x=\"0\" y=\"0\"/><g class=\"scrollbox\" transform=\"\" clip-path=\"url(#legendd81e69)\"><g class=\"groups\"><g class=\"traces\" transform=\"translate(0,14.5)\" style=\"opacity: 1;\"><text class=\"legendtext\" text-anchor=\"start\" x=\"40\" y=\"4.680000000000001\" style=\"font-family: 'Open Sans', verdana, arial, sans-serif; font-size: 12px; fill: rgb(42, 63, 95); fill-opacity: 1; white-space: pre;\">Train</text><g class=\"layers\" style=\"opacity: 1;\"><g class=\"legendfill\"/><g class=\"legendlines\"><path class=\"js-line\" d=\"M5,0h30\" style=\"fill: none; stroke: rgb(99, 110, 250); stroke-opacity: 1; stroke-width: 2px;\"/></g><g class=\"legendsymbols\"><g class=\"legendpoints\"/></g></g><rect class=\"legendtoggle\" x=\"0\" y=\"-9.5\" width=\"70.234375\" height=\"19\" style=\"fill: rgb(0, 0, 0); fill-opacity: 0;\"/></g><g class=\"traces\" transform=\"translate(0,33.5)\" style=\"opacity: 1;\"><text class=\"legendtext\" text-anchor=\"start\" x=\"40\" y=\"4.680000000000001\" style=\"font-family: 'Open Sans', verdana, arial, sans-serif; font-size: 12px; fill: rgb(42, 63, 95); fill-opacity: 1; white-space: pre;\">Test</text><g class=\"layers\" style=\"opacity: 1;\"><g class=\"legendfill\"/><g class=\"legendlines\"><path class=\"js-line\" d=\"M5,0h30\" style=\"fill: none; stroke: rgb(239, 85, 59); stroke-opacity: 1; stroke-width: 2px;\"/></g><g class=\"legendsymbols\"><g class=\"legendpoints\"/></g></g><rect class=\"legendtoggle\" x=\"0\" y=\"-9.5\" width=\"70.234375\" height=\"19\" style=\"fill: rgb(0, 0, 0); fill-opacity: 0;\"/></g></g></g><rect class=\"scrollbar\" rx=\"20\" ry=\"3\" width=\"0\" height=\"0\" style=\"fill: rgb(128, 139, 164); fill-opacity: 1;\" x=\"0\" y=\"0\"/></g><g class=\"g-gtitle\"><text class=\"gtitle\" x=\"40\" y=\"50\" text-anchor=\"start\" dy=\"0em\" style=\"font-family: 'Arial Black'; font-size: 20px; fill: rgb(42, 63, 95); opacity: 1; font-weight: normal; white-space: pre;\">XGB Classifier Log Loss Curve</text></g><g class=\"g-xtitle\"><text class=\"xtitle\" x=\"390\" y=\"360.8\" text-anchor=\"middle\" style=\"font-family: 'Open Sans', verdana, arial, sans-serif; font-size: 14px; fill: rgb(42, 63, 95); opacity: 1; font-weight: normal; white-space: pre;\">Epochs</text></g><g class=\"g-ytitle\"><text class=\"ytitle\" transform=\"rotate(-90,34.575,210)\" x=\"34.575\" y=\"210\" text-anchor=\"middle\" style=\"font-family: 'Open Sans', verdana, arial, sans-serif; font-size: 14px; fill: rgb(42, 63, 95); opacity: 1; font-weight: normal; white-space: pre;\">Log Loss</text></g></g></svg>"
      ]
     },
     "metadata": {},
     "output_type": "display_data"
    }
   ],
   "source": [
    "# Plotting the loss function for both the train and test sets over n number of epochs. \n",
    "plot_functions.LogLoss_Curve(train_test.x_axis, train_test.results[\"validation_1\"]['logloss'], \n",
    "                        train_test.results[\"validation_0\"]['logloss'])"
   ]
  },
  {
   "cell_type": "code",
   "execution_count": 10,
   "id": "48ef074c",
   "metadata": {},
   "outputs": [
    {
     "name": "stdout",
     "output_type": "stream",
     "text": [
      "f1_score: 74.44%\n"
     ]
    }
   ],
   "source": [
    "test = functions.Early_Stopping(pcaXGB, y, XGBClassifier(early_stopping_rounds=10, eval_metric=[\"logloss\"],learning_rate=0.01, \n",
    "                                               max_depth=20, min_child_weight=5, n_estimators=500))\n",
    "print(\"f1_score: %.2f%%\" % (test.f1*100))"
   ]
  },
  {
   "cell_type": "code",
   "execution_count": 11,
   "id": "9b2caafa",
   "metadata": {},
   "outputs": [
    {
     "data": {
      "image/svg+xml": [
       "<svg class=\"main-svg\" xmlns=\"http://www.w3.org/2000/svg\" xmlns:xlink=\"http://www.w3.org/1999/xlink\" width=\"800\" height=\"400\" style=\"\" viewBox=\"0 0 800 400\"><rect x=\"0\" y=\"0\" width=\"800\" height=\"400\" style=\"fill: rgb(255, 255, 255); fill-opacity: 1;\"/><defs id=\"defs-8b4094\"><g class=\"clips\"><clipPath id=\"clip8b4094xyplot\" class=\"plotclip\"><rect width=\"640\" height=\"260\"/></clipPath><clipPath class=\"axesclip\" id=\"clip8b4094x\"><rect x=\"80\" y=\"0\" width=\"640\" height=\"400\"/></clipPath><clipPath class=\"axesclip\" id=\"clip8b4094y\"><rect x=\"0\" y=\"60\" width=\"800\" height=\"260\"/></clipPath><clipPath class=\"axesclip\" id=\"clip8b4094xy\"><rect x=\"80\" y=\"60\" width=\"640\" height=\"260\"/></clipPath></g><g class=\"gradients\"/><g class=\"patterns\"/></defs><g class=\"bglayer\"><rect class=\"bg\" x=\"80\" y=\"60\" width=\"640\" height=\"260\" style=\"fill: rgb(248, 248, 246); fill-opacity: 1; stroke-width: 0;\"/></g><g class=\"layer-below\"><g class=\"imagelayer\"/><g class=\"shapelayer\"/></g><g class=\"cartesianlayer\"><g class=\"subplot xy\"><g class=\"layer-subplot\"><g class=\"shapelayer\"/><g class=\"imagelayer\"/></g><g class=\"minor-gridlayer\"><g class=\"x\"/><g class=\"y\"/></g><g class=\"gridlayer\"><g class=\"x\"><path class=\"xgrid crisp\" transform=\"translate(193.88,0)\" d=\"M0,60v260\" style=\"stroke: rgb(255, 255, 255); stroke-opacity: 1; stroke-width: 1px;\"/><path class=\"xgrid crisp\" transform=\"translate(307.76,0)\" d=\"M0,60v260\" style=\"stroke: rgb(255, 255, 255); stroke-opacity: 1; stroke-width: 1px;\"/><path class=\"xgrid crisp\" transform=\"translate(421.64,0)\" d=\"M0,60v260\" style=\"stroke: rgb(255, 255, 255); stroke-opacity: 1; stroke-width: 1px;\"/><path class=\"xgrid crisp\" transform=\"translate(535.52,0)\" d=\"M0,60v260\" style=\"stroke: rgb(255, 255, 255); stroke-opacity: 1; stroke-width: 1px;\"/><path class=\"xgrid crisp\" transform=\"translate(649.4,0)\" d=\"M0,60v260\" style=\"stroke: rgb(255, 255, 255); stroke-opacity: 1; stroke-width: 1px;\"/></g><g class=\"y\"><path class=\"ygrid crisp\" transform=\"translate(0,268.72)\" d=\"M80,0h640\" style=\"stroke: rgb(255, 255, 255); stroke-opacity: 1; stroke-width: 1px;\"/><path class=\"ygrid crisp\" transform=\"translate(0,217.01)\" d=\"M80,0h640\" style=\"stroke: rgb(255, 255, 255); stroke-opacity: 1; stroke-width: 1px;\"/><path class=\"ygrid crisp\" transform=\"translate(0,165.31)\" d=\"M80,0h640\" style=\"stroke: rgb(255, 255, 255); stroke-opacity: 1; stroke-width: 1px;\"/><path class=\"ygrid crisp\" transform=\"translate(0,113.6)\" d=\"M80,0h640\" style=\"stroke: rgb(255, 255, 255); stroke-opacity: 1; stroke-width: 1px;\"/><path class=\"ygrid crisp\" transform=\"translate(0,61.89)\" d=\"M80,0h640\" style=\"stroke: rgb(255, 255, 255); stroke-opacity: 1; stroke-width: 1px;\"/></g></g><g class=\"zerolinelayer\"><path class=\"xzl zl crisp\" transform=\"translate(80,0)\" d=\"M0,60v260\" style=\"stroke: rgb(255, 255, 255); stroke-opacity: 1; stroke-width: 2px;\"/></g><path class=\"xlines-below\"/><path class=\"ylines-below\"/><g class=\"overlines-below\"/><g class=\"xaxislayer-below\"/><g class=\"yaxislayer-below\"/><g class=\"overaxes-below\"/><g class=\"plot\" transform=\"translate(80,60)\" clip-path=\"url(#clip8b4094xyplot)\"><g class=\"scatterlayer mlayer\"><g class=\"trace scatter traced02fd3\" style=\"stroke-miterlimit: 2; opacity: 1;\"><g class=\"fills\"/><g class=\"errorbars\"/><g class=\"lines\"><path class=\"js-line\" d=\"M0,13L15.94,38.88L18.22,42.33L38.72,69.92L41,72.7L59.22,93.63L61.49,95.92L79.72,113.39L81.99,115.52L97.94,129.18L100.21,130.94L109.32,138.05L111.6,139.75L145.77,161.78L148.04,163.07L159.43,169.41L161.71,170.47L177.65,177.91L179.93,178.68L195.87,184.76L198.15,185.34L216.37,190.53L218.65,191.46L225.48,193.44L227.76,194.42L245.98,200.81L248.26,201.45L259.64,205.46L261.92,206.13L266.48,207.26L268.75,207.95L277.86,209.82L280.14,210.27L284.7,211.36L286.98,211.47L291.53,212.78L293.81,212.87L300.64,214.68L302.92,214.75L307.47,215.49L309.75,215.81L314.31,216.5L316.58,216.55L334.8,219.43L337.08,220.07L341.64,220.44L343.91,221.04L394.02,230.65L396.3,230.83L414.52,233.6L416.8,233.93L448.68,238.31L450.96,238.55L491.96,241.95L494.23,241.98L512.46,243.37L514.73,243.34L535.23,244.32L537.51,244.34L553.45,244.36L555.73,244.36L567.12,244.98L569.4,245.18L573.95,245.3L576.23,245.58L594.45,246.52L596.73,246.78L605.84,246.73L608.11,246.97L633.17,246.78L635.44,246.77L640,246.82\" style=\"vector-effect: non-scaling-stroke; fill: none; stroke: rgb(99, 110, 250); stroke-opacity: 1; stroke-width: 2px; opacity: 1;\"/></g><g class=\"points\"/><g class=\"text\"/></g></g></g><g class=\"overplot\"/><path class=\"xlines-above crisp\" d=\"M0,0\" style=\"fill: none;\"/><path class=\"ylines-above crisp\" d=\"M0,0\" style=\"fill: none;\"/><g class=\"overlines-above\"/><g class=\"xaxislayer-above\"><g class=\"xtick\"><text text-anchor=\"middle\" x=\"0\" y=\"333\" transform=\"translate(80,0)\" style=\"font-family: 'Open Sans', verdana, arial, sans-serif; font-size: 12px; fill: rgb(42, 63, 95); fill-opacity: 1; white-space: pre; opacity: 1;\">0</text></g><g class=\"xtick\"><text text-anchor=\"middle\" x=\"0\" y=\"333\" style=\"font-family: 'Open Sans', verdana, arial, sans-serif; font-size: 12px; fill: rgb(42, 63, 95); fill-opacity: 1; white-space: pre; opacity: 1;\" transform=\"translate(193.88,0)\">50</text></g><g class=\"xtick\"><text text-anchor=\"middle\" x=\"0\" y=\"333\" style=\"font-family: 'Open Sans', verdana, arial, sans-serif; font-size: 12px; fill: rgb(42, 63, 95); fill-opacity: 1; white-space: pre; opacity: 1;\" transform=\"translate(307.76,0)\">100</text></g><g class=\"xtick\"><text text-anchor=\"middle\" x=\"0\" y=\"333\" style=\"font-family: 'Open Sans', verdana, arial, sans-serif; font-size: 12px; fill: rgb(42, 63, 95); fill-opacity: 1; white-space: pre; opacity: 1;\" transform=\"translate(421.64,0)\">150</text></g><g class=\"xtick\"><text text-anchor=\"middle\" x=\"0\" y=\"333\" style=\"font-family: 'Open Sans', verdana, arial, sans-serif; font-size: 12px; fill: rgb(42, 63, 95); fill-opacity: 1; white-space: pre; opacity: 1;\" transform=\"translate(535.52,0)\">200</text></g><g class=\"xtick\"><text text-anchor=\"middle\" x=\"0\" y=\"333\" style=\"font-family: 'Open Sans', verdana, arial, sans-serif; font-size: 12px; fill: rgb(42, 63, 95); fill-opacity: 1; white-space: pre; opacity: 1;\" transform=\"translate(649.4,0)\">250</text></g></g><g class=\"yaxislayer-above\"><g class=\"ytick\"><text text-anchor=\"end\" x=\"79\" y=\"4.199999999999999\" transform=\"translate(0,268.72)\" style=\"font-family: 'Open Sans', verdana, arial, sans-serif; font-size: 12px; fill: rgb(42, 63, 95); fill-opacity: 1; white-space: pre; opacity: 1;\">0.5</text></g><g class=\"ytick\"><text text-anchor=\"end\" x=\"79\" y=\"4.199999999999999\" style=\"font-family: 'Open Sans', verdana, arial, sans-serif; font-size: 12px; fill: rgb(42, 63, 95); fill-opacity: 1; white-space: pre; opacity: 1;\" transform=\"translate(0,217.01)\">0.55</text></g><g class=\"ytick\"><text text-anchor=\"end\" x=\"79\" y=\"4.199999999999999\" style=\"font-family: 'Open Sans', verdana, arial, sans-serif; font-size: 12px; fill: rgb(42, 63, 95); fill-opacity: 1; white-space: pre; opacity: 1;\" transform=\"translate(0,165.31)\">0.6</text></g><g class=\"ytick\"><text text-anchor=\"end\" x=\"79\" y=\"4.199999999999999\" style=\"font-family: 'Open Sans', verdana, arial, sans-serif; font-size: 12px; fill: rgb(42, 63, 95); fill-opacity: 1; white-space: pre; opacity: 1;\" transform=\"translate(0,113.6)\">0.65</text></g><g class=\"ytick\"><text text-anchor=\"end\" x=\"79\" y=\"4.199999999999999\" style=\"font-family: 'Open Sans', verdana, arial, sans-serif; font-size: 12px; fill: rgb(42, 63, 95); fill-opacity: 1; white-space: pre; opacity: 1;\" transform=\"translate(0,61.89)\">0.7</text></g></g><g class=\"overaxes-above\"/></g></g><g class=\"polarlayer\"/><g class=\"smithlayer\"/><g class=\"ternarylayer\"/><g class=\"geolayer\"/><g class=\"funnelarealayer\"/><g class=\"pielayer\"/><g class=\"iciclelayer\"/><g class=\"treemaplayer\"/><g class=\"sunburstlayer\"/><g class=\"glimages\"/><defs id=\"topdefs-8b4094\"><g class=\"clips\"/></defs><g class=\"layer-above\"><g class=\"imagelayer\"/><g class=\"shapelayer\"><path data-index=\"0\" fill-rule=\"evenodd\" d=\"M699.5,320L699.5,60\" clip-path=\"url(#clip8b4094x)\" style=\"opacity: 1; stroke: rgb(0, 0, 0); stroke-opacity: 1; fill: rgb(0, 0, 0); fill-opacity: 0; stroke-dasharray: 9px, 9px; stroke-width: 2px;\"/></g></g><g class=\"infolayer\"><g class=\"g-gtitle\"><text class=\"gtitle\" x=\"40\" y=\"30\" text-anchor=\"start\" dy=\"0em\" style=\"font-family: 'Arial Black'; font-size: 20px; fill: rgb(42, 63, 95); opacity: 1; font-weight: normal; white-space: pre;\">XGB Classifier Early Stopping</text></g><g class=\"g-xtitle\"><text class=\"xtitle\" x=\"400\" y=\"360.8\" text-anchor=\"middle\" style=\"font-family: 'Open Sans', verdana, arial, sans-serif; font-size: 14px; fill: rgb(42, 63, 95); opacity: 1; font-weight: normal; white-space: pre;\">Epochs</text></g><g class=\"g-ytitle\"><text class=\"ytitle\" transform=\"rotate(-90,26.934375000000003,190)\" x=\"26.934375000000003\" y=\"190\" text-anchor=\"middle\" style=\"font-family: 'Open Sans', verdana, arial, sans-serif; font-size: 14px; fill: rgb(42, 63, 95); opacity: 1; font-weight: normal; white-space: pre;\">Log Loss</text></g></g></svg>"
      ]
     },
     "metadata": {},
     "output_type": "display_data"
    },
    {
     "name": "stdout",
     "output_type": "stream",
     "text": [
      "The model stopped training at around 290 epochs, with the best loss score observed at: 272.\n"
     ]
    }
   ],
   "source": [
    "# Plot early stopping results. \n",
    "fig = px.line(x=test.x_axis, y=test.results['validation_1']['logloss'])\n",
    "fig.add_vline(x=test.clf.best_ntree_limit, line_width=2, line_dash=\"dash\", line_color=\"black\") # Best loss score. \n",
    "fig.update_layout(title='XGB Classifier Early Stopping',\n",
    "                       xaxis_title='Epochs',\n",
    "                       yaxis_title='Log Loss',\n",
    "                       height=400, width=800, plot_bgcolor='#F8F8F6', title_font_size=20, title_font_family='Arial Black')\n",
    "fig.show()\n",
    "\n",
    "print(\"The model stopped training at around 290 epochs, with the best loss score observed at: %.0f.\" % (\n",
    "    test.clf.best_ntree_limit))\n",
    "# Now we know that we should set our number of trees (n_estimator) to =286 to avoid overfitting."
   ]
  },
  {
   "cell_type": "markdown",
   "id": "fd103bfe",
   "metadata": {},
   "source": [
    "&nbsp;"
   ]
  },
  {
   "cell_type": "markdown",
   "id": "8972cd50",
   "metadata": {},
   "source": [
    "### Section C: Threshold Manipulation\n",
    "Threshold manipulation is the process of changing the default threshold value used to classify predictions into classes. We can create an array of threshold values and iterate through them to optimize for our weighted recall evaluation metric. \n",
    "\n",
    "Since algorithms are stochastic in nature we will run our expirement through 10 iterations and record the threshold that outputs the highest score. "
   ]
  },
  {
   "cell_type": "markdown",
   "id": "910eca78",
   "metadata": {},
   "source": [
    "**C.1: Logistic Regression Optimal Threshold**<br>\n",
    "Now it's time to explore some threshold values on our Logistic Regression Classifier."
   ]
  },
  {
   "cell_type": "code",
   "execution_count": 12,
   "id": "9c941559",
   "metadata": {},
   "outputs": [
    {
     "name": "stdout",
     "output_type": "stream",
     "text": [
      "Threshold=0.494, F-Score=0.79738\n"
     ]
    },
    {
     "data": {
      "image/svg+xml": [
       "<svg class=\"main-svg\" xmlns=\"http://www.w3.org/2000/svg\" xmlns:xlink=\"http://www.w3.org/1999/xlink\" width=\"800\" height=\"400\" style=\"\" viewBox=\"0 0 800 400\"><rect x=\"0\" y=\"0\" width=\"800\" height=\"400\" style=\"fill: rgb(255, 255, 255); fill-opacity: 1;\"/><defs id=\"defs-b5579f\"><g class=\"clips\"><clipPath id=\"clipb5579fxyplot\" class=\"plotclip\"><rect width=\"640\" height=\"260\"/></clipPath><clipPath class=\"axesclip\" id=\"clipb5579fx\"><rect x=\"80\" y=\"0\" width=\"640\" height=\"400\"/></clipPath><clipPath class=\"axesclip\" id=\"clipb5579fy\"><rect x=\"0\" y=\"60\" width=\"800\" height=\"260\"/></clipPath><clipPath class=\"axesclip\" id=\"clipb5579fxy\"><rect x=\"80\" y=\"60\" width=\"640\" height=\"260\"/></clipPath></g><g class=\"gradients\"/><g class=\"patterns\"/></defs><g class=\"bglayer\"><rect class=\"bg\" x=\"80\" y=\"60\" width=\"640\" height=\"260\" style=\"fill: rgb(248, 248, 246); fill-opacity: 1; stroke-width: 0;\"/></g><g class=\"layer-below\"><g class=\"imagelayer\"/><g class=\"shapelayer\"/></g><g class=\"cartesianlayer\"><g class=\"subplot xy\"><g class=\"layer-subplot\"><g class=\"shapelayer\"/><g class=\"imagelayer\"/></g><g class=\"minor-gridlayer\"><g class=\"x\"/><g class=\"y\"/></g><g class=\"gridlayer\"><g class=\"x\"><path class=\"xgrid crisp\" transform=\"translate(208.13,0)\" d=\"M0,60v260\" style=\"stroke: rgb(255, 255, 255); stroke-opacity: 1; stroke-width: 1px;\"/><path class=\"xgrid crisp\" transform=\"translate(336.26,0)\" d=\"M0,60v260\" style=\"stroke: rgb(255, 255, 255); stroke-opacity: 1; stroke-width: 1px;\"/><path class=\"xgrid crisp\" transform=\"translate(464.38,0)\" d=\"M0,60v260\" style=\"stroke: rgb(255, 255, 255); stroke-opacity: 1; stroke-width: 1px;\"/><path class=\"xgrid crisp\" transform=\"translate(592.51,0)\" d=\"M0,60v260\" style=\"stroke: rgb(255, 255, 255); stroke-opacity: 1; stroke-width: 1px;\"/></g><g class=\"y\"><path class=\"ygrid crisp\" transform=\"translate(0,312.18)\" d=\"M80,0h640\" style=\"stroke: rgb(255, 255, 255); stroke-opacity: 1; stroke-width: 1px;\"/><path class=\"ygrid crisp\" transform=\"translate(0,272.14)\" d=\"M80,0h640\" style=\"stroke: rgb(255, 255, 255); stroke-opacity: 1; stroke-width: 1px;\"/><path class=\"ygrid crisp\" transform=\"translate(0,232.1)\" d=\"M80,0h640\" style=\"stroke: rgb(255, 255, 255); stroke-opacity: 1; stroke-width: 1px;\"/><path class=\"ygrid crisp\" transform=\"translate(0,192.07)\" d=\"M80,0h640\" style=\"stroke: rgb(255, 255, 255); stroke-opacity: 1; stroke-width: 1px;\"/><path class=\"ygrid crisp\" transform=\"translate(0,152.03)\" d=\"M80,0h640\" style=\"stroke: rgb(255, 255, 255); stroke-opacity: 1; stroke-width: 1px;\"/><path class=\"ygrid crisp\" transform=\"translate(0,111.99000000000001)\" d=\"M80,0h640\" style=\"stroke: rgb(255, 255, 255); stroke-opacity: 1; stroke-width: 1px;\"/><path class=\"ygrid crisp\" transform=\"translate(0,71.95)\" d=\"M80,0h640\" style=\"stroke: rgb(255, 255, 255); stroke-opacity: 1; stroke-width: 1px;\"/></g></g><g class=\"zerolinelayer\"><path class=\"xzl zl crisp\" transform=\"translate(80,0)\" d=\"M0,60v260\" style=\"stroke: rgb(255, 255, 255); stroke-opacity: 1; stroke-width: 2px;\"/></g><path class=\"xlines-below\"/><path class=\"ylines-below\"/><g class=\"overlines-below\"/><g class=\"xaxislayer-below\"/><g class=\"yaxislayer-below\"/><g class=\"overaxes-below\"/><g class=\"plot\" transform=\"translate(80,60)\" clip-path=\"url(#clipb5579fxyplot)\"><g class=\"scatterlayer mlayer\"><g class=\"trace scatter tracec894d3\" style=\"stroke-miterlimit: 2; opacity: 1;\"><g class=\"fills\"/><g class=\"errorbars\"/><g class=\"lines\"><path class=\"js-line\" d=\"M0,247L26.27,247L26.91,246.03L36.52,246.03L37.16,245.07L45.49,245.07L46.13,244.11L47.41,243.15L48.05,243.15L49.97,241.25L50.61,241.25L51.25,241.25L51.89,240.3L57.02,240.3L57.66,238.42L60.22,235.61L60.86,235.81L62.14,234.88L62.78,232.11L64.7,230.49L65.35,230.49L65.99,230.49L66.63,228.89L67.27,227.99L67.91,225.3L69.19,224.41L69.83,221.97L71.75,214.63L72.39,213.78L75.6,201.53L76.24,200.98L78.8,183.95L79.44,181.21L80.08,180.45L80.72,178.05L81.36,175.39L82,163.5L83.28,160.01L83.92,153.16L84.56,152.13L85.21,148.78L85.85,149.11L86.49,146.46L87.77,143.21L88.41,143.21L90.97,139.04L91.61,134.33L92.89,131.83L93.53,127.87L96.74,118.37L97.38,117.78L98.66,112.68L99.3,110.38L101.22,106.78L101.86,106.78L102.5,102.29L103.14,102.67L103.78,102.67L104.42,102.67L105.07,101.38L106.35,97.21L106.99,95.97L108.27,93.28L108.91,93.28L111.47,90.46L112.11,88.87L114.67,86.77L115.32,85.19L115.96,84.67L116.6,82.59L119.8,77.84L120.44,74.28L121.72,70.16L122.36,70.57L123,70.07L123.64,67.09L124.92,67L125.57,65.53L126.85,63.07L127.49,63.49L128.77,62.36L129.41,61.88L131.97,61.88L132.61,60.91L135.82,58.43L136.46,57.48L138.38,56.4L139.02,56.4L140.94,56.82L141.58,56.29L144.14,55.76L144.78,55.29L146.07,55.66L146.71,54.72L147.99,54.72L148.63,53.26L150.55,53.17L151.19,52.24L152.47,52.2L153.11,51.27L155.04,46.65L155.68,46.65L157.6,43.41L158.24,42.95L159.52,41.56L160.16,40.2L162.08,39.74L162.72,39.29L163.36,39.27L164,37.92L166.57,36.99L167.21,36.99L172.97,33.83L173.61,33.83L177.46,33.82L178.1,32.49L180.02,30.27L180.66,30.27L183.86,29.83L184.5,29.39L188.35,27.2L188.99,27.64L192.83,27.67L193.47,26.79L194.75,27.24L195.4,26.81L199.24,25.07L199.88,25.07L201.16,25.53L201.8,26.43L202.44,26.43L203.08,25.56L206.29,25.58L206.93,24.71L210.77,24.28L211.41,23.84L212.69,23.41L213.33,22.97L213.97,22.97L214.61,23.89L218.46,21.29L219.1,21.75L223.58,21.37L224.22,20.94L228.71,20.53L229.35,20.1L234.47,19.67L235.12,19.24L236.4,18.38L237.04,17.95L238.96,17.52L239.6,17.98L241.52,17.55L242.16,17.55L242.8,17.55L243.44,16.69L244.72,16.26L245.37,16.73L249.21,16.3L249.85,15.87L262.66,15.94L263.3,16.41L270.35,16.52L270.99,16.99L272.27,16.56L272.91,15.71L274.19,16.65L274.83,16.65L281.88,16.27L282.52,15.84L283.8,14.99L284.44,15.46L290.21,15.03L290.85,14.61L294.69,15.13L295.34,15.6L296.62,15.6L297.26,14.32L298.54,13.47L299.18,13.47L302.38,14L303.02,14.48L306.23,14.11L306.87,13.68L308.15,14.16L308.79,13.74L313.27,14.27L313.91,13.42L319.04,13.48L319.68,13.97L323.52,14.09L324.16,14.57L326.09,15.54L326.73,15.54L327.37,15.54L328.01,14.7L331.85,14.76L332.49,14.34L333.77,13.49L334.41,13.07L336.98,14.61L337.62,14.61L339.54,15.67L340.18,15.74L341.46,15.4L342.1,15.4L343.38,15.4L344.02,16.47L345.31,16.05L345.95,17.05L346.59,17.05L347.23,19.56L349.79,19.15L350.43,18.73L353.63,19.23L354.27,19.74L354.91,19.74L355.56,20.52L358.76,22.57L359.4,22.57L360.68,22.16L361.32,22.25L363.24,23.91L363.88,23.91L368.37,23.49L369.01,23.08L370.93,22.25L371.57,22.77L373.49,22.36L374.13,21.94L376.7,23.51L377.34,23.51L379.26,23.51L379.9,22.68L384.38,22.79L385.03,23.32L387.59,22.49L388.23,22.49L389.51,21.89L390.15,21.89L390.79,22.96L391.43,22.55L395.92,22.25L396.56,21.84L399.76,21.55L400.4,21.13L401.68,21.67L402.32,22.21L407.45,22.75L408.09,23.3L409.37,23.43L410.01,22.6L418.98,23.14L419.62,23.69L422.82,24.24L423.46,25.35L424.74,25.91L425.39,25.91L428.59,26.62L429.23,27.18L429.87,27.33L430.51,28.46L431.15,28.05L431.79,28.62L432.43,28.21L433.07,28.78L434.35,28.53L434.99,29.1L437.56,28.69L438.2,28.28L442.04,28.85L442.68,29.6L443.96,30.18L444.6,30.93L445.25,30.12L445.89,30.7L447.81,31.88L448.45,31.88L453.57,36.03L454.21,36.03L455.5,36.83L456.14,36.83L457.42,38.64L458.06,39.86L461.9,40.07L462.54,40.28L464.46,41.51L465.11,41.51L468.31,41.74L468.95,42.36L472.79,42.98L473.43,43.6L476.64,46.75L477.28,46.75L479.2,46.99L479.84,48.91L483.68,48.77L484.32,49.42L486.25,50.07L486.89,51.37L488.17,52.02L488.81,52.68L490.73,55.32L491.37,55.99L492.65,56.65L493.29,57.32L494.57,57.99L495.22,57.99L496.5,58.67L497.14,58.67L498.42,59.34L499.06,60.7L501.62,62.75L502.26,62.75L506.11,66.92L506.75,66.92L512.51,72.6L513.15,72.24L514.43,75.15L515.08,75.15L516.36,75.88L517,75.88L520.84,75.88L521.48,77.35L522.76,78.09L523.4,78.09L524.04,77.74L524.68,78.48L528.53,86.07L529.17,86.07L530.45,86.07L531.09,88.4L532.37,88.4L533.01,89.18L533.65,89.18L534.29,89.96L535.58,90.75L536.22,90.75L538.14,90.75L538.78,91.54L539.42,91.54L540.06,92.34L540.7,92.34L541.34,94.74L545.19,99.63L545.83,99.63L547.11,99.63L547.75,101.28L550.31,104.64L550.95,104.64L556.08,110.63L556.72,110.63L559.28,114.14L559.92,114.14L561.84,114.14L562.48,115.03L563.12,115.03L563.76,115.92L568.25,121.34L568.89,121.34L570.81,121.07L571.45,122.92L572.73,123.84L573.37,123.84L574.01,123.84L574.65,124.78L575.94,125.71L576.58,125.71L578.5,125.71L579.14,126.65L580.42,126.65L581.06,128.55L583.62,131.42L584.26,131.42L586.19,133.36L586.83,133.36L591.31,133.36L591.95,134.34L594.51,137.29L595.16,137.29L595.8,137.29L596.44,138.06L600.28,138.06L600.92,139.06L603.48,139.06L604.12,140.07L605.41,141.08L606.05,141.08L608.61,141.08L609.25,142.1L615.66,142.1L616.3,143.12L629.11,143.12L629.75,144.15L640,144.15\" style=\"vector-effect: non-scaling-stroke; fill: none; stroke: rgb(99, 110, 250); stroke-opacity: 1; stroke-width: 2px; opacity: 1;\"/></g><g class=\"points\"/><g class=\"text\"/></g></g></g><g class=\"overplot\"/><path class=\"xlines-above crisp\" d=\"M0,0\" style=\"fill: none;\"/><path class=\"ylines-above crisp\" d=\"M0,0\" style=\"fill: none;\"/><g class=\"overlines-above\"/><g class=\"xaxislayer-above\"><g class=\"xtick\"><text text-anchor=\"middle\" x=\"0\" y=\"333\" transform=\"translate(80,0)\" style=\"font-family: 'Open Sans', verdana, arial, sans-serif; font-size: 12px; fill: rgb(42, 63, 95); fill-opacity: 1; white-space: pre; opacity: 1;\">0</text></g><g class=\"xtick\"><text text-anchor=\"middle\" x=\"0\" y=\"333\" style=\"font-family: 'Open Sans', verdana, arial, sans-serif; font-size: 12px; fill: rgb(42, 63, 95); fill-opacity: 1; white-space: pre; opacity: 1;\" transform=\"translate(208.13,0)\">0.2</text></g><g class=\"xtick\"><text text-anchor=\"middle\" x=\"0\" y=\"333\" style=\"font-family: 'Open Sans', verdana, arial, sans-serif; font-size: 12px; fill: rgb(42, 63, 95); fill-opacity: 1; white-space: pre; opacity: 1;\" transform=\"translate(336.26,0)\">0.4</text></g><g class=\"xtick\"><text text-anchor=\"middle\" x=\"0\" y=\"333\" style=\"font-family: 'Open Sans', verdana, arial, sans-serif; font-size: 12px; fill: rgb(42, 63, 95); fill-opacity: 1; white-space: pre; opacity: 1;\" transform=\"translate(464.38,0)\">0.6</text></g><g class=\"xtick\"><text text-anchor=\"middle\" x=\"0\" y=\"333\" style=\"font-family: 'Open Sans', verdana, arial, sans-serif; font-size: 12px; fill: rgb(42, 63, 95); fill-opacity: 1; white-space: pre; opacity: 1;\" transform=\"translate(592.51,0)\">0.8</text></g></g><g class=\"yaxislayer-above\"><g class=\"ytick\"><text text-anchor=\"end\" x=\"79\" y=\"4.199999999999999\" transform=\"translate(0,312.18)\" style=\"font-family: 'Open Sans', verdana, arial, sans-serif; font-size: 12px; fill: rgb(42, 63, 95); fill-opacity: 1; white-space: pre; opacity: 1;\">0.2</text></g><g class=\"ytick\"><text text-anchor=\"end\" x=\"79\" y=\"4.199999999999999\" style=\"font-family: 'Open Sans', verdana, arial, sans-serif; font-size: 12px; fill: rgb(42, 63, 95); fill-opacity: 1; white-space: pre; opacity: 1;\" transform=\"translate(0,272.14)\">0.3</text></g><g class=\"ytick\"><text text-anchor=\"end\" x=\"79\" y=\"4.199999999999999\" style=\"font-family: 'Open Sans', verdana, arial, sans-serif; font-size: 12px; fill: rgb(42, 63, 95); fill-opacity: 1; white-space: pre; opacity: 1;\" transform=\"translate(0,232.1)\">0.4</text></g><g class=\"ytick\"><text text-anchor=\"end\" x=\"79\" y=\"4.199999999999999\" style=\"font-family: 'Open Sans', verdana, arial, sans-serif; font-size: 12px; fill: rgb(42, 63, 95); fill-opacity: 1; white-space: pre; opacity: 1;\" transform=\"translate(0,192.07)\">0.5</text></g><g class=\"ytick\"><text text-anchor=\"end\" x=\"79\" y=\"4.199999999999999\" style=\"font-family: 'Open Sans', verdana, arial, sans-serif; font-size: 12px; fill: rgb(42, 63, 95); fill-opacity: 1; white-space: pre; opacity: 1;\" transform=\"translate(0,152.03)\">0.6</text></g><g class=\"ytick\"><text text-anchor=\"end\" x=\"79\" y=\"4.199999999999999\" style=\"font-family: 'Open Sans', verdana, arial, sans-serif; font-size: 12px; fill: rgb(42, 63, 95); fill-opacity: 1; white-space: pre; opacity: 1;\" transform=\"translate(0,111.99000000000001)\">0.7</text></g><g class=\"ytick\"><text text-anchor=\"end\" x=\"79\" y=\"4.199999999999999\" style=\"font-family: 'Open Sans', verdana, arial, sans-serif; font-size: 12px; fill: rgb(42, 63, 95); fill-opacity: 1; white-space: pre; opacity: 1;\" transform=\"translate(0,71.95)\">0.8</text></g></g><g class=\"overaxes-above\"/></g></g><g class=\"polarlayer\"/><g class=\"smithlayer\"/><g class=\"ternarylayer\"/><g class=\"geolayer\"/><g class=\"funnelarealayer\"/><g class=\"pielayer\"/><g class=\"iciclelayer\"/><g class=\"treemaplayer\"/><g class=\"sunburstlayer\"/><g class=\"glimages\"/><defs id=\"topdefs-b5579f\"><g class=\"clips\"/></defs><g class=\"layer-above\"><g class=\"imagelayer\"/><g class=\"shapelayer\"><path data-index=\"0\" fill-rule=\"evenodd\" d=\"M396.48,320L396.48,60\" clip-path=\"url(#clipb5579fx)\" style=\"opacity: 1; stroke: rgb(0, 0, 0); stroke-opacity: 1; fill: rgb(0, 0, 0); fill-opacity: 0; stroke-dasharray: 9px, 9px; stroke-width: 2px;\"/></g></g><g class=\"infolayer\"><g class=\"g-gtitle\"><text class=\"gtitle\" x=\"40\" y=\"30\" text-anchor=\"start\" dy=\"0em\" style=\"font-family: 'Arial Black'; font-size: 20px; fill: rgb(42, 63, 95); opacity: 1; font-weight: normal; white-space: pre;\">Threshold Manipulation for Logistic Regression</text></g><g class=\"g-xtitle\"><text class=\"xtitle\" x=\"400\" y=\"360.8\" text-anchor=\"middle\" style=\"font-family: 'Open Sans', verdana, arial, sans-serif; font-size: 14px; fill: rgb(42, 63, 95); opacity: 1; font-weight: normal; white-space: pre;\">Thresholds</text></g><g class=\"g-ytitle\"><text class=\"ytitle\" transform=\"rotate(-90,34.575,190)\" x=\"34.575\" y=\"190\" text-anchor=\"middle\" style=\"font-family: 'Open Sans', verdana, arial, sans-serif; font-size: 14px; fill: rgb(42, 63, 95); opacity: 1; font-weight: normal; white-space: pre;\">f1_score</text></g></g></svg>"
      ]
     },
     "metadata": {},
     "output_type": "display_data"
    }
   ],
   "source": [
    "plot_functions.threshold_manipulation(pcaLR, y, LogisticRegression(max_iter=5000, C=1.0, penalty='elasticnet', \n",
    "                                                    solver='saga', l1_ratio=0.90), \"Logistic Regression\")"
   ]
  },
  {
   "cell_type": "markdown",
   "id": "0a575987",
   "metadata": {},
   "source": [
    "**C.2: Gradient Boosting Classifier Optimal Threshold**<br>\n",
    "The next step is to repeat the process for our Gradient Boosting Classifier."
   ]
  },
  {
   "cell_type": "code",
   "execution_count": 13,
   "id": "13a203dd",
   "metadata": {},
   "outputs": [
    {
     "name": "stdout",
     "output_type": "stream",
     "text": [
      "Threshold=0.440, F-Score=0.80113\n"
     ]
    },
    {
     "data": {
      "image/svg+xml": [
       "<svg class=\"main-svg\" xmlns=\"http://www.w3.org/2000/svg\" xmlns:xlink=\"http://www.w3.org/1999/xlink\" width=\"800\" height=\"400\" style=\"\" viewBox=\"0 0 800 400\"><rect x=\"0\" y=\"0\" width=\"800\" height=\"400\" style=\"fill: rgb(255, 255, 255); fill-opacity: 1;\"/><defs id=\"defs-f35d58\"><g class=\"clips\"><clipPath id=\"clipf35d58xyplot\" class=\"plotclip\"><rect width=\"640\" height=\"260\"/></clipPath><clipPath class=\"axesclip\" id=\"clipf35d58x\"><rect x=\"80\" y=\"0\" width=\"640\" height=\"400\"/></clipPath><clipPath class=\"axesclip\" id=\"clipf35d58y\"><rect x=\"0\" y=\"60\" width=\"800\" height=\"260\"/></clipPath><clipPath class=\"axesclip\" id=\"clipf35d58xy\"><rect x=\"80\" y=\"60\" width=\"640\" height=\"260\"/></clipPath></g><g class=\"gradients\"/><g class=\"patterns\"/></defs><g class=\"bglayer\"><rect class=\"bg\" x=\"80\" y=\"60\" width=\"640\" height=\"260\" style=\"fill: rgb(248, 248, 246); fill-opacity: 1; stroke-width: 0;\"/></g><g class=\"layer-below\"><g class=\"imagelayer\"/><g class=\"shapelayer\"/></g><g class=\"cartesianlayer\"><g class=\"subplot xy\"><g class=\"layer-subplot\"><g class=\"shapelayer\"/><g class=\"imagelayer\"/></g><g class=\"minor-gridlayer\"><g class=\"x\"/><g class=\"y\"/></g><g class=\"gridlayer\"><g class=\"x\"><path class=\"xgrid crisp\" transform=\"translate(208.13,0)\" d=\"M0,60v260\" style=\"stroke: rgb(255, 255, 255); stroke-opacity: 1; stroke-width: 1px;\"/><path class=\"xgrid crisp\" transform=\"translate(336.26,0)\" d=\"M0,60v260\" style=\"stroke: rgb(255, 255, 255); stroke-opacity: 1; stroke-width: 1px;\"/><path class=\"xgrid crisp\" transform=\"translate(464.38,0)\" d=\"M0,60v260\" style=\"stroke: rgb(255, 255, 255); stroke-opacity: 1; stroke-width: 1px;\"/><path class=\"xgrid crisp\" transform=\"translate(592.51,0)\" d=\"M0,60v260\" style=\"stroke: rgb(255, 255, 255); stroke-opacity: 1; stroke-width: 1px;\"/></g><g class=\"y\"><path class=\"ygrid crisp\" transform=\"translate(0,312.14)\" d=\"M80,0h640\" style=\"stroke: rgb(255, 255, 255); stroke-opacity: 1; stroke-width: 1px;\"/><path class=\"ygrid crisp\" transform=\"translate(0,272.36)\" d=\"M80,0h640\" style=\"stroke: rgb(255, 255, 255); stroke-opacity: 1; stroke-width: 1px;\"/><path class=\"ygrid crisp\" transform=\"translate(0,232.58)\" d=\"M80,0h640\" style=\"stroke: rgb(255, 255, 255); stroke-opacity: 1; stroke-width: 1px;\"/><path class=\"ygrid crisp\" transform=\"translate(0,192.8)\" d=\"M80,0h640\" style=\"stroke: rgb(255, 255, 255); stroke-opacity: 1; stroke-width: 1px;\"/><path class=\"ygrid crisp\" transform=\"translate(0,153.01)\" d=\"M80,0h640\" style=\"stroke: rgb(255, 255, 255); stroke-opacity: 1; stroke-width: 1px;\"/><path class=\"ygrid crisp\" transform=\"translate(0,113.22999999999999)\" d=\"M80,0h640\" style=\"stroke: rgb(255, 255, 255); stroke-opacity: 1; stroke-width: 1px;\"/><path class=\"ygrid crisp\" transform=\"translate(0,73.45)\" d=\"M80,0h640\" style=\"stroke: rgb(255, 255, 255); stroke-opacity: 1; stroke-width: 1px;\"/></g></g><g class=\"zerolinelayer\"><path class=\"xzl zl crisp\" transform=\"translate(80,0)\" d=\"M0,60v260\" style=\"stroke: rgb(255, 255, 255); stroke-opacity: 1; stroke-width: 2px;\"/></g><path class=\"xlines-below\"/><path class=\"ylines-below\"/><g class=\"overlines-below\"/><g class=\"xaxislayer-below\"/><g class=\"yaxislayer-below\"/><g class=\"overaxes-below\"/><g class=\"plot\" transform=\"translate(80,60)\" clip-path=\"url(#clipf35d58xyplot)\"><g class=\"scatterlayer mlayer\"><g class=\"trace scatter trace59e3b8\" style=\"stroke-miterlimit: 2; opacity: 1;\"><g class=\"fills\"/><g class=\"errorbars\"/><g class=\"lines\"><path class=\"js-line\" d=\"M0,247L89.69,247L90.33,229.43L94.81,229.43L95.46,227.19L99.94,227.19L100.58,211.95L101.22,211.95L101.86,193.08L103.14,192.3L103.78,192.3L105.71,188.23L106.35,172.23L106.99,170.79L107.63,153.4L110.83,152.39L111.47,138.42L113.39,123.69L114.03,123.69L117.24,123.69L117.88,112.8L119.16,112.23L119.8,112.23L121.72,111.09L122.36,111.09L123,111.09L123.64,108.99L124.92,105.61L125.57,105.61L126.21,105.61L126.85,101.55L128.77,101.76L129.41,99.57L130.05,99.41L130.69,92.42L131.97,90.82L132.61,85.96L133.89,85.44L134.53,85.44L136.46,84.92L137.1,84.4L138.38,84.4L139.02,83.36L139.66,82.85L140.3,78.92L141.58,78.41L142.22,77.9L143.5,77.9L144.14,73.28L146.07,71.19L146.71,70.7L147.99,69.22L148.63,69.22L149.91,69.22L150.55,67.66L151.19,67.66L151.83,66.11L154.39,65.06L155.04,65.06L156.32,64.09L156.96,61.61L159.52,61.96L160.16,61L161.44,60.46L162.08,58.09L164,57.14L164.64,57.56L167.85,57.98L168.49,57.03L170.41,55.99L171.05,55.99L172.97,55.38L173.61,55.38L175.54,52.59L176.18,52.59L178.74,49.75L179.38,49.75L180.02,49.72L180.66,48.8L182.58,48.77L183.22,47.86L184.5,47.86L185.15,46.95L187.71,46.49L188.35,46.01L188.99,46.01L189.63,44.2L193.47,40.55L194.11,39.65L197.32,37.86L197.96,37.86L200.52,38.29L201.16,36.96L204.36,36.5L205.01,36.06L206.29,34.73L206.93,34.73L208.21,33.85L208.85,33.41L209.49,32.97L210.13,33.85L212.05,31.66L212.69,32.1L216.54,29.93L217.18,29.95L219.74,30L220.38,29.57L222.94,29.58L223.58,29.15L224.22,29.15L224.86,28.28L226.15,26.99L226.79,26.99L229.35,27.03L229.99,25.74L233.83,26.21L234.47,27.12L236.4,26.72L237.04,25.86L238.32,25.43L238.96,24.14L240.88,23.29L241.52,23.75L243.44,24.23L244.08,23.38L246.65,23.38L247.29,22.53L250.49,23.02L251.13,22.17L253.05,21.74L253.69,20.89L255.62,21L256.26,20.58L258.82,19.34L259.46,19.34L265.23,19.43L265.87,18.63L269.07,17.35L269.71,17.35L275.48,17.59L276.12,16.75L278.68,14.69L279.32,14.27L282.52,13L283.16,13L292.13,13.11L292.77,14.07L295.34,13.65L295.98,14.61L297.26,15.09L297.9,15.09L299.18,15.57L299.82,15.57L301.1,16.53L301.74,16.53L303.02,17.02L303.66,16.18L304.94,17.63L305.59,16.79L306.87,16.37L307.51,16.44L310.07,16.93L310.71,17.91L313.91,17.49L314.55,17.07L317.12,16.65L317.76,17.63L318.4,17.22L319.04,17.71L319.68,17.71L320.32,18.93L323.52,18.26L324.16,17.01L325.45,17.01L326.09,16.17L330.57,16.76L331.21,17.26L331.85,17.26L332.49,18.36L335.06,18.36L335.7,17.53L336.98,18.13L337.62,18.64L342.1,19.34L342.74,20.37L344.66,19.54L345.31,20.58L346.59,21.09L347.23,21.09L351.07,21.41L351.71,21.93L356.2,21.74L356.84,22.5L360.04,23.15L360.68,23.68L362.6,24.34L363.24,25.41L370.29,26.08L370.93,26.62L374.77,26.89L375.42,28.26L376.06,27.99L376.7,29.1L383.74,29.24L384.38,30.51L386.95,30.66L387.59,31.79L388.87,34.62L389.51,34.39L390.15,34.39L390.79,35.54L391.43,35.71L392.07,36.87L392.71,37.45L393.35,39.78L395.28,40.56L395.92,42.34L397.84,41.94L398.48,42.54L399.12,42.54L399.76,43.74L402.32,44.34L402.96,44.94L404.88,45.54L405.53,46.15L406.81,48.19L407.45,49.42L408.09,49.42L408.73,50.27L410.01,50.5L410.65,50.5L411.29,50.5L411.93,51.75L414.49,51.99L415.14,53.89L416.42,53.5L417.06,54.14L418.34,54.14L418.98,56.06L420.9,58.26L421.54,58.26L422.82,58.26L423.46,59.56L426.03,61.53L426.67,61.53L428.59,61.53L429.23,63.52L430.51,64.19L431.15,64.19L432.43,64.86L433.07,65.53L435.64,68.18L436.28,68.18L438.2,68.87L438.84,69.55L440.76,70.94L441.4,70.94L443.96,73.02L444.6,73.02L449.09,77.63L449.73,77.63L451.65,77.28L452.29,76.57L456.14,76.24L456.78,79.16L459.34,86.66L459.98,86.66L461.26,86.66L461.9,87.42L463.82,91.75L464.46,91.75L466.39,94.12L467.03,97.32L468.31,98.93L468.95,98.93L470.23,99.75L470.87,99.75L472.79,99.75L473.43,100.57L474.71,100.57L475.36,101.9L476.64,102.73L477.28,102.73L479.84,102.73L480.48,104.4L481.76,106.08L482.4,106.08L483.68,110.35L484.32,110.35L485.61,110.35L486.25,111.21L487.53,111.21L488.17,112.08L489.45,112.95L490.09,112.95L490.73,112.95L491.37,113.83L495.22,119.16L495.86,120.96L496.5,120.96L497.14,121.87L498.42,122.79L499.06,122.79L500.34,122.79L500.98,123.71L502.26,125.55L502.9,126.49L506.11,126.49L506.75,127.42L507.39,127.42L508.03,128.36L508.67,128.36L509.31,129.3L509.95,129.3L510.59,130.25L511.87,133.12L512.51,133.12L513.79,134.08L514.43,134.08L516.36,134.08L517,137.01L518.28,137.01L518.92,137.99L520.2,138.98L520.84,138.98L521.48,138.98L522.12,140.97L529.17,140.97L529.81,141.97L531.09,141.97L531.73,143.99L542.62,143.78L543.26,144.8L640,144.8\" style=\"vector-effect: non-scaling-stroke; fill: none; stroke: rgb(99, 110, 250); stroke-opacity: 1; stroke-width: 2px; opacity: 1;\"/></g><g class=\"points\"/><g class=\"text\"/></g></g></g><g class=\"overplot\"/><path class=\"xlines-above crisp\" d=\"M0,0\" style=\"fill: none;\"/><path class=\"ylines-above crisp\" d=\"M0,0\" style=\"fill: none;\"/><g class=\"overlines-above\"/><g class=\"xaxislayer-above\"><g class=\"xtick\"><text text-anchor=\"middle\" x=\"0\" y=\"333\" transform=\"translate(80,0)\" style=\"font-family: 'Open Sans', verdana, arial, sans-serif; font-size: 12px; fill: rgb(42, 63, 95); fill-opacity: 1; white-space: pre; opacity: 1;\">0</text></g><g class=\"xtick\"><text text-anchor=\"middle\" x=\"0\" y=\"333\" style=\"font-family: 'Open Sans', verdana, arial, sans-serif; font-size: 12px; fill: rgb(42, 63, 95); fill-opacity: 1; white-space: pre; opacity: 1;\" transform=\"translate(208.13,0)\">0.2</text></g><g class=\"xtick\"><text text-anchor=\"middle\" x=\"0\" y=\"333\" style=\"font-family: 'Open Sans', verdana, arial, sans-serif; font-size: 12px; fill: rgb(42, 63, 95); fill-opacity: 1; white-space: pre; opacity: 1;\" transform=\"translate(336.26,0)\">0.4</text></g><g class=\"xtick\"><text text-anchor=\"middle\" x=\"0\" y=\"333\" style=\"font-family: 'Open Sans', verdana, arial, sans-serif; font-size: 12px; fill: rgb(42, 63, 95); fill-opacity: 1; white-space: pre; opacity: 1;\" transform=\"translate(464.38,0)\">0.6</text></g><g class=\"xtick\"><text text-anchor=\"middle\" x=\"0\" y=\"333\" style=\"font-family: 'Open Sans', verdana, arial, sans-serif; font-size: 12px; fill: rgb(42, 63, 95); fill-opacity: 1; white-space: pre; opacity: 1;\" transform=\"translate(592.51,0)\">0.8</text></g></g><g class=\"yaxislayer-above\"><g class=\"ytick\"><text text-anchor=\"end\" x=\"79\" y=\"4.199999999999999\" transform=\"translate(0,312.14)\" style=\"font-family: 'Open Sans', verdana, arial, sans-serif; font-size: 12px; fill: rgb(42, 63, 95); fill-opacity: 1; white-space: pre; opacity: 1;\">0.2</text></g><g class=\"ytick\"><text text-anchor=\"end\" x=\"79\" y=\"4.199999999999999\" style=\"font-family: 'Open Sans', verdana, arial, sans-serif; font-size: 12px; fill: rgb(42, 63, 95); fill-opacity: 1; white-space: pre; opacity: 1;\" transform=\"translate(0,272.36)\">0.3</text></g><g class=\"ytick\"><text text-anchor=\"end\" x=\"79\" y=\"4.199999999999999\" style=\"font-family: 'Open Sans', verdana, arial, sans-serif; font-size: 12px; fill: rgb(42, 63, 95); fill-opacity: 1; white-space: pre; opacity: 1;\" transform=\"translate(0,232.58)\">0.4</text></g><g class=\"ytick\"><text text-anchor=\"end\" x=\"79\" y=\"4.199999999999999\" style=\"font-family: 'Open Sans', verdana, arial, sans-serif; font-size: 12px; fill: rgb(42, 63, 95); fill-opacity: 1; white-space: pre; opacity: 1;\" transform=\"translate(0,192.8)\">0.5</text></g><g class=\"ytick\"><text text-anchor=\"end\" x=\"79\" y=\"4.199999999999999\" style=\"font-family: 'Open Sans', verdana, arial, sans-serif; font-size: 12px; fill: rgb(42, 63, 95); fill-opacity: 1; white-space: pre; opacity: 1;\" transform=\"translate(0,153.01)\">0.6</text></g><g class=\"ytick\"><text text-anchor=\"end\" x=\"79\" y=\"4.199999999999999\" style=\"font-family: 'Open Sans', verdana, arial, sans-serif; font-size: 12px; fill: rgb(42, 63, 95); fill-opacity: 1; white-space: pre; opacity: 1;\" transform=\"translate(0,113.22999999999999)\">0.7</text></g><g class=\"ytick\"><text text-anchor=\"end\" x=\"79\" y=\"4.199999999999999\" style=\"font-family: 'Open Sans', verdana, arial, sans-serif; font-size: 12px; fill: rgb(42, 63, 95); fill-opacity: 1; white-space: pre; opacity: 1;\" transform=\"translate(0,73.45)\">0.8</text></g></g><g class=\"overaxes-above\"/></g></g><g class=\"polarlayer\"/><g class=\"smithlayer\"/><g class=\"ternarylayer\"/><g class=\"geolayer\"/><g class=\"funnelarealayer\"/><g class=\"pielayer\"/><g class=\"iciclelayer\"/><g class=\"treemaplayer\"/><g class=\"sunburstlayer\"/><g class=\"glimages\"/><defs id=\"topdefs-f35d58\"><g class=\"clips\"/></defs><g class=\"layer-above\"><g class=\"imagelayer\"/><g class=\"shapelayer\"><path data-index=\"0\" fill-rule=\"evenodd\" d=\"M361.88,320L361.88,60\" clip-path=\"url(#clipf35d58x)\" style=\"opacity: 1; stroke: rgb(0, 0, 0); stroke-opacity: 1; fill: rgb(0, 0, 0); fill-opacity: 0; stroke-dasharray: 9px, 9px; stroke-width: 2px;\"/></g></g><g class=\"infolayer\"><g class=\"g-gtitle\"><text class=\"gtitle\" x=\"40\" y=\"30\" text-anchor=\"start\" dy=\"0em\" style=\"font-family: 'Arial Black'; font-size: 20px; fill: rgb(42, 63, 95); opacity: 1; font-weight: normal; white-space: pre;\">Threshold Manipulation for Gradient Boosting Classifier</text></g><g class=\"g-xtitle\"><text class=\"xtitle\" x=\"400\" y=\"360.8\" text-anchor=\"middle\" style=\"font-family: 'Open Sans', verdana, arial, sans-serif; font-size: 14px; fill: rgb(42, 63, 95); opacity: 1; font-weight: normal; white-space: pre;\">Thresholds</text></g><g class=\"g-ytitle\"><text class=\"ytitle\" transform=\"rotate(-90,34.575,190)\" x=\"34.575\" y=\"190\" text-anchor=\"middle\" style=\"font-family: 'Open Sans', verdana, arial, sans-serif; font-size: 14px; fill: rgb(42, 63, 95); opacity: 1; font-weight: normal; white-space: pre;\">f1_score</text></g></g></svg>"
      ]
     },
     "metadata": {},
     "output_type": "display_data"
    }
   ],
   "source": [
    "plot_functions.threshold_manipulation(pcaGBC, y, GradientBoostingClassifier(learning_rate=0.1, max_depth=2, min_samples_split=30,\n",
    "                                                            n_estimators=250, n_iter_no_change=20, validation_fraction=0.2, \n",
    "                                                            tol=2.5), \"Gradient Boosting Classifier\")"
   ]
  },
  {
   "cell_type": "markdown",
   "id": "70d166cd",
   "metadata": {},
   "source": [
    "**C.3: XGB Classifier Optimal Threshold**<br>\n",
    "Finally, testing our threshold function on our XGB Classifier."
   ]
  },
  {
   "cell_type": "code",
   "execution_count": 14,
   "id": "87b0ee35",
   "metadata": {
    "scrolled": false
   },
   "outputs": [
    {
     "name": "stdout",
     "output_type": "stream",
     "text": [
      "Threshold=0.501, F-Score=0.82052\n"
     ]
    },
    {
     "data": {
      "image/svg+xml": [
       "<svg class=\"main-svg\" xmlns=\"http://www.w3.org/2000/svg\" xmlns:xlink=\"http://www.w3.org/1999/xlink\" width=\"800\" height=\"400\" style=\"\" viewBox=\"0 0 800 400\"><rect x=\"0\" y=\"0\" width=\"800\" height=\"400\" style=\"fill: rgb(255, 255, 255); fill-opacity: 1;\"/><defs id=\"defs-8c5973\"><g class=\"clips\"><clipPath id=\"clip8c5973xyplot\" class=\"plotclip\"><rect width=\"640\" height=\"260\"/></clipPath><clipPath class=\"axesclip\" id=\"clip8c5973x\"><rect x=\"80\" y=\"0\" width=\"640\" height=\"400\"/></clipPath><clipPath class=\"axesclip\" id=\"clip8c5973y\"><rect x=\"0\" y=\"60\" width=\"800\" height=\"260\"/></clipPath><clipPath class=\"axesclip\" id=\"clip8c5973xy\"><rect x=\"80\" y=\"60\" width=\"640\" height=\"260\"/></clipPath></g><g class=\"gradients\"/><g class=\"patterns\"/></defs><g class=\"bglayer\"><rect class=\"bg\" x=\"80\" y=\"60\" width=\"640\" height=\"260\" style=\"fill: rgb(248, 248, 246); fill-opacity: 1; stroke-width: 0;\"/></g><g class=\"layer-below\"><g class=\"imagelayer\"/><g class=\"shapelayer\"/></g><g class=\"cartesianlayer\"><g class=\"subplot xy\"><g class=\"layer-subplot\"><g class=\"shapelayer\"/><g class=\"imagelayer\"/></g><g class=\"minor-gridlayer\"><g class=\"x\"/><g class=\"y\"/></g><g class=\"gridlayer\"><g class=\"x\"><path class=\"xgrid crisp\" transform=\"translate(208.13,0)\" d=\"M0,60v260\" style=\"stroke: rgb(255, 255, 255); stroke-opacity: 1; stroke-width: 1px;\"/><path class=\"xgrid crisp\" transform=\"translate(336.26,0)\" d=\"M0,60v260\" style=\"stroke: rgb(255, 255, 255); stroke-opacity: 1; stroke-width: 1px;\"/><path class=\"xgrid crisp\" transform=\"translate(464.38,0)\" d=\"M0,60v260\" style=\"stroke: rgb(255, 255, 255); stroke-opacity: 1; stroke-width: 1px;\"/><path class=\"xgrid crisp\" transform=\"translate(592.51,0)\" d=\"M0,60v260\" style=\"stroke: rgb(255, 255, 255); stroke-opacity: 1; stroke-width: 1px;\"/></g><g class=\"y\"><path class=\"ygrid crisp\" transform=\"translate(0,311.98)\" d=\"M80,0h640\" style=\"stroke: rgb(255, 255, 255); stroke-opacity: 1; stroke-width: 1px;\"/><path class=\"ygrid crisp\" transform=\"translate(0,273.47)\" d=\"M80,0h640\" style=\"stroke: rgb(255, 255, 255); stroke-opacity: 1; stroke-width: 1px;\"/><path class=\"ygrid crisp\" transform=\"translate(0,234.95)\" d=\"M80,0h640\" style=\"stroke: rgb(255, 255, 255); stroke-opacity: 1; stroke-width: 1px;\"/><path class=\"ygrid crisp\" transform=\"translate(0,196.44)\" d=\"M80,0h640\" style=\"stroke: rgb(255, 255, 255); stroke-opacity: 1; stroke-width: 1px;\"/><path class=\"ygrid crisp\" transform=\"translate(0,157.93)\" d=\"M80,0h640\" style=\"stroke: rgb(255, 255, 255); stroke-opacity: 1; stroke-width: 1px;\"/><path class=\"ygrid crisp\" transform=\"translate(0,119.41)\" d=\"M80,0h640\" style=\"stroke: rgb(255, 255, 255); stroke-opacity: 1; stroke-width: 1px;\"/><path class=\"ygrid crisp\" transform=\"translate(0,80.9)\" d=\"M80,0h640\" style=\"stroke: rgb(255, 255, 255); stroke-opacity: 1; stroke-width: 1px;\"/></g></g><g class=\"zerolinelayer\"><path class=\"xzl zl crisp\" transform=\"translate(80,0)\" d=\"M0,60v260\" style=\"stroke: rgb(255, 255, 255); stroke-opacity: 1; stroke-width: 2px;\"/></g><path class=\"xlines-below\"/><path class=\"ylines-below\"/><g class=\"overlines-below\"/><g class=\"xaxislayer-below\"/><g class=\"yaxislayer-below\"/><g class=\"overaxes-below\"/><g class=\"plot\" transform=\"translate(80,60)\" clip-path=\"url(#clip8c5973xyplot)\"><g class=\"scatterlayer mlayer\"><g class=\"trace scatter trace4b18a9\" style=\"stroke-miterlimit: 2; opacity: 1;\"><g class=\"fills\"/><g class=\"errorbars\"/><g class=\"lines\"><path class=\"js-line\" d=\"M0,247L33.95,247L34.59,241.47L35.88,238.74L36.52,234.26L37.8,234.45L38.44,233.56L40.36,232.2L41,228.05L41.64,227.4L42.28,223.36L44.84,220.07L45.49,218.42L46.77,216.78L47.41,215.96L48.05,215.15L48.69,211.92L49.33,211.36L49.97,208.97L53.17,189.45L53.81,189.45L57.02,175.48L57.66,175.48L58.94,172.03L59.58,170.67L60.86,166.6L61.5,166.91L65.35,157.29L65.99,155.37L66.63,154.42L67.27,150.65L68.55,149.72L69.19,149.72L70.47,147.87L71.11,147.87L72.39,146.63L73.03,144.8L73.67,144.8L74.31,142.97L76.88,138.16L77.52,134.94L80.08,129.46L80.72,126.59L84.56,123.75L85.21,122.06L87.77,117.96L88.41,116.3L89.05,116.11L89.69,115.01L92.25,112.12L92.89,110.86L94.81,108.72L95.46,109.09L98.02,105.75L98.66,104.7L99.94,103.65L100.58,101.57L101.86,98.99L102.5,97.96L104.42,93.37L105.07,91.86L108.27,87.52L108.91,87.52L110.83,87.02L111.47,86.04L112.11,86.04L112.75,85.05L115.32,82.12L115.96,81.63L117.24,80.18L117.88,80.18L118.52,79.69L119.16,77.76L121.08,76.15L121.72,73.3L122.36,73.3L123,71.89L124.28,71.74L124.92,71.74L129.41,68.79L130.05,67.4L132.61,67.34L133.25,66.88L134.53,64.58L135.18,64.12L136.46,61.83L137.1,61.37L139.02,59.1L139.66,59.1L141.58,58.15L142.22,58.56L145.43,55.85L146.07,55.85L149.91,53.13L150.55,51.8L153.75,48.26L154.39,47.81L156.32,47.32L156.96,46.88L158.88,46.45L159.52,46.01L161.44,45.11L162.08,45.95L165.93,40.73L166.57,40.73L169.77,39L170.41,37.71L172.97,35.12L173.61,34.69L175.54,35.11L176.18,34.26L178.1,34.26L178.74,33.83L181.3,32.98L181.94,31.28L183.86,30.85L184.5,31.28L186.43,30.86L187.07,30.43L190.27,30.01L190.91,29.59L192.83,29.16L193.47,28.74L196.04,29.6L196.68,29.6L198.6,29.18L199.24,28.76L203.72,28.34L204.36,27.92L207.57,26.66L208.21,26.66L209.49,24.97L210.13,24.55L212.05,24.13L212.69,23.71L214.61,23.29L215.26,23.74L217.18,23.32L217.82,23.32L219.74,23.76L220.38,23.76L221.66,23.76L222.3,22.08L222.94,22.52L223.58,21.68L226.15,21.72L226.79,20.89L228.71,20.47L229.35,20.05L232.55,20.07L233.19,20.51L234.47,20.54L235.12,20.54L235.76,20.54L236.4,21.42L241.52,21.03L242.16,20.2L250.49,19.78L251.13,19.37L252.41,19.39L253.05,19.39L256.26,17.76L256.9,17.76L258.82,17.35L259.46,17.38L261.38,17L262.02,16.58L269.07,16.65L269.71,16.23L274.83,15.82L275.48,15.41L276.76,15.44L277.4,16.34L281.24,14.69L281.88,14.69L283.8,14.69L284.44,15.59L299.18,15.3L299.82,14.93L302.38,14.97L303.02,14.56L306.23,14.15L306.87,13.73L320.32,13.41L320.96,13L322.88,13.55L323.52,13.55L332.49,13.65L333.13,14.16L338.9,13.86L339.54,13.45L347.23,13.04L347.87,14.43L353.63,14.2L354.27,15.14L356.2,14.32L356.84,14.79L364.52,15.11L365.17,15.59L367.73,16.06L368.37,16.54L369.65,16.61L370.29,16.61L372.21,16.2L372.85,16.27L374.13,16.75L374.77,16.34L377.98,16.34L378.62,17.31L379.9,17.79L380.54,17.79L381.82,17.79L382.46,18.76L383.1,18.35L383.74,18.84L385.03,19.32L385.67,19.32L387.59,19.81L388.23,20.38L407.45,20.72L408.09,21.21L409.37,21.71L410.01,21.71L411.93,21.3L412.57,21.8L414.49,22.29L415.14,22.79L417.06,22.39L417.7,22.88L421.54,23.58L422.18,24.58L424.74,25.19L425.39,25.7L431.79,25.8L432.43,26.82L436.92,27.33L437.56,27.84L443.32,28.47L443.96,28.98L450.37,28.81L451.01,29.33L452.29,28.93L452.93,29.45L454.85,29.57L455.5,30.62L458.06,31.14L458.7,31.67L459.98,32.72L460.62,32.72L462.54,33.38L463.18,33.91L472.15,33.68L472.79,34.22L480.48,34.9L481.12,35.45L488.81,35.9L489.45,37L490.73,37.88L491.37,38.99L495.86,42.94L496.5,42.94L497.14,42.94L497.78,44.08L499.06,44.08L499.7,45.22L502.26,47.53L502.9,47.15L506.11,47.73L506.75,48.31L508.03,50.07L508.67,51.25L511.23,53.03L511.87,53.03L514.43,53.62L515.08,54.22L516.36,54.82L517,55.42L518.92,55.65L519.56,56.86L520.84,58.08L521.48,58.08L523.4,59.92L524.04,61.78L525.33,63.65L525.97,63.65L527.25,63.65L527.89,64.91L529.17,65.54L529.81,65.54L531.09,65.54L531.73,66.81L534.29,71.61L534.93,71.61L536.22,72.27L536.86,72.92L538.78,74.24L539.42,74.24L541.34,74.87L541.98,75.53L543.26,80.96L543.9,80.27L545.19,82.35L545.83,82.35L547.11,83.05L547.75,84.45L549.03,85.16L549.67,85.16L550.31,84.82L550.95,86.24L552.87,86.95L553.51,87.67L556.08,89.83L556.72,89.83L558,89.83L558.64,91.29L559.92,92.02L560.56,92.02L562.48,95.07L563.12,95.07L565.05,97.78L565.69,97.78L568.25,100.08L568.89,100.08L570.17,102.4L570.81,103.18L572.09,104.75L572.73,105.54L574.01,107.13L574.65,107.13L575.94,107.93L576.58,107.93L582.98,125.25L583.62,127.9L584.26,127.9L584.9,128.79L590.03,135.13L590.67,135.13L594.51,143.39L595.16,143.39L596.44,145.33L597.08,145.33L598.36,147.28L599,147.28L599.64,147.08L600.28,148.06L640,148.06\" style=\"vector-effect: non-scaling-stroke; fill: none; stroke: rgb(99, 110, 250); stroke-opacity: 1; stroke-width: 2px; opacity: 1;\"/></g><g class=\"points\"/><g class=\"text\"/></g></g></g><g class=\"overplot\"/><path class=\"xlines-above crisp\" d=\"M0,0\" style=\"fill: none;\"/><path class=\"ylines-above crisp\" d=\"M0,0\" style=\"fill: none;\"/><g class=\"overlines-above\"/><g class=\"xaxislayer-above\"><g class=\"xtick\"><text text-anchor=\"middle\" x=\"0\" y=\"333\" transform=\"translate(80,0)\" style=\"font-family: 'Open Sans', verdana, arial, sans-serif; font-size: 12px; fill: rgb(42, 63, 95); fill-opacity: 1; white-space: pre; opacity: 1;\">0</text></g><g class=\"xtick\"><text text-anchor=\"middle\" x=\"0\" y=\"333\" style=\"font-family: 'Open Sans', verdana, arial, sans-serif; font-size: 12px; fill: rgb(42, 63, 95); fill-opacity: 1; white-space: pre; opacity: 1;\" transform=\"translate(208.13,0)\">0.2</text></g><g class=\"xtick\"><text text-anchor=\"middle\" x=\"0\" y=\"333\" style=\"font-family: 'Open Sans', verdana, arial, sans-serif; font-size: 12px; fill: rgb(42, 63, 95); fill-opacity: 1; white-space: pre; opacity: 1;\" transform=\"translate(336.26,0)\">0.4</text></g><g class=\"xtick\"><text text-anchor=\"middle\" x=\"0\" y=\"333\" style=\"font-family: 'Open Sans', verdana, arial, sans-serif; font-size: 12px; fill: rgb(42, 63, 95); fill-opacity: 1; white-space: pre; opacity: 1;\" transform=\"translate(464.38,0)\">0.6</text></g><g class=\"xtick\"><text text-anchor=\"middle\" x=\"0\" y=\"333\" style=\"font-family: 'Open Sans', verdana, arial, sans-serif; font-size: 12px; fill: rgb(42, 63, 95); fill-opacity: 1; white-space: pre; opacity: 1;\" transform=\"translate(592.51,0)\">0.8</text></g></g><g class=\"yaxislayer-above\"><g class=\"ytick\"><text text-anchor=\"end\" x=\"79\" y=\"4.199999999999999\" transform=\"translate(0,311.98)\" style=\"font-family: 'Open Sans', verdana, arial, sans-serif; font-size: 12px; fill: rgb(42, 63, 95); fill-opacity: 1; white-space: pre; opacity: 1;\">0.2</text></g><g class=\"ytick\"><text text-anchor=\"end\" x=\"79\" y=\"4.199999999999999\" style=\"font-family: 'Open Sans', verdana, arial, sans-serif; font-size: 12px; fill: rgb(42, 63, 95); fill-opacity: 1; white-space: pre; opacity: 1;\" transform=\"translate(0,273.47)\">0.3</text></g><g class=\"ytick\"><text text-anchor=\"end\" x=\"79\" y=\"4.199999999999999\" style=\"font-family: 'Open Sans', verdana, arial, sans-serif; font-size: 12px; fill: rgb(42, 63, 95); fill-opacity: 1; white-space: pre; opacity: 1;\" transform=\"translate(0,234.95)\">0.4</text></g><g class=\"ytick\"><text text-anchor=\"end\" x=\"79\" y=\"4.199999999999999\" style=\"font-family: 'Open Sans', verdana, arial, sans-serif; font-size: 12px; fill: rgb(42, 63, 95); fill-opacity: 1; white-space: pre; opacity: 1;\" transform=\"translate(0,196.44)\">0.5</text></g><g class=\"ytick\"><text text-anchor=\"end\" x=\"79\" y=\"4.199999999999999\" style=\"font-family: 'Open Sans', verdana, arial, sans-serif; font-size: 12px; fill: rgb(42, 63, 95); fill-opacity: 1; white-space: pre; opacity: 1;\" transform=\"translate(0,157.93)\">0.6</text></g><g class=\"ytick\"><text text-anchor=\"end\" x=\"79\" y=\"4.199999999999999\" style=\"font-family: 'Open Sans', verdana, arial, sans-serif; font-size: 12px; fill: rgb(42, 63, 95); fill-opacity: 1; white-space: pre; opacity: 1;\" transform=\"translate(0,119.41)\">0.7</text></g><g class=\"ytick\"><text text-anchor=\"end\" x=\"79\" y=\"4.199999999999999\" style=\"font-family: 'Open Sans', verdana, arial, sans-serif; font-size: 12px; fill: rgb(42, 63, 95); fill-opacity: 1; white-space: pre; opacity: 1;\" transform=\"translate(0,80.9)\">0.8</text></g></g><g class=\"overaxes-above\"/></g></g><g class=\"polarlayer\"/><g class=\"smithlayer\"/><g class=\"ternarylayer\"/><g class=\"geolayer\"/><g class=\"funnelarealayer\"/><g class=\"pielayer\"/><g class=\"iciclelayer\"/><g class=\"treemaplayer\"/><g class=\"sunburstlayer\"/><g class=\"glimages\"/><defs id=\"topdefs-8c5973\"><g class=\"clips\"/></defs><g class=\"layer-above\"><g class=\"imagelayer\"/><g class=\"shapelayer\"><path data-index=\"0\" fill-rule=\"evenodd\" d=\"M400.96,320L400.96,60\" clip-path=\"url(#clip8c5973x)\" style=\"opacity: 1; stroke: rgb(0, 0, 0); stroke-opacity: 1; fill: rgb(0, 0, 0); fill-opacity: 0; stroke-dasharray: 9px, 9px; stroke-width: 2px;\"/></g></g><g class=\"infolayer\"><g class=\"g-gtitle\"><text class=\"gtitle\" x=\"40\" y=\"30\" text-anchor=\"start\" dy=\"0em\" style=\"font-family: 'Arial Black'; font-size: 20px; fill: rgb(42, 63, 95); opacity: 1; font-weight: normal; white-space: pre;\">Threshold Manipulation for XGBClassifier</text></g><g class=\"g-xtitle\"><text class=\"xtitle\" x=\"400\" y=\"360.8\" text-anchor=\"middle\" style=\"font-family: 'Open Sans', verdana, arial, sans-serif; font-size: 14px; fill: rgb(42, 63, 95); opacity: 1; font-weight: normal; white-space: pre;\">Thresholds</text></g><g class=\"g-ytitle\"><text class=\"ytitle\" transform=\"rotate(-90,34.575,190)\" x=\"34.575\" y=\"190\" text-anchor=\"middle\" style=\"font-family: 'Open Sans', verdana, arial, sans-serif; font-size: 14px; fill: rgb(42, 63, 95); opacity: 1; font-weight: normal; white-space: pre;\">f1_score</text></g></g></svg>"
      ]
     },
     "metadata": {},
     "output_type": "display_data"
    }
   ],
   "source": [
    "plot_functions.threshold_manipulation(pcaXGB, y, XGBClassifier(learning_rate=0.01, \n",
    "                                 max_depth=20, min_child_weight=5, n_estimators= test.clf.best_ntree_limit), \n",
    "                                 \"XGBClassifier\") # Remember to set n_estimators to 312 from early stopping. "
   ]
  },
  {
   "cell_type": "markdown",
   "id": "f5dc8909",
   "metadata": {},
   "source": [
    "**C.4: Conclusion**<br>\n",
    "To sum up, we successfully regularized our regressor models through early stopping and managed to soften the impact of overfitting, whilst still retaining our strong validation performance. With all our models regularized and fitted with the best combination of hyperparameters and thresholds it is now time to truely test our algorithms on the holdout dataset, that we put aside from the beginning of the project."
   ]
  },
  {
   "cell_type": "markdown",
   "id": "a5649d16",
   "metadata": {},
   "source": [
    "&nbsp;"
   ]
  },
  {
   "cell_type": "markdown",
   "id": "f5f164da",
   "metadata": {},
   "source": [
    "| Model | Model Type | Regularized Hyperparameters |Threshold | \n",
    "|---------|---------|---------|---------|\n",
    "| **Logistic Regression** | PCA Data   |max_iter=5000, C=1.0, penalty='elasticnet', solver='saga', l1_ratio=0.90 |  0.494   |\n",
    "| **Gradient Boosting Classifier** | PCA Data |learning_rate=0.1, max_depth=2, min_samples_split=30, n_estimators=250, n_iter_no_change=20, <br>validation_fraction=0.2, tol=2.5 | 0.467   |\n",
    "| **XGB Classifier** | PCA Data | learning_rate=0.01, max_depth=20, min_child_weight=5, n_estimators=280 | 0.525   |"
   ]
  },
  {
   "cell_type": "markdown",
   "id": "918d3eda",
   "metadata": {},
   "source": [
    "&nbsp;"
   ]
  },
  {
   "cell_type": "markdown",
   "id": "e9d11ede",
   "metadata": {},
   "source": [
    "&nbsp;\n",
    "**Author:** Aaron Chew&nbsp;&nbsp;&nbsp;&nbsp;&nbsp;&nbsp; **|** &nbsp;&nbsp;&nbsp;&nbsp;&nbsp;&nbsp;**Date Published:** 11/08/2022 &nbsp;&nbsp;&nbsp;&nbsp;&nbsp;&nbsp;**|** &nbsp;&nbsp;&nbsp;&nbsp;&nbsp;&nbsp;**Email:** aaronsamuelchew@gmail.com &nbsp;&nbsp;&nbsp;&nbsp;&nbsp;&nbsp;**|**&nbsp;&nbsp;&nbsp;&nbsp;&nbsp;&nbsp; **GitHub:** https://github.com/aaron-chew  "
   ]
  }
 ],
 "metadata": {
  "kernelspec": {
   "display_name": "Python 3",
   "language": "python",
   "name": "python3"
  },
  "language_info": {
   "codemirror_mode": {
    "name": "ipython",
    "version": 3
   },
   "file_extension": ".py",
   "mimetype": "text/x-python",
   "name": "python",
   "nbconvert_exporter": "python",
   "pygments_lexer": "ipython3",
   "version": "3.7.4"
  }
 },
 "nbformat": 4,
 "nbformat_minor": 5
}
