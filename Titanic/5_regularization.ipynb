{
 "cells": [
  {
   "cell_type": "markdown",
   "id": "43498f14",
   "metadata": {},
   "source": [
    "&nbsp;"
   ]
  },
  {
   "cell_type": "markdown",
   "id": "f325f213",
   "metadata": {},
   "source": [
    "# 5. Regularization \n",
    "While training a machine learning model, the model can easily be overfitted or underfitted. \n",
    "To avoid this, we use regularization in machine learning to properly fit a model onto our test set. Overfitting occurs when the model learns too much detail and noise from the training data to the point when new data is exposed, the model will perform poorly on it. Regularization techniques help reduce the chance of overfitting by either adding penalties or stopping before the validation set's performance starts to decline. "
   ]
  },
  {
   "cell_type": "code",
   "execution_count": 1,
   "id": "ec1a8878",
   "metadata": {},
   "outputs": [],
   "source": [
    "# Standard libraries. \n",
    "import pandas as pd\n",
    "import numpy as np \n",
    "import os\n",
    "from plotly.subplots import make_subplots\n",
    "import plotly.graph_objects as go\n",
    "import plotly.express as px\n",
    "\n",
    "# Importing our functions. \n",
    "import functions\n",
    "import visuals\n",
    "\n",
    "# Importing chosen models. \n",
    "from sklearn.linear_model import LogisticRegression\n",
    "from xgboost import XGBClassifier\n",
    "from sklearn.ensemble import GradientBoostingClassifier\n",
    "\n",
    "# Importing transformers. \n",
    "from sklearn.decomposition import PCA\n",
    "\n",
    "# Converts plotly output into static images, so it can be viewed inside github repository. \n",
    "import plotly.io as pio\n",
    "pio.renderers.default = \"svg\""
   ]
  },
  {
   "cell_type": "code",
   "execution_count": 2,
   "id": "263a3b84",
   "metadata": {
    "scrolled": true
   },
   "outputs": [
    {
     "data": {
      "text/html": [
       "<div>\n",
       "<style scoped>\n",
       "    .dataframe tbody tr th:only-of-type {\n",
       "        vertical-align: middle;\n",
       "    }\n",
       "\n",
       "    .dataframe tbody tr th {\n",
       "        vertical-align: top;\n",
       "    }\n",
       "\n",
       "    .dataframe thead th {\n",
       "        text-align: right;\n",
       "    }\n",
       "</style>\n",
       "<table border=\"1\" class=\"dataframe\">\n",
       "  <thead>\n",
       "    <tr style=\"text-align: right;\">\n",
       "      <th></th>\n",
       "      <th>Pclass</th>\n",
       "      <th>Sex</th>\n",
       "      <th>Age</th>\n",
       "      <th>SibSp</th>\n",
       "      <th>Parch</th>\n",
       "      <th>Ticket</th>\n",
       "      <th>Fare</th>\n",
       "      <th>Embarked</th>\n",
       "      <th>Age Group</th>\n",
       "      <th>Martial Status</th>\n",
       "      <th>Survived</th>\n",
       "    </tr>\n",
       "    <tr>\n",
       "      <th>Name</th>\n",
       "      <th></th>\n",
       "      <th></th>\n",
       "      <th></th>\n",
       "      <th></th>\n",
       "      <th></th>\n",
       "      <th></th>\n",
       "      <th></th>\n",
       "      <th></th>\n",
       "      <th></th>\n",
       "      <th></th>\n",
       "      <th></th>\n",
       "    </tr>\n",
       "  </thead>\n",
       "  <tbody>\n",
       "    <tr>\n",
       "      <th>Braund, Mr. Owen Harris</th>\n",
       "      <td>3</td>\n",
       "      <td>male</td>\n",
       "      <td>22.0</td>\n",
       "      <td>1</td>\n",
       "      <td>0</td>\n",
       "      <td>A/5 21171</td>\n",
       "      <td>7.2500</td>\n",
       "      <td>S</td>\n",
       "      <td>young adult</td>\n",
       "      <td>Not Married</td>\n",
       "      <td>0</td>\n",
       "    </tr>\n",
       "    <tr>\n",
       "      <th>Cumings, Mrs. John Bradley (Florence Briggs Thayer)</th>\n",
       "      <td>1</td>\n",
       "      <td>female</td>\n",
       "      <td>38.0</td>\n",
       "      <td>1</td>\n",
       "      <td>0</td>\n",
       "      <td>PC 17599</td>\n",
       "      <td>71.2833</td>\n",
       "      <td>C</td>\n",
       "      <td>middle aged</td>\n",
       "      <td>Married</td>\n",
       "      <td>1</td>\n",
       "    </tr>\n",
       "  </tbody>\n",
       "</table>\n",
       "</div>"
      ],
      "text/plain": [
       "                                                    Pclass     Sex   Age  \\\n",
       "Name                                                                       \n",
       "Braund, Mr. Owen Harris                                  3    male  22.0   \n",
       "Cumings, Mrs. John Bradley (Florence Briggs Tha...       1  female  38.0   \n",
       "\n",
       "                                                    SibSp  Parch     Ticket  \\\n",
       "Name                                                                          \n",
       "Braund, Mr. Owen Harris                                 1      0  A/5 21171   \n",
       "Cumings, Mrs. John Bradley (Florence Briggs Tha...      1      0   PC 17599   \n",
       "\n",
       "                                                       Fare Embarked  \\\n",
       "Name                                                                   \n",
       "Braund, Mr. Owen Harris                              7.2500        S   \n",
       "Cumings, Mrs. John Bradley (Florence Briggs Tha...  71.2833        C   \n",
       "\n",
       "                                                      Age Group  \\\n",
       "Name                                                              \n",
       "Braund, Mr. Owen Harris                             young adult   \n",
       "Cumings, Mrs. John Bradley (Florence Briggs Tha...  middle aged   \n",
       "\n",
       "                                                   Martial Status  Survived  \n",
       "Name                                                                         \n",
       "Braund, Mr. Owen Harris                               Not Married         0  \n",
       "Cumings, Mrs. John Bradley (Florence Briggs Tha...        Married         1  "
      ]
     },
     "execution_count": 2,
     "metadata": {},
     "output_type": "execute_result"
    }
   ],
   "source": [
    "root = os.getcwd() # Setting root directory as cwd. \n",
    "df = pd.read_csv(r\"{}\\train_new_features.csv\".format(root)) # Importing the train set.\n",
    "processed = pd.read_csv(r\"{}\\train_processed.csv\".format(root))\n",
    "df.set_index(\"Name\", inplace=True)\n",
    "df.head(2)"
   ]
  },
  {
   "cell_type": "markdown",
   "id": "fdd3b656",
   "metadata": {},
   "source": [
    "&nbsp;"
   ]
  },
  {
   "cell_type": "markdown",
   "id": "8071e4c1",
   "metadata": {},
   "source": [
    "### Section A: Overfitting\n",
    "This section will focus on analyzing whether our classifiers overfitted on the training data. We want to avoid overfitting because if a model familiarises itself with the training data, it also inheirts its noise which would result in any predictions on unseen data to perform poorly. "
   ]
  },
  {
   "cell_type": "markdown",
   "id": "a408b380",
   "metadata": {},
   "source": [
    "**A.1: Logistic Regression**<br>\n",
    "Let's check if our Logistic Regression Classifier overfitted."
   ]
  },
  {
   "cell_type": "code",
   "execution_count": 3,
   "id": "a8e90538",
   "metadata": {},
   "outputs": [
    {
     "name": "stdout",
     "output_type": "stream",
     "text": [
      "Model scored an Train_F1_Score of: 0.82 and a Validation_F1_Score of: 0.80\n"
     ]
    }
   ],
   "source": [
    "# Splitting the data. \n",
    "X = processed.iloc[:,:-1]\n",
    "y = processed.iloc[:,-1]\n",
    "\n",
    "pca = PCA(n_components=20)\n",
    "pcaLR = pca.fit_transform(X)\n",
    "\n",
    "# Check if the model overfit. \n",
    "LR = functions.model_evaluation()\n",
    "# Checking if our hypertuned models overfited. \n",
    "LR.overfitting_checker(pcaLR, y, LogisticRegression(max_iter=1000, C=1.0))"
   ]
  },
  {
   "cell_type": "markdown",
   "id": "9a3760bf",
   "metadata": {},
   "source": [
    "**A.2: Gradient Boosting Classifier**<br>\n",
    "The next step is to check whether our Gradient Boosting Classifier overfitted or not. "
   ]
  },
  {
   "cell_type": "code",
   "execution_count": 4,
   "id": "ed978c69",
   "metadata": {},
   "outputs": [
    {
     "name": "stdout",
     "output_type": "stream",
     "text": [
      "Model scored an Train_F1_Score of: 0.93 and a Validation_F1_Score of: 0.82\n"
     ]
    }
   ],
   "source": [
    "pca = PCA(n_components=17)\n",
    "pcaGBC = pca.fit_transform(X)\n",
    "\n",
    "# Check if the model overfit. \n",
    "GBC = functions.model_evaluation()\n",
    "# Checking if our hypertuned models overfited. \n",
    "GBC.overfitting_checker(pcaGBC, y, GradientBoostingClassifier(learning_rate=0.1, max_depth=2, min_samples_split=30,\n",
    "                                                             n_estimators=250))"
   ]
  },
  {
   "cell_type": "markdown",
   "id": "30dad174",
   "metadata": {},
   "source": [
    "**A.3: XGB Classifier**<br>\n",
    "And finally, our XGB Classifier. "
   ]
  },
  {
   "cell_type": "code",
   "execution_count": 5,
   "id": "f8a1b38f",
   "metadata": {},
   "outputs": [
    {
     "name": "stdout",
     "output_type": "stream",
     "text": [
      "Model scored an Train_F1_Score of: 0.93 and a Validation_F1_Score of: 0.81\n"
     ]
    }
   ],
   "source": [
    "pca = PCA(n_components=19)\n",
    "pcaXGB = pca.fit_transform(X)\n",
    "\n",
    "# Check if the model overfit. \n",
    "XGB = functions.model_evaluation()\n",
    "# Checking if our hypertuned models overfited. \n",
    "XGB.overfitting_checker(pcaXGB, y, XGBClassifier(learning_rate=0.01, max_depth=20, min_child_weight=5, n_estimators=500))"
   ]
  },
  {
   "cell_type": "markdown",
   "id": "139becd1",
   "metadata": {},
   "source": [
    "* Based on our overfitting function, the only classifier to not overfit was the Logistic Regression. "
   ]
  },
  {
   "cell_type": "markdown",
   "id": "488475b6",
   "metadata": {},
   "source": [
    "| Model | Model Type | Train f1_score | Validation f1_score |\n",
    "|---------|---------|---------|---------|\n",
    "| **Logistic Regression** |  PCA Data | 82% |81% |\n",
    "| **Gradient Boosting Classifier** |  PCA Data | 93% |82% |\n",
    "| **XGB Classifier** |  PCA Data | 93% |81% |"
   ]
  },
  {
   "cell_type": "markdown",
   "id": "38871a29",
   "metadata": {},
   "source": [
    "&nbsp;"
   ]
  },
  {
   "cell_type": "markdown",
   "id": "e9bc1028",
   "metadata": {},
   "source": [
    "### Section B: Regularization\n",
    "This section will focus on enabling regularization techniques for all our chosen models to counter overfitting. Regularization is the process of adding penalties or early stopping to prevent a model from overfitting to the training data."
   ]
  },
  {
   "cell_type": "markdown",
   "id": "e77e9712",
   "metadata": {},
   "source": [
    "**B.1: Regularizing Logistic Regression**<br>\n",
    "To regualrize our Logistic Regression we'll set the \"penalty\" parameter to \"elasticnet\" which is a combination of L1 and L2 regularization. The l1_ratio will determine how much influence l1 will penalize our model. We will also set \"solver\" to 'saga', just because this is the only solver that is compatible with elasticnet."
   ]
  },
  {
   "cell_type": "code",
   "execution_count": 6,
   "id": "aa97bc3e",
   "metadata": {},
   "outputs": [
    {
     "name": "stdout",
     "output_type": "stream",
     "text": [
      "Model scored an Train_F1_Score of: 0.80 and a Validation_F1_Score of: 0.79\n"
     ]
    }
   ],
   "source": [
    "# Check if the model overfit. \n",
    "LR = functions.model_evaluation()\n",
    "# Checking if our hypertuned models overfited. \n",
    "LR.overfitting_checker(pcaLR, y, LogisticRegression(max_iter=5000, C=1.0, penalty='elasticnet', \n",
    "                                                    solver='saga', l1_ratio=0.90))"
   ]
  },
  {
   "cell_type": "markdown",
   "id": "9535a2e8",
   "metadata": {},
   "source": [
    "**B.2: Regularizing Gradient Boosting Classifier**<br>\n",
    "To enable early stopping for our Gradient Boosting Classifier we include the \"n_iter_no_change\" (early stopping), \"validation_fraction\" (validation set %) and \"tol\" (tolerance level) parameters."
   ]
  },
  {
   "cell_type": "code",
   "execution_count": 7,
   "id": "195ec8d0",
   "metadata": {},
   "outputs": [
    {
     "name": "stdout",
     "output_type": "stream",
     "text": [
      "Model scored an Train_F1_Score of: 0.83 and a Validation_F1_Score of: 0.79\n"
     ]
    }
   ],
   "source": [
    "# Check if the model overfit. \n",
    "GBC = functions.model_evaluation()\n",
    "# Checking if our hypertuned models overfited. \n",
    "GBC.overfitting_checker(pcaGBC, y, GradientBoostingClassifier(learning_rate=0.1, max_depth=2, min_samples_split=30,\n",
    "                                                             n_estimators=250, validation_fraction=0.2,\n",
    "                                                             n_iter_no_change=20, tol=2.5))"
   ]
  },
  {
   "cell_type": "markdown",
   "id": "b5a5eaa3",
   "metadata": {},
   "source": [
    "| Model | Model Type | Regularization Metrics | f1_score |\n",
    "|---------|---------|---------|---------|\n",
    "| **Logistic Regression** | PCA Data|penalty=\"elasticnet\", solver=\"saga\", l1_ratio=0.90 | 79% |\n",
    "| **Gradient Boosting Classifier** | PCA Data | min_samples_split=10, max_depth=20 |77% |"
   ]
  },
  {
   "cell_type": "markdown",
   "id": "1a32046c",
   "metadata": {},
   "source": [
    "**B.3: Regularizing XGB Classifier**<br>\n",
    "To regularize our XGB Classifer we can implement the early stopping technique. This method involves the algorithm to stop training n number of epochs once the loss function of the validation set starts to deteroriate."
   ]
  },
  {
   "cell_type": "code",
   "execution_count": 8,
   "id": "4adafafd",
   "metadata": {},
   "outputs": [],
   "source": [
    "train_test = functions.Early_Stopping(pcaXGB, y, XGBClassifier(eval_metric=[\"logloss\"], learning_rate=0.01, max_depth=20,\n",
    "                                                               min_child_weight=5, n_estimators=500))"
   ]
  },
  {
   "cell_type": "code",
   "execution_count": 9,
   "id": "e6d59485",
   "metadata": {},
   "outputs": [
    {
     "data": {
      "image/svg+xml": [
       "<svg class=\"main-svg\" xmlns=\"http://www.w3.org/2000/svg\" xmlns:xlink=\"http://www.w3.org/1999/xlink\" width=\"800\" height=\"400\" style=\"\" viewBox=\"0 0 800 400\"><rect x=\"0\" y=\"0\" width=\"800\" height=\"400\" style=\"fill: rgb(255, 255, 255); fill-opacity: 1;\"/><defs id=\"defs-c00451\"><g class=\"clips\"><clipPath id=\"clipc00451xyplot\" class=\"plotclip\"><rect width=\"620\" height=\"220\"/></clipPath><clipPath class=\"axesclip\" id=\"clipc00451x\"><rect x=\"80\" y=\"0\" width=\"620\" height=\"400\"/></clipPath><clipPath class=\"axesclip\" id=\"clipc00451y\"><rect x=\"0\" y=\"100\" width=\"800\" height=\"220\"/></clipPath><clipPath class=\"axesclip\" id=\"clipc00451xy\"><rect x=\"80\" y=\"100\" width=\"620\" height=\"220\"/></clipPath></g><g class=\"gradients\"/><g class=\"patterns\"/></defs><g class=\"bglayer\"><rect class=\"bg\" x=\"80\" y=\"100\" width=\"620\" height=\"220\" style=\"fill: rgb(248, 248, 246); fill-opacity: 1; stroke-width: 0;\"/></g><g class=\"layer-below\"><g class=\"imagelayer\"/><g class=\"shapelayer\"/></g><g class=\"cartesianlayer\"><g class=\"subplot xy\"><g class=\"layer-subplot\"><g class=\"shapelayer\"/><g class=\"imagelayer\"/></g><g class=\"minor-gridlayer\"><g class=\"x\"/><g class=\"y\"/></g><g class=\"gridlayer\"><g class=\"x\"><path class=\"xgrid crisp\" transform=\"translate(204.25,0)\" d=\"M0,100v220\" style=\"stroke: rgb(255, 255, 255); stroke-opacity: 1; stroke-width: 1px;\"/><path class=\"xgrid crisp\" transform=\"translate(328.5,0)\" d=\"M0,100v220\" style=\"stroke: rgb(255, 255, 255); stroke-opacity: 1; stroke-width: 1px;\"/><path class=\"xgrid crisp\" transform=\"translate(452.75,0)\" d=\"M0,100v220\" style=\"stroke: rgb(255, 255, 255); stroke-opacity: 1; stroke-width: 1px;\"/><path class=\"xgrid crisp\" transform=\"translate(576.99,0)\" d=\"M0,100v220\" style=\"stroke: rgb(255, 255, 255); stroke-opacity: 1; stroke-width: 1px;\"/></g><g class=\"y\"><path class=\"ygrid crisp\" transform=\"translate(0,285.27)\" d=\"M80,0h620\" style=\"stroke: rgb(255, 255, 255); stroke-opacity: 1; stroke-width: 1px;\"/><path class=\"ygrid crisp\" transform=\"translate(0,240.5)\" d=\"M80,0h620\" style=\"stroke: rgb(255, 255, 255); stroke-opacity: 1; stroke-width: 1px;\"/><path class=\"ygrid crisp\" transform=\"translate(0,195.73000000000002)\" d=\"M80,0h620\" style=\"stroke: rgb(255, 255, 255); stroke-opacity: 1; stroke-width: 1px;\"/><path class=\"ygrid crisp\" transform=\"translate(0,150.96)\" d=\"M80,0h620\" style=\"stroke: rgb(255, 255, 255); stroke-opacity: 1; stroke-width: 1px;\"/><path class=\"ygrid crisp\" transform=\"translate(0,106.19)\" d=\"M80,0h620\" style=\"stroke: rgb(255, 255, 255); stroke-opacity: 1; stroke-width: 1px;\"/></g></g><g class=\"zerolinelayer\"><path class=\"xzl zl crisp\" transform=\"translate(80,0)\" d=\"M0,100v220\" style=\"stroke: rgb(255, 255, 255); stroke-opacity: 1; stroke-width: 2px;\"/></g><path class=\"xlines-below\"/><path class=\"ylines-below\"/><g class=\"overlines-below\"/><g class=\"xaxislayer-below\"/><g class=\"yaxislayer-below\"/><g class=\"overaxes-below\"/><g class=\"plot\" transform=\"translate(80,100)\" clip-path=\"url(#clipc00451xyplot)\"><g class=\"scatterlayer mlayer\"><g class=\"trace scatter trace946e3b\" style=\"stroke-miterlimit: 2; opacity: 1;\"><g class=\"fills\"/><g class=\"errorbars\"/><g class=\"lines\"><path class=\"js-line\" d=\"M0,11L11.18,25.08L12.42,26.52L23.61,38.03L24.85,39.15L36.03,48.84L37.27,49.73L44.73,55.29L45.97,56.17L62.12,66.45L63.37,67.1L73.31,72.41L74.55,72.97L86.97,78.7L88.22,79.17L94.43,81.58L95.67,81.93L100.64,83.55L101.88,83.86L151.58,96.18L152.83,96.24L175.19,99.46L176.43,99.58L182.65,100.58L183.89,100.58L201.28,103.28L202.53,103.5L231.1,107.15L232.34,107.26L260.92,109.3L262.16,109.37L314.35,111.61L315.59,111.58L324.29,111.93L325.53,111.84L340.44,112.59L341.68,112.62L375.23,112.22L376.47,112.3L419.96,111.99L421.2,112.04L452.26,111.42L453.51,111.32L493.27,110.97L494.51,111.07L559.12,110.9L560.36,110.87L606.33,110.15L607.58,110.11L620,110.01\" style=\"vector-effect: non-scaling-stroke; fill: none; stroke: rgb(99, 110, 250); stroke-opacity: 1; stroke-width: 2px; opacity: 1;\"/></g><g class=\"points\"/><g class=\"text\"/></g><g class=\"trace scatter trace45c002\" style=\"stroke-miterlimit: 2; opacity: 1;\"><g class=\"fills\"/><g class=\"errorbars\"/><g class=\"lines\"><path class=\"js-line\" d=\"M0,11.26L11.18,27.67L12.42,29.34L27.33,47.7L28.58,49.04L41,62.62L42.24,63.86L59.64,79.3L60.88,80.32L75.79,91.32L77.03,92.18L96.91,104.96L98.16,105.76L109.34,112.23L110.58,112.88L126.73,120.91L127.98,121.49L164.01,136.49L165.25,136.92L192.59,146.12L193.83,146.5L224.89,155.5L226.13,155.86L275.83,168.15L277.07,168.42L305.65,173.87L306.89,174.09L339.2,179.48L340.44,179.7L378.96,185.49L380.2,185.66L478.36,196.91L479.6,197.01L615.03,208.64L616.27,208.71L620,209\" style=\"vector-effect: non-scaling-stroke; fill: none; stroke: rgb(239, 85, 59); stroke-opacity: 1; stroke-width: 2px; opacity: 1;\"/></g><g class=\"points\"/><g class=\"text\"/></g></g></g><g class=\"overplot\"/><path class=\"xlines-above crisp\" d=\"M0,0\" style=\"fill: none;\"/><path class=\"ylines-above crisp\" d=\"M0,0\" style=\"fill: none;\"/><g class=\"overlines-above\"/><g class=\"xaxislayer-above\"><g class=\"xtick\"><text text-anchor=\"middle\" x=\"0\" y=\"333\" transform=\"translate(80,0)\" style=\"font-family: 'Open Sans', verdana, arial, sans-serif; font-size: 12px; fill: rgb(42, 63, 95); fill-opacity: 1; white-space: pre; opacity: 1;\">0</text></g><g class=\"xtick\"><text text-anchor=\"middle\" x=\"0\" y=\"333\" style=\"font-family: 'Open Sans', verdana, arial, sans-serif; font-size: 12px; fill: rgb(42, 63, 95); fill-opacity: 1; white-space: pre; opacity: 1;\" transform=\"translate(204.25,0)\">100</text></g><g class=\"xtick\"><text text-anchor=\"middle\" x=\"0\" y=\"333\" style=\"font-family: 'Open Sans', verdana, arial, sans-serif; font-size: 12px; fill: rgb(42, 63, 95); fill-opacity: 1; white-space: pre; opacity: 1;\" transform=\"translate(328.5,0)\">200</text></g><g class=\"xtick\"><text text-anchor=\"middle\" x=\"0\" y=\"333\" style=\"font-family: 'Open Sans', verdana, arial, sans-serif; font-size: 12px; fill: rgb(42, 63, 95); fill-opacity: 1; white-space: pre; opacity: 1;\" transform=\"translate(452.75,0)\">300</text></g><g class=\"xtick\"><text text-anchor=\"middle\" x=\"0\" y=\"333\" style=\"font-family: 'Open Sans', verdana, arial, sans-serif; font-size: 12px; fill: rgb(42, 63, 95); fill-opacity: 1; white-space: pre; opacity: 1;\" transform=\"translate(576.99,0)\">400</text></g></g><g class=\"yaxislayer-above\"><g class=\"ytick\"><text text-anchor=\"end\" x=\"79\" y=\"4.199999999999999\" transform=\"translate(0,285.27)\" style=\"font-family: 'Open Sans', verdana, arial, sans-serif; font-size: 12px; fill: rgb(42, 63, 95); fill-opacity: 1; white-space: pre; opacity: 1;\">0.3</text></g><g class=\"ytick\"><text text-anchor=\"end\" x=\"79\" y=\"4.199999999999999\" style=\"font-family: 'Open Sans', verdana, arial, sans-serif; font-size: 12px; fill: rgb(42, 63, 95); fill-opacity: 1; white-space: pre; opacity: 1;\" transform=\"translate(0,240.5)\">0.4</text></g><g class=\"ytick\"><text text-anchor=\"end\" x=\"79\" y=\"4.199999999999999\" style=\"font-family: 'Open Sans', verdana, arial, sans-serif; font-size: 12px; fill: rgb(42, 63, 95); fill-opacity: 1; white-space: pre; opacity: 1;\" transform=\"translate(0,195.73000000000002)\">0.5</text></g><g class=\"ytick\"><text text-anchor=\"end\" x=\"79\" y=\"4.199999999999999\" style=\"font-family: 'Open Sans', verdana, arial, sans-serif; font-size: 12px; fill: rgb(42, 63, 95); fill-opacity: 1; white-space: pre; opacity: 1;\" transform=\"translate(0,150.96)\">0.6</text></g><g class=\"ytick\"><text text-anchor=\"end\" x=\"79\" y=\"4.199999999999999\" style=\"font-family: 'Open Sans', verdana, arial, sans-serif; font-size: 12px; fill: rgb(42, 63, 95); fill-opacity: 1; white-space: pre; opacity: 1;\" transform=\"translate(0,106.19)\">0.7</text></g></g><g class=\"overaxes-above\"/></g></g><g class=\"polarlayer\"/><g class=\"smithlayer\"/><g class=\"ternarylayer\"/><g class=\"geolayer\"/><g class=\"funnelarealayer\"/><g class=\"pielayer\"/><g class=\"iciclelayer\"/><g class=\"treemaplayer\"/><g class=\"sunburstlayer\"/><g class=\"glimages\"/><defs id=\"topdefs-c00451\"><g class=\"clips\"/><clipPath id=\"legendc00451\"><rect width=\"76\" height=\"48\" x=\"0\" y=\"0\"/></clipPath></defs><g class=\"layer-above\"><g class=\"imagelayer\"/><g class=\"shapelayer\"/></g><g class=\"infolayer\"><g class=\"legend\" pointer-events=\"all\" transform=\"translate(712.4,100)\"><rect class=\"bg\" shape-rendering=\"crispEdges\" style=\"stroke: rgb(68, 68, 68); stroke-opacity: 1; fill: rgb(255, 255, 255); fill-opacity: 1; stroke-width: 0px;\" width=\"76\" height=\"48\" x=\"0\" y=\"0\"/><g class=\"scrollbox\" transform=\"\" clip-path=\"url(#legendc00451)\"><g class=\"groups\"><g class=\"traces\" transform=\"translate(0,14.5)\" style=\"opacity: 1;\"><text class=\"legendtext\" text-anchor=\"start\" x=\"40\" y=\"4.680000000000001\" style=\"font-family: 'Open Sans', verdana, arial, sans-serif; font-size: 12px; fill: rgb(42, 63, 95); fill-opacity: 1; white-space: pre;\">Train</text><g class=\"layers\" style=\"opacity: 1;\"><g class=\"legendfill\"/><g class=\"legendlines\"><path class=\"js-line\" d=\"M5,0h30\" style=\"fill: none; stroke: rgb(99, 110, 250); stroke-opacity: 1; stroke-width: 2px;\"/></g><g class=\"legendsymbols\"><g class=\"legendpoints\"/></g></g><rect class=\"legendtoggle\" x=\"0\" y=\"-9.5\" width=\"70.234375\" height=\"19\" style=\"fill: rgb(0, 0, 0); fill-opacity: 0;\"/></g><g class=\"traces\" transform=\"translate(0,33.5)\" style=\"opacity: 1;\"><text class=\"legendtext\" text-anchor=\"start\" x=\"40\" y=\"4.680000000000001\" style=\"font-family: 'Open Sans', verdana, arial, sans-serif; font-size: 12px; fill: rgb(42, 63, 95); fill-opacity: 1; white-space: pre;\">Test</text><g class=\"layers\" style=\"opacity: 1;\"><g class=\"legendfill\"/><g class=\"legendlines\"><path class=\"js-line\" d=\"M5,0h30\" style=\"fill: none; stroke: rgb(239, 85, 59); stroke-opacity: 1; stroke-width: 2px;\"/></g><g class=\"legendsymbols\"><g class=\"legendpoints\"/></g></g><rect class=\"legendtoggle\" x=\"0\" y=\"-9.5\" width=\"70.234375\" height=\"19\" style=\"fill: rgb(0, 0, 0); fill-opacity: 0;\"/></g></g></g><rect class=\"scrollbar\" rx=\"20\" ry=\"3\" width=\"0\" height=\"0\" style=\"fill: rgb(128, 139, 164); fill-opacity: 1;\" x=\"0\" y=\"0\"/></g><g class=\"g-gtitle\"><text class=\"gtitle\" x=\"40\" y=\"50\" text-anchor=\"start\" dy=\"0em\" style=\"font-family: 'Arial Black'; font-size: 20px; fill: rgb(42, 63, 95); opacity: 1; font-weight: normal; white-space: pre;\">XGB Classifier Log Loss Curve</text></g><g class=\"g-xtitle\"><text class=\"xtitle\" x=\"390\" y=\"360.8\" text-anchor=\"middle\" style=\"font-family: 'Open Sans', verdana, arial, sans-serif; font-size: 14px; fill: rgb(42, 63, 95); opacity: 1; font-weight: normal; white-space: pre;\">Epochs</text></g><g class=\"g-ytitle\"><text class=\"ytitle\" transform=\"rotate(-90,34.575,210)\" x=\"34.575\" y=\"210\" text-anchor=\"middle\" style=\"font-family: 'Open Sans', verdana, arial, sans-serif; font-size: 14px; fill: rgb(42, 63, 95); opacity: 1; font-weight: normal; white-space: pre;\">Log Loss</text></g></g></svg>"
      ]
     },
     "metadata": {},
     "output_type": "display_data"
    }
   ],
   "source": [
    "# Plotting the loss function for both the train and test sets over n number of epochs. \n",
    "visuals.LogLoss_Curve(train_test.x_axis, train_test.results[\"validation_1\"]['logloss'], \n",
    "                        train_test.results[\"validation_0\"]['logloss'])"
   ]
  },
  {
   "cell_type": "code",
   "execution_count": 10,
   "id": "1b41841e",
   "metadata": {},
   "outputs": [
    {
     "name": "stdout",
     "output_type": "stream",
     "text": [
      "f1_score: 74.44%\n"
     ]
    }
   ],
   "source": [
    "test = functions.Early_Stopping(pcaXGB, y, XGBClassifier(early_stopping_rounds=10, eval_metric=[\"logloss\"],learning_rate=0.01, \n",
    "                                               max_depth=20, min_child_weight=5, n_estimators=500))\n",
    "print(\"f1_score: %.2f%%\" % (test.f1*100))"
   ]
  },
  {
   "cell_type": "code",
   "execution_count": 11,
   "id": "aa20a630",
   "metadata": {},
   "outputs": [
    {
     "data": {
      "image/svg+xml": [
       "<svg class=\"main-svg\" xmlns=\"http://www.w3.org/2000/svg\" xmlns:xlink=\"http://www.w3.org/1999/xlink\" width=\"800\" height=\"400\" style=\"\" viewBox=\"0 0 800 400\"><rect x=\"0\" y=\"0\" width=\"800\" height=\"400\" style=\"fill: rgb(255, 255, 255); fill-opacity: 1;\"/><defs id=\"defs-c5ba56\"><g class=\"clips\"><clipPath id=\"clipc5ba56xyplot\" class=\"plotclip\"><rect width=\"640\" height=\"260\"/></clipPath><clipPath class=\"axesclip\" id=\"clipc5ba56x\"><rect x=\"80\" y=\"0\" width=\"640\" height=\"400\"/></clipPath><clipPath class=\"axesclip\" id=\"clipc5ba56y\"><rect x=\"0\" y=\"60\" width=\"800\" height=\"260\"/></clipPath><clipPath class=\"axesclip\" id=\"clipc5ba56xy\"><rect x=\"80\" y=\"60\" width=\"640\" height=\"260\"/></clipPath></g><g class=\"gradients\"/><g class=\"patterns\"/></defs><g class=\"bglayer\"><rect class=\"bg\" x=\"80\" y=\"60\" width=\"640\" height=\"260\" style=\"fill: rgb(248, 248, 246); fill-opacity: 1; stroke-width: 0;\"/></g><g class=\"layer-below\"><g class=\"imagelayer\"/><g class=\"shapelayer\"/></g><g class=\"cartesianlayer\"><g class=\"subplot xy\"><g class=\"layer-subplot\"><g class=\"shapelayer\"/><g class=\"imagelayer\"/></g><g class=\"minor-gridlayer\"><g class=\"x\"/><g class=\"y\"/></g><g class=\"gridlayer\"><g class=\"x\"><path class=\"xgrid crisp\" transform=\"translate(191.11,0)\" d=\"M0,60v260\" style=\"stroke: rgb(255, 255, 255); stroke-opacity: 1; stroke-width: 1px;\"/><path class=\"xgrid crisp\" transform=\"translate(302.22,0)\" d=\"M0,60v260\" style=\"stroke: rgb(255, 255, 255); stroke-opacity: 1; stroke-width: 1px;\"/><path class=\"xgrid crisp\" transform=\"translate(413.33,0)\" d=\"M0,60v260\" style=\"stroke: rgb(255, 255, 255); stroke-opacity: 1; stroke-width: 1px;\"/><path class=\"xgrid crisp\" transform=\"translate(524.44,0)\" d=\"M0,60v260\" style=\"stroke: rgb(255, 255, 255); stroke-opacity: 1; stroke-width: 1px;\"/><path class=\"xgrid crisp\" transform=\"translate(635.56,0)\" d=\"M0,60v260\" style=\"stroke: rgb(255, 255, 255); stroke-opacity: 1; stroke-width: 1px;\"/></g><g class=\"y\"><path class=\"ygrid crisp\" transform=\"translate(0,268.05)\" d=\"M80,0h640\" style=\"stroke: rgb(255, 255, 255); stroke-opacity: 1; stroke-width: 1px;\"/><path class=\"ygrid crisp\" transform=\"translate(0,216.52)\" d=\"M80,0h640\" style=\"stroke: rgb(255, 255, 255); stroke-opacity: 1; stroke-width: 1px;\"/><path class=\"ygrid crisp\" transform=\"translate(0,164.99)\" d=\"M80,0h640\" style=\"stroke: rgb(255, 255, 255); stroke-opacity: 1; stroke-width: 1px;\"/><path class=\"ygrid crisp\" transform=\"translate(0,113.46000000000001)\" d=\"M80,0h640\" style=\"stroke: rgb(255, 255, 255); stroke-opacity: 1; stroke-width: 1px;\"/><path class=\"ygrid crisp\" transform=\"translate(0,61.93)\" d=\"M80,0h640\" style=\"stroke: rgb(255, 255, 255); stroke-opacity: 1; stroke-width: 1px;\"/></g></g><g class=\"zerolinelayer\"><path class=\"xzl zl crisp\" transform=\"translate(80,0)\" d=\"M0,60v260\" style=\"stroke: rgb(255, 255, 255); stroke-opacity: 1; stroke-width: 2px;\"/></g><path class=\"xlines-below\"/><path class=\"ylines-below\"/><g class=\"overlines-below\"/><g class=\"xaxislayer-below\"/><g class=\"yaxislayer-below\"/><g class=\"overaxes-below\"/><g class=\"plot\" transform=\"translate(80,60)\" clip-path=\"url(#clipc5ba56xyplot)\"><g class=\"scatterlayer mlayer\"><g class=\"trace scatter trace2389ad\" style=\"stroke-miterlimit: 2; opacity: 1;\"><g class=\"fills\"/><g class=\"errorbars\"/><g class=\"lines\"><path class=\"js-line\" d=\"M0,13L15.56,38.79L17.78,42.23L37.78,69.72L40,72.47L55.56,90.99L57.78,93.27L75.56,110.83L77.78,112.84L93.33,126.93L95.56,128.61L117.78,145.45L120,146.85L140,160.17L142.22,161.45L164.44,173.68L166.67,174.49L180,180L182.22,180.73L215.56,191.6L217.78,192.04L233.33,198.19L235.56,198.78L257.78,205.71L260,206L266.67,208.14L268.89,208.3L273.33,209.21L275.56,209.71L282.22,211.36L284.44,211.82L291.11,212.68L293.33,213.38L333.33,220.14L335.56,220.72L393.33,231.57L395.56,231.88L422.22,235.41L424.44,235.68L433.33,236.3L435.56,236.6L475.56,240.14L477.78,240.17L486.67,240.78L488.89,240.68L517.78,243.34L520,243.41L528.89,243.96L531.11,244.02L540,244.23L542.22,244.48L553.33,244.33L555.56,244.65L595.56,246.05L597.78,246.29L608.89,246.85L611.11,246.93L631.11,246.76L633.33,246.77L640,246.47\" style=\"vector-effect: non-scaling-stroke; fill: none; stroke: rgb(99, 110, 250); stroke-opacity: 1; stroke-width: 2px; opacity: 1;\"/></g><g class=\"points\"/><g class=\"text\"/></g></g></g><g class=\"overplot\"/><path class=\"xlines-above crisp\" d=\"M0,0\" style=\"fill: none;\"/><path class=\"ylines-above crisp\" d=\"M0,0\" style=\"fill: none;\"/><g class=\"overlines-above\"/><g class=\"xaxislayer-above\"><g class=\"xtick\"><text text-anchor=\"middle\" x=\"0\" y=\"333\" transform=\"translate(80,0)\" style=\"font-family: 'Open Sans', verdana, arial, sans-serif; font-size: 12px; fill: rgb(42, 63, 95); fill-opacity: 1; white-space: pre; opacity: 1;\">0</text></g><g class=\"xtick\"><text text-anchor=\"middle\" x=\"0\" y=\"333\" style=\"font-family: 'Open Sans', verdana, arial, sans-serif; font-size: 12px; fill: rgb(42, 63, 95); fill-opacity: 1; white-space: pre; opacity: 1;\" transform=\"translate(191.11,0)\">50</text></g><g class=\"xtick\"><text text-anchor=\"middle\" x=\"0\" y=\"333\" style=\"font-family: 'Open Sans', verdana, arial, sans-serif; font-size: 12px; fill: rgb(42, 63, 95); fill-opacity: 1; white-space: pre; opacity: 1;\" transform=\"translate(302.22,0)\">100</text></g><g class=\"xtick\"><text text-anchor=\"middle\" x=\"0\" y=\"333\" style=\"font-family: 'Open Sans', verdana, arial, sans-serif; font-size: 12px; fill: rgb(42, 63, 95); fill-opacity: 1; white-space: pre; opacity: 1;\" transform=\"translate(413.33,0)\">150</text></g><g class=\"xtick\"><text text-anchor=\"middle\" x=\"0\" y=\"333\" style=\"font-family: 'Open Sans', verdana, arial, sans-serif; font-size: 12px; fill: rgb(42, 63, 95); fill-opacity: 1; white-space: pre; opacity: 1;\" transform=\"translate(524.44,0)\">200</text></g><g class=\"xtick\"><text text-anchor=\"middle\" x=\"0\" y=\"333\" style=\"font-family: 'Open Sans', verdana, arial, sans-serif; font-size: 12px; fill: rgb(42, 63, 95); fill-opacity: 1; white-space: pre; opacity: 1;\" transform=\"translate(635.56,0)\">250</text></g></g><g class=\"yaxislayer-above\"><g class=\"ytick\"><text text-anchor=\"end\" x=\"79\" y=\"4.199999999999999\" transform=\"translate(0,319.58)\" style=\"font-family: 'Open Sans', verdana, arial, sans-serif; font-size: 12px; fill: rgb(42, 63, 95); fill-opacity: 1; white-space: pre; opacity: 1;\">0.45</text></g><g class=\"ytick\"><text text-anchor=\"end\" x=\"79\" y=\"4.199999999999999\" style=\"font-family: 'Open Sans', verdana, arial, sans-serif; font-size: 12px; fill: rgb(42, 63, 95); fill-opacity: 1; white-space: pre; opacity: 1;\" transform=\"translate(0,268.05)\">0.5</text></g><g class=\"ytick\"><text text-anchor=\"end\" x=\"79\" y=\"4.199999999999999\" style=\"font-family: 'Open Sans', verdana, arial, sans-serif; font-size: 12px; fill: rgb(42, 63, 95); fill-opacity: 1; white-space: pre; opacity: 1;\" transform=\"translate(0,216.52)\">0.55</text></g><g class=\"ytick\"><text text-anchor=\"end\" x=\"79\" y=\"4.199999999999999\" style=\"font-family: 'Open Sans', verdana, arial, sans-serif; font-size: 12px; fill: rgb(42, 63, 95); fill-opacity: 1; white-space: pre; opacity: 1;\" transform=\"translate(0,164.99)\">0.6</text></g><g class=\"ytick\"><text text-anchor=\"end\" x=\"79\" y=\"4.199999999999999\" style=\"font-family: 'Open Sans', verdana, arial, sans-serif; font-size: 12px; fill: rgb(42, 63, 95); fill-opacity: 1; white-space: pre; opacity: 1;\" transform=\"translate(0,113.46000000000001)\">0.65</text></g><g class=\"ytick\"><text text-anchor=\"end\" x=\"79\" y=\"4.199999999999999\" style=\"font-family: 'Open Sans', verdana, arial, sans-serif; font-size: 12px; fill: rgb(42, 63, 95); fill-opacity: 1; white-space: pre; opacity: 1;\" transform=\"translate(0,61.93)\">0.7</text></g></g><g class=\"overaxes-above\"/></g></g><g class=\"polarlayer\"/><g class=\"smithlayer\"/><g class=\"ternarylayer\"/><g class=\"geolayer\"/><g class=\"funnelarealayer\"/><g class=\"pielayer\"/><g class=\"iciclelayer\"/><g class=\"treemaplayer\"/><g class=\"sunburstlayer\"/><g class=\"glimages\"/><defs id=\"topdefs-c5ba56\"><g class=\"clips\"/></defs><g class=\"layer-above\"><g class=\"imagelayer\"/><g class=\"shapelayer\"><path data-index=\"0\" fill-rule=\"evenodd\" d=\"M700,320L700,60\" clip-path=\"url(#clipc5ba56x)\" style=\"opacity: 1; stroke: rgb(0, 0, 0); stroke-opacity: 1; fill: rgb(0, 0, 0); fill-opacity: 0; stroke-dasharray: 9px, 9px; stroke-width: 2px;\"/></g></g><g class=\"infolayer\"><g class=\"g-gtitle\"><text class=\"gtitle\" x=\"40\" y=\"30\" text-anchor=\"start\" dy=\"0em\" style=\"font-family: 'Arial Black'; font-size: 20px; fill: rgb(42, 63, 95); opacity: 1; font-weight: normal; white-space: pre;\">XGB Classifier Early Stopping</text></g><g class=\"g-xtitle\"><text class=\"xtitle\" x=\"400\" y=\"360.8\" text-anchor=\"middle\" style=\"font-family: 'Open Sans', verdana, arial, sans-serif; font-size: 14px; fill: rgb(42, 63, 95); opacity: 1; font-weight: normal; white-space: pre;\">Epochs</text></g><g class=\"g-ytitle\"><text class=\"ytitle\" transform=\"rotate(-90,26.934375000000003,190)\" x=\"26.934375000000003\" y=\"190\" text-anchor=\"middle\" style=\"font-family: 'Open Sans', verdana, arial, sans-serif; font-size: 14px; fill: rgb(42, 63, 95); opacity: 1; font-weight: normal; white-space: pre;\">Log Loss</text></g></g></svg>"
      ]
     },
     "metadata": {},
     "output_type": "display_data"
    },
    {
     "name": "stdout",
     "output_type": "stream",
     "text": [
      "The model stopped training at around 290 epochs, with the best loss score observed at: 279.\n"
     ]
    }
   ],
   "source": [
    "# Plot early stopping results. \n",
    "fig = px.line(x=test.x_axis, y=test.results['validation_1']['logloss'])\n",
    "fig.add_vline(x=test.clf.best_ntree_limit, line_width=2, line_dash=\"dash\", line_color=\"black\") # Best loss score. \n",
    "fig.update_layout(title='XGB Classifier Early Stopping',\n",
    "                       xaxis_title='Epochs',\n",
    "                       yaxis_title='Log Loss',\n",
    "                       height=400, width=800, plot_bgcolor='#F8F8F6', title_font_size=20, title_font_family='Arial Black')\n",
    "fig.show()\n",
    "\n",
    "print(\"The model stopped training at around 290 epochs, with the best loss score observed at: %.0f.\" % (\n",
    "    test.clf.best_ntree_limit))\n",
    "# Now we know that we should set our number of trees (n_estimator) to =286 to avoid overfitting."
   ]
  },
  {
   "cell_type": "markdown",
   "id": "f3443a9a",
   "metadata": {},
   "source": [
    "&nbsp;"
   ]
  },
  {
   "cell_type": "markdown",
   "id": "ce2d0902",
   "metadata": {},
   "source": [
    "### Section C: Threshold Manipulation\n",
    "Threshold manipulation is the process of changing the default threshold value used to classify predictions into classes. We can create an array of threshold values and iterate through them to optimize for our weighted recall evaluation metric. \n",
    "\n",
    "Since algorithms are stochastic in nature we will run our expirement through 10 iterations and record the threshold that outputs the highest score. "
   ]
  },
  {
   "cell_type": "markdown",
   "id": "58905700",
   "metadata": {},
   "source": [
    "**C.1: Logistic Regression Optimal Threshold**<br>\n",
    "Now it's time to explore some threshold values on our Logistic Regression Classifier."
   ]
  },
  {
   "cell_type": "code",
   "execution_count": 12,
   "id": "d475be7a",
   "metadata": {},
   "outputs": [
    {
     "name": "stdout",
     "output_type": "stream",
     "text": [
      "Threshold=0.494, F-Score=0.79738\n"
     ]
    },
    {
     "data": {
      "image/svg+xml": [
       "<svg class=\"main-svg\" xmlns=\"http://www.w3.org/2000/svg\" xmlns:xlink=\"http://www.w3.org/1999/xlink\" width=\"800\" height=\"400\" style=\"\" viewBox=\"0 0 800 400\"><rect x=\"0\" y=\"0\" width=\"800\" height=\"400\" style=\"fill: rgb(255, 255, 255); fill-opacity: 1;\"/><defs id=\"defs-08c12b\"><g class=\"clips\"><clipPath id=\"clip08c12bxyplot\" class=\"plotclip\"><rect width=\"640\" height=\"260\"/></clipPath><clipPath class=\"axesclip\" id=\"clip08c12bx\"><rect x=\"80\" y=\"0\" width=\"640\" height=\"400\"/></clipPath><clipPath class=\"axesclip\" id=\"clip08c12by\"><rect x=\"0\" y=\"60\" width=\"800\" height=\"260\"/></clipPath><clipPath class=\"axesclip\" id=\"clip08c12bxy\"><rect x=\"80\" y=\"60\" width=\"640\" height=\"260\"/></clipPath></g><g class=\"gradients\"/><g class=\"patterns\"/></defs><g class=\"bglayer\"><rect class=\"bg\" x=\"80\" y=\"60\" width=\"640\" height=\"260\" style=\"fill: rgb(248, 248, 246); fill-opacity: 1; stroke-width: 0;\"/></g><g class=\"layer-below\"><g class=\"imagelayer\"/><g class=\"shapelayer\"/></g><g class=\"cartesianlayer\"><g class=\"subplot xy\"><g class=\"layer-subplot\"><g class=\"shapelayer\"/><g class=\"imagelayer\"/></g><g class=\"minor-gridlayer\"><g class=\"x\"/><g class=\"y\"/></g><g class=\"gridlayer\"><g class=\"x\"><path class=\"xgrid crisp\" transform=\"translate(208.13,0)\" d=\"M0,60v260\" style=\"stroke: rgb(255, 255, 255); stroke-opacity: 1; stroke-width: 1px;\"/><path class=\"xgrid crisp\" transform=\"translate(336.26,0)\" d=\"M0,60v260\" style=\"stroke: rgb(255, 255, 255); stroke-opacity: 1; stroke-width: 1px;\"/><path class=\"xgrid crisp\" transform=\"translate(464.38,0)\" d=\"M0,60v260\" style=\"stroke: rgb(255, 255, 255); stroke-opacity: 1; stroke-width: 1px;\"/><path class=\"xgrid crisp\" transform=\"translate(592.51,0)\" d=\"M0,60v260\" style=\"stroke: rgb(255, 255, 255); stroke-opacity: 1; stroke-width: 1px;\"/></g><g class=\"y\"><path class=\"ygrid crisp\" transform=\"translate(0,312.18)\" d=\"M80,0h640\" style=\"stroke: rgb(255, 255, 255); stroke-opacity: 1; stroke-width: 1px;\"/><path class=\"ygrid crisp\" transform=\"translate(0,272.14)\" d=\"M80,0h640\" style=\"stroke: rgb(255, 255, 255); stroke-opacity: 1; stroke-width: 1px;\"/><path class=\"ygrid crisp\" transform=\"translate(0,232.1)\" d=\"M80,0h640\" style=\"stroke: rgb(255, 255, 255); stroke-opacity: 1; stroke-width: 1px;\"/><path class=\"ygrid crisp\" transform=\"translate(0,192.07)\" d=\"M80,0h640\" style=\"stroke: rgb(255, 255, 255); stroke-opacity: 1; stroke-width: 1px;\"/><path class=\"ygrid crisp\" transform=\"translate(0,152.03)\" d=\"M80,0h640\" style=\"stroke: rgb(255, 255, 255); stroke-opacity: 1; stroke-width: 1px;\"/><path class=\"ygrid crisp\" transform=\"translate(0,111.99000000000001)\" d=\"M80,0h640\" style=\"stroke: rgb(255, 255, 255); stroke-opacity: 1; stroke-width: 1px;\"/><path class=\"ygrid crisp\" transform=\"translate(0,71.95)\" d=\"M80,0h640\" style=\"stroke: rgb(255, 255, 255); stroke-opacity: 1; stroke-width: 1px;\"/></g></g><g class=\"zerolinelayer\"><path class=\"xzl zl crisp\" transform=\"translate(80,0)\" d=\"M0,60v260\" style=\"stroke: rgb(255, 255, 255); stroke-opacity: 1; stroke-width: 2px;\"/></g><path class=\"xlines-below\"/><path class=\"ylines-below\"/><g class=\"overlines-below\"/><g class=\"xaxislayer-below\"/><g class=\"yaxislayer-below\"/><g class=\"overaxes-below\"/><g class=\"plot\" transform=\"translate(80,60)\" clip-path=\"url(#clip08c12bxyplot)\"><g class=\"scatterlayer mlayer\"><g class=\"trace scatter traceaa1c57\" style=\"stroke-miterlimit: 2; opacity: 1;\"><g class=\"fills\"/><g class=\"errorbars\"/><g class=\"lines\"><path class=\"js-line\" d=\"M0,247L26.27,247L26.91,246.03L36.52,246.03L37.16,245.07L45.49,245.07L46.13,244.11L47.41,243.15L48.05,243.15L49.97,241.25L50.61,241.25L51.25,241.25L51.89,240.3L57.02,240.3L57.66,238.42L60.22,235.61L60.86,235.81L62.14,234.88L62.78,232.11L64.7,230.49L65.35,230.49L65.99,230.49L66.63,228.89L67.27,227.99L67.91,225.3L69.19,224.41L69.83,221.97L71.75,214.63L72.39,213.78L75.6,201.53L76.24,200.98L78.8,183.95L79.44,181.21L80.72,178.79L81.36,175.39L82.64,162.1L83.28,160.01L84.56,152.13L85.21,148.78L85.85,149.11L86.49,146.46L87.77,143.21L88.41,143.21L90.97,139.04L91.61,134.33L92.89,132.46L93.53,127.87L96.74,118.37L97.38,117.78L98.66,112.68L99.3,110.38L101.22,106.78L101.86,106.78L102.5,102.29L103.14,102.67L103.78,102.67L104.42,102.67L105.07,101.38L106.35,97.21L106.99,95.43L108.91,93.28L109.55,92.74L112.75,88.35L113.39,87.82L114.67,86.77L115.32,85.19L115.96,84.67L116.6,82.59L119.8,77.84L120.44,74.28L121.72,70.16L122.36,70.57L123,70.07L123.64,67.09L124.92,67L125.57,65.53L126.85,63.07L127.49,63.49L128.77,62.36L129.41,61.88L131.97,61.88L132.61,60.91L135.82,58.43L136.46,57.48L138.38,56.4L139.02,56.4L140.94,56.82L141.58,56.29L144.14,55.76L144.78,55.29L146.07,55.66L146.71,54.72L147.99,54.72L148.63,53.26L150.55,53.17L151.19,52.24L152.47,52.2L153.11,51.27L155.04,46.65L155.68,46.65L157.6,43.41L158.24,42.95L159.52,41.56L160.16,40.2L162.08,39.74L162.72,39.29L163.36,39.27L164,37.92L166.57,36.99L167.21,36.99L172.97,33.83L173.61,33.83L177.46,33.82L178.1,32.49L180.02,30.27L180.66,30.27L183.86,29.83L184.5,29.39L188.35,27.2L188.99,27.64L192.83,27.67L193.47,26.79L194.75,27.24L195.4,26.81L199.24,25.07L199.88,25.07L201.16,25.53L201.8,26.43L202.44,26.43L203.08,25.56L206.29,25.58L206.93,24.71L210.77,24.28L211.41,23.84L212.69,23.41L213.33,22.97L213.97,22.97L214.61,23.89L218.46,21.29L219.1,21.75L223.58,21.37L224.22,20.94L228.71,20.53L229.35,20.1L234.47,19.67L235.12,19.24L236.4,18.38L237.04,17.95L238.96,17.52L239.6,17.98L241.52,17.55L242.16,17.55L242.8,17.55L243.44,16.69L244.72,16.26L245.37,16.73L249.21,16.3L249.85,15.87L262.66,15.94L263.3,16.41L270.35,16.52L270.99,16.99L272.27,16.56L272.91,15.71L274.19,16.65L274.83,16.65L281.88,16.27L282.52,15.84L283.8,14.99L284.44,15.46L290.21,15.03L290.85,14.61L294.69,15.13L295.34,15.6L296.62,15.6L297.26,14.32L298.54,13.47L299.18,13.47L302.38,14L303.02,14.48L306.23,14.11L306.87,13.68L308.15,14.16L308.79,13.74L313.27,14.27L313.91,13.42L319.04,13.48L319.68,13.97L323.52,14.09L324.16,14.57L326.09,15.54L326.73,15.54L327.37,15.54L328.01,14.7L331.85,14.76L332.49,14.34L333.77,13.49L334.41,13.07L336.98,14.61L337.62,14.61L339.54,15.67L340.18,15.74L341.46,15.4L342.1,15.4L343.38,15.4L344.02,16.47L345.31,16.05L345.95,17.05L346.59,17.05L347.23,19.56L349.79,19.15L350.43,18.73L353.63,19.23L354.27,19.74L354.91,19.74L355.56,20.52L358.76,22.57L359.4,22.57L360.68,22.16L361.32,22.25L363.24,23.91L363.88,23.91L368.37,23.49L369.01,23.08L370.93,22.25L371.57,22.77L376.06,22.99L376.7,23.51L379.26,23.51L379.9,22.68L384.38,22.79L385.03,23.32L387.59,22.49L388.23,22.49L389.51,21.89L390.15,21.89L390.79,22.96L391.43,22.55L395.92,22.25L396.56,21.84L399.76,21.55L400.4,21.13L401.68,21.67L402.32,22.21L407.45,22.75L408.09,23.3L409.37,23.43L410.01,22.6L418.98,23.14L419.62,23.69L422.82,24.24L423.46,25.35L424.74,25.91L425.39,25.91L428.59,26.62L429.23,27.18L429.87,27.33L430.51,28.46L431.15,28.05L431.79,28.62L432.43,28.21L433.07,28.78L434.35,28.53L434.99,29.1L437.56,28.69L438.2,28.28L442.04,28.45L442.68,29.6L443.96,30.18L444.6,30.93L445.25,30.12L445.89,30.7L447.81,31.88L448.45,31.88L453.57,36.03L454.21,36.03L455.5,36.83L456.14,36.83L457.42,38.64L458.06,39.86L461.9,40.07L462.54,40.28L464.46,41.51L465.11,41.51L468.31,41.74L468.95,42.36L472.79,42.98L473.43,43.6L476.64,46.75L477.28,46.75L479.2,46.99L479.84,48.91L483.04,49.16L483.68,49.42L486.25,50.07L486.89,51.37L488.17,52.02L488.81,53.34L491.37,55.99L492.01,55.99L494.57,57.99L495.22,57.99L496.5,58.67L497.14,58.67L498.42,59.34L499.06,60.7L501.62,62.75L502.26,62.75L506.11,66.92L506.75,66.92L512.51,72.6L513.15,72.24L514.43,75.15L515.08,75.15L516.36,75.88L517,75.88L520.84,75.88L521.48,77.35L522.76,78.09L523.4,78.09L524.04,77.74L524.68,78.48L528.53,86.07L529.17,86.07L530.45,86.07L531.09,88.4L532.37,88.4L533.01,89.18L533.65,89.18L534.29,89.96L535.58,90.75L536.22,90.75L538.14,90.75L538.78,91.54L539.42,91.54L540.06,92.34L540.7,92.34L541.34,94.74L545.19,99.63L545.83,99.63L547.11,99.63L547.75,101.28L550.31,104.64L550.95,104.64L556.08,110.63L556.72,110.63L559.28,114.14L559.92,114.14L561.84,114.14L562.48,115.03L563.12,115.03L563.76,115.92L568.25,121.34L568.89,121.34L570.81,121.07L571.45,122.92L572.73,123.84L573.37,123.84L574.01,123.84L574.65,124.78L575.94,125.71L576.58,125.71L578.5,125.71L579.14,126.65L580.42,126.65L581.06,128.55L583.62,131.42L584.26,131.42L586.19,133.36L586.83,133.36L591.31,133.36L591.95,134.34L594.51,137.29L595.16,137.29L595.8,137.29L596.44,138.06L600.28,138.06L600.92,139.06L603.48,139.06L604.12,140.07L605.41,141.08L606.05,141.08L608.61,141.08L609.25,142.1L615.66,142.1L616.3,143.12L629.11,143.12L629.75,144.15L640,144.15\" style=\"vector-effect: non-scaling-stroke; fill: none; stroke: rgb(99, 110, 250); stroke-opacity: 1; stroke-width: 2px; opacity: 1;\"/></g><g class=\"points\"/><g class=\"text\"/></g></g></g><g class=\"overplot\"/><path class=\"xlines-above crisp\" d=\"M0,0\" style=\"fill: none;\"/><path class=\"ylines-above crisp\" d=\"M0,0\" style=\"fill: none;\"/><g class=\"overlines-above\"/><g class=\"xaxislayer-above\"><g class=\"xtick\"><text text-anchor=\"middle\" x=\"0\" y=\"333\" transform=\"translate(80,0)\" style=\"font-family: 'Open Sans', verdana, arial, sans-serif; font-size: 12px; fill: rgb(42, 63, 95); fill-opacity: 1; white-space: pre; opacity: 1;\">0</text></g><g class=\"xtick\"><text text-anchor=\"middle\" x=\"0\" y=\"333\" style=\"font-family: 'Open Sans', verdana, arial, sans-serif; font-size: 12px; fill: rgb(42, 63, 95); fill-opacity: 1; white-space: pre; opacity: 1;\" transform=\"translate(208.13,0)\">0.2</text></g><g class=\"xtick\"><text text-anchor=\"middle\" x=\"0\" y=\"333\" style=\"font-family: 'Open Sans', verdana, arial, sans-serif; font-size: 12px; fill: rgb(42, 63, 95); fill-opacity: 1; white-space: pre; opacity: 1;\" transform=\"translate(336.26,0)\">0.4</text></g><g class=\"xtick\"><text text-anchor=\"middle\" x=\"0\" y=\"333\" style=\"font-family: 'Open Sans', verdana, arial, sans-serif; font-size: 12px; fill: rgb(42, 63, 95); fill-opacity: 1; white-space: pre; opacity: 1;\" transform=\"translate(464.38,0)\">0.6</text></g><g class=\"xtick\"><text text-anchor=\"middle\" x=\"0\" y=\"333\" style=\"font-family: 'Open Sans', verdana, arial, sans-serif; font-size: 12px; fill: rgb(42, 63, 95); fill-opacity: 1; white-space: pre; opacity: 1;\" transform=\"translate(592.51,0)\">0.8</text></g></g><g class=\"yaxislayer-above\"><g class=\"ytick\"><text text-anchor=\"end\" x=\"79\" y=\"4.199999999999999\" transform=\"translate(0,312.18)\" style=\"font-family: 'Open Sans', verdana, arial, sans-serif; font-size: 12px; fill: rgb(42, 63, 95); fill-opacity: 1; white-space: pre; opacity: 1;\">0.2</text></g><g class=\"ytick\"><text text-anchor=\"end\" x=\"79\" y=\"4.199999999999999\" style=\"font-family: 'Open Sans', verdana, arial, sans-serif; font-size: 12px; fill: rgb(42, 63, 95); fill-opacity: 1; white-space: pre; opacity: 1;\" transform=\"translate(0,272.14)\">0.3</text></g><g class=\"ytick\"><text text-anchor=\"end\" x=\"79\" y=\"4.199999999999999\" style=\"font-family: 'Open Sans', verdana, arial, sans-serif; font-size: 12px; fill: rgb(42, 63, 95); fill-opacity: 1; white-space: pre; opacity: 1;\" transform=\"translate(0,232.1)\">0.4</text></g><g class=\"ytick\"><text text-anchor=\"end\" x=\"79\" y=\"4.199999999999999\" style=\"font-family: 'Open Sans', verdana, arial, sans-serif; font-size: 12px; fill: rgb(42, 63, 95); fill-opacity: 1; white-space: pre; opacity: 1;\" transform=\"translate(0,192.07)\">0.5</text></g><g class=\"ytick\"><text text-anchor=\"end\" x=\"79\" y=\"4.199999999999999\" style=\"font-family: 'Open Sans', verdana, arial, sans-serif; font-size: 12px; fill: rgb(42, 63, 95); fill-opacity: 1; white-space: pre; opacity: 1;\" transform=\"translate(0,152.03)\">0.6</text></g><g class=\"ytick\"><text text-anchor=\"end\" x=\"79\" y=\"4.199999999999999\" style=\"font-family: 'Open Sans', verdana, arial, sans-serif; font-size: 12px; fill: rgb(42, 63, 95); fill-opacity: 1; white-space: pre; opacity: 1;\" transform=\"translate(0,111.99000000000001)\">0.7</text></g><g class=\"ytick\"><text text-anchor=\"end\" x=\"79\" y=\"4.199999999999999\" style=\"font-family: 'Open Sans', verdana, arial, sans-serif; font-size: 12px; fill: rgb(42, 63, 95); fill-opacity: 1; white-space: pre; opacity: 1;\" transform=\"translate(0,71.95)\">0.8</text></g></g><g class=\"overaxes-above\"/></g></g><g class=\"polarlayer\"/><g class=\"smithlayer\"/><g class=\"ternarylayer\"/><g class=\"geolayer\"/><g class=\"funnelarealayer\"/><g class=\"pielayer\"/><g class=\"iciclelayer\"/><g class=\"treemaplayer\"/><g class=\"sunburstlayer\"/><g class=\"glimages\"/><defs id=\"topdefs-08c12b\"><g class=\"clips\"/></defs><g class=\"layer-above\"><g class=\"imagelayer\"/><g class=\"shapelayer\"><path data-index=\"0\" fill-rule=\"evenodd\" d=\"M396.48,320L396.48,60\" clip-path=\"url(#clip08c12bx)\" style=\"opacity: 1; stroke: rgb(0, 0, 0); stroke-opacity: 1; fill: rgb(0, 0, 0); fill-opacity: 0; stroke-dasharray: 9px, 9px; stroke-width: 2px;\"/></g></g><g class=\"infolayer\"><g class=\"g-gtitle\"><text class=\"gtitle\" x=\"40\" y=\"30\" text-anchor=\"start\" dy=\"0em\" style=\"font-family: 'Arial Black'; font-size: 20px; fill: rgb(42, 63, 95); opacity: 1; font-weight: normal; white-space: pre;\">Threshold Manipulation for Logistic Regression</text></g><g class=\"g-xtitle\"><text class=\"xtitle\" x=\"400\" y=\"360.8\" text-anchor=\"middle\" style=\"font-family: 'Open Sans', verdana, arial, sans-serif; font-size: 14px; fill: rgb(42, 63, 95); opacity: 1; font-weight: normal; white-space: pre;\">Thresholds</text></g><g class=\"g-ytitle\"><text class=\"ytitle\" transform=\"rotate(-90,34.575,190)\" x=\"34.575\" y=\"190\" text-anchor=\"middle\" style=\"font-family: 'Open Sans', verdana, arial, sans-serif; font-size: 14px; fill: rgb(42, 63, 95); opacity: 1; font-weight: normal; white-space: pre;\">f1_score</text></g></g></svg>"
      ]
     },
     "metadata": {},
     "output_type": "display_data"
    }
   ],
   "source": [
    "visuals.threshold_manipulation(pcaLR, y, LogisticRegression(max_iter=5000, C=1.0, penalty='elasticnet', \n",
    "                                                    solver='saga', l1_ratio=0.90), \"Logistic Regression\")"
   ]
  },
  {
   "cell_type": "markdown",
   "id": "035df83b",
   "metadata": {},
   "source": [
    "**C.2: Gradient Boosting Classifier Optimal Threshold**<br>\n",
    "The next step is to repeat the process for our Gradient Boosting Classifier."
   ]
  },
  {
   "cell_type": "code",
   "execution_count": 13,
   "id": "c6a5697a",
   "metadata": {},
   "outputs": [
    {
     "name": "stdout",
     "output_type": "stream",
     "text": [
      "Threshold=0.435, F-Score=0.78970\n"
     ]
    },
    {
     "data": {
      "image/svg+xml": [
       "<svg class=\"main-svg\" xmlns=\"http://www.w3.org/2000/svg\" xmlns:xlink=\"http://www.w3.org/1999/xlink\" width=\"800\" height=\"400\" style=\"\" viewBox=\"0 0 800 400\"><rect x=\"0\" y=\"0\" width=\"800\" height=\"400\" style=\"fill: rgb(255, 255, 255); fill-opacity: 1;\"/><defs id=\"defs-704979\"><g class=\"clips\"><clipPath id=\"clip704979xyplot\" class=\"plotclip\"><rect width=\"640\" height=\"260\"/></clipPath><clipPath class=\"axesclip\" id=\"clip704979x\"><rect x=\"80\" y=\"0\" width=\"640\" height=\"400\"/></clipPath><clipPath class=\"axesclip\" id=\"clip704979y\"><rect x=\"0\" y=\"60\" width=\"800\" height=\"260\"/></clipPath><clipPath class=\"axesclip\" id=\"clip704979xy\"><rect x=\"80\" y=\"60\" width=\"640\" height=\"260\"/></clipPath></g><g class=\"gradients\"/><g class=\"patterns\"/></defs><g class=\"bglayer\"><rect class=\"bg\" x=\"80\" y=\"60\" width=\"640\" height=\"260\" style=\"fill: rgb(248, 248, 246); fill-opacity: 1; stroke-width: 0;\"/></g><g class=\"layer-below\"><g class=\"imagelayer\"/><g class=\"shapelayer\"/></g><g class=\"cartesianlayer\"><g class=\"subplot xy\"><g class=\"layer-subplot\"><g class=\"shapelayer\"/><g class=\"imagelayer\"/></g><g class=\"minor-gridlayer\"><g class=\"x\"/><g class=\"y\"/></g><g class=\"gridlayer\"><g class=\"x\"><path class=\"xgrid crisp\" transform=\"translate(208.13,0)\" d=\"M0,60v260\" style=\"stroke: rgb(255, 255, 255); stroke-opacity: 1; stroke-width: 1px;\"/><path class=\"xgrid crisp\" transform=\"translate(336.26,0)\" d=\"M0,60v260\" style=\"stroke: rgb(255, 255, 255); stroke-opacity: 1; stroke-width: 1px;\"/><path class=\"xgrid crisp\" transform=\"translate(464.38,0)\" d=\"M0,60v260\" style=\"stroke: rgb(255, 255, 255); stroke-opacity: 1; stroke-width: 1px;\"/><path class=\"xgrid crisp\" transform=\"translate(592.51,0)\" d=\"M0,60v260\" style=\"stroke: rgb(255, 255, 255); stroke-opacity: 1; stroke-width: 1px;\"/></g><g class=\"y\"><path class=\"ygrid crisp\" transform=\"translate(0,312.25)\" d=\"M80,0h640\" style=\"stroke: rgb(255, 255, 255); stroke-opacity: 1; stroke-width: 1px;\"/><path class=\"ygrid crisp\" transform=\"translate(0,271.68)\" d=\"M80,0h640\" style=\"stroke: rgb(255, 255, 255); stroke-opacity: 1; stroke-width: 1px;\"/><path class=\"ygrid crisp\" transform=\"translate(0,231.11)\" d=\"M80,0h640\" style=\"stroke: rgb(255, 255, 255); stroke-opacity: 1; stroke-width: 1px;\"/><path class=\"ygrid crisp\" transform=\"translate(0,190.53)\" d=\"M80,0h640\" style=\"stroke: rgb(255, 255, 255); stroke-opacity: 1; stroke-width: 1px;\"/><path class=\"ygrid crisp\" transform=\"translate(0,149.95999999999998)\" d=\"M80,0h640\" style=\"stroke: rgb(255, 255, 255); stroke-opacity: 1; stroke-width: 1px;\"/><path class=\"ygrid crisp\" transform=\"translate(0,109.39)\" d=\"M80,0h640\" style=\"stroke: rgb(255, 255, 255); stroke-opacity: 1; stroke-width: 1px;\"/><path class=\"ygrid crisp\" transform=\"translate(0,68.82)\" d=\"M80,0h640\" style=\"stroke: rgb(255, 255, 255); stroke-opacity: 1; stroke-width: 1px;\"/></g></g><g class=\"zerolinelayer\"><path class=\"xzl zl crisp\" transform=\"translate(80,0)\" d=\"M0,60v260\" style=\"stroke: rgb(255, 255, 255); stroke-opacity: 1; stroke-width: 2px;\"/></g><path class=\"xlines-below\"/><path class=\"ylines-below\"/><g class=\"overlines-below\"/><g class=\"xaxislayer-below\"/><g class=\"yaxislayer-below\"/><g class=\"overaxes-below\"/><g class=\"plot\" transform=\"translate(80,60)\" clip-path=\"url(#clip704979xyplot)\"><g class=\"scatterlayer mlayer\"><g class=\"trace scatter trace0d8bd0\" style=\"stroke-miterlimit: 2; opacity: 1;\"><g class=\"fills\"/><g class=\"errorbars\"/><g class=\"lines\"><path class=\"js-line\" d=\"M0,247L92.89,247L93.53,237.75L97.38,237.75L98.02,217.45L99.94,217.45L100.58,209.66L103.14,209.66L103.78,208.8L104.42,207.11L105.07,194.13L106.35,173.39L106.99,171.18L108.91,164.93L109.55,164.93L110.83,153.22L111.47,153.22L112.11,146.8L112.75,132.27L113.39,132.27L114.03,129.13L115.32,129.48L115.96,127.62L117.24,127.62L117.88,123.67L118.52,121.6L119.16,105.48L122.36,105.48L123,103.39L124.28,101.13L124.92,100.57L126.85,93.72L127.49,93.72L128.77,91.53L129.41,91.53L130.05,91.53L130.69,89.9L131.97,89.35L132.61,88.27L133.89,85.58L134.53,85.3L135.82,82.51L136.46,81.98L138.38,80.93L139.02,81.33L140.94,78.71L141.58,78.71L143.5,78.19L144.14,75.59L146.07,70.96L146.71,67.39L147.35,67.39L147.99,66.52L149.91,65.52L150.55,65.52L151.19,65.52L151.83,64.02L152.47,63.52L153.11,61.54L155.68,55.08L156.32,55.08L158.88,54.53L159.52,53.5L160.8,52.53L161.44,51.08L162.08,51.08L162.72,50.12L164,48.68L164.64,48.68L169.77,45.69L170.41,45.69L173.61,45.05L174.25,44.11L175.54,42.71L176.18,39.44L181.94,35.64L182.58,35.64L183.86,35.15L184.5,34.23L185.15,34.23L185.79,32.86L187.07,33.31L187.71,32.84L188.99,32.83L189.63,31.92L190.91,31.45L191.55,31.89L193.47,30.09L194.11,30.09L196.68,31.43L197.32,30.98L199.24,31.43L199.88,31.87L201.16,31.43L201.8,30.98L205.01,29.65L205.65,29.65L207.57,29.21L208.21,28.31L215.9,23L216.54,22.12L219.1,22.12L219.74,23.05L222.3,22.61L222.94,22.17L223.58,22.17L224.22,21.29L226.15,19.09L226.79,19.09L233.19,18.72L233.83,18.28L234.47,18.28L235.12,17.46L237.04,17.95L237.68,17.95L240.88,17.98L241.52,15.8L247.93,15.91L248.57,15.04L254.97,15.58L255.62,14.71L257.54,14.28L258.18,14.28L263.3,14.92L263.94,15.4L268.43,15.44L269.07,15.01L270.35,15.49L270.99,15.06L273.55,14.67L274.19,14.24L276.76,14.29L277.4,13.86L279.32,13L279.96,13.05L281.24,13.16L281.88,14.13L287.65,14.24L288.29,15.7L290.21,16.25L290.85,16.74L291.49,17.72L292.13,17.3L294.05,16.87L294.69,16.87L295.34,16.87L295.98,17.85L296.62,18.84L297.26,17.99L300.46,18.49L301.1,17.28L305.59,17.78L306.23,18.85L306.87,18L307.51,18.5L308.79,18.66L309.43,18.66L314.55,18.32L315.2,17.89L317.12,18.06L317.76,17.63L320.32,19.16L320.96,19.16L326.73,18.92L327.37,19.95L332.49,20.55L333.13,21.07L336.34,19.81L336.98,19.81L338.9,19.16L339.54,19.16L342.1,19.68L342.74,20.73L345.31,21.25L345.95,21.78L347.23,21.78L347.87,22.83L349.79,22.83L350.43,21.99L351.71,21.15L352.35,20.73L354.91,22.02L355.56,22.14L356.2,22.14L356.84,23.33L359.4,22.49L360.04,24.11L361.32,24.24L361.96,25.88L364.52,27.52L365.17,27.52L367.73,28.07L368.37,30.58L370.29,30.72L370.93,32.15L379.26,32.38L379.9,33.87L383.1,34.45L383.74,36.19L385.03,36.37L385.67,36.96L386.95,37.14L387.59,37.14L388.87,37.33L389.51,39.11L390.79,39.71L391.43,38.89L396.56,39.5L397.2,38.7L397.84,39.31L398.48,41.77L399.76,42.39L400.4,43.63L401.68,43.86L402.32,43.86L402.96,43.46L403.6,44.09L404.88,44.72L405.53,44.32L407.45,45.19L408.09,45.19L410.65,47.1L411.29,47.1L415.78,51.23L416.42,50.84L417.7,51.5L418.34,52.81L419.62,54.14L420.26,54.14L421.54,56.13L422.18,56.13L424.74,56.81L425.39,57.48L428.59,58.15L429.23,58.83L432.43,59.13L433.07,60.49L436.28,61.18L436.92,62.56L439.48,64.6L440.12,64.6L440.76,64.6L441.4,67.42L442.68,68.13L443.32,69.56L443.96,69.56L444.6,71L447.17,71L447.81,73.18L453.57,78.75L454.21,78.75L454.85,78.75L455.5,79.51L456.78,80.26L457.42,80.26L458.7,82.2L459.34,82.2L460.62,83.74L461.26,86.07L461.9,86.07L462.54,86.85L464.46,89.21L465.11,91.27L468.31,94.5L468.95,94.5L471.51,96.96L472.15,96.96L473.43,98.62L474.07,98.62L474.71,98.62L475.36,99.45L476,101.66L476.64,101.35L477.28,101.35L479.84,101.03L480.48,101.89L482.4,103.6L483.04,103.6L483.68,103.6L484.32,107.06L484.96,107.06L485.61,108.82L488.17,108.82L488.81,109.7L490.09,111.48L490.73,112.37L491.37,112.37L492.01,113.27L492.65,113.27L493.29,114.17L497.78,114.17L498.42,116.9L500.34,118.74L500.98,118.74L502.26,118.74L502.9,121.53L506.11,124.1L506.75,124.1L509.31,124.1L509.95,125.05L511.23,125.05L511.87,126.01L513.79,127.94L514.43,127.94L522.12,127.94L522.76,128.91L525.97,129.64L526.61,130.62L527.25,130.62L527.89,132.6L529.17,136.61L529.81,136.61L531.09,136.61L531.73,139.67L533.01,139.67L533.65,140.7L543.9,140.7L544.54,142.78L640,142.78\" style=\"vector-effect: non-scaling-stroke; fill: none; stroke: rgb(99, 110, 250); stroke-opacity: 1; stroke-width: 2px; opacity: 1;\"/></g><g class=\"points\"/><g class=\"text\"/></g></g></g><g class=\"overplot\"/><path class=\"xlines-above crisp\" d=\"M0,0\" style=\"fill: none;\"/><path class=\"ylines-above crisp\" d=\"M0,0\" style=\"fill: none;\"/><g class=\"overlines-above\"/><g class=\"xaxislayer-above\"><g class=\"xtick\"><text text-anchor=\"middle\" x=\"0\" y=\"333\" transform=\"translate(80,0)\" style=\"font-family: 'Open Sans', verdana, arial, sans-serif; font-size: 12px; fill: rgb(42, 63, 95); fill-opacity: 1; white-space: pre; opacity: 1;\">0</text></g><g class=\"xtick\"><text text-anchor=\"middle\" x=\"0\" y=\"333\" style=\"font-family: 'Open Sans', verdana, arial, sans-serif; font-size: 12px; fill: rgb(42, 63, 95); fill-opacity: 1; white-space: pre; opacity: 1;\" transform=\"translate(208.13,0)\">0.2</text></g><g class=\"xtick\"><text text-anchor=\"middle\" x=\"0\" y=\"333\" style=\"font-family: 'Open Sans', verdana, arial, sans-serif; font-size: 12px; fill: rgb(42, 63, 95); fill-opacity: 1; white-space: pre; opacity: 1;\" transform=\"translate(336.26,0)\">0.4</text></g><g class=\"xtick\"><text text-anchor=\"middle\" x=\"0\" y=\"333\" style=\"font-family: 'Open Sans', verdana, arial, sans-serif; font-size: 12px; fill: rgb(42, 63, 95); fill-opacity: 1; white-space: pre; opacity: 1;\" transform=\"translate(464.38,0)\">0.6</text></g><g class=\"xtick\"><text text-anchor=\"middle\" x=\"0\" y=\"333\" style=\"font-family: 'Open Sans', verdana, arial, sans-serif; font-size: 12px; fill: rgb(42, 63, 95); fill-opacity: 1; white-space: pre; opacity: 1;\" transform=\"translate(592.51,0)\">0.8</text></g></g><g class=\"yaxislayer-above\"><g class=\"ytick\"><text text-anchor=\"end\" x=\"79\" y=\"4.199999999999999\" transform=\"translate(0,312.25)\" style=\"font-family: 'Open Sans', verdana, arial, sans-serif; font-size: 12px; fill: rgb(42, 63, 95); fill-opacity: 1; white-space: pre; opacity: 1;\">0.2</text></g><g class=\"ytick\"><text text-anchor=\"end\" x=\"79\" y=\"4.199999999999999\" style=\"font-family: 'Open Sans', verdana, arial, sans-serif; font-size: 12px; fill: rgb(42, 63, 95); fill-opacity: 1; white-space: pre; opacity: 1;\" transform=\"translate(0,271.68)\">0.3</text></g><g class=\"ytick\"><text text-anchor=\"end\" x=\"79\" y=\"4.199999999999999\" style=\"font-family: 'Open Sans', verdana, arial, sans-serif; font-size: 12px; fill: rgb(42, 63, 95); fill-opacity: 1; white-space: pre; opacity: 1;\" transform=\"translate(0,231.11)\">0.4</text></g><g class=\"ytick\"><text text-anchor=\"end\" x=\"79\" y=\"4.199999999999999\" style=\"font-family: 'Open Sans', verdana, arial, sans-serif; font-size: 12px; fill: rgb(42, 63, 95); fill-opacity: 1; white-space: pre; opacity: 1;\" transform=\"translate(0,190.53)\">0.5</text></g><g class=\"ytick\"><text text-anchor=\"end\" x=\"79\" y=\"4.199999999999999\" style=\"font-family: 'Open Sans', verdana, arial, sans-serif; font-size: 12px; fill: rgb(42, 63, 95); fill-opacity: 1; white-space: pre; opacity: 1;\" transform=\"translate(0,149.95999999999998)\">0.6</text></g><g class=\"ytick\"><text text-anchor=\"end\" x=\"79\" y=\"4.199999999999999\" style=\"font-family: 'Open Sans', verdana, arial, sans-serif; font-size: 12px; fill: rgb(42, 63, 95); fill-opacity: 1; white-space: pre; opacity: 1;\" transform=\"translate(0,109.39)\">0.7</text></g><g class=\"ytick\"><text text-anchor=\"end\" x=\"79\" y=\"4.199999999999999\" style=\"font-family: 'Open Sans', verdana, arial, sans-serif; font-size: 12px; fill: rgb(42, 63, 95); fill-opacity: 1; white-space: pre; opacity: 1;\" transform=\"translate(0,68.82)\">0.8</text></g></g><g class=\"overaxes-above\"/></g></g><g class=\"polarlayer\"/><g class=\"smithlayer\"/><g class=\"ternarylayer\"/><g class=\"geolayer\"/><g class=\"funnelarealayer\"/><g class=\"pielayer\"/><g class=\"iciclelayer\"/><g class=\"treemaplayer\"/><g class=\"sunburstlayer\"/><g class=\"glimages\"/><defs id=\"topdefs-704979\"><g class=\"clips\"/></defs><g class=\"layer-above\"><g class=\"imagelayer\"/><g class=\"shapelayer\"><path data-index=\"0\" fill-rule=\"evenodd\" d=\"M358.68,320L358.68,60\" clip-path=\"url(#clip704979x)\" style=\"opacity: 1; stroke: rgb(0, 0, 0); stroke-opacity: 1; fill: rgb(0, 0, 0); fill-opacity: 0; stroke-dasharray: 9px, 9px; stroke-width: 2px;\"/></g></g><g class=\"infolayer\"><g class=\"g-gtitle\"><text class=\"gtitle\" x=\"40\" y=\"30\" text-anchor=\"start\" dy=\"0em\" style=\"font-family: 'Arial Black'; font-size: 20px; fill: rgb(42, 63, 95); opacity: 1; font-weight: normal; white-space: pre;\">Threshold Manipulation for Gradient Boosting Classifier</text></g><g class=\"g-xtitle\"><text class=\"xtitle\" x=\"400\" y=\"360.8\" text-anchor=\"middle\" style=\"font-family: 'Open Sans', verdana, arial, sans-serif; font-size: 14px; fill: rgb(42, 63, 95); opacity: 1; font-weight: normal; white-space: pre;\">Thresholds</text></g><g class=\"g-ytitle\"><text class=\"ytitle\" transform=\"rotate(-90,34.575,190)\" x=\"34.575\" y=\"190\" text-anchor=\"middle\" style=\"font-family: 'Open Sans', verdana, arial, sans-serif; font-size: 14px; fill: rgb(42, 63, 95); opacity: 1; font-weight: normal; white-space: pre;\">f1_score</text></g></g></svg>"
      ]
     },
     "metadata": {},
     "output_type": "display_data"
    }
   ],
   "source": [
    "visuals.threshold_manipulation(pcaGBC, y, GradientBoostingClassifier(learning_rate=0.1, max_depth=2, min_samples_split=30,\n",
    "                                                            n_estimators=250, n_iter_no_change=20, validation_fraction=0.2, \n",
    "                                                            tol=2.5), \"Gradient Boosting Classifier\")"
   ]
  },
  {
   "cell_type": "markdown",
   "id": "29f2cac5",
   "metadata": {},
   "source": [
    "**C.3: XGB Classifier Optimal Threshold**<br>\n",
    "Finally, testing our threshold function on our XGB Classifier."
   ]
  },
  {
   "cell_type": "code",
   "execution_count": 14,
   "id": "f22bbb28",
   "metadata": {
    "scrolled": false
   },
   "outputs": [
    {
     "name": "stdout",
     "output_type": "stream",
     "text": [
      "Threshold=0.518, F-Score=0.82122\n"
     ]
    },
    {
     "data": {
      "image/svg+xml": [
       "<svg class=\"main-svg\" xmlns=\"http://www.w3.org/2000/svg\" xmlns:xlink=\"http://www.w3.org/1999/xlink\" width=\"800\" height=\"400\" style=\"\" viewBox=\"0 0 800 400\"><rect x=\"0\" y=\"0\" width=\"800\" height=\"400\" style=\"fill: rgb(255, 255, 255); fill-opacity: 1;\"/><defs id=\"defs-4766b6\"><g class=\"clips\"><clipPath id=\"clip4766b6xyplot\" class=\"plotclip\"><rect width=\"640\" height=\"260\"/></clipPath><clipPath class=\"axesclip\" id=\"clip4766b6x\"><rect x=\"80\" y=\"0\" width=\"640\" height=\"400\"/></clipPath><clipPath class=\"axesclip\" id=\"clip4766b6y\"><rect x=\"0\" y=\"60\" width=\"800\" height=\"260\"/></clipPath><clipPath class=\"axesclip\" id=\"clip4766b6xy\"><rect x=\"80\" y=\"60\" width=\"640\" height=\"260\"/></clipPath></g><g class=\"gradients\"/><g class=\"patterns\"/></defs><g class=\"bglayer\"><rect class=\"bg\" x=\"80\" y=\"60\" width=\"640\" height=\"260\" style=\"fill: rgb(248, 248, 246); fill-opacity: 1; stroke-width: 0;\"/></g><g class=\"layer-below\"><g class=\"imagelayer\"/><g class=\"shapelayer\"/></g><g class=\"cartesianlayer\"><g class=\"subplot xy\"><g class=\"layer-subplot\"><g class=\"shapelayer\"/><g class=\"imagelayer\"/></g><g class=\"minor-gridlayer\"><g class=\"x\"/><g class=\"y\"/></g><g class=\"gridlayer\"><g class=\"x\"><path class=\"xgrid crisp\" transform=\"translate(208.13,0)\" d=\"M0,60v260\" style=\"stroke: rgb(255, 255, 255); stroke-opacity: 1; stroke-width: 1px;\"/><path class=\"xgrid crisp\" transform=\"translate(336.26,0)\" d=\"M0,60v260\" style=\"stroke: rgb(255, 255, 255); stroke-opacity: 1; stroke-width: 1px;\"/><path class=\"xgrid crisp\" transform=\"translate(464.38,0)\" d=\"M0,60v260\" style=\"stroke: rgb(255, 255, 255); stroke-opacity: 1; stroke-width: 1px;\"/><path class=\"xgrid crisp\" transform=\"translate(592.51,0)\" d=\"M0,60v260\" style=\"stroke: rgb(255, 255, 255); stroke-opacity: 1; stroke-width: 1px;\"/></g><g class=\"y\"><path class=\"ygrid crisp\" transform=\"translate(0,311.97)\" d=\"M80,0h640\" style=\"stroke: rgb(255, 255, 255); stroke-opacity: 1; stroke-width: 1px;\"/><path class=\"ygrid crisp\" transform=\"translate(0,273.51)\" d=\"M80,0h640\" style=\"stroke: rgb(255, 255, 255); stroke-opacity: 1; stroke-width: 1px;\"/><path class=\"ygrid crisp\" transform=\"translate(0,235.04)\" d=\"M80,0h640\" style=\"stroke: rgb(255, 255, 255); stroke-opacity: 1; stroke-width: 1px;\"/><path class=\"ygrid crisp\" transform=\"translate(0,196.57)\" d=\"M80,0h640\" style=\"stroke: rgb(255, 255, 255); stroke-opacity: 1; stroke-width: 1px;\"/><path class=\"ygrid crisp\" transform=\"translate(0,158.1)\" d=\"M80,0h640\" style=\"stroke: rgb(255, 255, 255); stroke-opacity: 1; stroke-width: 1px;\"/><path class=\"ygrid crisp\" transform=\"translate(0,119.63)\" d=\"M80,0h640\" style=\"stroke: rgb(255, 255, 255); stroke-opacity: 1; stroke-width: 1px;\"/><path class=\"ygrid crisp\" transform=\"translate(0,81.16)\" d=\"M80,0h640\" style=\"stroke: rgb(255, 255, 255); stroke-opacity: 1; stroke-width: 1px;\"/></g></g><g class=\"zerolinelayer\"><path class=\"xzl zl crisp\" transform=\"translate(80,0)\" d=\"M0,60v260\" style=\"stroke: rgb(255, 255, 255); stroke-opacity: 1; stroke-width: 2px;\"/></g><path class=\"xlines-below\"/><path class=\"ylines-below\"/><g class=\"overlines-below\"/><g class=\"xaxislayer-below\"/><g class=\"yaxislayer-below\"/><g class=\"overaxes-below\"/><g class=\"plot\" transform=\"translate(80,60)\" clip-path=\"url(#clip4766b6xyplot)\"><g class=\"scatterlayer mlayer\"><g class=\"trace scatter trace658c35\" style=\"stroke-miterlimit: 2; opacity: 1;\"><g class=\"fills\"/><g class=\"errorbars\"/><g class=\"lines\"><path class=\"js-line\" d=\"M0,247L29.47,247L30.11,245.15L32.03,245.15L32.67,244.22L33.95,237.85L34.59,234.27L35.24,234.27L35.88,233.38L36.52,233.58L37.16,232.9L40.36,227.01L41,225.72L44.2,218.22L44.84,215.19L46.13,213.57L46.77,208.77L47.41,207.98L48.05,205.87L53.81,180.18L54.45,180.18L56.38,173.49L57.02,171.73L58.94,164.99L59.58,164.63L60.86,161.64L61.5,160.65L62.14,160L62.78,157.41L65.35,155.48L65.99,153.58L67.27,153.9L67.91,151.4L71.75,145.24L72.39,144.63L74.95,138.62L75.6,136.84L76.88,132.15L77.52,131.56L80.08,128.1L80.72,128.1L82.64,126.16L83.28,123.89L83.92,122.56L84.56,122.91L85.21,122.91L90.33,116.98L90.97,114.25L93.53,109.42L94.17,107.82L95.46,106.76L96.1,106.23L98.02,102.56L98.66,102.04L99.3,102.04L99.94,101L100.58,100.48L101.22,98.93L102.5,97.11L103.14,96.09L103.78,94.06L104.42,94.43L105.07,93.93L105.71,94.18L106.35,92.67L108.27,87.21L108.91,87.21L110.83,85.24L111.47,84.65L113.39,82.7L114.03,82.7L115.96,82.21L116.6,81.73L117.88,79.79L118.52,79.7L119.8,78.26L120.44,75.88L121.08,75.88L121.72,73.5L123,73.75L123.64,72.34L124.92,71.87L125.57,72.26L126.85,71.8L127.49,69.93L128.13,69.93L128.77,68.07L131.33,66.69L131.97,67.09L135.18,62.9L135.82,62.45L137.74,61.54L138.38,61.54L140.94,57.42L141.58,56.08L146.07,52.91L146.71,51.58L149.27,51.49L149.91,50.61L156.32,46.22L156.96,44.91L158.24,43.6L158.88,43.6L160.16,43.16L160.8,42.73L162.08,41.41L162.72,41.41L164,40.54L164.64,40.1L165.93,40.52L166.57,39.66L170.41,37.5L171.05,37.5L171.69,36.64L172.33,37.07L180.02,32.8L180.66,32.8L183.22,31.96L183.86,31.96L185.79,31.96L186.43,30.68L187.71,30.69L188.35,30.27L189.63,29.42L190.27,29L196.04,28.59L196.68,28.16L206.29,27.76L206.93,26.92L208.21,26.5L208.85,26.08L211.41,26.1L212.05,25.68L216.54,22.32L217.18,23.19L217.82,23.19L218.46,22.36L220.38,22.36L221.02,21.52L222.3,21.96L222.94,21.13L229.35,21.19L229.99,20.77L233.19,20.36L233.83,19.94L235.12,21.26L235.76,21.26L246.01,21.31L246.65,20.48L249.85,18.83L250.49,18.83L254.97,18.44L255.62,18.03L256.9,18.47L257.54,18.06L258.82,17.64L259.46,17.23L262.66,15.99L263.3,15.99L264.58,16.43L265.23,16.88L278.04,16.53L278.68,15.71L279.32,15.71L279.96,14.88L283.8,14.92L284.44,14.09L288.93,14.13L289.57,14.58L291.49,14.17L292.13,14.62L296.62,14.21L297.26,15.11L297.9,15.11L298.54,14.29L299.82,14.33L300.46,14.33L301.74,14.37L302.38,14.37L305.59,14.41L306.23,14.87L318.4,15.01L319.04,14.6L322.24,14.19L322.88,13.77L328.01,13.82L328.65,13.41L333.77,13.46L334.41,13.92L335.7,14.38L336.34,13.97L341.46,14.59L342.1,15.11L349.79,15.23L350.43,15.69L351.71,14.87L352.35,14.87L354.91,15.4L355.56,15.87L358.76,15.53L359.4,15.53L360.68,16.47L361.32,16.13L363.88,15.38L364.52,15.38L367.73,14.97L368.37,14.56L371.57,14.56L372.21,15.51L374.77,14.76L375.42,14.76L377.34,15.24L377.98,15.72L379.26,16.2L379.9,16.68L381.18,17.65L381.82,17.65L385.67,18.13L386.31,18.61L387.59,20.07L388.23,20.07L395.28,19.66L395.92,19.26L398.48,18.85L399.12,19.91L400.4,20.4L401.04,20.89L406.81,21.39L407.45,21.88L413.85,22.06L414.49,23.05L417.06,23.05L417.7,24.05L418.98,25.55L419.62,25.14L424.1,25.75L424.74,24.94L426.03,25.45L426.67,25.95L429.87,25.95L430.51,26.97L434.99,27.47L435.64,28.49L443.96,29.12L444.6,29.35L450.37,29.06L451.01,28.66L452.29,29.18L452.93,28.78L453.57,28.78L454.21,29.82L455.5,30.87L456.14,30.87L463.82,31.12L464.46,31.65L467.03,32.97L467.67,32.97L474.07,32.45L474.71,32.05L476.64,32.59L477.28,33.13L481.76,33.81L482.4,34.9L483.68,35.6L484.32,35.6L486.25,36.14L486.89,37.24L490.73,37.8L491.37,38.35L495.22,39.07L495.86,39.62L499.06,42.43L499.7,42.43L500.98,42.43L501.62,43.56L502.9,46.03L503.54,49.5L505.47,50.09L506.11,50.67L509.95,50.88L510.59,51.47L512.51,52.06L513.15,53.25L515.72,55.64L516.36,55.64L517.64,56.25L518.28,56.85L521.48,58.91L522.12,58.91L522.76,58.91L523.4,60.14L525.33,61.37L525.97,61.37L527.89,64.49L528.53,65.12L529.81,65.75L530.45,65.75L534.29,68.58L534.93,68.58L536.22,68.22L536.86,68.86L538.78,70.81L539.42,72.41L540.7,75.03L541.34,75.03L544.54,78.41L545.19,81.16L548.39,83.94L549.03,83.94L550.31,84.3L550.95,84.3L552.87,86.42L553.51,86.42L554.79,86.09L555.44,86.8L556.72,87.52L557.36,88.96L558,89.68L558.64,91.87L559.92,92.61L560.56,94.82L562.48,97.51L563.12,98.26L564.4,99.02L565.05,99.02L566.33,99.02L566.97,99.79L567.61,99.79L568.25,101.02L568.89,101.02L569.53,102.57L571.45,104.13L572.09,104.13L575.3,107.29L575.94,107.29L576.58,107.29L577.22,109.7L579.78,112.66L580.42,115.98L582.34,118.5L582.98,121.91L584.26,124.51L584.9,127.15L586.19,128.92L586.83,128.92L591.31,135.26L591.95,135.26L592.59,135.26L593.23,138.04L594.51,141.81L595.16,142.77L595.8,142.55L596.44,143.51L597.08,143.51L597.72,144.47L598.36,144.47L599,145.44L600.28,147.4L600.92,147.4L602.2,148.38L602.84,148.18L640,148.18\" style=\"vector-effect: non-scaling-stroke; fill: none; stroke: rgb(99, 110, 250); stroke-opacity: 1; stroke-width: 2px; opacity: 1;\"/></g><g class=\"points\"/><g class=\"text\"/></g></g></g><g class=\"overplot\"/><path class=\"xlines-above crisp\" d=\"M0,0\" style=\"fill: none;\"/><path class=\"ylines-above crisp\" d=\"M0,0\" style=\"fill: none;\"/><g class=\"overlines-above\"/><g class=\"xaxislayer-above\"><g class=\"xtick\"><text text-anchor=\"middle\" x=\"0\" y=\"333\" transform=\"translate(80,0)\" style=\"font-family: 'Open Sans', verdana, arial, sans-serif; font-size: 12px; fill: rgb(42, 63, 95); fill-opacity: 1; white-space: pre; opacity: 1;\">0</text></g><g class=\"xtick\"><text text-anchor=\"middle\" x=\"0\" y=\"333\" style=\"font-family: 'Open Sans', verdana, arial, sans-serif; font-size: 12px; fill: rgb(42, 63, 95); fill-opacity: 1; white-space: pre; opacity: 1;\" transform=\"translate(208.13,0)\">0.2</text></g><g class=\"xtick\"><text text-anchor=\"middle\" x=\"0\" y=\"333\" style=\"font-family: 'Open Sans', verdana, arial, sans-serif; font-size: 12px; fill: rgb(42, 63, 95); fill-opacity: 1; white-space: pre; opacity: 1;\" transform=\"translate(336.26,0)\">0.4</text></g><g class=\"xtick\"><text text-anchor=\"middle\" x=\"0\" y=\"333\" style=\"font-family: 'Open Sans', verdana, arial, sans-serif; font-size: 12px; fill: rgb(42, 63, 95); fill-opacity: 1; white-space: pre; opacity: 1;\" transform=\"translate(464.38,0)\">0.6</text></g><g class=\"xtick\"><text text-anchor=\"middle\" x=\"0\" y=\"333\" style=\"font-family: 'Open Sans', verdana, arial, sans-serif; font-size: 12px; fill: rgb(42, 63, 95); fill-opacity: 1; white-space: pre; opacity: 1;\" transform=\"translate(592.51,0)\">0.8</text></g></g><g class=\"yaxislayer-above\"><g class=\"ytick\"><text text-anchor=\"end\" x=\"79\" y=\"4.199999999999999\" transform=\"translate(0,311.97)\" style=\"font-family: 'Open Sans', verdana, arial, sans-serif; font-size: 12px; fill: rgb(42, 63, 95); fill-opacity: 1; white-space: pre; opacity: 1;\">0.2</text></g><g class=\"ytick\"><text text-anchor=\"end\" x=\"79\" y=\"4.199999999999999\" style=\"font-family: 'Open Sans', verdana, arial, sans-serif; font-size: 12px; fill: rgb(42, 63, 95); fill-opacity: 1; white-space: pre; opacity: 1;\" transform=\"translate(0,273.51)\">0.3</text></g><g class=\"ytick\"><text text-anchor=\"end\" x=\"79\" y=\"4.199999999999999\" style=\"font-family: 'Open Sans', verdana, arial, sans-serif; font-size: 12px; fill: rgb(42, 63, 95); fill-opacity: 1; white-space: pre; opacity: 1;\" transform=\"translate(0,235.04)\">0.4</text></g><g class=\"ytick\"><text text-anchor=\"end\" x=\"79\" y=\"4.199999999999999\" style=\"font-family: 'Open Sans', verdana, arial, sans-serif; font-size: 12px; fill: rgb(42, 63, 95); fill-opacity: 1; white-space: pre; opacity: 1;\" transform=\"translate(0,196.57)\">0.5</text></g><g class=\"ytick\"><text text-anchor=\"end\" x=\"79\" y=\"4.199999999999999\" style=\"font-family: 'Open Sans', verdana, arial, sans-serif; font-size: 12px; fill: rgb(42, 63, 95); fill-opacity: 1; white-space: pre; opacity: 1;\" transform=\"translate(0,158.1)\">0.6</text></g><g class=\"ytick\"><text text-anchor=\"end\" x=\"79\" y=\"4.199999999999999\" style=\"font-family: 'Open Sans', verdana, arial, sans-serif; font-size: 12px; fill: rgb(42, 63, 95); fill-opacity: 1; white-space: pre; opacity: 1;\" transform=\"translate(0,119.63)\">0.7</text></g><g class=\"ytick\"><text text-anchor=\"end\" x=\"79\" y=\"4.199999999999999\" style=\"font-family: 'Open Sans', verdana, arial, sans-serif; font-size: 12px; fill: rgb(42, 63, 95); fill-opacity: 1; white-space: pre; opacity: 1;\" transform=\"translate(0,81.16)\">0.8</text></g></g><g class=\"overaxes-above\"/></g></g><g class=\"polarlayer\"/><g class=\"smithlayer\"/><g class=\"ternarylayer\"/><g class=\"geolayer\"/><g class=\"funnelarealayer\"/><g class=\"pielayer\"/><g class=\"iciclelayer\"/><g class=\"treemaplayer\"/><g class=\"sunburstlayer\"/><g class=\"glimages\"/><defs id=\"topdefs-4766b6\"><g class=\"clips\"/></defs><g class=\"layer-above\"><g class=\"imagelayer\"/><g class=\"shapelayer\"><path data-index=\"0\" fill-rule=\"evenodd\" d=\"M411.85,320L411.85,60\" clip-path=\"url(#clip4766b6x)\" style=\"opacity: 1; stroke: rgb(0, 0, 0); stroke-opacity: 1; fill: rgb(0, 0, 0); fill-opacity: 0; stroke-dasharray: 9px, 9px; stroke-width: 2px;\"/></g></g><g class=\"infolayer\"><g class=\"g-gtitle\"><text class=\"gtitle\" x=\"40\" y=\"30\" text-anchor=\"start\" dy=\"0em\" style=\"font-family: 'Arial Black'; font-size: 20px; fill: rgb(42, 63, 95); opacity: 1; font-weight: normal; white-space: pre;\">Threshold Manipulation for XGBClassifier</text></g><g class=\"g-xtitle\"><text class=\"xtitle\" x=\"400\" y=\"360.8\" text-anchor=\"middle\" style=\"font-family: 'Open Sans', verdana, arial, sans-serif; font-size: 14px; fill: rgb(42, 63, 95); opacity: 1; font-weight: normal; white-space: pre;\">Thresholds</text></g><g class=\"g-ytitle\"><text class=\"ytitle\" transform=\"rotate(-90,34.575,190)\" x=\"34.575\" y=\"190\" text-anchor=\"middle\" style=\"font-family: 'Open Sans', verdana, arial, sans-serif; font-size: 14px; fill: rgb(42, 63, 95); opacity: 1; font-weight: normal; white-space: pre;\">f1_score</text></g></g></svg>"
      ]
     },
     "metadata": {},
     "output_type": "display_data"
    }
   ],
   "source": [
    "visuals.threshold_manipulation(pcaXGB, y, XGBClassifier(learning_rate=0.01, \n",
    "                                 max_depth=20, min_child_weight=5, n_estimators= test.clf.best_ntree_limit), \n",
    "                                 \"XGBClassifier\") # Remember to set n_estimators to 279 from early stopping. "
   ]
  },
  {
   "cell_type": "markdown",
   "id": "680284d2",
   "metadata": {},
   "source": [
    "**C.4: Conclusion**<br>\n",
    "To sum up, we successfully regularized our regressor models through early stopping and managed to soften the impact of overfitting, whilst still retaining our strong validation performance. With all our models regularized and fitted with the best combination of hyperparameters and thresholds it is now time to truely test our algorithms on the holdout dataset, that we put aside from the beginning of the project."
   ]
  },
  {
   "cell_type": "markdown",
   "id": "1193380e",
   "metadata": {},
   "source": [
    "&nbsp;"
   ]
  },
  {
   "cell_type": "markdown",
   "id": "5aef2a08",
   "metadata": {},
   "source": [
    "| Model | Model Type | Regularized Hyperparameters |Threshold | \n",
    "|---------|---------|---------|---------|\n",
    "| **Logistic Regression** | PCA Data   |max_iter=5000, C=1.0, penalty='elasticnet', solver='saga', l1_ratio=0.90 |  0.494   |\n",
    "| **Gradient Boosting Classifier** | PCA Data |learning_rate=0.1, max_depth=2, min_samples_split=30, n_estimators=250, n_iter_no_change=20, <br>validation_fraction=0.2, tol=2.5 | 0.467   |\n",
    "| **XGB Classifier** | PCA Data | learning_rate=0.01, max_depth=20, min_child_weight=5, n_estimators=280 | 0.525   |"
   ]
  },
  {
   "cell_type": "markdown",
   "id": "2984d25f",
   "metadata": {},
   "source": [
    "&nbsp;"
   ]
  },
  {
   "cell_type": "markdown",
   "id": "453fb213",
   "metadata": {},
   "source": [
    "&nbsp;\n",
    "**Author:** Aaron Chew&nbsp;&nbsp;&nbsp;&nbsp;&nbsp;&nbsp; **|** &nbsp;&nbsp;&nbsp;&nbsp;&nbsp;&nbsp;**Date Published:** 11/08/2022 &nbsp;&nbsp;&nbsp;&nbsp;&nbsp;&nbsp;**|** &nbsp;&nbsp;&nbsp;&nbsp;&nbsp;&nbsp;**Email:** aaronsamuelchew@gmail.com &nbsp;&nbsp;&nbsp;&nbsp;&nbsp;&nbsp;**|**&nbsp;&nbsp;&nbsp;&nbsp;&nbsp;&nbsp; **GitHub:** https://github.com/aaron-chew  "
   ]
  }
 ],
 "metadata": {
  "kernelspec": {
   "display_name": "Python 3",
   "language": "python",
   "name": "python3"
  },
  "language_info": {
   "codemirror_mode": {
    "name": "ipython",
    "version": 3
   },
   "file_extension": ".py",
   "mimetype": "text/x-python",
   "name": "python",
   "nbconvert_exporter": "python",
   "pygments_lexer": "ipython3",
   "version": "3.7.4"
  }
 },
 "nbformat": 4,
 "nbformat_minor": 5
}
