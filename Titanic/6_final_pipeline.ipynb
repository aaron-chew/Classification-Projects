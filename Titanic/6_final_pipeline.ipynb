{
 "cells": [
  {
   "cell_type": "markdown",
   "id": "5a920096",
   "metadata": {},
   "source": [
    "&nbsp;"
   ]
  },
  {
   "cell_type": "markdown",
   "id": "21042596",
   "metadata": {},
   "source": [
    "# 6. Final Pipeline \n",
    "A pipeline is a means of automating the machine learning workflow. What this means is that we can process and transform our data in a sequence of steps making the process of ingesting data, transforming it, and conducting predictions seamless. Also the pipeline itself can be used as an estimator, whether it's fitting data to it or making predictions. Another benefit of using pipelines aside from the obvious efficiency is that it automatically prevents data leakage from occurring (where our model learns something from the data).  "
   ]
  },
  {
   "cell_type": "code",
   "execution_count": 1,
   "id": "692a2b5e",
   "metadata": {},
   "outputs": [],
   "source": [
    "# Standard libraries. \n",
    "import pandas as pd\n",
    "import numpy as np \n",
    "import os\n",
    "import plotly.express as px\n",
    "\n",
    "# Importing our functions. \n",
    "import functions\n",
    "import visuals\n",
    "\n",
    "# Importing chosen models. \n",
    "from sklearn.linear_model import LogisticRegression\n",
    "from xgboost import XGBClassifier\n",
    "from sklearn.ensemble import GradientBoostingClassifier\n",
    "\n",
    "# Importing metrics.  \n",
    "from sklearn.metrics import f1_score, confusion_matrix\n",
    "\n",
    "# Importing pickle. \n",
    "from pickle import load\n",
    "\n",
    "# Converts plotly output into static images, so it can be viewed inside github repository. \n",
    "import plotly.io as pio\n",
    "pio.renderers.default = \"svg\""
   ]
  },
  {
   "cell_type": "code",
   "execution_count": 2,
   "id": "141b9777",
   "metadata": {},
   "outputs": [
    {
     "data": {
      "text/html": [
       "<div>\n",
       "<style scoped>\n",
       "    .dataframe tbody tr th:only-of-type {\n",
       "        vertical-align: middle;\n",
       "    }\n",
       "\n",
       "    .dataframe tbody tr th {\n",
       "        vertical-align: top;\n",
       "    }\n",
       "\n",
       "    .dataframe thead th {\n",
       "        text-align: right;\n",
       "    }\n",
       "</style>\n",
       "<table border=\"1\" class=\"dataframe\">\n",
       "  <thead>\n",
       "    <tr style=\"text-align: right;\">\n",
       "      <th></th>\n",
       "      <th>Pclass</th>\n",
       "      <th>Sex</th>\n",
       "      <th>Age</th>\n",
       "      <th>SibSp</th>\n",
       "      <th>Parch</th>\n",
       "      <th>Ticket</th>\n",
       "      <th>Fare</th>\n",
       "      <th>Embarked</th>\n",
       "      <th>Age Group</th>\n",
       "      <th>Martial Status</th>\n",
       "      <th>Survived</th>\n",
       "    </tr>\n",
       "    <tr>\n",
       "      <th>Name</th>\n",
       "      <th></th>\n",
       "      <th></th>\n",
       "      <th></th>\n",
       "      <th></th>\n",
       "      <th></th>\n",
       "      <th></th>\n",
       "      <th></th>\n",
       "      <th></th>\n",
       "      <th></th>\n",
       "      <th></th>\n",
       "      <th></th>\n",
       "    </tr>\n",
       "  </thead>\n",
       "  <tbody>\n",
       "    <tr>\n",
       "      <th>Braund, Mr. Owen Harris</th>\n",
       "      <td>3</td>\n",
       "      <td>male</td>\n",
       "      <td>22.0</td>\n",
       "      <td>1</td>\n",
       "      <td>0</td>\n",
       "      <td>A/5 21171</td>\n",
       "      <td>7.2500</td>\n",
       "      <td>S</td>\n",
       "      <td>young adult</td>\n",
       "      <td>Not Married</td>\n",
       "      <td>0</td>\n",
       "    </tr>\n",
       "    <tr>\n",
       "      <th>Cumings, Mrs. John Bradley (Florence Briggs Thayer)</th>\n",
       "      <td>1</td>\n",
       "      <td>female</td>\n",
       "      <td>38.0</td>\n",
       "      <td>1</td>\n",
       "      <td>0</td>\n",
       "      <td>PC 17599</td>\n",
       "      <td>71.2833</td>\n",
       "      <td>C</td>\n",
       "      <td>middle aged</td>\n",
       "      <td>Married</td>\n",
       "      <td>1</td>\n",
       "    </tr>\n",
       "  </tbody>\n",
       "</table>\n",
       "</div>"
      ],
      "text/plain": [
       "                                                    Pclass     Sex   Age  \\\n",
       "Name                                                                       \n",
       "Braund, Mr. Owen Harris                                  3    male  22.0   \n",
       "Cumings, Mrs. John Bradley (Florence Briggs Tha...       1  female  38.0   \n",
       "\n",
       "                                                    SibSp  Parch     Ticket  \\\n",
       "Name                                                                          \n",
       "Braund, Mr. Owen Harris                                 1      0  A/5 21171   \n",
       "Cumings, Mrs. John Bradley (Florence Briggs Tha...      1      0   PC 17599   \n",
       "\n",
       "                                                       Fare Embarked  \\\n",
       "Name                                                                   \n",
       "Braund, Mr. Owen Harris                              7.2500        S   \n",
       "Cumings, Mrs. John Bradley (Florence Briggs Tha...  71.2833        C   \n",
       "\n",
       "                                                      Age Group  \\\n",
       "Name                                                              \n",
       "Braund, Mr. Owen Harris                             young adult   \n",
       "Cumings, Mrs. John Bradley (Florence Briggs Tha...  middle aged   \n",
       "\n",
       "                                                   Martial Status  Survived  \n",
       "Name                                                                         \n",
       "Braund, Mr. Owen Harris                               Not Married         0  \n",
       "Cumings, Mrs. John Bradley (Florence Briggs Tha...        Married         1  "
      ]
     },
     "execution_count": 2,
     "metadata": {},
     "output_type": "execute_result"
    }
   ],
   "source": [
    "root = os.getcwd() # Setting root directory as cwd. \n",
    "trainData = pd.read_csv(r\"{}\\train_new_features.csv\".format(root)) # Importing the train set.\n",
    "processed = pd.read_csv(r\"{}\\train_processed.csv\".format(root))\n",
    "trainData.set_index(\"Name\", inplace=True)\n",
    "trainData.head(2)"
   ]
  },
  {
   "cell_type": "markdown",
   "id": "6f6afe68",
   "metadata": {},
   "source": [
    "&nbsp;"
   ]
  },
  {
   "cell_type": "markdown",
   "id": "c021cc06",
   "metadata": {},
   "source": [
    "### Section A: Loading the Holdout Set & Labels\n",
    "In this section we're going to bring in the holdout set, which are the final 418 missing rows from the full dataset. This is the dataset that we will truely test the performance of our regularized and hypertuned models, because our algorithms have never seen this dataset before, as we separated it from our train data from the start. "
   ]
  },
  {
   "cell_type": "markdown",
   "id": "3dc41d8f",
   "metadata": {},
   "source": [
    "**A.1: Loading in our Holdout Set**<br>\n",
    "We read in the file \"test.csv\" and set the \"Passenger Names\" as our index. We also remove columns \"PassengerId\" and \"Cabin\"."
   ]
  },
  {
   "cell_type": "code",
   "execution_count": 3,
   "id": "eb69efb9",
   "metadata": {},
   "outputs": [
    {
     "data": {
      "text/html": [
       "<div>\n",
       "<style scoped>\n",
       "    .dataframe tbody tr th:only-of-type {\n",
       "        vertical-align: middle;\n",
       "    }\n",
       "\n",
       "    .dataframe tbody tr th {\n",
       "        vertical-align: top;\n",
       "    }\n",
       "\n",
       "    .dataframe thead th {\n",
       "        text-align: right;\n",
       "    }\n",
       "</style>\n",
       "<table border=\"1\" class=\"dataframe\">\n",
       "  <thead>\n",
       "    <tr style=\"text-align: right;\">\n",
       "      <th></th>\n",
       "      <th>Pclass</th>\n",
       "      <th>Name</th>\n",
       "      <th>Sex</th>\n",
       "      <th>Age</th>\n",
       "      <th>SibSp</th>\n",
       "      <th>Parch</th>\n",
       "      <th>Ticket</th>\n",
       "      <th>Fare</th>\n",
       "      <th>Embarked</th>\n",
       "      <th>Survived</th>\n",
       "    </tr>\n",
       "  </thead>\n",
       "  <tbody>\n",
       "    <tr>\n",
       "      <th>0</th>\n",
       "      <td>3</td>\n",
       "      <td>Kelly, Mr. James</td>\n",
       "      <td>male</td>\n",
       "      <td>34.5</td>\n",
       "      <td>0</td>\n",
       "      <td>0</td>\n",
       "      <td>330911</td>\n",
       "      <td>7.8292</td>\n",
       "      <td>Q</td>\n",
       "      <td>0</td>\n",
       "    </tr>\n",
       "    <tr>\n",
       "      <th>1</th>\n",
       "      <td>3</td>\n",
       "      <td>Wilkes, Mrs. James (Ellen Needs)</td>\n",
       "      <td>female</td>\n",
       "      <td>47.0</td>\n",
       "      <td>1</td>\n",
       "      <td>0</td>\n",
       "      <td>363272</td>\n",
       "      <td>7.0000</td>\n",
       "      <td>S</td>\n",
       "      <td>1</td>\n",
       "    </tr>\n",
       "  </tbody>\n",
       "</table>\n",
       "</div>"
      ],
      "text/plain": [
       "   Pclass                              Name     Sex   Age  SibSp  Parch  \\\n",
       "0       3                  Kelly, Mr. James    male  34.5      0      0   \n",
       "1       3  Wilkes, Mrs. James (Ellen Needs)  female  47.0      1      0   \n",
       "\n",
       "   Ticket    Fare Embarked  Survived  \n",
       "0  330911  7.8292        Q         0  \n",
       "1  363272  7.0000        S         1  "
      ]
     },
     "execution_count": 3,
     "metadata": {},
     "output_type": "execute_result"
    }
   ],
   "source": [
    "holdoutSet = pd.read_csv(r\"{}\\test.csv\".format(root)).drop(columns=([\"PassengerId\", \"Cabin\"])) \n",
    "holdoutSet.head(2)"
   ]
  },
  {
   "cell_type": "markdown",
   "id": "3bf55353",
   "metadata": {},
   "source": [
    "**A.2: Recreating our New Features**<br>\n",
    "We read in the file \"test.csv\" and set the \"Passenger Names\" as our index. We also remove columns \"PassengerId\" and \"Cabin\"."
   ]
  },
  {
   "cell_type": "code",
   "execution_count": 4,
   "id": "0c714138",
   "metadata": {},
   "outputs": [
    {
     "data": {
      "text/html": [
       "<div>\n",
       "<style scoped>\n",
       "    .dataframe tbody tr th:only-of-type {\n",
       "        vertical-align: middle;\n",
       "    }\n",
       "\n",
       "    .dataframe tbody tr th {\n",
       "        vertical-align: top;\n",
       "    }\n",
       "\n",
       "    .dataframe thead th {\n",
       "        text-align: right;\n",
       "    }\n",
       "</style>\n",
       "<table border=\"1\" class=\"dataframe\">\n",
       "  <thead>\n",
       "    <tr style=\"text-align: right;\">\n",
       "      <th></th>\n",
       "      <th>Pclass</th>\n",
       "      <th>Name</th>\n",
       "      <th>Sex</th>\n",
       "      <th>Age</th>\n",
       "      <th>SibSp</th>\n",
       "      <th>Parch</th>\n",
       "      <th>Ticket</th>\n",
       "      <th>Fare</th>\n",
       "      <th>Embarked</th>\n",
       "      <th>Survived</th>\n",
       "      <th>Age Group</th>\n",
       "    </tr>\n",
       "  </thead>\n",
       "  <tbody>\n",
       "    <tr>\n",
       "      <th>0</th>\n",
       "      <td>3</td>\n",
       "      <td>Kelly, Mr. James</td>\n",
       "      <td>male</td>\n",
       "      <td>34.5</td>\n",
       "      <td>0</td>\n",
       "      <td>0</td>\n",
       "      <td>330911</td>\n",
       "      <td>7.8292</td>\n",
       "      <td>Q</td>\n",
       "      <td>0</td>\n",
       "      <td>young adult</td>\n",
       "    </tr>\n",
       "    <tr>\n",
       "      <th>1</th>\n",
       "      <td>3</td>\n",
       "      <td>Wilkes, Mrs. James (Ellen Needs)</td>\n",
       "      <td>female</td>\n",
       "      <td>47.0</td>\n",
       "      <td>1</td>\n",
       "      <td>0</td>\n",
       "      <td>363272</td>\n",
       "      <td>7.0000</td>\n",
       "      <td>S</td>\n",
       "      <td>1</td>\n",
       "      <td>middle aged</td>\n",
       "    </tr>\n",
       "  </tbody>\n",
       "</table>\n",
       "</div>"
      ],
      "text/plain": [
       "   Pclass                              Name     Sex   Age  SibSp  Parch  \\\n",
       "0       3                  Kelly, Mr. James    male  34.5      0      0   \n",
       "1       3  Wilkes, Mrs. James (Ellen Needs)  female  47.0      1      0   \n",
       "\n",
       "   Ticket    Fare Embarked  Survived    Age Group  \n",
       "0  330911  7.8292        Q         0  young adult  \n",
       "1  363272  7.0000        S         1  middle aged  "
      ]
     },
     "execution_count": 4,
     "metadata": {},
     "output_type": "execute_result"
    }
   ],
   "source": [
    "# Creating the age group feature. \n",
    "holdoutSet = functions.create_age_group(holdoutSet)\n",
    "holdoutSet.head(2)"
   ]
  },
  {
   "cell_type": "code",
   "execution_count": 5,
   "id": "e829c604",
   "metadata": {},
   "outputs": [
    {
     "data": {
      "text/html": [
       "<div>\n",
       "<style scoped>\n",
       "    .dataframe tbody tr th:only-of-type {\n",
       "        vertical-align: middle;\n",
       "    }\n",
       "\n",
       "    .dataframe tbody tr th {\n",
       "        vertical-align: top;\n",
       "    }\n",
       "\n",
       "    .dataframe thead th {\n",
       "        text-align: right;\n",
       "    }\n",
       "</style>\n",
       "<table border=\"1\" class=\"dataframe\">\n",
       "  <thead>\n",
       "    <tr style=\"text-align: right;\">\n",
       "      <th></th>\n",
       "      <th>Pclass</th>\n",
       "      <th>Sex</th>\n",
       "      <th>Age</th>\n",
       "      <th>SibSp</th>\n",
       "      <th>Parch</th>\n",
       "      <th>Ticket</th>\n",
       "      <th>Fare</th>\n",
       "      <th>Embarked</th>\n",
       "      <th>Survived</th>\n",
       "      <th>Age Group</th>\n",
       "      <th>Martial Status</th>\n",
       "    </tr>\n",
       "    <tr>\n",
       "      <th>Name</th>\n",
       "      <th></th>\n",
       "      <th></th>\n",
       "      <th></th>\n",
       "      <th></th>\n",
       "      <th></th>\n",
       "      <th></th>\n",
       "      <th></th>\n",
       "      <th></th>\n",
       "      <th></th>\n",
       "      <th></th>\n",
       "      <th></th>\n",
       "    </tr>\n",
       "  </thead>\n",
       "  <tbody>\n",
       "    <tr>\n",
       "      <th>Kelly, Mr. James</th>\n",
       "      <td>3</td>\n",
       "      <td>male</td>\n",
       "      <td>34.5</td>\n",
       "      <td>0</td>\n",
       "      <td>0</td>\n",
       "      <td>330911</td>\n",
       "      <td>7.8292</td>\n",
       "      <td>Q</td>\n",
       "      <td>0</td>\n",
       "      <td>young adult</td>\n",
       "      <td>Not Married</td>\n",
       "    </tr>\n",
       "    <tr>\n",
       "      <th>Wilkes, Mrs. James (Ellen Needs)</th>\n",
       "      <td>3</td>\n",
       "      <td>female</td>\n",
       "      <td>47.0</td>\n",
       "      <td>1</td>\n",
       "      <td>0</td>\n",
       "      <td>363272</td>\n",
       "      <td>7.0000</td>\n",
       "      <td>S</td>\n",
       "      <td>1</td>\n",
       "      <td>middle aged</td>\n",
       "      <td>Married</td>\n",
       "    </tr>\n",
       "  </tbody>\n",
       "</table>\n",
       "</div>"
      ],
      "text/plain": [
       "                                  Pclass     Sex   Age  SibSp  Parch  Ticket  \\\n",
       "Name                                                                           \n",
       "Kelly, Mr. James                       3    male  34.5      0      0  330911   \n",
       "Wilkes, Mrs. James (Ellen Needs)       3  female  47.0      1      0  363272   \n",
       "\n",
       "                                    Fare Embarked  Survived    Age Group  \\\n",
       "Name                                                                       \n",
       "Kelly, Mr. James                  7.8292        Q         0  young adult   \n",
       "Wilkes, Mrs. James (Ellen Needs)  7.0000        S         1  middle aged   \n",
       "\n",
       "                                 Martial Status  \n",
       "Name                                             \n",
       "Kelly, Mr. James                    Not Married  \n",
       "Wilkes, Mrs. James (Ellen Needs)        Married  "
      ]
     },
     "execution_count": 5,
     "metadata": {},
     "output_type": "execute_result"
    }
   ],
   "source": [
    "# Creating the martial status feature. \n",
    "holdoutSet = functions.create_marriage_feature(holdoutSet)\n",
    "holdoutSet.set_index(\"Name\", inplace=True)\n",
    "holdoutSet.head(2)"
   ]
  },
  {
   "cell_type": "markdown",
   "id": "e01379d5",
   "metadata": {},
   "source": [
    "**A.3: Splitting our Features and Label**<br>\n",
    "Now it's time to split our dataset into features and label. "
   ]
  },
  {
   "cell_type": "code",
   "execution_count": 6,
   "id": "23486b56",
   "metadata": {
    "scrolled": true
   },
   "outputs": [],
   "source": [
    "# Rearrange columns to place label at index position [-1]. \n",
    "holdoutSet = holdoutSet[['Pclass', 'Sex', 'Age', 'SibSp', 'Parch', 'Ticket', 'Fare', 'Embarked',\n",
    "       'Age Group', 'Martial Status', 'Survived']]\n",
    "\n",
    "# Splitting features and label.\n",
    "holdoutX = holdoutSet.iloc[:,:-1]\n",
    "holdoutLabels = holdoutSet.iloc[:,-1]"
   ]
  },
  {
   "cell_type": "markdown",
   "id": "4fd72b45",
   "metadata": {},
   "source": [
    "&nbsp;"
   ]
  },
  {
   "cell_type": "markdown",
   "id": "a75c36d5",
   "metadata": {},
   "source": [
    "### Section B: Evaluating on the Holdout Set\n",
    "In this section we're finally going to evlauate model perfrormance on the holdout set that we have separated from our train data. Based on the results, we will pick the best performing model to use as our finalised pipeline. "
   ]
  },
  {
   "cell_type": "markdown",
   "id": "dc22c470",
   "metadata": {},
   "source": [
    "**B.1: F1_Score on the Holdoutset**<br>\n",
    "First we'll create our pipeline with all of our transformers, train the estimator on our entire train dataset then use the threshold function that we created in the previous section so that our classes are predicted using the optimal threshold."
   ]
  },
  {
   "cell_type": "code",
   "execution_count": 7,
   "id": "3f0d9006",
   "metadata": {},
   "outputs": [],
   "source": [
    "# Storing f1_scores over 30 iterations.\n",
    "scoresLR, scoresGBC, scoresXGB = list(), list(), list()"
   ]
  },
  {
   "cell_type": "code",
   "execution_count": 8,
   "id": "ad34b364",
   "metadata": {},
   "outputs": [],
   "source": [
    "# Evaluating our model on the holdout set.\n",
    "functions.holdout_set_evaluation(y_axis=scoresLR, train_data=trainData, holdout_features=holdoutX, holdout_labels=holdoutLabels,\n",
    "                                 model=LogisticRegression(max_iter=5000, C=1.0, penalty='elasticnet', solver='saga', \n",
    "                                 l1_ratio=0.90), threshold=0.494, model_string='Logistic Regression')"
   ]
  },
  {
   "cell_type": "code",
   "execution_count": 9,
   "id": "be6313ca",
   "metadata": {},
   "outputs": [],
   "source": [
    "# Evaluating our model on the holdout set.\n",
    "functions.holdout_set_evaluation(y_axis=scoresGBC, train_data=trainData, holdout_features=holdoutX, holdout_labels=holdoutLabels,\n",
    "                             model=GradientBoostingClassifier(learning_rate=0.1, max_depth=2, min_samples_split=30,\n",
    "                             n_estimators=250, n_iter_no_change=20, validation_fraction=0.2, tol=2.5), threshold=0.478,\n",
    "                             model_string='Gradient Boosting Classifier')"
   ]
  },
  {
   "cell_type": "code",
   "execution_count": 10,
   "id": "a567e96e",
   "metadata": {},
   "outputs": [],
   "source": [
    "# Evaluating our model on the holdout set.\n",
    "functions.holdout_set_evaluation(y_axis=scoresXGB, train_data=trainData, holdout_features=holdoutX, holdout_labels=holdoutLabels, \n",
    "                       model=XGBClassifier(learning_rate=0.01, max_depth=20, min_child_weight=5, \n",
    "                       n_estimators=284), threshold=0.445, model_string='XGB Classifier')"
   ]
  },
  {
   "cell_type": "markdown",
   "id": "381762d0",
   "metadata": {},
   "source": [
    "**B.2: Plotting the F1_Scores**<br> \n",
    "We will recursively predict the f1_score over 30 iterations and store the results inside an empty list. The objective is to see if there is any variance across all iterations, and to find the average scores to determine which model performed the best. We should also consider if any model shows too much volatility in their f1_scores, then it might be better to choose the model with more consistent results."
   ]
  },
  {
   "cell_type": "code",
   "execution_count": 11,
   "id": "7081fe99",
   "metadata": {},
   "outputs": [
    {
     "data": {
      "image/svg+xml": [
       "<svg class=\"main-svg\" xmlns=\"http://www.w3.org/2000/svg\" xmlns:xlink=\"http://www.w3.org/1999/xlink\" width=\"900\" height=\"550\" style=\"\" viewBox=\"0 0 900 550\"><rect x=\"0\" y=\"0\" width=\"900\" height=\"550\" style=\"fill: rgb(255, 255, 255); fill-opacity: 1;\"/><defs id=\"defs-7b53ad\"><g class=\"clips\"><clipPath id=\"clip7b53adxyplot\" class=\"plotclip\"><rect width=\"583\" height=\"98.66666666666669\"/></clipPath><clipPath id=\"clip7b53adx2y2plot\" class=\"plotclip\"><rect width=\"583\" height=\"98.66666666666667\"/></clipPath><clipPath id=\"clip7b53adx3y3plot\" class=\"plotclip\"><rect width=\"583\" height=\"98.66666666666667\"/></clipPath><clipPath class=\"axesclip\" id=\"clip7b53adx\"><rect x=\"80\" y=\"0\" width=\"583\" height=\"550\"/></clipPath><clipPath class=\"axesclip\" id=\"clip7b53ady\"><rect x=\"0\" y=\"100\" width=\"900\" height=\"98.66666666666669\"/></clipPath><clipPath class=\"axesclip\" id=\"clip7b53adxy\"><rect x=\"80\" y=\"100\" width=\"583\" height=\"98.66666666666669\"/></clipPath><clipPath class=\"axesclip\" id=\"clip7b53ady2\"><rect x=\"0\" y=\"235.66666666666669\" width=\"900\" height=\"98.66666666666667\"/></clipPath><clipPath class=\"axesclip\" id=\"clip7b53adxy2\"><rect x=\"80\" y=\"235.66666666666669\" width=\"583\" height=\"98.66666666666667\"/></clipPath><clipPath class=\"axesclip\" id=\"clip7b53ady3\"><rect x=\"0\" y=\"371.33333333333337\" width=\"900\" height=\"98.66666666666667\"/></clipPath><clipPath class=\"axesclip\" id=\"clip7b53adxy3\"><rect x=\"80\" y=\"371.33333333333337\" width=\"583\" height=\"98.66666666666667\"/></clipPath><clipPath class=\"axesclip\" id=\"clip7b53adx2\"><rect x=\"80\" y=\"0\" width=\"583\" height=\"550\"/></clipPath><clipPath class=\"axesclip\" id=\"clip7b53adx2y\"><rect x=\"80\" y=\"100\" width=\"583\" height=\"98.66666666666669\"/></clipPath><clipPath class=\"axesclip\" id=\"clip7b53adx2y2\"><rect x=\"80\" y=\"235.66666666666669\" width=\"583\" height=\"98.66666666666667\"/></clipPath><clipPath class=\"axesclip\" id=\"clip7b53adx2y3\"><rect x=\"80\" y=\"371.33333333333337\" width=\"583\" height=\"98.66666666666667\"/></clipPath><clipPath class=\"axesclip\" id=\"clip7b53adx3\"><rect x=\"80\" y=\"0\" width=\"583\" height=\"550\"/></clipPath><clipPath class=\"axesclip\" id=\"clip7b53adx3y\"><rect x=\"80\" y=\"100\" width=\"583\" height=\"98.66666666666669\"/></clipPath><clipPath class=\"axesclip\" id=\"clip7b53adx3y2\"><rect x=\"80\" y=\"235.66666666666669\" width=\"583\" height=\"98.66666666666667\"/></clipPath><clipPath class=\"axesclip\" id=\"clip7b53adx3y3\"><rect x=\"80\" y=\"371.33333333333337\" width=\"583\" height=\"98.66666666666667\"/></clipPath></g><g class=\"gradients\"/><g class=\"patterns\"/></defs><g class=\"bglayer\"><rect class=\"bg\" x=\"80\" y=\"100\" width=\"583\" height=\"98.66666666666669\" style=\"fill: rgb(248, 248, 246); fill-opacity: 1; stroke-width: 0;\"/><rect class=\"bg\" x=\"80\" y=\"235.66666666666669\" width=\"583\" height=\"98.66666666666667\" style=\"fill: rgb(248, 248, 246); fill-opacity: 1; stroke-width: 0;\"/><rect class=\"bg\" x=\"80\" y=\"371.33333333333337\" width=\"583\" height=\"98.66666666666667\" style=\"fill: rgb(248, 248, 246); fill-opacity: 1; stroke-width: 0;\"/></g><g class=\"layer-below\"><g class=\"imagelayer\"/><g class=\"shapelayer\"/></g><g class=\"cartesianlayer\"><g class=\"subplot xy\"><g class=\"layer-subplot\"><g class=\"shapelayer\"/><g class=\"imagelayer\"/></g><g class=\"minor-gridlayer\"><g class=\"x\"/><g class=\"y\"/></g><g class=\"gridlayer\"><g class=\"x\"><path class=\"xgrid crisp\" transform=\"translate(160.41,0)\" d=\"M0,100v98.66666666666669\" style=\"stroke: rgb(255, 255, 255); stroke-opacity: 1; stroke-width: 1px;\"/><path class=\"xgrid crisp\" transform=\"translate(260.93,0)\" d=\"M0,100v98.66666666666669\" style=\"stroke: rgb(255, 255, 255); stroke-opacity: 1; stroke-width: 1px;\"/><path class=\"xgrid crisp\" transform=\"translate(361.45,0)\" d=\"M0,100v98.66666666666669\" style=\"stroke: rgb(255, 255, 255); stroke-opacity: 1; stroke-width: 1px;\"/><path class=\"xgrid crisp\" transform=\"translate(461.97,0)\" d=\"M0,100v98.66666666666669\" style=\"stroke: rgb(255, 255, 255); stroke-opacity: 1; stroke-width: 1px;\"/><path class=\"xgrid crisp\" transform=\"translate(562.48,0)\" d=\"M0,100v98.66666666666669\" style=\"stroke: rgb(255, 255, 255); stroke-opacity: 1; stroke-width: 1px;\"/></g><g class=\"y\"><path class=\"ygrid crisp\" transform=\"translate(0,194.42000000000002)\" d=\"M80,0h583\" style=\"stroke: rgb(255, 255, 255); stroke-opacity: 1; stroke-width: 1px;\"/><path class=\"ygrid crisp\" transform=\"translate(0,169.76)\" d=\"M80,0h583\" style=\"stroke: rgb(255, 255, 255); stroke-opacity: 1; stroke-width: 1px;\"/><path class=\"ygrid crisp\" transform=\"translate(0,145.09)\" d=\"M80,0h583\" style=\"stroke: rgb(255, 255, 255); stroke-opacity: 1; stroke-width: 1px;\"/><path class=\"ygrid crisp\" transform=\"translate(0,120.42)\" d=\"M80,0h583\" style=\"stroke: rgb(255, 255, 255); stroke-opacity: 1; stroke-width: 1px;\"/></g></g><g class=\"zerolinelayer\"/><path class=\"xlines-below\"/><path class=\"ylines-below\"/><g class=\"overlines-below\"/><g class=\"xaxislayer-below\"/><g class=\"yaxislayer-below\"/><g class=\"overaxes-below\"/><g class=\"plot\" transform=\"translate(80,100)\" clip-path=\"url(#clip7b53adxyplot)\"><g class=\"scatterlayer mlayer\"><g class=\"trace scatter trace61f228\" style=\"stroke-miterlimit: 2; opacity: 1;\"><g class=\"fills\"/><g class=\"errorbars\"/><g class=\"lines\"><path class=\"js-line\" d=\"M0,49.33L583,49.33\" style=\"vector-effect: non-scaling-stroke; fill: none; stroke: rgb(99, 110, 250); stroke-opacity: 1; stroke-width: 2px; opacity: 1;\"/></g><g class=\"points\"/><g class=\"text\"/></g></g></g><g class=\"overplot\"/><path class=\"xlines-above crisp\" d=\"M0,0\" style=\"fill: none;\"/><path class=\"ylines-above crisp\" d=\"M0,0\" style=\"fill: none;\"/><g class=\"overlines-above\"/><g class=\"xaxislayer-above\"><g class=\"xtick\"><text text-anchor=\"middle\" x=\"0\" y=\"211.66666666666669\" transform=\"translate(160.41,0)\" style=\"font-family: 'Open Sans', verdana, arial, sans-serif; font-size: 12px; fill: rgb(42, 63, 95); fill-opacity: 1; white-space: pre; opacity: 1;\">5</text></g><g class=\"xtick\"><text text-anchor=\"middle\" x=\"0\" y=\"211.66666666666669\" style=\"font-family: 'Open Sans', verdana, arial, sans-serif; font-size: 12px; fill: rgb(42, 63, 95); fill-opacity: 1; white-space: pre; opacity: 1;\" transform=\"translate(260.93,0)\">10</text></g><g class=\"xtick\"><text text-anchor=\"middle\" x=\"0\" y=\"211.66666666666669\" style=\"font-family: 'Open Sans', verdana, arial, sans-serif; font-size: 12px; fill: rgb(42, 63, 95); fill-opacity: 1; white-space: pre; opacity: 1;\" transform=\"translate(361.45,0)\">15</text></g><g class=\"xtick\"><text text-anchor=\"middle\" x=\"0\" y=\"211.66666666666669\" style=\"font-family: 'Open Sans', verdana, arial, sans-serif; font-size: 12px; fill: rgb(42, 63, 95); fill-opacity: 1; white-space: pre; opacity: 1;\" transform=\"translate(461.97,0)\">20</text></g><g class=\"xtick\"><text text-anchor=\"middle\" x=\"0\" y=\"211.66666666666669\" style=\"font-family: 'Open Sans', verdana, arial, sans-serif; font-size: 12px; fill: rgb(42, 63, 95); fill-opacity: 1; white-space: pre; opacity: 1;\" transform=\"translate(562.48,0)\">25</text></g><g class=\"xtick\"><text text-anchor=\"middle\" x=\"0\" y=\"211.66666666666669\" style=\"font-family: 'Open Sans', verdana, arial, sans-serif; font-size: 12px; fill: rgb(42, 63, 95); fill-opacity: 1; white-space: pre; opacity: 1;\" transform=\"translate(663,0)\">30</text></g></g><g class=\"yaxislayer-above\"><g class=\"ytick\"><text text-anchor=\"end\" x=\"79\" y=\"4.199999999999999\" transform=\"translate(0,194.42000000000002)\" style=\"font-family: 'Open Sans', verdana, arial, sans-serif; font-size: 12px; fill: rgb(42, 63, 95); fill-opacity: 1; white-space: pre; opacity: 1;\">95.5</text></g><g class=\"ytick\"><text text-anchor=\"end\" x=\"79\" y=\"4.199999999999999\" style=\"font-family: 'Open Sans', verdana, arial, sans-serif; font-size: 12px; fill: rgb(42, 63, 95); fill-opacity: 1; white-space: pre; opacity: 1;\" transform=\"translate(0,169.76)\">96</text></g><g class=\"ytick\"><text text-anchor=\"end\" x=\"79\" y=\"4.199999999999999\" style=\"font-family: 'Open Sans', verdana, arial, sans-serif; font-size: 12px; fill: rgb(42, 63, 95); fill-opacity: 1; white-space: pre; opacity: 1;\" transform=\"translate(0,145.09)\">96.5</text></g><g class=\"ytick\"><text text-anchor=\"end\" x=\"79\" y=\"4.199999999999999\" style=\"font-family: 'Open Sans', verdana, arial, sans-serif; font-size: 12px; fill: rgb(42, 63, 95); fill-opacity: 1; white-space: pre; opacity: 1;\" transform=\"translate(0,120.42)\">97</text></g></g><g class=\"overaxes-above\"/></g><g class=\"subplot x2y2\"><g class=\"layer-subplot\"><g class=\"shapelayer\"/><g class=\"imagelayer\"/></g><g class=\"minor-gridlayer\"><g class=\"x2\"/><g class=\"y2\"/></g><g class=\"gridlayer\"><g class=\"x2\"><path class=\"x2grid crisp\" transform=\"translate(160.41,0)\" d=\"M0,235.66666666666669v98.66666666666667\" style=\"stroke: rgb(255, 255, 255); stroke-opacity: 1; stroke-width: 1px;\"/><path class=\"x2grid crisp\" transform=\"translate(260.93,0)\" d=\"M0,235.66666666666669v98.66666666666667\" style=\"stroke: rgb(255, 255, 255); stroke-opacity: 1; stroke-width: 1px;\"/><path class=\"x2grid crisp\" transform=\"translate(361.45,0)\" d=\"M0,235.66666666666669v98.66666666666667\" style=\"stroke: rgb(255, 255, 255); stroke-opacity: 1; stroke-width: 1px;\"/><path class=\"x2grid crisp\" transform=\"translate(461.97,0)\" d=\"M0,235.66666666666669v98.66666666666667\" style=\"stroke: rgb(255, 255, 255); stroke-opacity: 1; stroke-width: 1px;\"/><path class=\"x2grid crisp\" transform=\"translate(562.48,0)\" d=\"M0,235.66666666666669v98.66666666666667\" style=\"stroke: rgb(255, 255, 255); stroke-opacity: 1; stroke-width: 1px;\"/></g><g class=\"y2\"><path class=\"y2grid crisp\" transform=\"translate(0,323.37666666666667)\" d=\"M80,0h583\" style=\"stroke: rgb(255, 255, 255); stroke-opacity: 1; stroke-width: 1px;\"/><path class=\"y2grid crisp\" transform=\"translate(0,279.9166666666667)\" d=\"M80,0h583\" style=\"stroke: rgb(255, 255, 255); stroke-opacity: 1; stroke-width: 1px;\"/></g></g><g class=\"zerolinelayer\"/><path class=\"xlines-below\"/><path class=\"ylines-below\"/><g class=\"overlines-below\"/><g class=\"xaxislayer-below\"/><g class=\"yaxislayer-below\"/><g class=\"overaxes-below\"/><g class=\"plot\" transform=\"translate(80,235.66666666666669)\" clip-path=\"url(#clip7b53adx2y2plot)\"><g class=\"scatterlayer mlayer\"><g class=\"trace scatter traceca40f1\" style=\"stroke-miterlimit: 2; opacity: 1;\"><g class=\"fills\"/><g class=\"errorbars\"/><g class=\"lines\"><path class=\"js-line\" d=\"M0,88.14L20.1,7.02L40.21,84.46L60.31,13.31L80.41,33.96L100.52,55.18L120.62,86.5L140.72,84.46L160.83,29.98L180.93,44.91L201.03,13.24L221.14,93.04L241.24,93.73L261.34,17.33L281.45,7.01L301.55,86.5L321.66,86.5L341.76,13.21L361.86,80.56L381.97,93.73L402.07,92.61L422.17,86.5L442.28,21.44L462.38,15.39L482.48,72.99L502.59,4.93L522.69,86.92L542.79,15.37L562.9,9.08L583,23.67\" style=\"vector-effect: non-scaling-stroke; fill: none; stroke: rgb(239, 85, 59); stroke-opacity: 1; stroke-width: 2px; opacity: 1;\"/></g><g class=\"points\"/><g class=\"text\"/></g></g></g><g class=\"overplot\"/><path class=\"xlines-above crisp\" d=\"M0,0\" style=\"fill: none;\"/><path class=\"ylines-above crisp\" d=\"M0,0\" style=\"fill: none;\"/><g class=\"overlines-above\"/><g class=\"xaxislayer-above\"><g class=\"x2tick\"><text text-anchor=\"middle\" x=\"0\" y=\"347.33333333333337\" transform=\"translate(160.41,0)\" style=\"font-family: 'Open Sans', verdana, arial, sans-serif; font-size: 12px; fill: rgb(42, 63, 95); fill-opacity: 1; white-space: pre; opacity: 1;\">5</text></g><g class=\"x2tick\"><text text-anchor=\"middle\" x=\"0\" y=\"347.33333333333337\" style=\"font-family: 'Open Sans', verdana, arial, sans-serif; font-size: 12px; fill: rgb(42, 63, 95); fill-opacity: 1; white-space: pre; opacity: 1;\" transform=\"translate(260.93,0)\">10</text></g><g class=\"x2tick\"><text text-anchor=\"middle\" x=\"0\" y=\"347.33333333333337\" style=\"font-family: 'Open Sans', verdana, arial, sans-serif; font-size: 12px; fill: rgb(42, 63, 95); fill-opacity: 1; white-space: pre; opacity: 1;\" transform=\"translate(361.45,0)\">15</text></g><g class=\"x2tick\"><text text-anchor=\"middle\" x=\"0\" y=\"347.33333333333337\" style=\"font-family: 'Open Sans', verdana, arial, sans-serif; font-size: 12px; fill: rgb(42, 63, 95); fill-opacity: 1; white-space: pre; opacity: 1;\" transform=\"translate(461.97,0)\">20</text></g><g class=\"x2tick\"><text text-anchor=\"middle\" x=\"0\" y=\"347.33333333333337\" style=\"font-family: 'Open Sans', verdana, arial, sans-serif; font-size: 12px; fill: rgb(42, 63, 95); fill-opacity: 1; white-space: pre; opacity: 1;\" transform=\"translate(562.48,0)\">25</text></g><g class=\"x2tick\"><text text-anchor=\"middle\" x=\"0\" y=\"347.33333333333337\" style=\"font-family: 'Open Sans', verdana, arial, sans-serif; font-size: 12px; fill: rgb(42, 63, 95); fill-opacity: 1; white-space: pre; opacity: 1;\" transform=\"translate(663,0)\">30</text></g></g><g class=\"yaxislayer-above\"><g class=\"y2tick\"><text text-anchor=\"end\" x=\"79\" y=\"4.199999999999999\" transform=\"translate(0,323.37666666666667)\" style=\"font-family: 'Open Sans', verdana, arial, sans-serif; font-size: 12px; fill: rgb(42, 63, 95); fill-opacity: 1; white-space: pre; opacity: 1;\">90</text></g><g class=\"y2tick\"><text text-anchor=\"end\" x=\"79\" y=\"4.199999999999999\" style=\"font-family: 'Open Sans', verdana, arial, sans-serif; font-size: 12px; fill: rgb(42, 63, 95); fill-opacity: 1; white-space: pre; opacity: 1;\" transform=\"translate(0,279.9166666666667)\">95</text></g><g class=\"y2tick\"><text text-anchor=\"end\" x=\"79\" y=\"4.199999999999999\" style=\"font-family: 'Open Sans', verdana, arial, sans-serif; font-size: 12px; fill: rgb(42, 63, 95); fill-opacity: 1; white-space: pre; opacity: 1;\" transform=\"translate(0,236.4466666666667)\">100</text></g></g><g class=\"overaxes-above\"/></g><g class=\"subplot x3y3\"><g class=\"layer-subplot\"><g class=\"shapelayer\"/><g class=\"imagelayer\"/></g><g class=\"minor-gridlayer\"><g class=\"x3\"/><g class=\"y3\"/></g><g class=\"gridlayer\"><g class=\"x3\"><path class=\"x3grid crisp\" transform=\"translate(160.41,0)\" d=\"M0,371.33333333333337v98.66666666666667\" style=\"stroke: rgb(255, 255, 255); stroke-opacity: 1; stroke-width: 1px;\"/><path class=\"x3grid crisp\" transform=\"translate(260.93,0)\" d=\"M0,371.33333333333337v98.66666666666667\" style=\"stroke: rgb(255, 255, 255); stroke-opacity: 1; stroke-width: 1px;\"/><path class=\"x3grid crisp\" transform=\"translate(361.45,0)\" d=\"M0,371.33333333333337v98.66666666666667\" style=\"stroke: rgb(255, 255, 255); stroke-opacity: 1; stroke-width: 1px;\"/><path class=\"x3grid crisp\" transform=\"translate(461.97,0)\" d=\"M0,371.33333333333337v98.66666666666667\" style=\"stroke: rgb(255, 255, 255); stroke-opacity: 1; stroke-width: 1px;\"/><path class=\"x3grid crisp\" transform=\"translate(562.48,0)\" d=\"M0,371.33333333333337v98.66666666666667\" style=\"stroke: rgb(255, 255, 255); stroke-opacity: 1; stroke-width: 1px;\"/></g><g class=\"y3\"><path class=\"y3grid crisp\" transform=\"translate(0,461.16333333333336)\" d=\"M80,0h583\" style=\"stroke: rgb(255, 255, 255); stroke-opacity: 1; stroke-width: 1px;\"/><path class=\"y3grid crisp\" transform=\"translate(0,436.49333333333334)\" d=\"M80,0h583\" style=\"stroke: rgb(255, 255, 255); stroke-opacity: 1; stroke-width: 1px;\"/><path class=\"y3grid crisp\" transform=\"translate(0,411.83333333333337)\" d=\"M80,0h583\" style=\"stroke: rgb(255, 255, 255); stroke-opacity: 1; stroke-width: 1px;\"/><path class=\"y3grid crisp\" transform=\"translate(0,387.16333333333336)\" d=\"M80,0h583\" style=\"stroke: rgb(255, 255, 255); stroke-opacity: 1; stroke-width: 1px;\"/></g></g><g class=\"zerolinelayer\"/><path class=\"xlines-below\"/><path class=\"ylines-below\"/><g class=\"overlines-below\"/><g class=\"xaxislayer-below\"/><g class=\"yaxislayer-below\"/><g class=\"overaxes-below\"/><g class=\"plot\" transform=\"translate(80,371.33333333333337)\" clip-path=\"url(#clip7b53adx3y3plot)\"><g class=\"scatterlayer mlayer\"><g class=\"trace scatter trace94a29f\" style=\"stroke-miterlimit: 2; opacity: 1;\"><g class=\"fills\"/><g class=\"errorbars\"/><g class=\"lines\"><path class=\"js-line\" d=\"M0,49.33L583,49.33\" style=\"vector-effect: non-scaling-stroke; fill: none; stroke: rgb(0, 204, 150); stroke-opacity: 1; stroke-width: 2px; opacity: 1;\"/></g><g class=\"points\"/><g class=\"text\"/></g></g></g><g class=\"overplot\"/><path class=\"xlines-above crisp\" d=\"M0,0\" style=\"fill: none;\"/><path class=\"ylines-above crisp\" d=\"M0,0\" style=\"fill: none;\"/><g class=\"overlines-above\"/><g class=\"xaxislayer-above\"><g class=\"x3tick\"><text text-anchor=\"middle\" x=\"0\" y=\"483.00000000000006\" transform=\"translate(160.41,0)\" style=\"font-family: 'Open Sans', verdana, arial, sans-serif; font-size: 12px; fill: rgb(42, 63, 95); fill-opacity: 1; white-space: pre; opacity: 1;\">5</text></g><g class=\"x3tick\"><text text-anchor=\"middle\" x=\"0\" y=\"483.00000000000006\" style=\"font-family: 'Open Sans', verdana, arial, sans-serif; font-size: 12px; fill: rgb(42, 63, 95); fill-opacity: 1; white-space: pre; opacity: 1;\" transform=\"translate(260.93,0)\">10</text></g><g class=\"x3tick\"><text text-anchor=\"middle\" x=\"0\" y=\"483.00000000000006\" style=\"font-family: 'Open Sans', verdana, arial, sans-serif; font-size: 12px; fill: rgb(42, 63, 95); fill-opacity: 1; white-space: pre; opacity: 1;\" transform=\"translate(361.45,0)\">15</text></g><g class=\"x3tick\"><text text-anchor=\"middle\" x=\"0\" y=\"483.00000000000006\" style=\"font-family: 'Open Sans', verdana, arial, sans-serif; font-size: 12px; fill: rgb(42, 63, 95); fill-opacity: 1; white-space: pre; opacity: 1;\" transform=\"translate(461.97,0)\">20</text></g><g class=\"x3tick\"><text text-anchor=\"middle\" x=\"0\" y=\"483.00000000000006\" style=\"font-family: 'Open Sans', verdana, arial, sans-serif; font-size: 12px; fill: rgb(42, 63, 95); fill-opacity: 1; white-space: pre; opacity: 1;\" transform=\"translate(562.48,0)\">25</text></g><g class=\"x3tick\"><text text-anchor=\"middle\" x=\"0\" y=\"483.00000000000006\" style=\"font-family: 'Open Sans', verdana, arial, sans-serif; font-size: 12px; fill: rgb(42, 63, 95); fill-opacity: 1; white-space: pre; opacity: 1;\" transform=\"translate(663,0)\">30</text></g></g><g class=\"yaxislayer-above\"><g class=\"y3tick\"><text text-anchor=\"end\" x=\"79\" y=\"4.199999999999999\" transform=\"translate(0,461.16333333333336)\" style=\"font-family: 'Open Sans', verdana, arial, sans-serif; font-size: 12px; fill: rgb(42, 63, 95); fill-opacity: 1; white-space: pre; opacity: 1;\">88</text></g><g class=\"y3tick\"><text text-anchor=\"end\" x=\"79\" y=\"4.199999999999999\" style=\"font-family: 'Open Sans', verdana, arial, sans-serif; font-size: 12px; fill: rgb(42, 63, 95); fill-opacity: 1; white-space: pre; opacity: 1;\" transform=\"translate(0,436.49333333333334)\">88.5</text></g><g class=\"y3tick\"><text text-anchor=\"end\" x=\"79\" y=\"4.199999999999999\" style=\"font-family: 'Open Sans', verdana, arial, sans-serif; font-size: 12px; fill: rgb(42, 63, 95); fill-opacity: 1; white-space: pre; opacity: 1;\" transform=\"translate(0,411.83333333333337)\">89</text></g><g class=\"y3tick\"><text text-anchor=\"end\" x=\"79\" y=\"4.199999999999999\" style=\"font-family: 'Open Sans', verdana, arial, sans-serif; font-size: 12px; fill: rgb(42, 63, 95); fill-opacity: 1; white-space: pre; opacity: 1;\" transform=\"translate(0,387.16333333333336)\">89.5</text></g></g><g class=\"overaxes-above\"/></g></g><g class=\"polarlayer\"/><g class=\"smithlayer\"/><g class=\"ternarylayer\"/><g class=\"geolayer\"/><g class=\"funnelarealayer\"/><g class=\"pielayer\"/><g class=\"iciclelayer\"/><g class=\"treemaplayer\"/><g class=\"sunburstlayer\"/><g class=\"glimages\"/><defs id=\"topdefs-7b53ad\"><g class=\"clips\"/><clipPath id=\"legend7b53ad\"><rect width=\"213\" height=\"67\" x=\"0\" y=\"0\"/></clipPath></defs><g class=\"layer-above\"><g class=\"imagelayer\"/><g class=\"shapelayer\"/></g><g class=\"infolayer\"><g class=\"legend\" pointer-events=\"all\" transform=\"translate(674.66,100)\"><rect class=\"bg\" shape-rendering=\"crispEdges\" style=\"stroke: rgb(68, 68, 68); stroke-opacity: 1; fill: rgb(255, 255, 255); fill-opacity: 1; stroke-width: 0px;\" width=\"213\" height=\"67\" x=\"0\" y=\"0\"/><g class=\"scrollbox\" transform=\"\" clip-path=\"url(#legend7b53ad)\"><g class=\"groups\"><g class=\"traces\" transform=\"translate(0,14.5)\" style=\"opacity: 1;\"><text class=\"legendtext\" text-anchor=\"start\" x=\"40\" y=\"4.680000000000001\" style=\"font-family: 'Open Sans', verdana, arial, sans-serif; font-size: 12px; fill: rgb(42, 63, 95); fill-opacity: 1; white-space: pre;\">Logistic Regression</text><g class=\"layers\" style=\"opacity: 1;\"><g class=\"legendfill\"/><g class=\"legendlines\"><path class=\"js-line\" d=\"M5,0h30\" style=\"fill: none; stroke: rgb(99, 110, 250); stroke-opacity: 1; stroke-width: 2px;\"/></g><g class=\"legendsymbols\"><g class=\"legendpoints\"/></g></g><rect class=\"legendtoggle\" x=\"0\" y=\"-9.5\" width=\"207.578125\" height=\"19\" style=\"fill: rgb(0, 0, 0); fill-opacity: 0;\"/></g><g class=\"traces\" transform=\"translate(0,33.5)\" style=\"opacity: 1;\"><text class=\"legendtext\" text-anchor=\"start\" x=\"40\" y=\"4.680000000000001\" style=\"font-family: 'Open Sans', verdana, arial, sans-serif; font-size: 12px; fill: rgb(42, 63, 95); fill-opacity: 1; white-space: pre;\">Gradient Boosting Classifier</text><g class=\"layers\" style=\"opacity: 1;\"><g class=\"legendfill\"/><g class=\"legendlines\"><path class=\"js-line\" d=\"M5,0h30\" style=\"fill: none; stroke: rgb(239, 85, 59); stroke-opacity: 1; stroke-width: 2px;\"/></g><g class=\"legendsymbols\"><g class=\"legendpoints\"/></g></g><rect class=\"legendtoggle\" x=\"0\" y=\"-9.5\" width=\"207.578125\" height=\"19\" style=\"fill: rgb(0, 0, 0); fill-opacity: 0;\"/></g><g class=\"traces\" transform=\"translate(0,52.5)\" style=\"opacity: 1;\"><text class=\"legendtext\" text-anchor=\"start\" x=\"40\" y=\"4.680000000000001\" style=\"font-family: 'Open Sans', verdana, arial, sans-serif; font-size: 12px; fill: rgb(42, 63, 95); fill-opacity: 1; white-space: pre;\">XGB Classifier</text><g class=\"layers\" style=\"opacity: 1;\"><g class=\"legendfill\"/><g class=\"legendlines\"><path class=\"js-line\" d=\"M5,0h30\" style=\"fill: none; stroke: rgb(0, 204, 150); stroke-opacity: 1; stroke-width: 2px;\"/></g><g class=\"legendsymbols\"><g class=\"legendpoints\"/></g></g><rect class=\"legendtoggle\" x=\"0\" y=\"-9.5\" width=\"207.578125\" height=\"19\" style=\"fill: rgb(0, 0, 0); fill-opacity: 0;\"/></g></g></g><rect class=\"scrollbar\" rx=\"20\" ry=\"3\" width=\"0\" height=\"0\" style=\"fill: rgb(128, 139, 164); fill-opacity: 1;\" x=\"0\" y=\"0\"/></g><g class=\"g-gtitle\"><text class=\"gtitle\" x=\"45\" y=\"50\" text-anchor=\"start\" dy=\"0em\" style=\"font-family: 'Arial Black'; font-size: 20px; fill: rgb(42, 63, 95); opacity: 1; font-weight: normal; white-space: pre;\">Model Performance over 30 Iterations</text></g><g class=\"g-xtitle\"/><g class=\"g-x2title\"/><g class=\"g-x3title\"><text class=\"x3title\" x=\"371.5\" y=\"510.8\" text-anchor=\"middle\" style=\"font-family: 'Open Sans', verdana, arial, sans-serif; font-size: 14px; fill: rgb(42, 63, 95); opacity: 1; font-weight: normal; white-space: pre;\">Iterations</text></g><g class=\"g-ytitle\"><text class=\"ytitle\" transform=\"rotate(-90,26.934375000000003,149.33333333333334)\" x=\"26.934375000000003\" y=\"149.33333333333334\" text-anchor=\"middle\" style=\"font-family: 'Open Sans', verdana, arial, sans-serif; font-size: 14px; fill: rgb(42, 63, 95); opacity: 1; font-weight: normal; white-space: pre;\">f1_score</text></g><g class=\"g-y2title\"/><g class=\"g-y3title\"/></g></svg>"
      ]
     },
     "metadata": {},
     "output_type": "display_data"
    }
   ],
   "source": [
    "visuals.f1_score_plot(scoresLR, scoresGBC, scoresXGB)"
   ]
  },
  {
   "cell_type": "code",
   "execution_count": 12,
   "id": "0391db98",
   "metadata": {},
   "outputs": [
    {
     "name": "stdout",
     "output_type": "stream",
     "text": [
      "The mean average score over 30 iterations for Logistic Regression is: 96.4140%\n",
      "The mean average score over 30 iterations for Gradient Boosting Classifier is: 94.1781%\n",
      "The mean average score over 30 iterations for XGB Classifier is: 88.8209%\n"
     ]
    }
   ],
   "source": [
    "print(\"The mean average score over 30 iterations for Logistic Regression is: %.4f%%\" % (np.mean(scoresLR)))\n",
    "print(\"The mean average score over 30 iterations for Gradient Boosting Classifier is: %.4f%%\" % (np.mean(scoresGBC)))\n",
    "print(\"The mean average score over 30 iterations for XGB Classifier is: %.4f%%\" % (np.mean(scoresXGB)))"
   ]
  },
  {
   "cell_type": "markdown",
   "id": "52ca6d35",
   "metadata": {},
   "source": [
    "* The best performing classifier was Logistic Regression with an f1 score of 96.41%. \n",
    "* What's interesting to note is that our Gradient Boosting Classifier experience a lot of volatility through out its 30 iterations of predictions, whilst the XGB Classifier and Logistic Regression outputted the same f1_score over all iterations."
   ]
  },
  {
   "cell_type": "markdown",
   "id": "4c357eb2",
   "metadata": {},
   "source": [
    "&nbsp;"
   ]
  },
  {
   "cell_type": "markdown",
   "id": "754207c1",
   "metadata": {},
   "source": [
    "### Section C: Saving & Loading Models\n",
    "In this section we're going to export our Logistic Regression into our current working directory, then load the model back in and make the same predictions again to see if everything saved correctly. "
   ]
  },
  {
   "cell_type": "markdown",
   "id": "248ca830",
   "metadata": {},
   "source": [
    "**C.1: Saving and Exporting our Model as a Pickle File**<br>\n",
    "The first step is to save our pipeline estimator and export it as a pkl file into our current working directory."
   ]
  },
  {
   "cell_type": "code",
   "execution_count": 13,
   "id": "0d2f7791",
   "metadata": {},
   "outputs": [],
   "source": [
    "# Saving our finalised model and exporting it in our cwd as a pickle file. \n",
    "functions.saving_model(train_data=trainData, model=LogisticRegression(max_iter=5000, C=1.0, penalty='elasticnet', \n",
    "                             solver='saga', l1_ratio=0.90))"
   ]
  },
  {
   "cell_type": "markdown",
   "id": "16007079",
   "metadata": {},
   "source": [
    "**C.2: Loading our pickle File and Evaluation**<br>\n",
    "The next part is to load our model back into the script and evaluate it again on the holdoutset. We run this again just to make sure that our entire pipeline components saved and loaded correctly and that our model has still retained its high performance."
   ]
  },
  {
   "cell_type": "code",
   "execution_count": 14,
   "id": "58d2d875",
   "metadata": {},
   "outputs": [],
   "source": [
    "# Loading our model back in. \n",
    "loaded_model = load(open(\"LogisticRegression.pkl\", \"rb\"))"
   ]
  },
  {
   "cell_type": "markdown",
   "id": "a6efed19",
   "metadata": {},
   "source": [
    "**C.3: Predicting on the Holdoutset**<br>\n",
    "Now it's time to test the performance of our loaded model."
   ]
  },
  {
   "cell_type": "code",
   "execution_count": 15,
   "id": "4b56991e",
   "metadata": {},
   "outputs": [
    {
     "name": "stdout",
     "output_type": "stream",
     "text": [
      "Logistic Regression scored an f1_score of: 96.4140% on the holdout set.\n"
     ]
    }
   ],
   "source": [
    "# Predicting probabilities on the Holdout set's features. \n",
    "yhat = loaded_model.predict_proba(holdoutX)\n",
    "# Keep probabilities for the positive outcome only.\n",
    "probs = yhat[:, 1]\n",
    "# Convert probabilities into classes based on specified threshold value. \n",
    "classes = functions.to_labels(probs, 0.494) # Input optimal LogisticRegression threshold. \n",
    "\n",
    "# Using f1_score \"weighted\" as the preferred metric for imbalanced classification. \n",
    "score = f1_score(holdoutLabels, classes, average=\"weighted\")*100\n",
    "print(f\"Logistic Regression scored an f1_score of: %.4f%% on the holdout set.\" % (score))"
   ]
  },
  {
   "cell_type": "markdown",
   "id": "4a7606a8",
   "metadata": {},
   "source": [
    "* It looks like our model performed exactly how it was supposed to."
   ]
  },
  {
   "cell_type": "markdown",
   "id": "7686585e",
   "metadata": {},
   "source": [
    "&nbsp;"
   ]
  },
  {
   "cell_type": "markdown",
   "id": "6ebc9043",
   "metadata": {},
   "source": [
    "### Section D: Further Evaluation Metrics\n",
    "In this section we're going to explore deeper into evaluating the performance of our Logistic Regression model by using the ROC AUC Curve and a Confusion Matrix."
   ]
  },
  {
   "cell_type": "markdown",
   "id": "59a70c56",
   "metadata": {},
   "source": [
    "**D.1: ROC AUC Curve**<br>\n",
    "AUC - ROC curve is a performance measurement for the classification problems at various threshold settings. ROC is a probability curve and AUC represents the degree or measure of separability. It tells how much the model is capable of distinguishing between classes. Higher the AUC, the better the model is at predicting 0 classes as 0 and 1 classes as 1."
   ]
  },
  {
   "cell_type": "code",
   "execution_count": 16,
   "id": "cccbff58",
   "metadata": {},
   "outputs": [
    {
     "data": {
      "image/svg+xml": [
       "<svg class=\"main-svg\" xmlns=\"http://www.w3.org/2000/svg\" xmlns:xlink=\"http://www.w3.org/1999/xlink\" width=\"700\" height=\"500\" style=\"\" viewBox=\"0 0 700 500\"><rect x=\"0\" y=\"0\" width=\"700\" height=\"500\" style=\"fill: rgb(255, 255, 255); fill-opacity: 1;\"/><defs id=\"defs-d1bd50\"><g class=\"clips\"><clipPath id=\"clipd1bd50xyplot\" class=\"plotclip\"><rect width=\"305.00000000000006\" height=\"320\"/></clipPath><clipPath class=\"axesclip\" id=\"clipd1bd50x\"><rect x=\"197.5\" y=\"0\" width=\"305.00000000000006\" height=\"500\"/></clipPath><clipPath class=\"axesclip\" id=\"clipd1bd50y\"><rect x=\"0\" y=\"100\" width=\"700\" height=\"320\"/></clipPath><clipPath class=\"axesclip\" id=\"clipd1bd50xy\"><rect x=\"197.5\" y=\"100\" width=\"305.00000000000006\" height=\"320\"/></clipPath></g><g class=\"gradients\"/><g class=\"patterns\"/></defs><g class=\"bglayer\"><rect class=\"bg\" x=\"197.5\" y=\"100\" width=\"305.00000000000006\" height=\"320\" style=\"fill: rgb(229, 236, 246); fill-opacity: 1; stroke-width: 0;\"/></g><g class=\"layer-below\"><g class=\"imagelayer\"/><g class=\"shapelayer\"/></g><g class=\"cartesianlayer\"><g class=\"subplot xy\"><g class=\"layer-subplot\"><g class=\"shapelayer\"/><g class=\"imagelayer\"/></g><g class=\"minor-gridlayer\"><g class=\"x\"/><g class=\"y\"/></g><g class=\"gridlayer\"><g class=\"x\"><path class=\"xgrid crisp\" transform=\"translate(350,0)\" d=\"M0,100v320\" style=\"stroke: rgb(255, 255, 255); stroke-opacity: 1; stroke-width: 1px;\"/><path class=\"xgrid crisp\" transform=\"translate(501.5,0)\" d=\"M0,100v320\" style=\"stroke: rgb(255, 255, 255); stroke-opacity: 1; stroke-width: 1px;\"/></g><g class=\"y\"><path class=\"ygrid crisp\" transform=\"translate(0,358.4)\" d=\"M197.5,0h305.00000000000006\" style=\"stroke: rgb(255, 255, 255); stroke-opacity: 1; stroke-width: 1px;\"/><path class=\"ygrid crisp\" transform=\"translate(0,297.8)\" d=\"M197.5,0h305.00000000000006\" style=\"stroke: rgb(255, 255, 255); stroke-opacity: 1; stroke-width: 1px;\"/><path class=\"ygrid crisp\" transform=\"translate(0,237.2)\" d=\"M197.5,0h305.00000000000006\" style=\"stroke: rgb(255, 255, 255); stroke-opacity: 1; stroke-width: 1px;\"/><path class=\"ygrid crisp\" transform=\"translate(0,176.6)\" d=\"M197.5,0h305.00000000000006\" style=\"stroke: rgb(255, 255, 255); stroke-opacity: 1; stroke-width: 1px;\"/><path class=\"ygrid crisp\" transform=\"translate(0,116)\" d=\"M197.5,0h305.00000000000006\" style=\"stroke: rgb(255, 255, 255); stroke-opacity: 1; stroke-width: 1px;\"/></g></g><g class=\"zerolinelayer\"><path class=\"xzl zl crisp\" transform=\"translate(198.5,0)\" d=\"M0,100v320\" style=\"stroke: rgb(255, 255, 255); stroke-opacity: 1; stroke-width: 2px;\"/><path class=\"yzl zl crisp\" transform=\"translate(0,419)\" d=\"M197.5,0h305.00000000000006\" style=\"stroke: rgb(255, 255, 255); stroke-opacity: 1; stroke-width: 2px;\"/></g><path class=\"xlines-below\"/><path class=\"ylines-below\"/><g class=\"overlines-below\"/><g class=\"xaxislayer-below\"/><g class=\"yaxislayer-below\"/><g class=\"overaxes-below\"/><g class=\"plot\" transform=\"translate(197.5,100)\" clip-path=\"url(#clipd1bd50xyplot)\"><g class=\"scatterlayer mlayer\"><g class=\"trace scatter trace616c25\" style=\"stroke-miterlimit: 2;\"><g class=\"fills\"><g><path class=\"js-fill\" d=\"M304,319L1,319L1,319L1,199.39L2.14,199.39L2.14,139.59L3.28,139.59L3.28,137.6L5.56,137.6L5.56,129.63L7.83,129.63L7.83,119.66L8.97,119.66L8.97,47.89L10.11,47.89L10.11,29.95L11.25,29.95L11.25,19.99L12.39,19.99L12.39,17.99L36.31,17.99L36.31,16L57.95,16L304,16\" style=\"fill: rgb(99, 110, 250); fill-opacity: 0.5; stroke-width: 0;\"/></g></g><g class=\"errorbars\"/><g class=\"lines\"><path class=\"js-line\" d=\"M1,319L1,199.39L2.14,199.39L2.14,139.59L3.28,139.59L3.28,137.6L5.56,137.6L5.56,129.63L7.83,129.63L7.83,119.66L8.97,119.66L8.97,47.89L10.11,47.89L10.11,29.95L11.25,29.95L11.25,19.99L12.39,19.99L12.39,17.99L36.31,17.99L36.31,16L57.95,16L304,16\" style=\"vector-effect: non-scaling-stroke; fill: none; stroke: rgb(99, 110, 250); stroke-opacity: 1; stroke-width: 2px; opacity: 1;\"/></g><g class=\"points\"/><g class=\"text\"/></g></g></g><g class=\"overplot\"/><path class=\"xlines-above crisp\" d=\"M0,0\" style=\"fill: none;\"/><path class=\"ylines-above crisp\" d=\"M0,0\" style=\"fill: none;\"/><g class=\"overlines-above\"/><g class=\"xaxislayer-above\"><g class=\"xtick\"><text text-anchor=\"middle\" x=\"0\" y=\"433\" transform=\"translate(198.5,0)\" style=\"font-family: 'Open Sans', verdana, arial, sans-serif; font-size: 12px; fill: rgb(42, 63, 95); fill-opacity: 1; white-space: pre; opacity: 1;\">0</text></g><g class=\"xtick\"><text text-anchor=\"middle\" x=\"0\" y=\"433\" style=\"font-family: 'Open Sans', verdana, arial, sans-serif; font-size: 12px; fill: rgb(42, 63, 95); fill-opacity: 1; white-space: pre; opacity: 1;\" transform=\"translate(350,0)\">0.5</text></g><g class=\"xtick\"><text text-anchor=\"middle\" x=\"0\" y=\"433\" style=\"font-family: 'Open Sans', verdana, arial, sans-serif; font-size: 12px; fill: rgb(42, 63, 95); fill-opacity: 1; white-space: pre; opacity: 1;\" transform=\"translate(501.5,0)\">1</text></g></g><g class=\"yaxislayer-above\"><g class=\"ytick\"><text text-anchor=\"end\" x=\"196.5\" y=\"4.199999999999999\" transform=\"translate(0,419)\" style=\"font-family: 'Open Sans', verdana, arial, sans-serif; font-size: 12px; fill: rgb(42, 63, 95); fill-opacity: 1; white-space: pre; opacity: 1;\">0</text></g><g class=\"ytick\"><text text-anchor=\"end\" x=\"196.5\" y=\"4.199999999999999\" style=\"font-family: 'Open Sans', verdana, arial, sans-serif; font-size: 12px; fill: rgb(42, 63, 95); fill-opacity: 1; white-space: pre; opacity: 1;\" transform=\"translate(0,358.4)\">0.2</text></g><g class=\"ytick\"><text text-anchor=\"end\" x=\"196.5\" y=\"4.199999999999999\" style=\"font-family: 'Open Sans', verdana, arial, sans-serif; font-size: 12px; fill: rgb(42, 63, 95); fill-opacity: 1; white-space: pre; opacity: 1;\" transform=\"translate(0,297.8)\">0.4</text></g><g class=\"ytick\"><text text-anchor=\"end\" x=\"196.5\" y=\"4.199999999999999\" style=\"font-family: 'Open Sans', verdana, arial, sans-serif; font-size: 12px; fill: rgb(42, 63, 95); fill-opacity: 1; white-space: pre; opacity: 1;\" transform=\"translate(0,237.2)\">0.6</text></g><g class=\"ytick\"><text text-anchor=\"end\" x=\"196.5\" y=\"4.199999999999999\" style=\"font-family: 'Open Sans', verdana, arial, sans-serif; font-size: 12px; fill: rgb(42, 63, 95); fill-opacity: 1; white-space: pre; opacity: 1;\" transform=\"translate(0,176.6)\">0.8</text></g><g class=\"ytick\"><text text-anchor=\"end\" x=\"196.5\" y=\"4.199999999999999\" style=\"font-family: 'Open Sans', verdana, arial, sans-serif; font-size: 12px; fill: rgb(42, 63, 95); fill-opacity: 1; white-space: pre; opacity: 1;\" transform=\"translate(0,116)\">1</text></g></g><g class=\"overaxes-above\"/></g></g><g class=\"polarlayer\"/><g class=\"smithlayer\"/><g class=\"ternarylayer\"/><g class=\"geolayer\"/><g class=\"funnelarealayer\"/><g class=\"pielayer\"/><g class=\"iciclelayer\"/><g class=\"treemaplayer\"/><g class=\"sunburstlayer\"/><g class=\"glimages\"/><defs id=\"topdefs-d1bd50\"><g class=\"clips\"/></defs><g class=\"layer-above\"><g class=\"imagelayer\"/><g class=\"shapelayer\"><path data-index=\"0\" fill-rule=\"evenodd\" d=\"M198.5,419L501.5,116\" clip-path=\"url(#clipd1bd50xy)\" style=\"opacity: 1; stroke: rgb(42, 63, 95); stroke-opacity: 1; fill: rgb(0, 0, 0); fill-opacity: 0; stroke-dasharray: 9px, 9px; stroke-width: 2px;\"/></g></g><g class=\"infolayer\"><g class=\"g-gtitle\"><text class=\"gtitle\" x=\"35\" y=\"50\" text-anchor=\"start\" dy=\"0em\" style=\"font-family: 'Open Sans', verdana, arial, sans-serif; font-size: 17px; fill: rgb(42, 63, 95); opacity: 1; font-weight: normal; white-space: pre;\">ROC Curve (AUC=0.9879)</text></g><g class=\"g-xtitle\"><text class=\"xtitle\" x=\"350\" y=\"460.8\" text-anchor=\"middle\" style=\"font-family: 'Open Sans', verdana, arial, sans-serif; font-size: 14px; fill: rgb(42, 63, 95); opacity: 1; font-weight: normal; white-space: pre;\">False Positive Rate</text></g><g class=\"g-ytitle\"><text class=\"ytitle\" transform=\"rotate(-90,152.075,260)\" x=\"152.075\" y=\"260\" text-anchor=\"middle\" style=\"font-family: 'Open Sans', verdana, arial, sans-serif; font-size: 14px; fill: rgb(42, 63, 95); opacity: 1; font-weight: normal; white-space: pre;\">True Positive Rate</text></g></g></svg>"
      ]
     },
     "metadata": {},
     "output_type": "display_data"
    }
   ],
   "source": [
    "# Making predictions with our loaded model. \n",
    "yhat = loaded_model.predict_proba(holdoutX)[:, 1]\n",
    "\n",
    "# Plotting our ROC_AUC curve. \n",
    "functions.ROC_AUC_curve(holdoutLabels, yhat)"
   ]
  },
  {
   "cell_type": "markdown",
   "id": "36d258f9",
   "metadata": {},
   "source": [
    "* An AUC score of 1 means perfect class separability, while a score of 0.5 means the model is incapable of distinguishing between classes.\n",
    "* Our AUC scored 0.9879 which is amazing. This means that our model can almost perfectly distingush between classes.\n",
    "* Also our ROC curve is shaped exactly how we want it, where it's almost touching the left corner of the plot, which indicates it's an almost perfect classifier."
   ]
  },
  {
   "cell_type": "markdown",
   "id": "b5fccc4e",
   "metadata": {},
   "source": [
    "**D.2: Confusion Matrix**<br>\n",
    "A confusion matrix is a summary of how well a classification algorithm performed by outlining its correct and incorrect predictions."
   ]
  },
  {
   "cell_type": "code",
   "execution_count": 17,
   "id": "eb265d5e",
   "metadata": {},
   "outputs": [
    {
     "data": {
      "image/png": "[encoded data removed]"
     },
     "metadata": {},
     "output_type": "display_data"
    }
   ],
   "source": [
    "# Creating our confusion matrix from actuals vs predicted. \n",
    "cm = confusion_matrix(holdoutLabels, classes)\n",
    "# Plot results. \n",
    "fig = px.imshow(cm, text_auto=True)\n",
    "fig.show(renderer=\"png\")"
   ]
  },
  {
   "cell_type": "code",
   "execution_count": 18,
   "id": "b099a031",
   "metadata": {},
   "outputs": [
    {
     "name": "stdout",
     "output_type": "stream",
     "text": [
      "True Positive 145\n",
      "True Negative 258\n",
      "False Positive 8\n",
      "False Negative 7\n"
     ]
    }
   ],
   "source": [
    "# Extracting [True] positive, negative and [False] positive, negative from our confusion matrix.\n",
    "tn, fp, fn, tp = confusion_matrix(list(holdoutLabels), list(classes), labels=[0, 1]).ravel()\n",
    "\n",
    "print('True Positive', tp)\n",
    "print('True Negative', tn)\n",
    "print('False Positive', fp)\n",
    "print('False Negative', fn)"
   ]
  },
  {
   "cell_type": "markdown",
   "id": "2c389c68",
   "metadata": {},
   "source": [
    "* There were 145 instances where our model predicted a class to be positive and it was actually positive.\n",
    "* There were 258 instances where our model predicted a class to be negative and it was actually negative.\n",
    "* There were 8 instances where our model predicted a class to be positive but it was actually negative.\n",
    "* There were 7 instances where our model predicted a class to be negative but it was actually positive."
   ]
  },
  {
   "cell_type": "markdown",
   "id": "498143c9",
   "metadata": {},
   "source": [
    "**C.3: Conclusion**<br>\n",
    "In conclusion we managed to train a near perfect classifier with our Logistc Regression achieving an impressive f1 score of 96.41% with zero variance over 30 predictions. Furthermore our classifier obtained an AUC score of 0.99 which indicates that it can almost perfectly distinguish between classes.  "
   ]
  },
  {
   "cell_type": "markdown",
   "id": "b2659e32",
   "metadata": {},
   "source": [
    "&nbsp;"
   ]
  },
  {
   "cell_type": "markdown",
   "id": "a848153c",
   "metadata": {},
   "source": [
    "| Model | Model Type | Weighted f1_score | Threshold |Hyperparameters |  \n",
    "|---------|---------|---------|---------|---------|\n",
    "| **Logistic Regression** | Base Model   |96.41% | 0.494|max_iter=5000, C=1.0, penalty='elasticnet', solver='saga', l1_ratio=0.90, threshold=0.494 |\n",
    "| **Gradient Boosting Classifier** | Base Model |94.77% |0.478 | learning_rate=0.1, max_depth=2, min_samples_split=30, n_estimators=250, <br>validation_fraction=0.2, n_iter_no_change=20, tol=2.5|\n",
    "| **XGB Classifier** | Base Model | 88.82% |0.445 | learning_rate=0.1, max_depth=20, min_child_weight=5, n_estimators=284|"
   ]
  },
  {
   "cell_type": "markdown",
   "id": "bb17f2f3",
   "metadata": {},
   "source": [
    "&nbsp;"
   ]
  },
  {
   "cell_type": "markdown",
   "id": "9dc43ed2",
   "metadata": {},
   "source": [
    "&nbsp;\n",
    "**Author:** Aaron Chew&nbsp;&nbsp;&nbsp;&nbsp;&nbsp;&nbsp; **|** &nbsp;&nbsp;&nbsp;&nbsp;&nbsp;&nbsp;**Date Published:** 11/08/2022 &nbsp;&nbsp;&nbsp;&nbsp;&nbsp;&nbsp;**|** &nbsp;&nbsp;&nbsp;&nbsp;&nbsp;&nbsp;**Email:** aaronsamuelchew@gmail.com &nbsp;&nbsp;&nbsp;&nbsp;&nbsp;&nbsp;**|**&nbsp;&nbsp;&nbsp;&nbsp;&nbsp;&nbsp; **GitHub:** https://github.com/aaron-chew  "
   ]
  }
 ],
 "metadata": {
  "kernelspec": {
   "display_name": "Python 3",
   "language": "python",
   "name": "python3"
  },
  "language_info": {
   "codemirror_mode": {
    "name": "ipython",
    "version": 3
   },
   "file_extension": ".py",
   "mimetype": "text/x-python",
   "name": "python",
   "nbconvert_exporter": "python",
   "pygments_lexer": "ipython3",
   "version": "3.7.4"
  }
 },
 "nbformat": 4,
 "nbformat_minor": 5
}
