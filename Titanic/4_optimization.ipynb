{
 "cells": [
  {
   "cell_type": "markdown",
   "id": "23925ccd",
   "metadata": {},
   "source": [
    "&nbsp;"
   ]
  },
  {
   "cell_type": "markdown",
   "id": "faa48543",
   "metadata": {},
   "source": [
    "# 4. Optimization \n",
    "Optimization is the process of finding the best combination of hyperparameters that minimize your loss function. Optimizing your machine learning algorithms is an important step when making predictions because not every machine learning problem is the same and in comparison, not every solution will be appropriate. Finding the best hyperparameters for your specific solution will ensure that your model will be optimized to your specific problem and will accurately make predictions with a more robust mapping function. "
   ]
  },
  {
   "cell_type": "code",
   "execution_count": 1,
   "id": "c82d6a31",
   "metadata": {},
   "outputs": [],
   "source": [
    "# Standard libraries. \n",
    "import pandas as pd\n",
    "import numpy as np \n",
    "import os\n",
    "from plotly.subplots import make_subplots\n",
    "import plotly.graph_objects as go\n",
    "import plotly.express as px\n",
    "\n",
    "# Importing our functions. \n",
    "import functions\n",
    "import plot_functions\n",
    "\n",
    "# Importing chosen models. \n",
    "from sklearn.linear_model import LogisticRegression\n",
    "from xgboost import XGBClassifier\n",
    "from sklearn.ensemble import GradientBoostingClassifier\n",
    "\n",
    "# Importing transformers. \n",
    "from sklearn.impute import SimpleImputer\n",
    "from sklearn.compose import ColumnTransformer\n",
    "from sklearn.pipeline import Pipeline\n",
    "from sklearn.preprocessing import StandardScaler, Normalizer, OneHotEncoder\n",
    "from sklearn.decomposition import PCA\n",
    "\n",
    "# Converts plotly output into static images, so it can be viewed inside github repository. \n",
    "import plotly.io as pio\n",
    "pio.renderers.default = \"svg\""
   ]
  },
  {
   "cell_type": "code",
   "execution_count": 2,
   "id": "37332938",
   "metadata": {},
   "outputs": [
    {
     "data": {
      "text/html": [
       "<div>\n",
       "<style scoped>\n",
       "    .dataframe tbody tr th:only-of-type {\n",
       "        vertical-align: middle;\n",
       "    }\n",
       "\n",
       "    .dataframe tbody tr th {\n",
       "        vertical-align: top;\n",
       "    }\n",
       "\n",
       "    .dataframe thead th {\n",
       "        text-align: right;\n",
       "    }\n",
       "</style>\n",
       "<table border=\"1\" class=\"dataframe\">\n",
       "  <thead>\n",
       "    <tr style=\"text-align: right;\">\n",
       "      <th></th>\n",
       "      <th>Pclass</th>\n",
       "      <th>Sex</th>\n",
       "      <th>Age</th>\n",
       "      <th>SibSp</th>\n",
       "      <th>Parch</th>\n",
       "      <th>Ticket</th>\n",
       "      <th>Fare</th>\n",
       "      <th>Embarked</th>\n",
       "      <th>Age Group</th>\n",
       "      <th>Martial Status</th>\n",
       "      <th>Survived</th>\n",
       "    </tr>\n",
       "    <tr>\n",
       "      <th>Name</th>\n",
       "      <th></th>\n",
       "      <th></th>\n",
       "      <th></th>\n",
       "      <th></th>\n",
       "      <th></th>\n",
       "      <th></th>\n",
       "      <th></th>\n",
       "      <th></th>\n",
       "      <th></th>\n",
       "      <th></th>\n",
       "      <th></th>\n",
       "    </tr>\n",
       "  </thead>\n",
       "  <tbody>\n",
       "    <tr>\n",
       "      <th>Braund, Mr. Owen Harris</th>\n",
       "      <td>3</td>\n",
       "      <td>male</td>\n",
       "      <td>22.0</td>\n",
       "      <td>1</td>\n",
       "      <td>0</td>\n",
       "      <td>A/5 21171</td>\n",
       "      <td>7.2500</td>\n",
       "      <td>S</td>\n",
       "      <td>young adult</td>\n",
       "      <td>Not Married</td>\n",
       "      <td>0</td>\n",
       "    </tr>\n",
       "    <tr>\n",
       "      <th>Cumings, Mrs. John Bradley (Florence Briggs Thayer)</th>\n",
       "      <td>1</td>\n",
       "      <td>female</td>\n",
       "      <td>38.0</td>\n",
       "      <td>1</td>\n",
       "      <td>0</td>\n",
       "      <td>PC 17599</td>\n",
       "      <td>71.2833</td>\n",
       "      <td>C</td>\n",
       "      <td>middle aged</td>\n",
       "      <td>Married</td>\n",
       "      <td>1</td>\n",
       "    </tr>\n",
       "  </tbody>\n",
       "</table>\n",
       "</div>"
      ],
      "text/plain": [
       "                                                    Pclass     Sex   Age  \\\n",
       "Name                                                                       \n",
       "Braund, Mr. Owen Harris                                  3    male  22.0   \n",
       "Cumings, Mrs. John Bradley (Florence Briggs Tha...       1  female  38.0   \n",
       "\n",
       "                                                    SibSp  Parch     Ticket  \\\n",
       "Name                                                                          \n",
       "Braund, Mr. Owen Harris                                 1      0  A/5 21171   \n",
       "Cumings, Mrs. John Bradley (Florence Briggs Tha...      1      0   PC 17599   \n",
       "\n",
       "                                                       Fare Embarked  \\\n",
       "Name                                                                   \n",
       "Braund, Mr. Owen Harris                              7.2500        S   \n",
       "Cumings, Mrs. John Bradley (Florence Briggs Tha...  71.2833        C   \n",
       "\n",
       "                                                      Age Group  \\\n",
       "Name                                                              \n",
       "Braund, Mr. Owen Harris                             young adult   \n",
       "Cumings, Mrs. John Bradley (Florence Briggs Tha...  middle aged   \n",
       "\n",
       "                                                   Martial Status  Survived  \n",
       "Name                                                                         \n",
       "Braund, Mr. Owen Harris                               Not Married         0  \n",
       "Cumings, Mrs. John Bradley (Florence Briggs Tha...        Married         1  "
      ]
     },
     "execution_count": 2,
     "metadata": {},
     "output_type": "execute_result"
    }
   ],
   "source": [
    "root = os.getcwd() # Setting root directory as cwd. \n",
    "df = pd.read_csv(r\"{}\\train_new_features.csv\".format(root)) # Importing the train set.\n",
    "processed = pd.read_csv(r\"{}\\train_processed.csv\".format(root))\n",
    "df.set_index(\"Name\", inplace=True)\n",
    "df.head(2)"
   ]
  },
  {
   "cell_type": "markdown",
   "id": "5d9f12b9",
   "metadata": {},
   "source": [
    "&nbsp;"
   ]
  },
  {
   "cell_type": "markdown",
   "id": "42f2d84b",
   "metadata": {},
   "source": [
    "### Section A: Dimensionality Reduction\n",
    "Principle Component Analysis (PCA) is a feature elimination technqiue used to speed up processing time during training. The main idea is to get rid of similiar features whilst still retaining information of the feature space. Generally, we would want to preserve a an explained variance of between 95-99%. The way PCA works is that it creates a new set of linear features derived from our orginal feature space. "
   ]
  },
  {
   "cell_type": "markdown",
   "id": "93d2c79f",
   "metadata": {},
   "source": [
    "**A.1: Choosing n_components**<br>\n",
    "The first step into conducting PCA is to choose the optimal \"n_components\", which is basically saying how many features would you like PCa to create. We can find the optinal \"n_components\" by applying the Elbow Method."
   ]
  },
  {
   "cell_type": "code",
   "execution_count": 3,
   "id": "38edaa14",
   "metadata": {},
   "outputs": [
    {
     "data": {
      "image/svg+xml": [
       "<svg class=\"main-svg\" xmlns=\"http://www.w3.org/2000/svg\" xmlns:xlink=\"http://www.w3.org/1999/xlink\" width=\"750\" height=\"380\" style=\"\" viewBox=\"0 0 750 380\"><rect x=\"0\" y=\"0\" width=\"750\" height=\"380\" style=\"fill: rgb(255, 255, 255); fill-opacity: 1;\"/><defs id=\"defs-b35987\"><g class=\"clips\"><clipPath id=\"clipb35987xyplot\" class=\"plotclip\"><rect width=\"590\" height=\"240\"/></clipPath><clipPath class=\"axesclip\" id=\"clipb35987x\"><rect x=\"80\" y=\"0\" width=\"590\" height=\"380\"/></clipPath><clipPath class=\"axesclip\" id=\"clipb35987y\"><rect x=\"0\" y=\"60\" width=\"750\" height=\"240\"/></clipPath><clipPath class=\"axesclip\" id=\"clipb35987xy\"><rect x=\"80\" y=\"60\" width=\"590\" height=\"240\"/></clipPath></g><g class=\"gradients\"/><g class=\"patterns\"/></defs><g class=\"bglayer\"><rect class=\"bg\" x=\"80\" y=\"60\" width=\"590\" height=\"240\" style=\"fill: rgb(248, 248, 246); fill-opacity: 1; stroke-width: 0;\"/></g><g class=\"layer-below\"><g class=\"imagelayer\"/><g class=\"shapelayer\"/></g><g class=\"cartesianlayer\"><g class=\"subplot xy\"><g class=\"layer-subplot\"><g class=\"shapelayer\"/><g class=\"imagelayer\"/></g><g class=\"minor-gridlayer\"><g class=\"x\"/><g class=\"y\"/></g><g class=\"gridlayer\"><g class=\"x\"><path class=\"xgrid crisp\" transform=\"translate(153.75,0)\" d=\"M0,60v240\" style=\"stroke: rgb(255, 255, 255); stroke-opacity: 1; stroke-width: 1px;\"/><path class=\"xgrid crisp\" transform=\"translate(227.5,0)\" d=\"M0,60v240\" style=\"stroke: rgb(255, 255, 255); stroke-opacity: 1; stroke-width: 1px;\"/><path class=\"xgrid crisp\" transform=\"translate(301.25,0)\" d=\"M0,60v240\" style=\"stroke: rgb(255, 255, 255); stroke-opacity: 1; stroke-width: 1px;\"/><path class=\"xgrid crisp\" transform=\"translate(375,0)\" d=\"M0,60v240\" style=\"stroke: rgb(255, 255, 255); stroke-opacity: 1; stroke-width: 1px;\"/><path class=\"xgrid crisp\" transform=\"translate(448.75,0)\" d=\"M0,60v240\" style=\"stroke: rgb(255, 255, 255); stroke-opacity: 1; stroke-width: 1px;\"/><path class=\"xgrid crisp\" transform=\"translate(522.5,0)\" d=\"M0,60v240\" style=\"stroke: rgb(255, 255, 255); stroke-opacity: 1; stroke-width: 1px;\"/><path class=\"xgrid crisp\" transform=\"translate(596.25,0)\" d=\"M0,60v240\" style=\"stroke: rgb(255, 255, 255); stroke-opacity: 1; stroke-width: 1px;\"/></g><g class=\"y\"><path class=\"ygrid crisp\" transform=\"translate(0,271.08000000000004)\" d=\"M80,0h590\" style=\"stroke: rgb(255, 255, 255); stroke-opacity: 1; stroke-width: 1px;\"/><path class=\"ygrid crisp\" transform=\"translate(0,203.68)\" d=\"M80,0h590\" style=\"stroke: rgb(255, 255, 255); stroke-opacity: 1; stroke-width: 1px;\"/><path class=\"ygrid crisp\" transform=\"translate(0,136.26999999999998)\" d=\"M80,0h590\" style=\"stroke: rgb(255, 255, 255); stroke-opacity: 1; stroke-width: 1px;\"/><path class=\"ygrid crisp\" transform=\"translate(0,68.87)\" d=\"M80,0h590\" style=\"stroke: rgb(255, 255, 255); stroke-opacity: 1; stroke-width: 1px;\"/></g></g><g class=\"zerolinelayer\"/><path class=\"xlines-below\"/><path class=\"ylines-below\"/><g class=\"overlines-below\"/><g class=\"xaxislayer-below\"/><g class=\"yaxislayer-below\"/><g class=\"overaxes-below\"/><g class=\"plot\" transform=\"translate(80,60)\" clip-path=\"url(#clipb35987xyplot)\"><g class=\"scatterlayer mlayer\"><g class=\"trace scatter trace68b7df\" style=\"stroke-miterlimit: 2; opacity: 1;\"><g class=\"fills\"/><g class=\"errorbars\"/><g class=\"lines\"><path class=\"js-line\" d=\"M0,228L147.5,13.78L295,12.92L590,12\" style=\"vector-effect: non-scaling-stroke; fill: none; stroke: rgb(99, 110, 250); stroke-opacity: 1; stroke-width: 2px; opacity: 1;\"/></g><g class=\"points\"/><g class=\"text\"/></g></g></g><g class=\"overplot\"/><path class=\"xlines-above crisp\" d=\"M0,0\" style=\"fill: none;\"/><path class=\"ylines-above crisp\" d=\"M0,0\" style=\"fill: none;\"/><g class=\"overlines-above\"/><g class=\"xaxislayer-above\"><g class=\"xtick\"><text text-anchor=\"middle\" x=\"0\" y=\"313\" transform=\"translate(80,0)\" style=\"font-family: 'Open Sans', verdana, arial, sans-serif; font-size: 12px; fill: rgb(42, 63, 95); fill-opacity: 1; white-space: pre; opacity: 1;\">1</text></g><g class=\"xtick\"><text text-anchor=\"middle\" x=\"0\" y=\"313\" style=\"font-family: 'Open Sans', verdana, arial, sans-serif; font-size: 12px; fill: rgb(42, 63, 95); fill-opacity: 1; white-space: pre; opacity: 1;\" transform=\"translate(153.75,0)\">1.5</text></g><g class=\"xtick\"><text text-anchor=\"middle\" x=\"0\" y=\"313\" style=\"font-family: 'Open Sans', verdana, arial, sans-serif; font-size: 12px; fill: rgb(42, 63, 95); fill-opacity: 1; white-space: pre; opacity: 1;\" transform=\"translate(227.5,0)\">2</text></g><g class=\"xtick\"><text text-anchor=\"middle\" x=\"0\" y=\"313\" style=\"font-family: 'Open Sans', verdana, arial, sans-serif; font-size: 12px; fill: rgb(42, 63, 95); fill-opacity: 1; white-space: pre; opacity: 1;\" transform=\"translate(301.25,0)\">2.5</text></g><g class=\"xtick\"><text text-anchor=\"middle\" x=\"0\" y=\"313\" style=\"font-family: 'Open Sans', verdana, arial, sans-serif; font-size: 12px; fill: rgb(42, 63, 95); fill-opacity: 1; white-space: pre; opacity: 1;\" transform=\"translate(375,0)\">3</text></g><g class=\"xtick\"><text text-anchor=\"middle\" x=\"0\" y=\"313\" style=\"font-family: 'Open Sans', verdana, arial, sans-serif; font-size: 12px; fill: rgb(42, 63, 95); fill-opacity: 1; white-space: pre; opacity: 1;\" transform=\"translate(448.75,0)\">3.5</text></g><g class=\"xtick\"><text text-anchor=\"middle\" x=\"0\" y=\"313\" style=\"font-family: 'Open Sans', verdana, arial, sans-serif; font-size: 12px; fill: rgb(42, 63, 95); fill-opacity: 1; white-space: pre; opacity: 1;\" transform=\"translate(522.5,0)\">4</text></g><g class=\"xtick\"><text text-anchor=\"middle\" x=\"0\" y=\"313\" style=\"font-family: 'Open Sans', verdana, arial, sans-serif; font-size: 12px; fill: rgb(42, 63, 95); fill-opacity: 1; white-space: pre; opacity: 1;\" transform=\"translate(596.25,0)\">4.5</text></g><g class=\"xtick\"><text text-anchor=\"middle\" x=\"0\" y=\"313\" style=\"font-family: 'Open Sans', verdana, arial, sans-serif; font-size: 12px; fill: rgb(42, 63, 95); fill-opacity: 1; white-space: pre; opacity: 1;\" transform=\"translate(670,0)\">5</text></g></g><g class=\"yaxislayer-above\"><g class=\"ytick\"><text text-anchor=\"end\" x=\"79\" y=\"4.199999999999999\" transform=\"translate(0,271.08000000000004)\" style=\"font-family: 'Open Sans', verdana, arial, sans-serif; font-size: 12px; fill: rgb(42, 63, 95); fill-opacity: 1; white-space: pre; opacity: 1;\">0.94</text></g><g class=\"ytick\"><text text-anchor=\"end\" x=\"79\" y=\"4.199999999999999\" style=\"font-family: 'Open Sans', verdana, arial, sans-serif; font-size: 12px; fill: rgb(42, 63, 95); fill-opacity: 1; white-space: pre; opacity: 1;\" transform=\"translate(0,203.68)\">0.96</text></g><g class=\"ytick\"><text text-anchor=\"end\" x=\"79\" y=\"4.199999999999999\" style=\"font-family: 'Open Sans', verdana, arial, sans-serif; font-size: 12px; fill: rgb(42, 63, 95); fill-opacity: 1; white-space: pre; opacity: 1;\" transform=\"translate(0,136.26999999999998)\">0.98</text></g><g class=\"ytick\"><text text-anchor=\"end\" x=\"79\" y=\"4.199999999999999\" style=\"font-family: 'Open Sans', verdana, arial, sans-serif; font-size: 12px; fill: rgb(42, 63, 95); fill-opacity: 1; white-space: pre; opacity: 1;\" transform=\"translate(0,68.87)\">1</text></g></g><g class=\"overaxes-above\"/></g></g><g class=\"polarlayer\"/><g class=\"smithlayer\"/><g class=\"ternarylayer\"/><g class=\"geolayer\"/><g class=\"funnelarealayer\"/><g class=\"pielayer\"/><g class=\"iciclelayer\"/><g class=\"treemaplayer\"/><g class=\"sunburstlayer\"/><g class=\"glimages\"/><defs id=\"topdefs-b35987\"><g class=\"clips\"/></defs><g class=\"layer-above\"><g class=\"imagelayer\"/><g class=\"shapelayer\"/></g><g class=\"infolayer\"><g class=\"g-gtitle\"><text class=\"gtitle\" x=\"37.5\" y=\"30\" text-anchor=\"start\" dy=\"0em\" style=\"font-family: 'Arial Black'; font-size: 20px; fill: rgb(42, 63, 95); opacity: 1; font-weight: normal; white-space: pre;\">PCA Elbow Method</text></g><g class=\"g-xtitle\"><text class=\"xtitle\" x=\"375\" y=\"340.8\" text-anchor=\"middle\" style=\"font-family: 'Open Sans', verdana, arial, sans-serif; font-size: 14px; fill: rgb(42, 63, 95); opacity: 1; font-weight: normal; white-space: pre;\">No. of Components</text></g><g class=\"g-ytitle\"><text class=\"ytitle\" transform=\"rotate(-90,26.934375000000003,180)\" x=\"26.934375000000003\" y=\"180\" text-anchor=\"middle\" style=\"font-family: 'Open Sans', verdana, arial, sans-serif; font-size: 14px; fill: rgb(42, 63, 95); opacity: 1; font-weight: normal; white-space: pre;\">Explained Variance</text></g></g></svg>"
      ]
     },
     "metadata": {},
     "output_type": "display_data"
    }
   ],
   "source": [
    "# Splitting the data. \n",
    "X = processed.iloc[:,:-1]\n",
    "y = processed.iloc[:,-1]\n",
    "\n",
    "# Store variance output. \n",
    "explained_variance = list()\n",
    "\n",
    "# Cycle through explained variance for each no. of features. \n",
    "# The reason we use a range of (1, 6) is because the eblow is too difficult to see if we use all 711 features. \n",
    "for x in range(1, 6):\n",
    "    pca = PCA(n_components=x)\n",
    "    pca.fit(X)    \n",
    "    explained_variance.append(np.sum(pca.explained_variance_ratio_))\n",
    "\n",
    "# Plotting explained variance against no. of components. \n",
    "fig = px.line(x=range(1,6), y=explained_variance)\n",
    "fig.update_layout(title='PCA Elbow Method',\n",
    "                       xaxis_title='No. of Components',  \n",
    "                       yaxis_title='Explained Variance', height=380, width=750, plot_bgcolor='#F8F8F6', title_font_size=20, \n",
    "                       title_font_family='Arial Black') \n",
    "fig.show()"
   ]
  },
  {
   "cell_type": "markdown",
   "id": "fb712f66",
   "metadata": {},
   "source": [
    "* What this plot is telling us, is that 2 principle components retains 99.80% of information from the original dataset.\n",
    "* So, we'll set n_components=2."
   ]
  },
  {
   "cell_type": "code",
   "execution_count": 4,
   "id": "e7a1a82c",
   "metadata": {},
   "outputs": [
    {
     "name": "stdout",
     "output_type": "stream",
     "text": [
      "Our Logistic Regression Model scored an f1_score of: 69.05%\n"
     ]
    }
   ],
   "source": [
    "# The model_evaluation() class sets up the pipeline to transform the data then returns a cross validated score. \n",
    "LR_pca = functions.model_evaluation()\n",
    "LR_pca.preprocessing(df)\n",
    "LR_pca.add_pipe_component(\"s\", StandardScaler())\n",
    "LR_pca.add_pipe_component(\"pca\", PCA(n_components=2))\n",
    "LR_pca.add_pipe_component(\"clf\", LogisticRegression(max_iter=1000))\n",
    "LR_pca.cross_validation(df)\n",
    "\n",
    "print(\"Our Logistic Regression Model scored an f1_score of: %.2f%%\" % (LR_pca.cv_result))"
   ]
  },
  {
   "cell_type": "markdown",
   "id": "6cfafac7",
   "metadata": {},
   "source": [
    "* Hold on a second, why did our f1_score drop by almost 13%?\n",
    "* It seems even though 2 principle components retains enough information, the performance of the dataset is not favourable. So what we can do is iterate over a range of n_components and use the best score that does not degrade our model performance too harshly."
   ]
  },
  {
   "cell_type": "code",
   "execution_count": 5,
   "id": "e8dd386e",
   "metadata": {},
   "outputs": [],
   "source": [
    "# Store results from each iteration of n_components. \n",
    "pca_resultsLR = dict()\n",
    "pca_resultsGBC = dict()\n",
    "pca_resultsXGB = dict()"
   ]
  },
  {
   "cell_type": "markdown",
   "id": "340036c8",
   "metadata": {},
   "source": [
    "**A.2: Logistic Regression PCA**<br>\n",
    "Let's now use our Logistic Regression and iterate over range(1, 50) n_components to find the max f1_score."
   ]
  },
  {
   "cell_type": "code",
   "execution_count": 6,
   "id": "90df421a",
   "metadata": {},
   "outputs": [
    {
     "name": "stdout",
     "output_type": "stream",
     "text": [
      "The optimal PCA configuration for Logistic Regression is: n_component=20, with an f1_score of 80.90%: \n"
     ]
    }
   ],
   "source": [
    "functions.optimal_components(LogisticRegression(max_iter=1000), pca_resultsLR, processed) \n",
    "new_value = max(pca_resultsLR, key=pca_resultsLR.get)\n",
    "print(\"The optimal PCA configuration for Logistic Regression is: n_component=%s, with an f1_score of %.2f%%: \" \n",
    "      % (new_value, pca_resultsLR[str(new_value)]))"
   ]
  },
  {
   "cell_type": "markdown",
   "id": "a531bdb3",
   "metadata": {},
   "source": [
    "**A.3: Gradient Boosting Classifier PCA**<br>\n",
    "The next step is to do the same process but for our Gradient Boosting Classifier. "
   ]
  },
  {
   "cell_type": "code",
   "execution_count": 7,
   "id": "5c8a999c",
   "metadata": {},
   "outputs": [
    {
     "name": "stdout",
     "output_type": "stream",
     "text": [
      "The optimal PCA configuration for Gradient Boosting Classifier is: n_component=22, with an f1_score of 82.08%: \n"
     ]
    }
   ],
   "source": [
    "functions.optimal_components(GradientBoostingClassifier(), pca_resultsGBC, processed) \n",
    "new_value = max(pca_resultsGBC, key=pca_resultsGBC.get)\n",
    "print(\"The optimal PCA configuration for Gradient Boosting Classifier is: n_component=%s, with an f1_score of %.2f%%: \" \n",
    "      % (new_value, pca_resultsGBC[str(new_value)]))"
   ]
  },
  {
   "cell_type": "markdown",
   "id": "7862db54",
   "metadata": {},
   "source": [
    "**A.4: XGB Classifier PCA**<br>\n",
    "And now finally we'll iterate up to 50 n_components to find the best f1_score for our XGB Classifier."
   ]
  },
  {
   "cell_type": "code",
   "execution_count": 8,
   "id": "94d83d64",
   "metadata": {},
   "outputs": [
    {
     "name": "stdout",
     "output_type": "stream",
     "text": [
      "The optimal PCA configuration for XGBClassifier is: n_component=22, with an f1_score of 81.99%: \n"
     ]
    }
   ],
   "source": [
    "functions.optimal_components(XGBClassifier(), pca_resultsXGB, processed) \n",
    "new_value = max(pca_resultsXGB, key=pca_resultsXGB.get)\n",
    "print(\"The optimal PCA configuration for XGBClassifier is: n_component=%s, with an f1_score of %.2f%%: \" \n",
    "      % (new_value, pca_resultsXGB[str(new_value)]))"
   ]
  },
  {
   "cell_type": "markdown",
   "id": "94e19d3c",
   "metadata": {},
   "source": [
    "| Model | Model Type | n_components | f1_score |\n",
    "|---------|---------|---------|---------|\n",
    "| **Logistic Regression** | PCA Logistic Regression | 20 |80.90% |\n",
    "| **Gradient Boosting Classifier** | PCA Gradient Boosting Classifier | 29 |82.42% |\n",
    "| **XGB Classifier** | PCA XGB Classifier | 23 |81.28% |"
   ]
  },
  {
   "cell_type": "code",
   "execution_count": 9,
   "id": "b5bdd75c",
   "metadata": {},
   "outputs": [
    {
     "data": {
      "image/svg+xml": [
       "<svg class=\"main-svg\" xmlns=\"http://www.w3.org/2000/svg\" xmlns:xlink=\"http://www.w3.org/1999/xlink\" width=\"800\" height=\"550\" style=\"\" viewBox=\"0 0 800 550\"><rect x=\"0\" y=\"0\" width=\"800\" height=\"550\" style=\"fill: rgb(255, 255, 255); fill-opacity: 1;\"/><defs id=\"defs-7e4929\"><g class=\"clips\"><clipPath id=\"clip7e4929xyplot\" class=\"plotclip\"><rect width=\"485\" height=\"98.66666666666669\"/></clipPath><clipPath id=\"clip7e4929x2y2plot\" class=\"plotclip\"><rect width=\"485\" height=\"98.66666666666667\"/></clipPath><clipPath id=\"clip7e4929x3y3plot\" class=\"plotclip\"><rect width=\"485\" height=\"98.66666666666667\"/></clipPath><clipPath class=\"axesclip\" id=\"clip7e4929x\"><rect x=\"80\" y=\"0\" width=\"485\" height=\"550\"/></clipPath><clipPath class=\"axesclip\" id=\"clip7e4929y\"><rect x=\"0\" y=\"100\" width=\"800\" height=\"98.66666666666669\"/></clipPath><clipPath class=\"axesclip\" id=\"clip7e4929xy\"><rect x=\"80\" y=\"100\" width=\"485\" height=\"98.66666666666669\"/></clipPath><clipPath class=\"axesclip\" id=\"clip7e4929y2\"><rect x=\"0\" y=\"235.66666666666669\" width=\"800\" height=\"98.66666666666667\"/></clipPath><clipPath class=\"axesclip\" id=\"clip7e4929xy2\"><rect x=\"80\" y=\"235.66666666666669\" width=\"485\" height=\"98.66666666666667\"/></clipPath><clipPath class=\"axesclip\" id=\"clip7e4929y3\"><rect x=\"0\" y=\"371.33333333333337\" width=\"800\" height=\"98.66666666666667\"/></clipPath><clipPath class=\"axesclip\" id=\"clip7e4929xy3\"><rect x=\"80\" y=\"371.33333333333337\" width=\"485\" height=\"98.66666666666667\"/></clipPath><clipPath class=\"axesclip\" id=\"clip7e4929x2\"><rect x=\"80\" y=\"0\" width=\"485\" height=\"550\"/></clipPath><clipPath class=\"axesclip\" id=\"clip7e4929x2y\"><rect x=\"80\" y=\"100\" width=\"485\" height=\"98.66666666666669\"/></clipPath><clipPath class=\"axesclip\" id=\"clip7e4929x2y2\"><rect x=\"80\" y=\"235.66666666666669\" width=\"485\" height=\"98.66666666666667\"/></clipPath><clipPath class=\"axesclip\" id=\"clip7e4929x2y3\"><rect x=\"80\" y=\"371.33333333333337\" width=\"485\" height=\"98.66666666666667\"/></clipPath><clipPath class=\"axesclip\" id=\"clip7e4929x3\"><rect x=\"80\" y=\"0\" width=\"485\" height=\"550\"/></clipPath><clipPath class=\"axesclip\" id=\"clip7e4929x3y\"><rect x=\"80\" y=\"100\" width=\"485\" height=\"98.66666666666669\"/></clipPath><clipPath class=\"axesclip\" id=\"clip7e4929x3y2\"><rect x=\"80\" y=\"235.66666666666669\" width=\"485\" height=\"98.66666666666667\"/></clipPath><clipPath class=\"axesclip\" id=\"clip7e4929x3y3\"><rect x=\"80\" y=\"371.33333333333337\" width=\"485\" height=\"98.66666666666667\"/></clipPath></g><g class=\"gradients\"/><g class=\"patterns\"/></defs><g class=\"bglayer\"><rect class=\"bg\" x=\"80\" y=\"100\" width=\"485\" height=\"98.66666666666669\" style=\"fill: rgb(248, 248, 246); fill-opacity: 1; stroke-width: 0;\"/><rect class=\"bg\" x=\"80\" y=\"235.66666666666669\" width=\"485\" height=\"98.66666666666667\" style=\"fill: rgb(248, 248, 246); fill-opacity: 1; stroke-width: 0;\"/><rect class=\"bg\" x=\"80\" y=\"371.33333333333337\" width=\"485\" height=\"98.66666666666667\" style=\"fill: rgb(248, 248, 246); fill-opacity: 1; stroke-width: 0;\"/></g><g class=\"layer-below\"><g class=\"imagelayer\"/><g class=\"shapelayer\"/></g><g class=\"cartesianlayer\"><g class=\"subplot xy\"><g class=\"layer-subplot\"><g class=\"shapelayer\"/><g class=\"imagelayer\"/></g><g class=\"minor-gridlayer\"><g class=\"x\"/><g class=\"y\"/></g><g class=\"gridlayer\"><g class=\"x\"><path class=\"xgrid crisp\" transform=\"translate(146.9,0)\" d=\"M0,100v98.66666666666669\" style=\"stroke: rgb(255, 255, 255); stroke-opacity: 1; stroke-width: 1px;\"/><path class=\"xgrid crisp\" transform=\"translate(230.52,0)\" d=\"M0,100v98.66666666666669\" style=\"stroke: rgb(255, 255, 255); stroke-opacity: 1; stroke-width: 1px;\"/><path class=\"xgrid crisp\" transform=\"translate(314.14,0)\" d=\"M0,100v98.66666666666669\" style=\"stroke: rgb(255, 255, 255); stroke-opacity: 1; stroke-width: 1px;\"/><path class=\"xgrid crisp\" transform=\"translate(397.76,0)\" d=\"M0,100v98.66666666666669\" style=\"stroke: rgb(255, 255, 255); stroke-opacity: 1; stroke-width: 1px;\"/><path class=\"xgrid crisp\" transform=\"translate(481.38,0)\" d=\"M0,100v98.66666666666669\" style=\"stroke: rgb(255, 255, 255); stroke-opacity: 1; stroke-width: 1px;\"/></g><g class=\"y\"><path class=\"ygrid crisp\" transform=\"translate(0,197.28)\" d=\"M80,0h485\" style=\"stroke: rgb(255, 255, 255); stroke-opacity: 1; stroke-width: 1px;\"/><path class=\"ygrid crisp\" transform=\"translate(0,175.19)\" d=\"M80,0h485\" style=\"stroke: rgb(255, 255, 255); stroke-opacity: 1; stroke-width: 1px;\"/><path class=\"ygrid crisp\" transform=\"translate(0,153.1)\" d=\"M80,0h485\" style=\"stroke: rgb(255, 255, 255); stroke-opacity: 1; stroke-width: 1px;\"/><path class=\"ygrid crisp\" transform=\"translate(0,131.01)\" d=\"M80,0h485\" style=\"stroke: rgb(255, 255, 255); stroke-opacity: 1; stroke-width: 1px;\"/><path class=\"ygrid crisp\" transform=\"translate(0,108.93)\" d=\"M80,0h485\" style=\"stroke: rgb(255, 255, 255); stroke-opacity: 1; stroke-width: 1px;\"/></g></g><g class=\"zerolinelayer\"/><path class=\"xlines-below\"/><path class=\"ylines-below\"/><g class=\"overlines-below\"/><g class=\"xaxislayer-below\"/><g class=\"yaxislayer-below\"/><g class=\"overaxes-below\"/><g class=\"plot\" transform=\"translate(80,100)\" clip-path=\"url(#clip7e4929xyplot)\"><g class=\"scatterlayer mlayer\"><g class=\"trace scatter traceb2e1dd\" style=\"stroke-miterlimit: 2; opacity: 1;\"><g class=\"fills\"/><g class=\"errorbars\"/><g class=\"lines\"><path class=\"js-line\" d=\"M0,90.79L16.72,93.73L33.45,47.98L50.17,25.9L66.9,24.3L83.62,17.42L100.34,15.76L117.07,9.3L133.79,8.79L150.52,13.71L167.24,12.38L183.97,11.91L200.69,9.1L217.41,9.52L234.14,6.35L250.86,7.35L267.59,7.36L301.03,8.36L317.76,4.93L351.21,6.4L367.93,5.97L384.66,5.39L401.38,6.38L418.1,5.91L434.83,6.38L468.28,6L485,5.53\" style=\"vector-effect: non-scaling-stroke; fill: none; stroke: rgb(99, 110, 250); stroke-opacity: 1; stroke-width: 2px; opacity: 1;\"/></g><g class=\"points\"/><g class=\"text\"/></g></g></g><g class=\"overplot\"/><path class=\"xlines-above crisp\" d=\"M0,0\" style=\"fill: none;\"/><path class=\"ylines-above crisp\" d=\"M0,0\" style=\"fill: none;\"/><g class=\"overlines-above\"/><g class=\"xaxislayer-above\"><g class=\"xtick\"><text text-anchor=\"middle\" x=\"0\" y=\"211.66666666666669\" transform=\"translate(146.9,0)\" style=\"font-family: 'Open Sans', verdana, arial, sans-serif; font-size: 12px; fill: rgb(42, 63, 95); fill-opacity: 1; white-space: pre; opacity: 1;\">5</text></g><g class=\"xtick\"><text text-anchor=\"middle\" x=\"0\" y=\"211.66666666666669\" style=\"font-family: 'Open Sans', verdana, arial, sans-serif; font-size: 12px; fill: rgb(42, 63, 95); fill-opacity: 1; white-space: pre; opacity: 1;\" transform=\"translate(230.52,0)\">10</text></g><g class=\"xtick\"><text text-anchor=\"middle\" x=\"0\" y=\"211.66666666666669\" style=\"font-family: 'Open Sans', verdana, arial, sans-serif; font-size: 12px; fill: rgb(42, 63, 95); fill-opacity: 1; white-space: pre; opacity: 1;\" transform=\"translate(314.14,0)\">15</text></g><g class=\"xtick\"><text text-anchor=\"middle\" x=\"0\" y=\"211.66666666666669\" style=\"font-family: 'Open Sans', verdana, arial, sans-serif; font-size: 12px; fill: rgb(42, 63, 95); fill-opacity: 1; white-space: pre; opacity: 1;\" transform=\"translate(397.76,0)\">20</text></g><g class=\"xtick\"><text text-anchor=\"middle\" x=\"0\" y=\"211.66666666666669\" style=\"font-family: 'Open Sans', verdana, arial, sans-serif; font-size: 12px; fill: rgb(42, 63, 95); fill-opacity: 1; white-space: pre; opacity: 1;\" transform=\"translate(481.38,0)\">25</text></g><g class=\"xtick\"><text text-anchor=\"middle\" x=\"0\" y=\"211.66666666666669\" style=\"font-family: 'Open Sans', verdana, arial, sans-serif; font-size: 12px; fill: rgb(42, 63, 95); fill-opacity: 1; white-space: pre; opacity: 1;\" transform=\"translate(565,0)\">30</text></g></g><g class=\"yaxislayer-above\"><g class=\"ytick\"><text text-anchor=\"end\" x=\"79\" y=\"4.199999999999999\" transform=\"translate(0,197.28)\" style=\"font-family: 'Open Sans', verdana, arial, sans-serif; font-size: 12px; fill: rgb(42, 63, 95); fill-opacity: 1; white-space: pre; opacity: 1;\">60</text></g><g class=\"ytick\"><text text-anchor=\"end\" x=\"79\" y=\"4.199999999999999\" style=\"font-family: 'Open Sans', verdana, arial, sans-serif; font-size: 12px; fill: rgb(42, 63, 95); fill-opacity: 1; white-space: pre; opacity: 1;\" transform=\"translate(0,175.19)\">65</text></g><g class=\"ytick\"><text text-anchor=\"end\" x=\"79\" y=\"4.199999999999999\" style=\"font-family: 'Open Sans', verdana, arial, sans-serif; font-size: 12px; fill: rgb(42, 63, 95); fill-opacity: 1; white-space: pre; opacity: 1;\" transform=\"translate(0,153.1)\">70</text></g><g class=\"ytick\"><text text-anchor=\"end\" x=\"79\" y=\"4.199999999999999\" style=\"font-family: 'Open Sans', verdana, arial, sans-serif; font-size: 12px; fill: rgb(42, 63, 95); fill-opacity: 1; white-space: pre; opacity: 1;\" transform=\"translate(0,131.01)\">75</text></g><g class=\"ytick\"><text text-anchor=\"end\" x=\"79\" y=\"4.199999999999999\" style=\"font-family: 'Open Sans', verdana, arial, sans-serif; font-size: 12px; fill: rgb(42, 63, 95); fill-opacity: 1; white-space: pre; opacity: 1;\" transform=\"translate(0,108.93)\">80</text></g></g><g class=\"overaxes-above\"/></g><g class=\"subplot x2y2\"><g class=\"layer-subplot\"><g class=\"shapelayer\"/><g class=\"imagelayer\"/></g><g class=\"minor-gridlayer\"><g class=\"x2\"/><g class=\"y2\"/></g><g class=\"gridlayer\"><g class=\"x2\"><path class=\"x2grid crisp\" transform=\"translate(146.9,0)\" d=\"M0,235.66666666666669v98.66666666666667\" style=\"stroke: rgb(255, 255, 255); stroke-opacity: 1; stroke-width: 1px;\"/><path class=\"x2grid crisp\" transform=\"translate(230.52,0)\" d=\"M0,235.66666666666669v98.66666666666667\" style=\"stroke: rgb(255, 255, 255); stroke-opacity: 1; stroke-width: 1px;\"/><path class=\"x2grid crisp\" transform=\"translate(314.14,0)\" d=\"M0,235.66666666666669v98.66666666666667\" style=\"stroke: rgb(255, 255, 255); stroke-opacity: 1; stroke-width: 1px;\"/><path class=\"x2grid crisp\" transform=\"translate(397.76,0)\" d=\"M0,235.66666666666669v98.66666666666667\" style=\"stroke: rgb(255, 255, 255); stroke-opacity: 1; stroke-width: 1px;\"/><path class=\"x2grid crisp\" transform=\"translate(481.38,0)\" d=\"M0,235.66666666666669v98.66666666666667\" style=\"stroke: rgb(255, 255, 255); stroke-opacity: 1; stroke-width: 1px;\"/></g><g class=\"y2\"><path class=\"y2grid crisp\" transform=\"translate(0,322.0766666666667)\" d=\"M80,0h485\" style=\"stroke: rgb(255, 255, 255); stroke-opacity: 1; stroke-width: 1px;\"/><path class=\"y2grid crisp\" transform=\"translate(0,298.2266666666667)\" d=\"M80,0h485\" style=\"stroke: rgb(255, 255, 255); stroke-opacity: 1; stroke-width: 1px;\"/><path class=\"y2grid crisp\" transform=\"translate(0,274.37666666666667)\" d=\"M80,0h485\" style=\"stroke: rgb(255, 255, 255); stroke-opacity: 1; stroke-width: 1px;\"/><path class=\"y2grid crisp\" transform=\"translate(0,250.5266666666667)\" d=\"M80,0h485\" style=\"stroke: rgb(255, 255, 255); stroke-opacity: 1; stroke-width: 1px;\"/></g></g><g class=\"zerolinelayer\"/><path class=\"xlines-below\"/><path class=\"ylines-below\"/><g class=\"overlines-below\"/><g class=\"xaxislayer-below\"/><g class=\"yaxislayer-below\"/><g class=\"overaxes-below\"/><g class=\"plot\" transform=\"translate(80,235.66666666666669)\" clip-path=\"url(#clip7e4929x2y2plot)\"><g class=\"scatterlayer mlayer\"><g class=\"trace scatter trace993c07\" style=\"stroke-miterlimit: 2; opacity: 1;\"><g class=\"fills\"/><g class=\"errorbars\"/><g class=\"lines\"><path class=\"js-line\" d=\"M0,93.73L16.72,66.66L33.45,32.19L50.17,27.65L66.9,24.32L83.62,12.37L100.34,9.68L117.07,12.41L133.79,9.3L150.52,10.95L167.24,13.86L183.97,14.24L200.69,13.14L217.41,9.19L234.14,8.79L250.86,9.76L267.59,6.49L284.31,9.35L301.03,7.29L317.76,7.67L334.48,9.68L351.21,4.93L367.93,9.11L384.66,10.34L401.38,9.13L418.1,9.94L434.83,13.28L451.55,14.12L468.28,13.26L485,11.65\" style=\"vector-effect: non-scaling-stroke; fill: none; stroke: rgb(239, 85, 59); stroke-opacity: 1; stroke-width: 2px; opacity: 1;\"/></g><g class=\"points\"/><g class=\"text\"/></g></g></g><g class=\"overplot\"/><path class=\"xlines-above crisp\" d=\"M0,0\" style=\"fill: none;\"/><path class=\"ylines-above crisp\" d=\"M0,0\" style=\"fill: none;\"/><g class=\"overlines-above\"/><g class=\"xaxislayer-above\"><g class=\"x2tick\"><text text-anchor=\"middle\" x=\"0\" y=\"347.33333333333337\" transform=\"translate(146.9,0)\" style=\"font-family: 'Open Sans', verdana, arial, sans-serif; font-size: 12px; fill: rgb(42, 63, 95); fill-opacity: 1; white-space: pre; opacity: 1;\">5</text></g><g class=\"x2tick\"><text text-anchor=\"middle\" x=\"0\" y=\"347.33333333333337\" style=\"font-family: 'Open Sans', verdana, arial, sans-serif; font-size: 12px; fill: rgb(42, 63, 95); fill-opacity: 1; white-space: pre; opacity: 1;\" transform=\"translate(230.52,0)\">10</text></g><g class=\"x2tick\"><text text-anchor=\"middle\" x=\"0\" y=\"347.33333333333337\" style=\"font-family: 'Open Sans', verdana, arial, sans-serif; font-size: 12px; fill: rgb(42, 63, 95); fill-opacity: 1; white-space: pre; opacity: 1;\" transform=\"translate(314.14,0)\">15</text></g><g class=\"x2tick\"><text text-anchor=\"middle\" x=\"0\" y=\"347.33333333333337\" style=\"font-family: 'Open Sans', verdana, arial, sans-serif; font-size: 12px; fill: rgb(42, 63, 95); fill-opacity: 1; white-space: pre; opacity: 1;\" transform=\"translate(397.76,0)\">20</text></g><g class=\"x2tick\"><text text-anchor=\"middle\" x=\"0\" y=\"347.33333333333337\" style=\"font-family: 'Open Sans', verdana, arial, sans-serif; font-size: 12px; fill: rgb(42, 63, 95); fill-opacity: 1; white-space: pre; opacity: 1;\" transform=\"translate(481.38,0)\">25</text></g><g class=\"x2tick\"><text text-anchor=\"middle\" x=\"0\" y=\"347.33333333333337\" style=\"font-family: 'Open Sans', verdana, arial, sans-serif; font-size: 12px; fill: rgb(42, 63, 95); fill-opacity: 1; white-space: pre; opacity: 1;\" transform=\"translate(565,0)\">30</text></g></g><g class=\"yaxislayer-above\"><g class=\"y2tick\"><text text-anchor=\"end\" x=\"79\" y=\"4.199999999999999\" transform=\"translate(0,322.0766666666667)\" style=\"font-family: 'Open Sans', verdana, arial, sans-serif; font-size: 12px; fill: rgb(42, 63, 95); fill-opacity: 1; white-space: pre; opacity: 1;\">65</text></g><g class=\"y2tick\"><text text-anchor=\"end\" x=\"79\" y=\"4.199999999999999\" style=\"font-family: 'Open Sans', verdana, arial, sans-serif; font-size: 12px; fill: rgb(42, 63, 95); fill-opacity: 1; white-space: pre; opacity: 1;\" transform=\"translate(0,298.2266666666667)\">70</text></g><g class=\"y2tick\"><text text-anchor=\"end\" x=\"79\" y=\"4.199999999999999\" style=\"font-family: 'Open Sans', verdana, arial, sans-serif; font-size: 12px; fill: rgb(42, 63, 95); fill-opacity: 1; white-space: pre; opacity: 1;\" transform=\"translate(0,274.37666666666667)\">75</text></g><g class=\"y2tick\"><text text-anchor=\"end\" x=\"79\" y=\"4.199999999999999\" style=\"font-family: 'Open Sans', verdana, arial, sans-serif; font-size: 12px; fill: rgb(42, 63, 95); fill-opacity: 1; white-space: pre; opacity: 1;\" transform=\"translate(0,250.5266666666667)\">80</text></g></g><g class=\"overaxes-above\"/></g><g class=\"subplot x3y3\"><g class=\"layer-subplot\"><g class=\"shapelayer\"/><g class=\"imagelayer\"/></g><g class=\"minor-gridlayer\"><g class=\"x3\"/><g class=\"y3\"/></g><g class=\"gridlayer\"><g class=\"x3\"><path class=\"x3grid crisp\" transform=\"translate(146.9,0)\" d=\"M0,371.33333333333337v98.66666666666667\" style=\"stroke: rgb(255, 255, 255); stroke-opacity: 1; stroke-width: 1px;\"/><path class=\"x3grid crisp\" transform=\"translate(230.52,0)\" d=\"M0,371.33333333333337v98.66666666666667\" style=\"stroke: rgb(255, 255, 255); stroke-opacity: 1; stroke-width: 1px;\"/><path class=\"x3grid crisp\" transform=\"translate(314.14,0)\" d=\"M0,371.33333333333337v98.66666666666667\" style=\"stroke: rgb(255, 255, 255); stroke-opacity: 1; stroke-width: 1px;\"/><path class=\"x3grid crisp\" transform=\"translate(397.76,0)\" d=\"M0,371.33333333333337v98.66666666666667\" style=\"stroke: rgb(255, 255, 255); stroke-opacity: 1; stroke-width: 1px;\"/><path class=\"x3grid crisp\" transform=\"translate(481.38,0)\" d=\"M0,371.33333333333337v98.66666666666667\" style=\"stroke: rgb(255, 255, 255); stroke-opacity: 1; stroke-width: 1px;\"/></g><g class=\"y3\"><path class=\"y3grid crisp\" transform=\"translate(0,464.23333333333335)\" d=\"M80,0h485\" style=\"stroke: rgb(255, 255, 255); stroke-opacity: 1; stroke-width: 1px;\"/><path class=\"y3grid crisp\" transform=\"translate(0,438.34333333333336)\" d=\"M80,0h485\" style=\"stroke: rgb(255, 255, 255); stroke-opacity: 1; stroke-width: 1px;\"/><path class=\"y3grid crisp\" transform=\"translate(0,412.4533333333334)\" d=\"M80,0h485\" style=\"stroke: rgb(255, 255, 255); stroke-opacity: 1; stroke-width: 1px;\"/><path class=\"y3grid crisp\" transform=\"translate(0,386.5633333333334)\" d=\"M80,0h485\" style=\"stroke: rgb(255, 255, 255); stroke-opacity: 1; stroke-width: 1px;\"/></g></g><g class=\"zerolinelayer\"/><path class=\"xlines-below\"/><path class=\"ylines-below\"/><g class=\"overlines-below\"/><g class=\"xaxislayer-below\"/><g class=\"yaxislayer-below\"/><g class=\"overaxes-below\"/><g class=\"plot\" transform=\"translate(80,371.33333333333337)\" clip-path=\"url(#clip7e4929x3y3plot)\"><g class=\"scatterlayer mlayer\"><g class=\"trace scatter trace6f1589\" style=\"stroke-miterlimit: 2; opacity: 1;\"><g class=\"fills\"/><g class=\"errorbars\"/><g class=\"lines\"><path class=\"js-line\" d=\"M0,93.73L16.72,78.98L33.45,36.4L50.17,23.3L66.9,20.86L83.62,26.15L100.34,18.26L117.07,13.55L133.79,14.84L150.52,17.84L167.24,19.51L183.97,9.9L200.69,18.26L217.41,14.23L234.14,17.32L250.86,12.27L267.59,13.86L284.31,8.1L301.03,11.05L317.76,10.21L334.48,10.72L351.21,4.93L367.93,18.94L384.66,9.1L401.38,18.79L418.1,11.45L434.83,15.46L451.55,14.36L468.28,15.87L485,15.21\" style=\"vector-effect: non-scaling-stroke; fill: none; stroke: rgb(0, 204, 150); stroke-opacity: 1; stroke-width: 2px; opacity: 1;\"/></g><g class=\"points\"/><g class=\"text\"/></g></g></g><g class=\"overplot\"/><path class=\"xlines-above crisp\" d=\"M0,0\" style=\"fill: none;\"/><path class=\"ylines-above crisp\" d=\"M0,0\" style=\"fill: none;\"/><g class=\"overlines-above\"/><g class=\"xaxislayer-above\"><g class=\"x3tick\"><text text-anchor=\"middle\" x=\"0\" y=\"483.00000000000006\" transform=\"translate(146.9,0)\" style=\"font-family: 'Open Sans', verdana, arial, sans-serif; font-size: 12px; fill: rgb(42, 63, 95); fill-opacity: 1; white-space: pre; opacity: 1;\">5</text></g><g class=\"x3tick\"><text text-anchor=\"middle\" x=\"0\" y=\"483.00000000000006\" style=\"font-family: 'Open Sans', verdana, arial, sans-serif; font-size: 12px; fill: rgb(42, 63, 95); fill-opacity: 1; white-space: pre; opacity: 1;\" transform=\"translate(230.52,0)\">10</text></g><g class=\"x3tick\"><text text-anchor=\"middle\" x=\"0\" y=\"483.00000000000006\" style=\"font-family: 'Open Sans', verdana, arial, sans-serif; font-size: 12px; fill: rgb(42, 63, 95); fill-opacity: 1; white-space: pre; opacity: 1;\" transform=\"translate(314.14,0)\">15</text></g><g class=\"x3tick\"><text text-anchor=\"middle\" x=\"0\" y=\"483.00000000000006\" style=\"font-family: 'Open Sans', verdana, arial, sans-serif; font-size: 12px; fill: rgb(42, 63, 95); fill-opacity: 1; white-space: pre; opacity: 1;\" transform=\"translate(397.76,0)\">20</text></g><g class=\"x3tick\"><text text-anchor=\"middle\" x=\"0\" y=\"483.00000000000006\" style=\"font-family: 'Open Sans', verdana, arial, sans-serif; font-size: 12px; fill: rgb(42, 63, 95); fill-opacity: 1; white-space: pre; opacity: 1;\" transform=\"translate(481.38,0)\">25</text></g><g class=\"x3tick\"><text text-anchor=\"middle\" x=\"0\" y=\"483.00000000000006\" style=\"font-family: 'Open Sans', verdana, arial, sans-serif; font-size: 12px; fill: rgb(42, 63, 95); fill-opacity: 1; white-space: pre; opacity: 1;\" transform=\"translate(565,0)\">30</text></g></g><g class=\"yaxislayer-above\"><g class=\"y3tick\"><text text-anchor=\"end\" x=\"79\" y=\"4.199999999999999\" transform=\"translate(0,464.23333333333335)\" style=\"font-family: 'Open Sans', verdana, arial, sans-serif; font-size: 12px; fill: rgb(42, 63, 95); fill-opacity: 1; white-space: pre; opacity: 1;\">65</text></g><g class=\"y3tick\"><text text-anchor=\"end\" x=\"79\" y=\"4.199999999999999\" style=\"font-family: 'Open Sans', verdana, arial, sans-serif; font-size: 12px; fill: rgb(42, 63, 95); fill-opacity: 1; white-space: pre; opacity: 1;\" transform=\"translate(0,438.34333333333336)\">70</text></g><g class=\"y3tick\"><text text-anchor=\"end\" x=\"79\" y=\"4.199999999999999\" style=\"font-family: 'Open Sans', verdana, arial, sans-serif; font-size: 12px; fill: rgb(42, 63, 95); fill-opacity: 1; white-space: pre; opacity: 1;\" transform=\"translate(0,412.4533333333334)\">75</text></g><g class=\"y3tick\"><text text-anchor=\"end\" x=\"79\" y=\"4.199999999999999\" style=\"font-family: 'Open Sans', verdana, arial, sans-serif; font-size: 12px; fill: rgb(42, 63, 95); fill-opacity: 1; white-space: pre; opacity: 1;\" transform=\"translate(0,386.5633333333334)\">80</text></g></g><g class=\"overaxes-above\"/></g></g><g class=\"polarlayer\"/><g class=\"smithlayer\"/><g class=\"ternarylayer\"/><g class=\"geolayer\"/><g class=\"funnelarealayer\"/><g class=\"pielayer\"/><g class=\"iciclelayer\"/><g class=\"treemaplayer\"/><g class=\"sunburstlayer\"/><g class=\"glimages\"/><defs id=\"topdefs-7e4929\"><g class=\"clips\"/><clipPath id=\"legend7e4929\"><rect width=\"213\" height=\"67\" x=\"0\" y=\"0\"/></clipPath></defs><g class=\"layer-above\"><g class=\"imagelayer\"/><g class=\"shapelayer\"/></g><g class=\"infolayer\"><g class=\"legend\" pointer-events=\"all\" transform=\"translate(574.7,100)\"><rect class=\"bg\" shape-rendering=\"crispEdges\" style=\"stroke: rgb(68, 68, 68); stroke-opacity: 1; fill: rgb(255, 255, 255); fill-opacity: 1; stroke-width: 0px;\" width=\"213\" height=\"67\" x=\"0\" y=\"0\"/><g class=\"scrollbox\" transform=\"\" clip-path=\"url(#legend7e4929)\"><g class=\"groups\"><g class=\"traces\" transform=\"translate(0,14.5)\" style=\"opacity: 1;\"><text class=\"legendtext\" text-anchor=\"start\" x=\"40\" y=\"4.680000000000001\" style=\"font-family: 'Open Sans', verdana, arial, sans-serif; font-size: 12px; fill: rgb(42, 63, 95); fill-opacity: 1; white-space: pre;\">Logistic Regression</text><g class=\"layers\" style=\"opacity: 1;\"><g class=\"legendfill\"/><g class=\"legendlines\"><path class=\"js-line\" d=\"M5,0h30\" style=\"fill: none; stroke: rgb(99, 110, 250); stroke-opacity: 1; stroke-width: 2px;\"/></g><g class=\"legendsymbols\"><g class=\"legendpoints\"/></g></g><rect class=\"legendtoggle\" x=\"0\" y=\"-9.5\" width=\"207.578125\" height=\"19\" style=\"fill: rgb(0, 0, 0); fill-opacity: 0;\"/></g><g class=\"traces\" transform=\"translate(0,33.5)\" style=\"opacity: 1;\"><text class=\"legendtext\" text-anchor=\"start\" x=\"40\" y=\"4.680000000000001\" style=\"font-family: 'Open Sans', verdana, arial, sans-serif; font-size: 12px; fill: rgb(42, 63, 95); fill-opacity: 1; white-space: pre;\">Gradient Boosting Classifier</text><g class=\"layers\" style=\"opacity: 1;\"><g class=\"legendfill\"/><g class=\"legendlines\"><path class=\"js-line\" d=\"M5,0h30\" style=\"fill: none; stroke: rgb(239, 85, 59); stroke-opacity: 1; stroke-width: 2px;\"/></g><g class=\"legendsymbols\"><g class=\"legendpoints\"/></g></g><rect class=\"legendtoggle\" x=\"0\" y=\"-9.5\" width=\"207.578125\" height=\"19\" style=\"fill: rgb(0, 0, 0); fill-opacity: 0;\"/></g><g class=\"traces\" transform=\"translate(0,52.5)\" style=\"opacity: 1;\"><text class=\"legendtext\" text-anchor=\"start\" x=\"40\" y=\"4.680000000000001\" style=\"font-family: 'Open Sans', verdana, arial, sans-serif; font-size: 12px; fill: rgb(42, 63, 95); fill-opacity: 1; white-space: pre;\">XGB Classifier</text><g class=\"layers\" style=\"opacity: 1;\"><g class=\"legendfill\"/><g class=\"legendlines\"><path class=\"js-line\" d=\"M5,0h30\" style=\"fill: none; stroke: rgb(0, 204, 150); stroke-opacity: 1; stroke-width: 2px;\"/></g><g class=\"legendsymbols\"><g class=\"legendpoints\"/></g></g><rect class=\"legendtoggle\" x=\"0\" y=\"-9.5\" width=\"207.578125\" height=\"19\" style=\"fill: rgb(0, 0, 0); fill-opacity: 0;\"/></g></g></g><rect class=\"scrollbar\" rx=\"20\" ry=\"3\" width=\"0\" height=\"0\" style=\"fill: rgb(128, 139, 164); fill-opacity: 1;\" x=\"0\" y=\"0\"/></g><g class=\"g-gtitle\"><text class=\"gtitle\" x=\"40\" y=\"50\" text-anchor=\"start\" dy=\"0em\" style=\"font-family: 'Arial Black'; font-size: 20px; fill: rgb(42, 63, 95); opacity: 1; font-weight: normal; white-space: pre;\">Finding Optimal N Components</text></g><g class=\"g-xtitle\"/><g class=\"g-x2title\"/><g class=\"g-x3title\"><text class=\"x3title\" x=\"322.5\" y=\"510.8\" text-anchor=\"middle\" style=\"font-family: 'Open Sans', verdana, arial, sans-serif; font-size: 14px; fill: rgb(42, 63, 95); opacity: 1; font-weight: normal; white-space: pre;\">n_components</text></g><g class=\"g-ytitle\"><text class=\"ytitle\" transform=\"rotate(-90,38.934375,149.33333333333334)\" x=\"38.934375\" y=\"149.33333333333334\" text-anchor=\"middle\" style=\"font-family: 'Open Sans', verdana, arial, sans-serif; font-size: 14px; fill: rgb(42, 63, 95); opacity: 1; font-weight: normal; white-space: pre;\">f1_score</text></g><g class=\"g-y2title\"/><g class=\"g-y3title\"/></g></svg>"
      ]
     },
     "metadata": {},
     "output_type": "display_data"
    }
   ],
   "source": [
    "# Setting up axes for each subplot.  \n",
    "x_axis  = list(range(1,31))\n",
    "y_axisLR = list(pca_resultsLR.values())\n",
    "y_axisGBC = list(pca_resultsGBC.values())\n",
    "y_axisXGB = list(pca_resultsXGB.values())\n",
    "\n",
    "plot_functions.n_components_plot(xaxis=x_axis, yLR=y_axisLR, yGBC=y_axisGBC, yXGB=y_axisXGB)"
   ]
  },
  {
   "cell_type": "markdown",
   "id": "298dbbb1",
   "metadata": {},
   "source": [
    "* Looking at the plot, we can see that we have consistent performance across all models once n_components > 7.\n",
    "* f1_score seems to peak once n_components reaches the 20 feature mark.\n",
    "* We've successfully managed to reduce our feature space from 711 features down to an average of 23. That's a decrease of 96% of the entire dataset with only minimal performance drop, which means processing with GridSearchCV should be alot faster and efficient."
   ]
  },
  {
   "cell_type": "markdown",
   "id": "faf89091",
   "metadata": {},
   "source": [
    "&nbsp;"
   ]
  },
  {
   "cell_type": "markdown",
   "id": "fb2f1c99",
   "metadata": {},
   "source": [
    "### Section B: Grid Search Cross Validation\n",
    "Grid Search Cross Validation is a hyperparameter tuning technique where the user specifies a \"parameter grid\" (A list of parameters provided with the values they want to test) then evaluates each and every combination using cross validation before outputting the best feature combination for your algorithm. "
   ]
  },
  {
   "cell_type": "markdown",
   "id": "9d885e21",
   "metadata": {},
   "source": [
    "**B.1: Logistic Regression Hypertuning**<br>\n",
    "Unfortunately Logistic Regression does not have many parameters we can hyper tune, so we'll just evaluate a range of C values. "
   ]
  },
  {
   "cell_type": "code",
   "execution_count": 10,
   "id": "e33bc1f7",
   "metadata": {},
   "outputs": [
    {
     "name": "stdout",
     "output_type": "stream",
     "text": [
      "Best: 0.804310 using {'C': 1.0}\n"
     ]
    }
   ],
   "source": [
    "# Preparing the data. \n",
    "pca = PCA(n_components=20)\n",
    "pcaLR = pca.fit_transform(X)\n",
    "\n",
    "# Grid search Logistic Regression. \n",
    "LR_gs = functions.model_evaluation()\n",
    "# Adding parameter grid. \n",
    "LR_gs.add_params_component('C', [100, 10, 1.0, 0.1, 0.01])\n",
    "# Evaluate using grid search. \n",
    "LR_gs.grid_search(pcaLR, y, LogisticRegression(max_iter=1000))"
   ]
  },
  {
   "cell_type": "code",
   "execution_count": 11,
   "id": "ccaeec21",
   "metadata": {},
   "outputs": [
    {
     "data": {
      "image/svg+xml": [
       "<svg class=\"main-svg\" xmlns=\"http://www.w3.org/2000/svg\" xmlns:xlink=\"http://www.w3.org/1999/xlink\" width=\"800\" height=\"400\" style=\"\" viewBox=\"0 0 800 400\"><rect x=\"0\" y=\"0\" width=\"800\" height=\"400\" style=\"fill: rgb(255, 255, 255); fill-opacity: 1;\"/><defs id=\"defs-55bd40\"><g class=\"clips\"><clipPath id=\"clip55bd40xyplot\" class=\"plotclip\"><rect width=\"640\" height=\"260\"/></clipPath><clipPath class=\"axesclip\" id=\"clip55bd40x\"><rect x=\"80\" y=\"0\" width=\"640\" height=\"400\"/></clipPath><clipPath class=\"axesclip\" id=\"clip55bd40y\"><rect x=\"0\" y=\"60\" width=\"800\" height=\"260\"/></clipPath><clipPath class=\"axesclip\" id=\"clip55bd40xy\"><rect x=\"80\" y=\"60\" width=\"640\" height=\"260\"/></clipPath></g><g class=\"gradients\"/><g class=\"patterns\"/></defs><g class=\"bglayer\"><rect class=\"bg\" x=\"80\" y=\"60\" width=\"640\" height=\"260\" style=\"fill: rgb(248, 248, 246); fill-opacity: 1; stroke-width: 0;\"/></g><g class=\"layer-below\"><g class=\"imagelayer\"/><g class=\"shapelayer\"/></g><g class=\"cartesianlayer\"><g class=\"subplot xy\"><g class=\"layer-subplot\"><g class=\"shapelayer\"/><g class=\"imagelayer\"/></g><g class=\"minor-gridlayer\"><g class=\"x\"/><g class=\"y\"/></g><g class=\"gridlayer\"><g class=\"x\"><path class=\"xgrid crisp\" transform=\"translate(160,0)\" d=\"M0,60v260\" style=\"stroke: rgb(255, 255, 255); stroke-opacity: 1; stroke-width: 1px;\"/><path class=\"xgrid crisp\" transform=\"translate(240,0)\" d=\"M0,60v260\" style=\"stroke: rgb(255, 255, 255); stroke-opacity: 1; stroke-width: 1px;\"/><path class=\"xgrid crisp\" transform=\"translate(320,0)\" d=\"M0,60v260\" style=\"stroke: rgb(255, 255, 255); stroke-opacity: 1; stroke-width: 1px;\"/><path class=\"xgrid crisp\" transform=\"translate(400,0)\" d=\"M0,60v260\" style=\"stroke: rgb(255, 255, 255); stroke-opacity: 1; stroke-width: 1px;\"/><path class=\"xgrid crisp\" transform=\"translate(480,0)\" d=\"M0,60v260\" style=\"stroke: rgb(255, 255, 255); stroke-opacity: 1; stroke-width: 1px;\"/><path class=\"xgrid crisp\" transform=\"translate(560,0)\" d=\"M0,60v260\" style=\"stroke: rgb(255, 255, 255); stroke-opacity: 1; stroke-width: 1px;\"/><path class=\"xgrid crisp\" transform=\"translate(640,0)\" d=\"M0,60v260\" style=\"stroke: rgb(255, 255, 255); stroke-opacity: 1; stroke-width: 1px;\"/></g><g class=\"y\"><path class=\"ygrid crisp\" transform=\"translate(0,318.62)\" d=\"M80,0h640\" style=\"stroke: rgb(255, 255, 255); stroke-opacity: 1; stroke-width: 1px;\"/><path class=\"ygrid crisp\" transform=\"translate(0,280.41999999999996)\" d=\"M80,0h640\" style=\"stroke: rgb(255, 255, 255); stroke-opacity: 1; stroke-width: 1px;\"/><path class=\"ygrid crisp\" transform=\"translate(0,242.23)\" d=\"M80,0h640\" style=\"stroke: rgb(255, 255, 255); stroke-opacity: 1; stroke-width: 1px;\"/><path class=\"ygrid crisp\" transform=\"translate(0,204.04)\" d=\"M80,0h640\" style=\"stroke: rgb(255, 255, 255); stroke-opacity: 1; stroke-width: 1px;\"/><path class=\"ygrid crisp\" transform=\"translate(0,165.85)\" d=\"M80,0h640\" style=\"stroke: rgb(255, 255, 255); stroke-opacity: 1; stroke-width: 1px;\"/><path class=\"ygrid crisp\" transform=\"translate(0,127.65)\" d=\"M80,0h640\" style=\"stroke: rgb(255, 255, 255); stroke-opacity: 1; stroke-width: 1px;\"/><path class=\"ygrid crisp\" transform=\"translate(0,89.46000000000001)\" d=\"M80,0h640\" style=\"stroke: rgb(255, 255, 255); stroke-opacity: 1; stroke-width: 1px;\"/></g></g><g class=\"zerolinelayer\"/><path class=\"xlines-below\"/><path class=\"ylines-below\"/><g class=\"overlines-below\"/><g class=\"xaxislayer-below\"/><g class=\"yaxislayer-below\"/><g class=\"overaxes-below\"/><g class=\"plot\" transform=\"translate(80,60)\" clip-path=\"url(#clip55bd40xyplot)\"><g class=\"scatterlayer mlayer\"><g class=\"trace scatter tracec8efa5\" style=\"stroke-miterlimit: 2; opacity: 1;\"><g class=\"fills\"/><g class=\"errorbars\"/><g class=\"lines\"><path class=\"js-line\" d=\"M0,31.2L320,13L480,32.85L640,247\" style=\"vector-effect: non-scaling-stroke; fill: none; stroke: rgb(99, 110, 250); stroke-opacity: 1; stroke-width: 2px; opacity: 1;\"/></g><g class=\"points\"/><g class=\"text\"/></g></g></g><g class=\"overplot\"/><path class=\"xlines-above crisp\" d=\"M0,0\" style=\"fill: none;\"/><path class=\"ylines-above crisp\" d=\"M0,0\" style=\"fill: none;\"/><g class=\"overlines-above\"/><g class=\"xaxislayer-above\"><g class=\"xtick\"><text text-anchor=\"middle\" x=\"0\" y=\"333\" transform=\"translate(80,0)\" style=\"font-family: 'Open Sans', verdana, arial, sans-serif; font-size: 12px; fill: rgb(42, 63, 95); fill-opacity: 1; white-space: pre; opacity: 1;\">1</text></g><g class=\"xtick\"><text text-anchor=\"middle\" x=\"0\" y=\"333\" style=\"font-family: 'Open Sans', verdana, arial, sans-serif; font-size: 12px; fill: rgb(42, 63, 95); fill-opacity: 1; white-space: pre; opacity: 1;\" transform=\"translate(160,0)\">1.5</text></g><g class=\"xtick\"><text text-anchor=\"middle\" x=\"0\" y=\"333\" style=\"font-family: 'Open Sans', verdana, arial, sans-serif; font-size: 12px; fill: rgb(42, 63, 95); fill-opacity: 1; white-space: pre; opacity: 1;\" transform=\"translate(240,0)\">2</text></g><g class=\"xtick\"><text text-anchor=\"middle\" x=\"0\" y=\"333\" style=\"font-family: 'Open Sans', verdana, arial, sans-serif; font-size: 12px; fill: rgb(42, 63, 95); fill-opacity: 1; white-space: pre; opacity: 1;\" transform=\"translate(320,0)\">2.5</text></g><g class=\"xtick\"><text text-anchor=\"middle\" x=\"0\" y=\"333\" style=\"font-family: 'Open Sans', verdana, arial, sans-serif; font-size: 12px; fill: rgb(42, 63, 95); fill-opacity: 1; white-space: pre; opacity: 1;\" transform=\"translate(400,0)\">3</text></g><g class=\"xtick\"><text text-anchor=\"middle\" x=\"0\" y=\"333\" style=\"font-family: 'Open Sans', verdana, arial, sans-serif; font-size: 12px; fill: rgb(42, 63, 95); fill-opacity: 1; white-space: pre; opacity: 1;\" transform=\"translate(480,0)\">3.5</text></g><g class=\"xtick\"><text text-anchor=\"middle\" x=\"0\" y=\"333\" style=\"font-family: 'Open Sans', verdana, arial, sans-serif; font-size: 12px; fill: rgb(42, 63, 95); fill-opacity: 1; white-space: pre; opacity: 1;\" transform=\"translate(560,0)\">4</text></g><g class=\"xtick\"><text text-anchor=\"middle\" x=\"0\" y=\"333\" style=\"font-family: 'Open Sans', verdana, arial, sans-serif; font-size: 12px; fill: rgb(42, 63, 95); fill-opacity: 1; white-space: pre; opacity: 1;\" transform=\"translate(640,0)\">4.5</text></g><g class=\"xtick\"><text text-anchor=\"middle\" x=\"0\" y=\"333\" style=\"font-family: 'Open Sans', verdana, arial, sans-serif; font-size: 12px; fill: rgb(42, 63, 95); fill-opacity: 1; white-space: pre; opacity: 1;\" transform=\"translate(720,0)\">5</text></g></g><g class=\"yaxislayer-above\"><g class=\"ytick\"><text text-anchor=\"end\" x=\"79\" y=\"4.199999999999999\" transform=\"translate(0,318.62)\" style=\"font-family: 'Open Sans', verdana, arial, sans-serif; font-size: 12px; fill: rgb(42, 63, 95); fill-opacity: 1; white-space: pre; opacity: 1;\">0.74</text></g><g class=\"ytick\"><text text-anchor=\"end\" x=\"79\" y=\"4.199999999999999\" style=\"font-family: 'Open Sans', verdana, arial, sans-serif; font-size: 12px; fill: rgb(42, 63, 95); fill-opacity: 1; white-space: pre; opacity: 1;\" transform=\"translate(0,280.41999999999996)\">0.75</text></g><g class=\"ytick\"><text text-anchor=\"end\" x=\"79\" y=\"4.199999999999999\" style=\"font-family: 'Open Sans', verdana, arial, sans-serif; font-size: 12px; fill: rgb(42, 63, 95); fill-opacity: 1; white-space: pre; opacity: 1;\" transform=\"translate(0,242.23)\">0.76</text></g><g class=\"ytick\"><text text-anchor=\"end\" x=\"79\" y=\"4.199999999999999\" style=\"font-family: 'Open Sans', verdana, arial, sans-serif; font-size: 12px; fill: rgb(42, 63, 95); fill-opacity: 1; white-space: pre; opacity: 1;\" transform=\"translate(0,204.04)\">0.77</text></g><g class=\"ytick\"><text text-anchor=\"end\" x=\"79\" y=\"4.199999999999999\" style=\"font-family: 'Open Sans', verdana, arial, sans-serif; font-size: 12px; fill: rgb(42, 63, 95); fill-opacity: 1; white-space: pre; opacity: 1;\" transform=\"translate(0,165.85)\">0.78</text></g><g class=\"ytick\"><text text-anchor=\"end\" x=\"79\" y=\"4.199999999999999\" style=\"font-family: 'Open Sans', verdana, arial, sans-serif; font-size: 12px; fill: rgb(42, 63, 95); fill-opacity: 1; white-space: pre; opacity: 1;\" transform=\"translate(0,127.65)\">0.79</text></g><g class=\"ytick\"><text text-anchor=\"end\" x=\"79\" y=\"4.199999999999999\" style=\"font-family: 'Open Sans', verdana, arial, sans-serif; font-size: 12px; fill: rgb(42, 63, 95); fill-opacity: 1; white-space: pre; opacity: 1;\" transform=\"translate(0,89.46000000000001)\">0.8</text></g></g><g class=\"overaxes-above\"/></g></g><g class=\"polarlayer\"/><g class=\"smithlayer\"/><g class=\"ternarylayer\"/><g class=\"geolayer\"/><g class=\"funnelarealayer\"/><g class=\"pielayer\"/><g class=\"iciclelayer\"/><g class=\"treemaplayer\"/><g class=\"sunburstlayer\"/><g class=\"glimages\"/><defs id=\"topdefs-55bd40\"><g class=\"clips\"/></defs><g class=\"layer-above\"><g class=\"imagelayer\"/><g class=\"shapelayer\"><path data-index=\"0\" fill-rule=\"evenodd\" d=\"M400,320L400,60\" clip-path=\"url(#clip55bd40x)\" style=\"opacity: 1; stroke: rgb(0, 0, 0); stroke-opacity: 1; fill: rgb(0, 0, 0); fill-opacity: 0; stroke-dasharray: 9px, 9px; stroke-width: 2px;\"/></g></g><g class=\"infolayer\"><g class=\"g-gtitle\"><text class=\"gtitle\" x=\"40\" y=\"30\" text-anchor=\"start\" dy=\"0em\" style=\"font-family: 'Arial Black'; font-size: 20px; fill: rgb(42, 63, 95); opacity: 1; font-weight: normal; white-space: pre;\">Hypertuning the Logistic Regression</text></g><g class=\"g-xtitle\"><text class=\"xtitle\" x=\"400\" y=\"360.8\" text-anchor=\"middle\" style=\"font-family: 'Open Sans', verdana, arial, sans-serif; font-size: 14px; fill: rgb(42, 63, 95); opacity: 1; font-weight: normal; white-space: pre;\">No. of Iterations</text></g><g class=\"g-ytitle\"><text class=\"ytitle\" transform=\"rotate(-90,26.934375000000003,190)\" x=\"26.934375000000003\" y=\"190\" text-anchor=\"middle\" style=\"font-family: 'Open Sans', verdana, arial, sans-serif; font-size: 14px; fill: rgb(42, 63, 95); opacity: 1; font-weight: normal; white-space: pre;\">f1_score</text></g></g></svg>"
      ]
     },
     "metadata": {},
     "output_type": "display_data"
    }
   ],
   "source": [
    "# Plotting results. \n",
    "plot_functions.grid_search_plot(LR_gs, \"Logistic Regression\")"
   ]
  },
  {
   "cell_type": "markdown",
   "id": "64293b6e",
   "metadata": {},
   "source": [
    "**B.2: Gradient Boosting Classifier Hypertuning**<br>\n",
    "For our Gradient Boosting Classifier, we'll be hypertuning the tree parameters."
   ]
  },
  {
   "cell_type": "code",
   "execution_count": 12,
   "id": "f95a9dc5",
   "metadata": {
    "scrolled": true
   },
   "outputs": [
    {
     "name": "stdout",
     "output_type": "stream",
     "text": [
      "Best: 0.815212 using {'learning_rate': 0.1, 'max_depth': 2, 'min_samples_split': 30, 'n_estimators': 250}\n"
     ]
    }
   ],
   "source": [
    "# Preparing the data. \n",
    "pca = PCA(n_components=17)\n",
    "pcaGBC = pca.fit_transform(X)\n",
    "\n",
    "# Grid search Gradient Boosting Classifier. \n",
    "GBC_gs = functions.model_evaluation()\n",
    "# Adding parameter grid. \n",
    "GBC_gs.add_params_component('n_estimators', [50, 250, 500])\n",
    "GBC_gs.add_params_component('min_samples_split', [2, 30, 50])\n",
    "GBC_gs.add_params_component('max_depth', [2, 20, 50])\n",
    "GBC_gs.add_params_component('learning_rate', [0.1, 0.01, 0.001])\n",
    "# Evaluate using grid search. \n",
    "GBC_gs.grid_search(pcaGBC, y, GradientBoostingClassifier())"
   ]
  },
  {
   "cell_type": "code",
   "execution_count": 13,
   "id": "916acd2c",
   "metadata": {},
   "outputs": [
    {
     "data": {
      "image/svg+xml": [
       "<svg class=\"main-svg\" xmlns=\"http://www.w3.org/2000/svg\" xmlns:xlink=\"http://www.w3.org/1999/xlink\" width=\"800\" height=\"400\" style=\"\" viewBox=\"0 0 800 400\"><rect x=\"0\" y=\"0\" width=\"800\" height=\"400\" style=\"fill: rgb(255, 255, 255); fill-opacity: 1;\"/><defs id=\"defs-0a9a93\"><g class=\"clips\"><clipPath id=\"clip0a9a93xyplot\" class=\"plotclip\"><rect width=\"640\" height=\"260\"/></clipPath><clipPath class=\"axesclip\" id=\"clip0a9a93x\"><rect x=\"80\" y=\"0\" width=\"640\" height=\"400\"/></clipPath><clipPath class=\"axesclip\" id=\"clip0a9a93y\"><rect x=\"0\" y=\"60\" width=\"800\" height=\"260\"/></clipPath><clipPath class=\"axesclip\" id=\"clip0a9a93xy\"><rect x=\"80\" y=\"60\" width=\"640\" height=\"260\"/></clipPath></g><g class=\"gradients\"/><g class=\"patterns\"/></defs><g class=\"bglayer\"><rect class=\"bg\" x=\"80\" y=\"60\" width=\"640\" height=\"260\" style=\"fill: rgb(248, 248, 246); fill-opacity: 1; stroke-width: 0;\"/></g><g class=\"layer-below\"><g class=\"imagelayer\"/><g class=\"shapelayer\"/></g><g class=\"cartesianlayer\"><g class=\"subplot xy\"><g class=\"layer-subplot\"><g class=\"shapelayer\"/><g class=\"imagelayer\"/></g><g class=\"minor-gridlayer\"><g class=\"x\"/><g class=\"y\"/></g><g class=\"gridlayer\"><g class=\"x\"><path class=\"xgrid crisp\" transform=\"translate(152,0)\" d=\"M0,60v260\" style=\"stroke: rgb(255, 255, 255); stroke-opacity: 1; stroke-width: 1px;\"/><path class=\"xgrid crisp\" transform=\"translate(232,0)\" d=\"M0,60v260\" style=\"stroke: rgb(255, 255, 255); stroke-opacity: 1; stroke-width: 1px;\"/><path class=\"xgrid crisp\" transform=\"translate(312,0)\" d=\"M0,60v260\" style=\"stroke: rgb(255, 255, 255); stroke-opacity: 1; stroke-width: 1px;\"/><path class=\"xgrid crisp\" transform=\"translate(392,0)\" d=\"M0,60v260\" style=\"stroke: rgb(255, 255, 255); stroke-opacity: 1; stroke-width: 1px;\"/><path class=\"xgrid crisp\" transform=\"translate(472,0)\" d=\"M0,60v260\" style=\"stroke: rgb(255, 255, 255); stroke-opacity: 1; stroke-width: 1px;\"/><path class=\"xgrid crisp\" transform=\"translate(552,0)\" d=\"M0,60v260\" style=\"stroke: rgb(255, 255, 255); stroke-opacity: 1; stroke-width: 1px;\"/><path class=\"xgrid crisp\" transform=\"translate(632,0)\" d=\"M0,60v260\" style=\"stroke: rgb(255, 255, 255); stroke-opacity: 1; stroke-width: 1px;\"/><path class=\"xgrid crisp\" transform=\"translate(712,0)\" d=\"M0,60v260\" style=\"stroke: rgb(255, 255, 255); stroke-opacity: 1; stroke-width: 1px;\"/></g><g class=\"y\"><path class=\"ygrid crisp\" transform=\"translate(0,286.56)\" d=\"M80,0h640\" style=\"stroke: rgb(255, 255, 255); stroke-opacity: 1; stroke-width: 1px;\"/><path class=\"ygrid crisp\" transform=\"translate(0,218.81)\" d=\"M80,0h640\" style=\"stroke: rgb(255, 255, 255); stroke-opacity: 1; stroke-width: 1px;\"/><path class=\"ygrid crisp\" transform=\"translate(0,151.06)\" d=\"M80,0h640\" style=\"stroke: rgb(255, 255, 255); stroke-opacity: 1; stroke-width: 1px;\"/><path class=\"ygrid crisp\" transform=\"translate(0,83.31)\" d=\"M80,0h640\" style=\"stroke: rgb(255, 255, 255); stroke-opacity: 1; stroke-width: 1px;\"/></g></g><g class=\"zerolinelayer\"/><path class=\"xlines-below\"/><path class=\"ylines-below\"/><g class=\"overlines-below\"/><g class=\"xaxislayer-below\"/><g class=\"yaxislayer-below\"/><g class=\"overaxes-below\"/><g class=\"plot\" transform=\"translate(80,60)\" clip-path=\"url(#clip0a9a93xyplot)\"><g class=\"scatterlayer mlayer\"><g class=\"trace scatter tracecd162a\" style=\"stroke-miterlimit: 2; opacity: 1;\"><g class=\"fills\"/><g class=\"errorbars\"/><g class=\"lines\"><path class=\"js-line\" d=\"M0,21.14L8,19.27L16,28.32L24,23.53L32,13L40,21.53L48,22.92L56,17.49L64,24.57L72,60.49L80,60.29L88,55.72L96,32.64L104,34.01L112,28.76L120,39.84L128,26.63L136,32.58L144,60.52L152,64.11L160,49.04L168,33.47L176,36.87L184,36.21L192,28.66L200,33.06L208,34.59L216,105.18L224,27.38L232,18.63L240,105.18L248,27.38L256,20.19L264,105.18L272,27.38L280,20.19L288,55.66L296,61.49L304,60.04L312,46.43L320,37.21L328,34.26L336,43.6L344,26.86L352,36.11L360,54.85L368,60.62L376,60.54L384,46.43L392,35.54L400,36.91L408,43.6L416,31.26L424,27.88L432,247L440,247L448,104.96L456,247L464,247L472,104.96L480,247L488,247L496,104.96L504,247L512,63.34L520,57.62L528,247L536,112.42L544,46.43L552,247L560,146.23L568,43.8L576,247L584,63.87L592,56.93L600,247L608,112.42L616,46.43L624,247L640,43.8\" style=\"vector-effect: non-scaling-stroke; fill: none; stroke: rgb(99, 110, 250); stroke-opacity: 1; stroke-width: 2px; opacity: 1;\"/></g><g class=\"points\"/><g class=\"text\"/></g></g></g><g class=\"overplot\"/><path class=\"xlines-above crisp\" d=\"M0,0\" style=\"fill: none;\"/><path class=\"ylines-above crisp\" d=\"M0,0\" style=\"fill: none;\"/><g class=\"overlines-above\"/><g class=\"xaxislayer-above\"><g class=\"xtick\"><text text-anchor=\"middle\" x=\"0\" y=\"333\" transform=\"translate(152,0)\" style=\"font-family: 'Open Sans', verdana, arial, sans-serif; font-size: 12px; fill: rgb(42, 63, 95); fill-opacity: 1; white-space: pre; opacity: 1;\">10</text></g><g class=\"xtick\"><text text-anchor=\"middle\" x=\"0\" y=\"333\" style=\"font-family: 'Open Sans', verdana, arial, sans-serif; font-size: 12px; fill: rgb(42, 63, 95); fill-opacity: 1; white-space: pre; opacity: 1;\" transform=\"translate(232,0)\">20</text></g><g class=\"xtick\"><text text-anchor=\"middle\" x=\"0\" y=\"333\" style=\"font-family: 'Open Sans', verdana, arial, sans-serif; font-size: 12px; fill: rgb(42, 63, 95); fill-opacity: 1; white-space: pre; opacity: 1;\" transform=\"translate(312,0)\">30</text></g><g class=\"xtick\"><text text-anchor=\"middle\" x=\"0\" y=\"333\" style=\"font-family: 'Open Sans', verdana, arial, sans-serif; font-size: 12px; fill: rgb(42, 63, 95); fill-opacity: 1; white-space: pre; opacity: 1;\" transform=\"translate(392,0)\">40</text></g><g class=\"xtick\"><text text-anchor=\"middle\" x=\"0\" y=\"333\" style=\"font-family: 'Open Sans', verdana, arial, sans-serif; font-size: 12px; fill: rgb(42, 63, 95); fill-opacity: 1; white-space: pre; opacity: 1;\" transform=\"translate(472,0)\">50</text></g><g class=\"xtick\"><text text-anchor=\"middle\" x=\"0\" y=\"333\" style=\"font-family: 'Open Sans', verdana, arial, sans-serif; font-size: 12px; fill: rgb(42, 63, 95); fill-opacity: 1; white-space: pre; opacity: 1;\" transform=\"translate(552,0)\">60</text></g><g class=\"xtick\"><text text-anchor=\"middle\" x=\"0\" y=\"333\" style=\"font-family: 'Open Sans', verdana, arial, sans-serif; font-size: 12px; fill: rgb(42, 63, 95); fill-opacity: 1; white-space: pre; opacity: 1;\" transform=\"translate(632,0)\">70</text></g><g class=\"xtick\"><text text-anchor=\"middle\" x=\"0\" y=\"333\" style=\"font-family: 'Open Sans', verdana, arial, sans-serif; font-size: 12px; fill: rgb(42, 63, 95); fill-opacity: 1; white-space: pre; opacity: 1;\" transform=\"translate(712,0)\">80</text></g></g><g class=\"yaxislayer-above\"><g class=\"ytick\"><text text-anchor=\"end\" x=\"79\" y=\"4.199999999999999\" transform=\"translate(0,286.56)\" style=\"font-family: 'Open Sans', verdana, arial, sans-serif; font-size: 12px; fill: rgb(42, 63, 95); fill-opacity: 1; white-space: pre; opacity: 1;\">0.5</text></g><g class=\"ytick\"><text text-anchor=\"end\" x=\"79\" y=\"4.199999999999999\" style=\"font-family: 'Open Sans', verdana, arial, sans-serif; font-size: 12px; fill: rgb(42, 63, 95); fill-opacity: 1; white-space: pre; opacity: 1;\" transform=\"translate(0,218.81)\">0.6</text></g><g class=\"ytick\"><text text-anchor=\"end\" x=\"79\" y=\"4.199999999999999\" style=\"font-family: 'Open Sans', verdana, arial, sans-serif; font-size: 12px; fill: rgb(42, 63, 95); fill-opacity: 1; white-space: pre; opacity: 1;\" transform=\"translate(0,151.06)\">0.7</text></g><g class=\"ytick\"><text text-anchor=\"end\" x=\"79\" y=\"4.199999999999999\" style=\"font-family: 'Open Sans', verdana, arial, sans-serif; font-size: 12px; fill: rgb(42, 63, 95); fill-opacity: 1; white-space: pre; opacity: 1;\" transform=\"translate(0,83.31)\">0.8</text></g></g><g class=\"overaxes-above\"/></g></g><g class=\"polarlayer\"/><g class=\"smithlayer\"/><g class=\"ternarylayer\"/><g class=\"geolayer\"/><g class=\"funnelarealayer\"/><g class=\"pielayer\"/><g class=\"iciclelayer\"/><g class=\"treemaplayer\"/><g class=\"sunburstlayer\"/><g class=\"glimages\"/><defs id=\"topdefs-0a9a93\"><g class=\"clips\"/></defs><g class=\"layer-above\"><g class=\"imagelayer\"/><g class=\"shapelayer\"><path data-index=\"0\" fill-rule=\"evenodd\" d=\"M112,320L112,60\" clip-path=\"url(#clip0a9a93x)\" style=\"opacity: 1; stroke: rgb(0, 0, 0); stroke-opacity: 1; fill: rgb(0, 0, 0); fill-opacity: 0; stroke-dasharray: 9px, 9px; stroke-width: 2px;\"/></g></g><g class=\"infolayer\"><g class=\"g-gtitle\"><text class=\"gtitle\" x=\"40\" y=\"30\" text-anchor=\"start\" dy=\"0em\" style=\"font-family: 'Arial Black'; font-size: 20px; fill: rgb(42, 63, 95); opacity: 1; font-weight: normal; white-space: pre;\">Hypertuning the Gradient Boosting Classifier</text></g><g class=\"g-xtitle\"><text class=\"xtitle\" x=\"400\" y=\"360.8\" text-anchor=\"middle\" style=\"font-family: 'Open Sans', verdana, arial, sans-serif; font-size: 14px; fill: rgb(42, 63, 95); opacity: 1; font-weight: normal; white-space: pre;\">No. of Iterations</text></g><g class=\"g-ytitle\"><text class=\"ytitle\" transform=\"rotate(-90,34.575,190)\" x=\"34.575\" y=\"190\" text-anchor=\"middle\" style=\"font-family: 'Open Sans', verdana, arial, sans-serif; font-size: 14px; fill: rgb(42, 63, 95); opacity: 1; font-weight: normal; white-space: pre;\">f1_score</text></g></g></svg>"
      ]
     },
     "metadata": {},
     "output_type": "display_data"
    }
   ],
   "source": [
    "# Plotting results. \n",
    "plot_functions.grid_search_plot(GBC_gs, \"Gradient Boosting Classifier\")"
   ]
  },
  {
   "cell_type": "markdown",
   "id": "cddfc48d",
   "metadata": {},
   "source": [
    "**B.3: XGB Classifier Hypertuning**<br> \n",
    "Our XGB Classifier will also be hypertuning the tree parameters."
   ]
  },
  {
   "cell_type": "code",
   "execution_count": 14,
   "id": "af2eea77",
   "metadata": {
    "scrolled": true
   },
   "outputs": [
    {
     "name": "stdout",
     "output_type": "stream",
     "text": [
      "Best: 0.816982 using {'learning_rate': 0.01, 'max_depth': 20, 'min_child_weight': 5, 'n_estimators': 250}\n"
     ]
    }
   ],
   "source": [
    "# Preparing the data. \n",
    "pca = PCA(n_components=18)\n",
    "pcaXGB = pca.fit_transform(X)\n",
    "\n",
    "# Grid search for XGB Classifier. \n",
    "XGB_gs = functions.model_evaluation()\n",
    "# Adding parameter grid. \n",
    "XGB_gs.add_params_component('n_estimators', [50, 250, 500])\n",
    "XGB_gs.add_params_component('min_child_weight', [1, 5, 15])\n",
    "XGB_gs.add_params_component('max_depth', [2, 20, 50])\n",
    "XGB_gs.add_params_component('learning_rate', [0.1, 0.01, 0.001])\n",
    "# Evaluate using grid search. \n",
    "XGB_gs.grid_search(pcaXGB, y, XGBClassifier())"
   ]
  },
  {
   "cell_type": "code",
   "execution_count": 15,
   "id": "f8e5aa91",
   "metadata": {},
   "outputs": [
    {
     "data": {
      "image/svg+xml": [
       "<svg class=\"main-svg\" xmlns=\"http://www.w3.org/2000/svg\" xmlns:xlink=\"http://www.w3.org/1999/xlink\" width=\"800\" height=\"400\" style=\"\" viewBox=\"0 0 800 400\"><rect x=\"0\" y=\"0\" width=\"800\" height=\"400\" style=\"fill: rgb(255, 255, 255); fill-opacity: 1;\"/><defs id=\"defs-f806a2\"><g class=\"clips\"><clipPath id=\"clipf806a2xyplot\" class=\"plotclip\"><rect width=\"640\" height=\"260\"/></clipPath><clipPath class=\"axesclip\" id=\"clipf806a2x\"><rect x=\"80\" y=\"0\" width=\"640\" height=\"400\"/></clipPath><clipPath class=\"axesclip\" id=\"clipf806a2y\"><rect x=\"0\" y=\"60\" width=\"800\" height=\"260\"/></clipPath><clipPath class=\"axesclip\" id=\"clipf806a2xy\"><rect x=\"80\" y=\"60\" width=\"640\" height=\"260\"/></clipPath></g><g class=\"gradients\"/><g class=\"patterns\"/></defs><g class=\"bglayer\"><rect class=\"bg\" x=\"80\" y=\"60\" width=\"640\" height=\"260\" style=\"fill: rgb(248, 248, 246); fill-opacity: 1; stroke-width: 0;\"/></g><g class=\"layer-below\"><g class=\"imagelayer\"/><g class=\"shapelayer\"/></g><g class=\"cartesianlayer\"><g class=\"subplot xy\"><g class=\"layer-subplot\"><g class=\"shapelayer\"/><g class=\"imagelayer\"/></g><g class=\"minor-gridlayer\"><g class=\"x\"/><g class=\"y\"/></g><g class=\"gridlayer\"><g class=\"x\"><path class=\"xgrid crisp\" transform=\"translate(152,0)\" d=\"M0,60v260\" style=\"stroke: rgb(255, 255, 255); stroke-opacity: 1; stroke-width: 1px;\"/><path class=\"xgrid crisp\" transform=\"translate(232,0)\" d=\"M0,60v260\" style=\"stroke: rgb(255, 255, 255); stroke-opacity: 1; stroke-width: 1px;\"/><path class=\"xgrid crisp\" transform=\"translate(312,0)\" d=\"M0,60v260\" style=\"stroke: rgb(255, 255, 255); stroke-opacity: 1; stroke-width: 1px;\"/><path class=\"xgrid crisp\" transform=\"translate(392,0)\" d=\"M0,60v260\" style=\"stroke: rgb(255, 255, 255); stroke-opacity: 1; stroke-width: 1px;\"/><path class=\"xgrid crisp\" transform=\"translate(472,0)\" d=\"M0,60v260\" style=\"stroke: rgb(255, 255, 255); stroke-opacity: 1; stroke-width: 1px;\"/><path class=\"xgrid crisp\" transform=\"translate(552,0)\" d=\"M0,60v260\" style=\"stroke: rgb(255, 255, 255); stroke-opacity: 1; stroke-width: 1px;\"/><path class=\"xgrid crisp\" transform=\"translate(632,0)\" d=\"M0,60v260\" style=\"stroke: rgb(255, 255, 255); stroke-opacity: 1; stroke-width: 1px;\"/><path class=\"xgrid crisp\" transform=\"translate(712,0)\" d=\"M0,60v260\" style=\"stroke: rgb(255, 255, 255); stroke-opacity: 1; stroke-width: 1px;\"/></g><g class=\"y\"><path class=\"ygrid crisp\" transform=\"translate(0,280.36)\" d=\"M80,0h640\" style=\"stroke: rgb(255, 255, 255); stroke-opacity: 1; stroke-width: 1px;\"/><path class=\"ygrid crisp\" transform=\"translate(0,226.49)\" d=\"M80,0h640\" style=\"stroke: rgb(255, 255, 255); stroke-opacity: 1; stroke-width: 1px;\"/><path class=\"ygrid crisp\" transform=\"translate(0,172.61)\" d=\"M80,0h640\" style=\"stroke: rgb(255, 255, 255); stroke-opacity: 1; stroke-width: 1px;\"/><path class=\"ygrid crisp\" transform=\"translate(0,118.74000000000001)\" d=\"M80,0h640\" style=\"stroke: rgb(255, 255, 255); stroke-opacity: 1; stroke-width: 1px;\"/><path class=\"ygrid crisp\" transform=\"translate(0,64.87)\" d=\"M80,0h640\" style=\"stroke: rgb(255, 255, 255); stroke-opacity: 1; stroke-width: 1px;\"/></g></g><g class=\"zerolinelayer\"/><path class=\"xlines-below\"/><path class=\"ylines-below\"/><g class=\"overlines-below\"/><g class=\"xaxislayer-below\"/><g class=\"yaxislayer-below\"/><g class=\"overaxes-below\"/><g class=\"plot\" transform=\"translate(80,60)\" clip-path=\"url(#clipf806a2xyplot)\"><g class=\"scatterlayer mlayer\"><g class=\"trace scatter trace8accb0\" style=\"stroke-miterlimit: 2; opacity: 1;\"><g class=\"fills\"/><g class=\"errorbars\"/><g class=\"lines\"><path class=\"js-line\" d=\"M0,46.96L8,32.61L16,44.9L24,44.23L32,29.69L40,51.99L48,62.71L56,58.11L64,54.42L72,70.77L80,95.47L88,95.39L96,16.05L104,76.34L112,94.26L120,64.71L128,46.85L136,67.23L144,70.77L152,95.47L160,95.39L168,16.05L176,76.34L184,94.26L192,64.71L200,46.85L208,67.23L216,189.19L224,87.9L232,53.94L240,189.19L248,85.06L256,60.28L264,174.25L272,93.2L280,65.73L288,61.31L296,47.62L304,61.83L312,129.08L320,13L328,25.31L336,149.64L344,86.17L352,70.69L360,61.31L368,47.62L376,64.97L384,129.08L392,13L400,25.31L408,149.64L416,86.17L424,70.69L432,247L440,225.46L448,189.19L456,247L464,225.46L472,189.19L480,234.8L496,175.22L504,90.2L512,90.02L520,69.63L528,131.46L536,140.74L544,131.94L552,229.4L560,174.77L568,146.06L576,90.2L584,90.02L592,69.63L600,131.46L608,140.74L616,131.94L624,229.4L632,174.77L640,146.06\" style=\"vector-effect: non-scaling-stroke; fill: none; stroke: rgb(99, 110, 250); stroke-opacity: 1; stroke-width: 2px; opacity: 1;\"/></g><g class=\"points\"/><g class=\"text\"/></g></g></g><g class=\"overplot\"/><path class=\"xlines-above crisp\" d=\"M0,0\" style=\"fill: none;\"/><path class=\"ylines-above crisp\" d=\"M0,0\" style=\"fill: none;\"/><g class=\"overlines-above\"/><g class=\"xaxislayer-above\"><g class=\"xtick\"><text text-anchor=\"middle\" x=\"0\" y=\"333\" transform=\"translate(152,0)\" style=\"font-family: 'Open Sans', verdana, arial, sans-serif; font-size: 12px; fill: rgb(42, 63, 95); fill-opacity: 1; white-space: pre; opacity: 1;\">10</text></g><g class=\"xtick\"><text text-anchor=\"middle\" x=\"0\" y=\"333\" style=\"font-family: 'Open Sans', verdana, arial, sans-serif; font-size: 12px; fill: rgb(42, 63, 95); fill-opacity: 1; white-space: pre; opacity: 1;\" transform=\"translate(232,0)\">20</text></g><g class=\"xtick\"><text text-anchor=\"middle\" x=\"0\" y=\"333\" style=\"font-family: 'Open Sans', verdana, arial, sans-serif; font-size: 12px; fill: rgb(42, 63, 95); fill-opacity: 1; white-space: pre; opacity: 1;\" transform=\"translate(312,0)\">30</text></g><g class=\"xtick\"><text text-anchor=\"middle\" x=\"0\" y=\"333\" style=\"font-family: 'Open Sans', verdana, arial, sans-serif; font-size: 12px; fill: rgb(42, 63, 95); fill-opacity: 1; white-space: pre; opacity: 1;\" transform=\"translate(392,0)\">40</text></g><g class=\"xtick\"><text text-anchor=\"middle\" x=\"0\" y=\"333\" style=\"font-family: 'Open Sans', verdana, arial, sans-serif; font-size: 12px; fill: rgb(42, 63, 95); fill-opacity: 1; white-space: pre; opacity: 1;\" transform=\"translate(472,0)\">50</text></g><g class=\"xtick\"><text text-anchor=\"middle\" x=\"0\" y=\"333\" style=\"font-family: 'Open Sans', verdana, arial, sans-serif; font-size: 12px; fill: rgb(42, 63, 95); fill-opacity: 1; white-space: pre; opacity: 1;\" transform=\"translate(552,0)\">60</text></g><g class=\"xtick\"><text text-anchor=\"middle\" x=\"0\" y=\"333\" style=\"font-family: 'Open Sans', verdana, arial, sans-serif; font-size: 12px; fill: rgb(42, 63, 95); fill-opacity: 1; white-space: pre; opacity: 1;\" transform=\"translate(632,0)\">70</text></g><g class=\"xtick\"><text text-anchor=\"middle\" x=\"0\" y=\"333\" style=\"font-family: 'Open Sans', verdana, arial, sans-serif; font-size: 12px; fill: rgb(42, 63, 95); fill-opacity: 1; white-space: pre; opacity: 1;\" transform=\"translate(712,0)\">80</text></g></g><g class=\"yaxislayer-above\"><g class=\"ytick\"><text text-anchor=\"end\" x=\"79\" y=\"4.199999999999999\" transform=\"translate(0,280.36)\" style=\"font-family: 'Open Sans', verdana, arial, sans-serif; font-size: 12px; fill: rgb(42, 63, 95); fill-opacity: 1; white-space: pre; opacity: 1;\">0.74</text></g><g class=\"ytick\"><text text-anchor=\"end\" x=\"79\" y=\"4.199999999999999\" style=\"font-family: 'Open Sans', verdana, arial, sans-serif; font-size: 12px; fill: rgb(42, 63, 95); fill-opacity: 1; white-space: pre; opacity: 1;\" transform=\"translate(0,226.49)\">0.76</text></g><g class=\"ytick\"><text text-anchor=\"end\" x=\"79\" y=\"4.199999999999999\" style=\"font-family: 'Open Sans', verdana, arial, sans-serif; font-size: 12px; fill: rgb(42, 63, 95); fill-opacity: 1; white-space: pre; opacity: 1;\" transform=\"translate(0,172.61)\">0.78</text></g><g class=\"ytick\"><text text-anchor=\"end\" x=\"79\" y=\"4.199999999999999\" style=\"font-family: 'Open Sans', verdana, arial, sans-serif; font-size: 12px; fill: rgb(42, 63, 95); fill-opacity: 1; white-space: pre; opacity: 1;\" transform=\"translate(0,118.74000000000001)\">0.8</text></g><g class=\"ytick\"><text text-anchor=\"end\" x=\"79\" y=\"4.199999999999999\" style=\"font-family: 'Open Sans', verdana, arial, sans-serif; font-size: 12px; fill: rgb(42, 63, 95); fill-opacity: 1; white-space: pre; opacity: 1;\" transform=\"translate(0,64.87)\">0.82</text></g></g><g class=\"overaxes-above\"/></g></g><g class=\"polarlayer\"/><g class=\"smithlayer\"/><g class=\"ternarylayer\"/><g class=\"geolayer\"/><g class=\"funnelarealayer\"/><g class=\"pielayer\"/><g class=\"iciclelayer\"/><g class=\"treemaplayer\"/><g class=\"sunburstlayer\"/><g class=\"glimages\"/><defs id=\"topdefs-f806a2\"><g class=\"clips\"/></defs><g class=\"layer-above\"><g class=\"imagelayer\"/><g class=\"shapelayer\"><path data-index=\"0\" fill-rule=\"evenodd\" d=\"M400,320L400,60\" clip-path=\"url(#clipf806a2x)\" style=\"opacity: 1; stroke: rgb(0, 0, 0); stroke-opacity: 1; fill: rgb(0, 0, 0); fill-opacity: 0; stroke-dasharray: 9px, 9px; stroke-width: 2px;\"/></g></g><g class=\"infolayer\"><g class=\"g-gtitle\"><text class=\"gtitle\" x=\"40\" y=\"30\" text-anchor=\"start\" dy=\"0em\" style=\"font-family: 'Arial Black'; font-size: 20px; fill: rgb(42, 63, 95); opacity: 1; font-weight: normal; white-space: pre;\">Hypertuning the XGB Classifier</text></g><g class=\"g-xtitle\"><text class=\"xtitle\" x=\"400\" y=\"360.8\" text-anchor=\"middle\" style=\"font-family: 'Open Sans', verdana, arial, sans-serif; font-size: 14px; fill: rgb(42, 63, 95); opacity: 1; font-weight: normal; white-space: pre;\">No. of Iterations</text></g><g class=\"g-ytitle\"><text class=\"ytitle\" transform=\"rotate(-90,26.934375000000003,190)\" x=\"26.934375000000003\" y=\"190\" text-anchor=\"middle\" style=\"font-family: 'Open Sans', verdana, arial, sans-serif; font-size: 14px; fill: rgb(42, 63, 95); opacity: 1; font-weight: normal; white-space: pre;\">f1_score</text></g></g></svg>"
      ]
     },
     "metadata": {},
     "output_type": "display_data"
    }
   ],
   "source": [
    "# Plotting results. \n",
    "plot_functions.grid_search_plot(XGB_gs, \"XGB Classifier\")"
   ]
  },
  {
   "cell_type": "markdown",
   "id": "a2d94184",
   "metadata": {},
   "source": [
    "**B.4: Conclusion**<br>\n",
    "In conclusion we managed to reduce our feature space by 95% through Principle Component Analysis (PCA) with the only drawback being a minimal hit to our f1_score. This allowed us to hyper tune each classifier algorithm with speed and efficiency as the grid search only had to search through 20+ features as opposed to 700+ in the original dataset."
   ]
  },
  {
   "cell_type": "markdown",
   "id": "04170057",
   "metadata": {},
   "source": [
    "&nbsp;"
   ]
  },
  {
   "cell_type": "markdown",
   "id": "5da108ca",
   "metadata": {},
   "source": [
    "| Model | GridSearch CV Score | Final Model | \n",
    "|---------|---------|---------|\n",
    "| **Logistic Regression** |80.04% |LogisticRegression(C=2.0) | \n",
    "| **Gradient Boosting Classifier** |81.42% |GradientBoostingClassifier(learning_rate=0.1, max_depth=2, min_samples_split=30, n_estimators=250) | \n",
    "| **XGB Classifier** |81.19% |XGBRegressor(learning_rate=0.1, max_depth=20, min_child_weight=5, n_estimators=50) | "
   ]
  },
  {
   "cell_type": "markdown",
   "id": "60f62d13",
   "metadata": {},
   "source": [
    "&nbsp;"
   ]
  },
  {
   "cell_type": "markdown",
   "id": "2d4fd879",
   "metadata": {},
   "source": [
    "&nbsp;\n",
    "**Author:** Aaron Chew&nbsp;&nbsp;&nbsp;&nbsp;&nbsp;&nbsp; **|** &nbsp;&nbsp;&nbsp;&nbsp;&nbsp;&nbsp;**Date Published:** 11/08/2022 &nbsp;&nbsp;&nbsp;&nbsp;&nbsp;&nbsp;**|** &nbsp;&nbsp;&nbsp;&nbsp;&nbsp;&nbsp;**Email:** aaronsamuelchew@gmail.com &nbsp;&nbsp;&nbsp;&nbsp;&nbsp;&nbsp;**|**&nbsp;&nbsp;&nbsp;&nbsp;&nbsp;&nbsp; **GitHub:** https://github.com/aaron-chew  "
   ]
  }
 ],
 "metadata": {
  "kernelspec": {
   "display_name": "Python 3",
   "language": "python",
   "name": "python3"
  },
  "language_info": {
   "codemirror_mode": {
    "name": "ipython",
    "version": 3
   },
   "file_extension": ".py",
   "mimetype": "text/x-python",
   "name": "python",
   "nbconvert_exporter": "python",
   "pygments_lexer": "ipython3",
   "version": "3.7.4"
  }
 },
 "nbformat": 4,
 "nbformat_minor": 5
}
