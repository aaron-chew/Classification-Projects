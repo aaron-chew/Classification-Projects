{
 "cells": [
  {
   "cell_type": "markdown",
   "id": "94c73515",
   "metadata": {},
   "source": [
    "&nbsp;"
   ]
  },
  {
   "cell_type": "markdown",
   "id": "d06e3254",
   "metadata": {},
   "source": [
    "# 3. Feature Engineering\n",
    "Feature engineering is the process of selecting, manipulating, and transforming raw data into features that can be used in supervised learning. Feature engineering is one of the most important steps when it comes to a machine learning project because algorithms can only interpret data in a certain way (numerical). For example, categorical data must be binary encoded for it to be considered during the fitting process. Furthermore, there could be features that disrupt the correlation between the label and other features, so removing them is just as important. "
   ]
  },
  {
   "cell_type": "code",
   "execution_count": 1,
   "id": "530ec53f",
   "metadata": {},
   "outputs": [],
   "source": [
    "# Standard libraries. \n",
    "import pandas as pd\n",
    "import numpy as np \n",
    "import os\n",
    "from plotly.subplots import make_subplots\n",
    "import plotly.graph_objects as go\n",
    "import plotly.express as px\n",
    "\n",
    "# Importing our functions. \n",
    "import functions\n",
    "import visuals\n",
    "\n",
    "# Importing chosen models. \n",
    "from sklearn.linear_model import LogisticRegression\n",
    "from xgboost import XGBClassifier\n",
    "from sklearn.ensemble import GradientBoostingClassifier\n",
    "\n",
    "# Importing transformers. \n",
    "from sklearn.impute import SimpleImputer\n",
    "from sklearn.compose import ColumnTransformer\n",
    "from sklearn.pipeline import Pipeline\n",
    "from sklearn.preprocessing import StandardScaler, Normalizer, OneHotEncoder\n",
    "\n",
    "# Converts plotly output into static images, so it can be viewed inside github repository. \n",
    "import plotly.io as pio\n",
    "pio.renderers.default = \"svg\""
   ]
  },
  {
   "cell_type": "code",
   "execution_count": 2,
   "id": "c17d6217",
   "metadata": {
    "scrolled": false
   },
   "outputs": [
    {
     "data": {
      "text/html": [
       "<div>\n",
       "<style scoped>\n",
       "    .dataframe tbody tr th:only-of-type {\n",
       "        vertical-align: middle;\n",
       "    }\n",
       "\n",
       "    .dataframe tbody tr th {\n",
       "        vertical-align: top;\n",
       "    }\n",
       "\n",
       "    .dataframe thead th {\n",
       "        text-align: right;\n",
       "    }\n",
       "</style>\n",
       "<table border=\"1\" class=\"dataframe\">\n",
       "  <thead>\n",
       "    <tr style=\"text-align: right;\">\n",
       "      <th></th>\n",
       "      <th>Pclass</th>\n",
       "      <th>Sex</th>\n",
       "      <th>Age</th>\n",
       "      <th>SibSp</th>\n",
       "      <th>Parch</th>\n",
       "      <th>Ticket</th>\n",
       "      <th>Fare</th>\n",
       "      <th>Embarked</th>\n",
       "      <th>Age Group</th>\n",
       "      <th>Martial Status</th>\n",
       "      <th>Survived</th>\n",
       "    </tr>\n",
       "    <tr>\n",
       "      <th>Name</th>\n",
       "      <th></th>\n",
       "      <th></th>\n",
       "      <th></th>\n",
       "      <th></th>\n",
       "      <th></th>\n",
       "      <th></th>\n",
       "      <th></th>\n",
       "      <th></th>\n",
       "      <th></th>\n",
       "      <th></th>\n",
       "      <th></th>\n",
       "    </tr>\n",
       "  </thead>\n",
       "  <tbody>\n",
       "    <tr>\n",
       "      <th>Braund, Mr. Owen Harris</th>\n",
       "      <td>3</td>\n",
       "      <td>male</td>\n",
       "      <td>22.0</td>\n",
       "      <td>1</td>\n",
       "      <td>0</td>\n",
       "      <td>A/5 21171</td>\n",
       "      <td>7.2500</td>\n",
       "      <td>S</td>\n",
       "      <td>young adult</td>\n",
       "      <td>Not Married</td>\n",
       "      <td>0</td>\n",
       "    </tr>\n",
       "    <tr>\n",
       "      <th>Cumings, Mrs. John Bradley (Florence Briggs Thayer)</th>\n",
       "      <td>1</td>\n",
       "      <td>female</td>\n",
       "      <td>38.0</td>\n",
       "      <td>1</td>\n",
       "      <td>0</td>\n",
       "      <td>PC 17599</td>\n",
       "      <td>71.2833</td>\n",
       "      <td>C</td>\n",
       "      <td>middle aged</td>\n",
       "      <td>Married</td>\n",
       "      <td>1</td>\n",
       "    </tr>\n",
       "  </tbody>\n",
       "</table>\n",
       "</div>"
      ],
      "text/plain": [
       "                                                    Pclass     Sex   Age  \\\n",
       "Name                                                                       \n",
       "Braund, Mr. Owen Harris                                  3    male  22.0   \n",
       "Cumings, Mrs. John Bradley (Florence Briggs Tha...       1  female  38.0   \n",
       "\n",
       "                                                    SibSp  Parch     Ticket  \\\n",
       "Name                                                                          \n",
       "Braund, Mr. Owen Harris                                 1      0  A/5 21171   \n",
       "Cumings, Mrs. John Bradley (Florence Briggs Tha...      1      0   PC 17599   \n",
       "\n",
       "                                                       Fare Embarked  \\\n",
       "Name                                                                   \n",
       "Braund, Mr. Owen Harris                              7.2500        S   \n",
       "Cumings, Mrs. John Bradley (Florence Briggs Tha...  71.2833        C   \n",
       "\n",
       "                                                      Age Group  \\\n",
       "Name                                                              \n",
       "Braund, Mr. Owen Harris                             young adult   \n",
       "Cumings, Mrs. John Bradley (Florence Briggs Tha...  middle aged   \n",
       "\n",
       "                                                   Martial Status  Survived  \n",
       "Name                                                                         \n",
       "Braund, Mr. Owen Harris                               Not Married         0  \n",
       "Cumings, Mrs. John Bradley (Florence Briggs Tha...        Married         1  "
      ]
     },
     "execution_count": 2,
     "metadata": {},
     "output_type": "execute_result"
    }
   ],
   "source": [
    "root = os.getcwd() # Setting root directory as cwd. \n",
    "df = pd.read_csv(r\"{}\\train_new_features.csv\".format(root)) # Importing the train set.\n",
    "df.set_index(\"Name\", inplace=True)\n",
    "df.head(2)"
   ]
  },
  {
   "cell_type": "markdown",
   "id": "32299265",
   "metadata": {},
   "source": [
    "&nbsp;"
   ]
  },
  {
   "cell_type": "markdown",
   "id": "a5cdd260",
   "metadata": {},
   "source": [
    "### Section A: Data Preparation\n",
    "In this section we'll focus on standardizing and normalizing our numerical dataset to hopefully boost performance from our chosen algorithms. However, before we implement these transforms, we must first set our benchmarks. "
   ]
  },
  {
   "cell_type": "markdown",
   "id": "b7996626",
   "metadata": {},
   "source": [
    "**A.1: Benchmarks** <br>\n",
    "The first step is to set up our benchmarks, so we have a point of reference against which things may be compared. This is a very important step whenever conducting empirical testing."
   ]
  },
  {
   "cell_type": "code",
   "execution_count": 3,
   "id": "80db2bfa",
   "metadata": {},
   "outputs": [],
   "source": [
    "# The model_evaluation() class sets up the pipeline to transform the data then returns a cross validated score. \n",
    "LR = functions.model_evaluation()\n",
    "LR.preprocessing(df)\n",
    "LR.add_pipe_component(\"clf\", LogisticRegression(max_iter=1000))\n",
    "LR.cross_validation(df)"
   ]
  },
  {
   "cell_type": "code",
   "execution_count": 4,
   "id": "49679404",
   "metadata": {},
   "outputs": [],
   "source": [
    "GBC = functions.model_evaluation()\n",
    "GBC.preprocessing(df)\n",
    "GBC.add_pipe_component(\"clf\", GradientBoostingClassifier())\n",
    "GBC.cross_validation(df)"
   ]
  },
  {
   "cell_type": "code",
   "execution_count": 5,
   "id": "939d388f",
   "metadata": {},
   "outputs": [],
   "source": [
    "XGB = functions.model_evaluation()\n",
    "XGB.preprocessing(df)\n",
    "XGB.add_pipe_component(\"clf\", XGBClassifier())\n",
    "XGB.cross_validation(df)"
   ]
  },
  {
   "cell_type": "code",
   "execution_count": 6,
   "id": "c9dc060a",
   "metadata": {},
   "outputs": [],
   "source": [
    "# Setting up benchmarks. \n",
    "benchmarkLR = {\"Base_LR\" : LR.cv_result}\n",
    "benchmarkGBC = {\"Base_GBC\" : GBC.cv_result}\n",
    "benchmarkXGB = {\"Base_XGB\" : XGB.cv_result}"
   ]
  },
  {
   "cell_type": "markdown",
   "id": "9ca3a6b0",
   "metadata": {},
   "source": [
    "| Model | Model Type | Benchmark |  \n",
    "|---------|---------|---------|\n",
    "| **Logistic Regression** | Base Model | 81.64% |\n",
    "| **Gradient Boosting Classifier** | Base Model | 81.45% |\n",
    "| **XGB Classifier** | Base Model | 81.42% |"
   ]
  },
  {
   "cell_type": "markdown",
   "id": "135132ed",
   "metadata": {},
   "source": [
    "**A.2: Standardization** <br>\n",
    "Standardization converts the mean to 0 and a standard deviation of 1. Usually this transform is conducted on Gaussian distributions. Standardizing your dataset can potentially lead you to an uplift in performance. "
   ]
  },
  {
   "cell_type": "code",
   "execution_count": 7,
   "id": "5243e7b4",
   "metadata": {},
   "outputs": [
    {
     "name": "stdout",
     "output_type": "stream",
     "text": [
      "We reject the null hypothesis with the new benchmark for LR_Standardized: 82.5760%\n"
     ]
    }
   ],
   "source": [
    "# The model_evaluation() class sets up the pipeline to transform the data then returns a cross validated score. \n",
    "LR_s = functions.model_evaluation()\n",
    "LR_s.preprocessing(df)\n",
    "LR_s.add_pipe_component(\"s\", StandardScaler())\n",
    "LR_s.add_pipe_component(\"clf\", LogisticRegression(max_iter=1000))\n",
    "LR_s.cross_validation(df)\n",
    "\n",
    "# Our hypothesis is that a standardized dataset will boost model performance.  \n",
    "functions.hypothesis_testing(LR_s.cv_result, benchmarkLR, \"LR_Standardized\")"
   ]
  },
  {
   "cell_type": "code",
   "execution_count": 8,
   "id": "cc1652f9",
   "metadata": {},
   "outputs": [
    {
     "name": "stdout",
     "output_type": "stream",
     "text": [
      "We accept the null hypothesis.\n"
     ]
    }
   ],
   "source": [
    "# The model_evaluation() class sets up the pipeline to transform the data then returns a cross validated score. \n",
    "GBC_s = functions.model_evaluation()\n",
    "GBC_s.preprocessing(df)\n",
    "GBC_s.add_pipe_component(\"s\", StandardScaler())\n",
    "GBC_s.add_pipe_component(\"clf\", GradientBoostingClassifier())\n",
    "GBC_s.cross_validation(df)\n",
    "\n",
    "functions.hypothesis_testing(GBC_s.cv_result, benchmarkGBC, \"GBC_standardized\")"
   ]
  },
  {
   "cell_type": "code",
   "execution_count": 9,
   "id": "88c11641",
   "metadata": {},
   "outputs": [
    {
     "name": "stdout",
     "output_type": "stream",
     "text": [
      "We accept the null hypothesis.\n"
     ]
    }
   ],
   "source": [
    "# The model_evaluation() class sets up the pipeline to transform the data then returns a cross validated score. \n",
    "XGB_s = functions.model_evaluation()\n",
    "XGB_s.preprocessing(df)\n",
    "XGB_s.add_pipe_component(\"s\", StandardScaler())\n",
    "XGB_s.add_pipe_component(\"clf\", XGBClassifier())\n",
    "XGB_s.cross_validation(df)\n",
    "\n",
    "functions.hypothesis_testing(XGB_s.cv_result, benchmarkXGB, \"XGB_standardized\")"
   ]
  },
  {
   "cell_type": "markdown",
   "id": "f908b006",
   "metadata": {},
   "source": [
    "| Model | Model Type | Benchmark |  \n",
    "|---------|---------|---------|\n",
    "| **Logistic Regression** | Standardized | 82.58% |\n",
    "| **Gradient Boosting Classifier** | Standardized | 81.69% |\n",
    "| **XGB Classifier** | Base Model | 81.42% |"
   ]
  },
  {
   "cell_type": "markdown",
   "id": "dd9b8019",
   "metadata": {},
   "source": [
    "**A.3: Normalization** <br>\n",
    "Normalization is the process of rescaling the dataset to the range of 0 to 1."
   ]
  },
  {
   "cell_type": "code",
   "execution_count": 10,
   "id": "268451f4",
   "metadata": {},
   "outputs": [
    {
     "name": "stdout",
     "output_type": "stream",
     "text": [
      "We accept the null hypothesis.\n"
     ]
    }
   ],
   "source": [
    "# The model_evaluation() class sets up the pipeline to transform the data then returns a cross validated score. \n",
    "LR_n = functions.model_evaluation()\n",
    "LR_n.preprocessing(df)\n",
    "LR_n.add_pipe_component(\"n\", Normalizer())\n",
    "LR_n.add_pipe_component(\"clf\", LogisticRegression(max_iter=1000))\n",
    "LR_n.cross_validation(df)\n",
    "\n",
    "# Our hypothesis is that a normalized dataset will boost model performance.  \n",
    "functions.hypothesis_testing(LR_n.cv_result, benchmarkLR, \"LR_normalized\")"
   ]
  },
  {
   "cell_type": "code",
   "execution_count": 11,
   "id": "115dc37a",
   "metadata": {},
   "outputs": [
    {
     "name": "stdout",
     "output_type": "stream",
     "text": [
      "We accept the null hypothesis.\n"
     ]
    }
   ],
   "source": [
    "# The model_evaluation() class sets up the pipeline to transform the data then returns a cross validated score. \n",
    "GBC_n = functions.model_evaluation()\n",
    "GBC_n.preprocessing(df)\n",
    "GBC_n.add_pipe_component(\"n\", Normalizer())\n",
    "GBC_n.add_pipe_component(\"clf\", GradientBoostingClassifier())\n",
    "GBC_n.cross_validation(df)\n",
    "\n",
    "functions.hypothesis_testing(GBC_n.cv_result, benchmarkGBC, \"GBC_normalized\")"
   ]
  },
  {
   "cell_type": "code",
   "execution_count": 12,
   "id": "ab9588e3",
   "metadata": {},
   "outputs": [
    {
     "name": "stdout",
     "output_type": "stream",
     "text": [
      "We accept the null hypothesis.\n"
     ]
    }
   ],
   "source": [
    "# The model_evaluation() class sets up the pipeline to transform the data then returns a cross validated score. \n",
    "XGB_n = functions.model_evaluation()\n",
    "XGB_n.preprocessing(df)\n",
    "XGB_n.add_pipe_component(\"n\", Normalizer())\n",
    "XGB_n.add_pipe_component(\"clf\", XGBClassifier())\n",
    "XGB_n.cross_validation(df)\n",
    "\n",
    "functions.hypothesis_testing(XGB_n.cv_result, benchmarkXGB, \"XGB_ntandardized\")"
   ]
  },
  {
   "cell_type": "markdown",
   "id": "4af2952f",
   "metadata": {},
   "source": [
    "| Model | Model Type | Benchmark |  \n",
    "|---------|---------|---------|\n",
    "| **Logistic Regression** | Standardized | 82.58% |\n",
    "| **Gradient Boosting Classifier** | Standardized | 81.69% |\n",
    "| **XGB Classifier** | Base Model | 81.42% |"
   ]
  },
  {
   "cell_type": "markdown",
   "id": "00391809",
   "metadata": {},
   "source": [
    "&nbsp;"
   ]
  },
  {
   "cell_type": "markdown",
   "id": "86cc96c1",
   "metadata": {},
   "source": [
    "### Section B: Recursive Feature Elimination\n",
    "In this section we'll focus be focusing on Feature Elimination using scikit-learn's Recrusive Feature Elimination algorithm. RFE is a feature elimination technique which aims to find the most important features when it comes to predicting our labels. It works through our entire feature space, recursively considering smaller and smaller sets of features. Through each iteration it assigns weights to features (e.g., the feature_importance_ attribute in any classification estimator) and uses this metric to gauge how imporant each feature is at predicting the target variable. At the end of the process, only the most important features are kept. "
   ]
  },
  {
   "cell_type": "markdown",
   "id": "7aa2ecb0",
   "metadata": {},
   "source": [
    "**B.1: Transforming our Data** <br>\n",
    "However, before we can conduct RFE, we must first transform our feature space so that it's suitable to be fed into the algorithm (i.e., impute missing values, encode categorical features)."
   ]
  },
  {
   "cell_type": "code",
   "execution_count": 13,
   "id": "8a1be230",
   "metadata": {},
   "outputs": [
    {
     "name": "stdout",
     "output_type": "stream",
     "text": [
      "Numerical columns are: ['Age', 'Fare']\n",
      "Categorical columns are: ['Pclass', 'Sex', 'SibSp', 'Parch', 'Ticket', 'Embarked', 'Age Group', 'Martial Status']\n"
     ]
    }
   ],
   "source": [
    "# Separating our numerical & categorical columns for ColumnTransformer. \n",
    "numerical = list(df.select_dtypes(['float64']).columns)\n",
    "print(f'Numerical columns are: {numerical}')\n",
    "\n",
    "categorical = list(df.select_dtypes(exclude=['float64']).columns)\n",
    "categorical.remove(\"Survived\") # Remove label from data. \n",
    "print(f'Categorical columns are: {categorical}')\n",
    "\n",
    "cat_pipe = Pipeline([\n",
    "    ('imputer', SimpleImputer(strategy='most_frequent')),\n",
    "    ('encoder', OneHotEncoder(handle_unknown='ignore', sparse=False))\n",
    "])\n",
    "\n",
    "# Define numerical pipeline\n",
    "num_pipe = Pipeline([\n",
    "    ('imputer', SimpleImputer(strategy='median'))\n",
    "])\n",
    "\n",
    "# Combine categorical and numerical pipelines\n",
    "preprocessor = ColumnTransformer([\n",
    "    ('cat', cat_pipe, categorical),\n",
    "    ('num', num_pipe, numerical)\n",
    "])\n",
    "\n",
    "# Fit a pipeline with transformers and an estimator to the training data\n",
    "pipe = Pipeline([\n",
    "    ('preprocessor', preprocessor)\n",
    "])"
   ]
  },
  {
   "cell_type": "code",
   "execution_count": 14,
   "id": "96dcd6c7",
   "metadata": {},
   "outputs": [
    {
     "data": {
      "text/html": [
       "<div>\n",
       "<style scoped>\n",
       "    .dataframe tbody tr th:only-of-type {\n",
       "        vertical-align: middle;\n",
       "    }\n",
       "\n",
       "    .dataframe tbody tr th {\n",
       "        vertical-align: top;\n",
       "    }\n",
       "\n",
       "    .dataframe thead th {\n",
       "        text-align: right;\n",
       "    }\n",
       "</style>\n",
       "<table border=\"1\" class=\"dataframe\">\n",
       "  <thead>\n",
       "    <tr style=\"text-align: right;\">\n",
       "      <th></th>\n",
       "      <th>Pclass_1</th>\n",
       "      <th>Pclass_2</th>\n",
       "      <th>Pclass_3</th>\n",
       "      <th>Sex_female</th>\n",
       "      <th>Sex_male</th>\n",
       "      <th>SibSp_0</th>\n",
       "      <th>SibSp_1</th>\n",
       "      <th>SibSp_2</th>\n",
       "      <th>SibSp_3</th>\n",
       "      <th>SibSp_4</th>\n",
       "      <th>...</th>\n",
       "      <th>Embarked_S</th>\n",
       "      <th>Age Group_child</th>\n",
       "      <th>Age Group_middle aged</th>\n",
       "      <th>Age Group_senior</th>\n",
       "      <th>Age Group_young adult</th>\n",
       "      <th>Martial Status_Married</th>\n",
       "      <th>Martial Status_Not Married</th>\n",
       "      <th>Age</th>\n",
       "      <th>Fare</th>\n",
       "      <th>Survived</th>\n",
       "    </tr>\n",
       "  </thead>\n",
       "  <tbody>\n",
       "    <tr>\n",
       "      <th>0</th>\n",
       "      <td>0.0</td>\n",
       "      <td>0.0</td>\n",
       "      <td>1.0</td>\n",
       "      <td>0.0</td>\n",
       "      <td>1.0</td>\n",
       "      <td>0.0</td>\n",
       "      <td>1.0</td>\n",
       "      <td>0.0</td>\n",
       "      <td>0.0</td>\n",
       "      <td>0.0</td>\n",
       "      <td>...</td>\n",
       "      <td>1.0</td>\n",
       "      <td>0.0</td>\n",
       "      <td>0.0</td>\n",
       "      <td>0.0</td>\n",
       "      <td>1.0</td>\n",
       "      <td>0.0</td>\n",
       "      <td>1.0</td>\n",
       "      <td>22.0</td>\n",
       "      <td>7.2500</td>\n",
       "      <td>0</td>\n",
       "    </tr>\n",
       "    <tr>\n",
       "      <th>1</th>\n",
       "      <td>1.0</td>\n",
       "      <td>0.0</td>\n",
       "      <td>0.0</td>\n",
       "      <td>1.0</td>\n",
       "      <td>0.0</td>\n",
       "      <td>0.0</td>\n",
       "      <td>1.0</td>\n",
       "      <td>0.0</td>\n",
       "      <td>0.0</td>\n",
       "      <td>0.0</td>\n",
       "      <td>...</td>\n",
       "      <td>0.0</td>\n",
       "      <td>0.0</td>\n",
       "      <td>1.0</td>\n",
       "      <td>0.0</td>\n",
       "      <td>0.0</td>\n",
       "      <td>1.0</td>\n",
       "      <td>0.0</td>\n",
       "      <td>38.0</td>\n",
       "      <td>71.2833</td>\n",
       "      <td>1</td>\n",
       "    </tr>\n",
       "  </tbody>\n",
       "</table>\n",
       "<p>2 rows × 712 columns</p>\n",
       "</div>"
      ],
      "text/plain": [
       "   Pclass_1  Pclass_2  Pclass_3  Sex_female  Sex_male  SibSp_0  SibSp_1  \\\n",
       "0       0.0       0.0       1.0         0.0       1.0      0.0      1.0   \n",
       "1       1.0       0.0       0.0         1.0       0.0      0.0      1.0   \n",
       "\n",
       "   SibSp_2  SibSp_3  SibSp_4  ...  Embarked_S  Age Group_child  \\\n",
       "0      0.0      0.0      0.0  ...         1.0              0.0   \n",
       "1      0.0      0.0      0.0  ...         0.0              0.0   \n",
       "\n",
       "   Age Group_middle aged  Age Group_senior  Age Group_young adult  \\\n",
       "0                    0.0               0.0                    1.0   \n",
       "1                    1.0               0.0                    0.0   \n",
       "\n",
       "   Martial Status_Married  Martial Status_Not Married   Age     Fare  Survived  \n",
       "0                     0.0                         1.0  22.0   7.2500         0  \n",
       "1                     1.0                         0.0  38.0  71.2833         1  \n",
       "\n",
       "[2 rows x 712 columns]"
      ]
     },
     "execution_count": 14,
     "metadata": {},
     "output_type": "execute_result"
    }
   ],
   "source": [
    "# Extract SimpleImputer transfrom from the num_pipe.  \n",
    "num_data = pipe.named_steps['preprocessor'].transformers[1][1].fit_transform(df[numerical])\n",
    "# Creating dataframe. \n",
    "num_df = pd.DataFrame(data=num_data, columns=list(df[numerical].columns))\n",
    "\n",
    "# Imputing the categorical data. \n",
    "imputed_data = pipe.named_steps['preprocessor'].transformers[0][1][0].fit_transform(df[categorical])\n",
    "imputed_cat =  pd.DataFrame(imputed_data, columns=categorical)\n",
    "\n",
    "# Encoding the categorical data. \n",
    "encoded_data = pipe.named_steps['preprocessor'].transformers[0][1][1].fit_transform(imputed_cat)\n",
    "cat_df = pd.DataFrame(encoded_data, columns=pipe.named_steps['preprocessor'].transformers[0][1][1].\n",
    "                      get_feature_names_out(categorical))\n",
    "\n",
    "# Merging both numerical and categorical features back into a single dataframe. \n",
    "merged = pd.concat([cat_df, num_df], axis=1) \n",
    "df.reset_index(inplace=True)\n",
    "df = df.drop(columns=[\"Name\"])\n",
    "processed = pd.concat([merged, df.iloc[:,-1]], axis=1) # Attaching our dependant variable to our processed dataset. \n",
    "processed.head(2)"
   ]
  },
  {
   "cell_type": "markdown",
   "id": "3efe6d6d",
   "metadata": {},
   "source": [
    "**B.2: Logistic Regression**<br>\n",
    "Now let's implement RFECV onto our base Logistic Regression Model."
   ]
  },
  {
   "cell_type": "code",
   "execution_count": 15,
   "id": "eadc6471",
   "metadata": {},
   "outputs": [
    {
     "name": "stdout",
     "output_type": "stream",
     "text": [
      "Optimal number of features: 590\n"
     ]
    }
   ],
   "source": [
    "LR_rfe = functions.model_evaluation()\n",
    "# arguments(data, model) \n",
    "LR_rfe.RFE_cross_validate(processed, LogisticRegression(max_iter=1000))\n",
    "print(\"Optimal number of features: %d\" % LR_rfe.rfe_result.n_features_)\n",
    "\n",
    "# Store results into a dictionary. \n",
    "dictLR = LR_rfe.rfe_result.cv_results_"
   ]
  },
  {
   "cell_type": "markdown",
   "id": "ff5dd4be",
   "metadata": {},
   "source": [
    "**B.3: Gradient Boosting Classifier**<br>\n",
    "Now let's implement RFECV onto our base Gradient Boosting Model."
   ]
  },
  {
   "cell_type": "code",
   "execution_count": 16,
   "id": "a6e618f8",
   "metadata": {},
   "outputs": [
    {
     "name": "stdout",
     "output_type": "stream",
     "text": [
      "Optimal number of features: 6\n"
     ]
    }
   ],
   "source": [
    "GBC_rfe = functions.model_evaluation()\n",
    "# arguments(data, model) \n",
    "GBC_rfe.RFE_cross_validate(processed, GradientBoostingClassifier())\n",
    "print(\"Optimal number of features: %d\" % GBC_rfe.rfe_result.n_features_)\n",
    "\n",
    "# Store results into a dictionary. \n",
    "dictGBC = GBC_rfe.rfe_result.cv_results_"
   ]
  },
  {
   "cell_type": "markdown",
   "id": "0847c3f1",
   "metadata": {},
   "source": [
    "**B.4: XGB Classifier**<br>\n",
    "Now let's implement RFECV onto our base XGB Classifier Model."
   ]
  },
  {
   "cell_type": "code",
   "execution_count": 17,
   "id": "cfa959ff",
   "metadata": {},
   "outputs": [
    {
     "name": "stdout",
     "output_type": "stream",
     "text": [
      "Optimal number of features: 23\n"
     ]
    }
   ],
   "source": [
    "XGB_rfe = functions.model_evaluation()\n",
    "# arguments(data, model) \n",
    "XGB_rfe.RFE_cross_validate(processed, XGBClassifier())\n",
    "print(\"Optimal number of features: %d\" % XGB_rfe.rfe_result.n_features_)\n",
    "\n",
    "# Store results into a dictionary. \n",
    "dictXGB = XGB_rfe.rfe_result.cv_results_"
   ]
  },
  {
   "cell_type": "code",
   "execution_count": 18,
   "id": "4d88da37",
   "metadata": {},
   "outputs": [
    {
     "data": {
      "image/svg+xml": [
       "<svg class=\"main-svg\" xmlns=\"http://www.w3.org/2000/svg\" xmlns:xlink=\"http://www.w3.org/1999/xlink\" width=\"980\" height=\"450\" style=\"\" viewBox=\"0 0 980 450\"><rect x=\"0\" y=\"0\" width=\"980\" height=\"450\" style=\"fill: rgb(255, 255, 255); fill-opacity: 1;\"/><defs id=\"defs-a604fd\"><g class=\"clips\"><clipPath id=\"clipa604fdxyplot\" class=\"plotclip\"><rect width=\"665\" height=\"270\"/></clipPath><clipPath class=\"axesclip\" id=\"clipa604fdx\"><rect x=\"80\" y=\"0\" width=\"665\" height=\"450\"/></clipPath><clipPath class=\"axesclip\" id=\"clipa604fdy\"><rect x=\"0\" y=\"100\" width=\"980\" height=\"270\"/></clipPath><clipPath class=\"axesclip\" id=\"clipa604fdxy\"><rect x=\"80\" y=\"100\" width=\"665\" height=\"270\"/></clipPath></g><g class=\"gradients\"/><g class=\"patterns\"/></defs><g class=\"bglayer\"><rect class=\"bg\" x=\"80\" y=\"100\" width=\"665\" height=\"270\" style=\"fill: rgb(248, 248, 246); fill-opacity: 1; stroke-width: 0;\"/></g><g class=\"layer-below\"><g class=\"imagelayer\"/><g class=\"shapelayer\"/></g><g class=\"cartesianlayer\"><g class=\"subplot xy\"><g class=\"layer-subplot\"><g class=\"shapelayer\"/><g class=\"imagelayer\"/></g><g class=\"minor-gridlayer\"><g class=\"x\"/><g class=\"y\"/></g><g class=\"gridlayer\"><g class=\"x\"><path class=\"xgrid crisp\" transform=\"translate(172.73000000000002,0)\" d=\"M0,100v270\" style=\"stroke: rgb(255, 255, 255); stroke-opacity: 1; stroke-width: 1px;\"/><path class=\"xgrid crisp\" transform=\"translate(266.39,0)\" d=\"M0,100v270\" style=\"stroke: rgb(255, 255, 255); stroke-opacity: 1; stroke-width: 1px;\"/><path class=\"xgrid crisp\" transform=\"translate(360.05,0)\" d=\"M0,100v270\" style=\"stroke: rgb(255, 255, 255); stroke-opacity: 1; stroke-width: 1px;\"/><path class=\"xgrid crisp\" transform=\"translate(453.71,0)\" d=\"M0,100v270\" style=\"stroke: rgb(255, 255, 255); stroke-opacity: 1; stroke-width: 1px;\"/><path class=\"xgrid crisp\" transform=\"translate(547.37,0)\" d=\"M0,100v270\" style=\"stroke: rgb(255, 255, 255); stroke-opacity: 1; stroke-width: 1px;\"/><path class=\"xgrid crisp\" transform=\"translate(641.04,0)\" d=\"M0,100v270\" style=\"stroke: rgb(255, 255, 255); stroke-opacity: 1; stroke-width: 1px;\"/><path class=\"xgrid crisp\" transform=\"translate(734.7,0)\" d=\"M0,100v270\" style=\"stroke: rgb(255, 255, 255); stroke-opacity: 1; stroke-width: 1px;\"/></g><g class=\"y\"><path class=\"ygrid crisp\" transform=\"translate(0,341.93)\" d=\"M80,0h665\" style=\"stroke: rgb(255, 255, 255); stroke-opacity: 1; stroke-width: 1px;\"/><path class=\"ygrid crisp\" transform=\"translate(0,282.43)\" d=\"M80,0h665\" style=\"stroke: rgb(255, 255, 255); stroke-opacity: 1; stroke-width: 1px;\"/><path class=\"ygrid crisp\" transform=\"translate(0,222.93)\" d=\"M80,0h665\" style=\"stroke: rgb(255, 255, 255); stroke-opacity: 1; stroke-width: 1px;\"/><path class=\"ygrid crisp\" transform=\"translate(0,163.43)\" d=\"M80,0h665\" style=\"stroke: rgb(255, 255, 255); stroke-opacity: 1; stroke-width: 1px;\"/><path class=\"ygrid crisp\" transform=\"translate(0,103.93)\" d=\"M80,0h665\" style=\"stroke: rgb(255, 255, 255); stroke-opacity: 1; stroke-width: 1px;\"/></g></g><g class=\"zerolinelayer\"/><path class=\"xlines-below\"/><path class=\"ylines-below\"/><g class=\"overlines-below\"/><g class=\"xaxislayer-below\"/><g class=\"yaxislayer-below\"/><g class=\"overaxes-below\"/><g class=\"plot\" transform=\"translate(80,100)\" clip-path=\"url(#clipa604fdxyplot)\"><g class=\"scatterlayer mlayer\"><g class=\"trace scatter trace9e6f3f\" style=\"stroke-miterlimit: 2; opacity: 1;\"><g class=\"fills\"/><g class=\"errorbars\"/><g class=\"lines\"><path class=\"js-line\" d=\"M0,168.98L0.94,168.98L1.87,167.89L2.81,165.78L3.75,165.78L4.68,165.78L5.62,159.49L6.56,159.49L7.49,162.25L8.43,162.57L9.37,140.56L12.18,129.97L13.11,133.57L14.05,134.57L14.99,134.29L15.92,131.15L16.86,131.65L17.8,142.51L18.73,142.51L19.67,139.31L20.61,139.31L30.91,139.31L31.85,131.94L35.59,131.94L36.53,128.8L37.46,128.8L38.4,139.89L39.34,139.89L40.27,129.87L41.21,126.74L42.15,126.74L46.83,126.74L47.77,120.37L48.7,117.23L49.64,117.23L51.51,117.23L52.45,120.45L53.39,117.3L54.32,117.3L58.07,117.3L59.01,115.23L66.5,115.23L67.44,111.66L69.31,111.66L70.25,114.2L71.18,114.2L72.12,110.69L73.06,110.69L73.99,107.54L74.93,107.54L75.87,135.4L79.61,136L80.55,126.37L84.3,126.37L85.23,122.34L87.11,122.34L88.04,116.11L92.73,116.11L93.66,104.19L97.41,104.19L98.35,107.27L102.09,107.27L103.03,110.42L104.9,110.42L105.84,114.45L107.71,104.12L108.65,108.14L109.58,111.72L110.52,108.14L113.33,108.14L114.27,111.3L115.2,108.14L116.14,108.14L125.51,108.14L126.44,101.86L127.38,95.09L128.32,95.09L129.25,95.09L130.19,91.46L133.94,91.46L134.87,88.35L144.24,88.35L145.18,101.36L146.11,98.21L147.05,98.21L160.16,98.21L161.1,94.21L162.97,93.72L163.91,93.72L170.46,93.72L171.4,97.43L172.34,97.43L173.27,94.21L179.83,94.21L180.77,98.21L191.07,98.21L192.01,94.51L195.75,94.51L196.69,100.44L197.63,94.51L198.56,94.51L199.5,90.83L200.44,94.51L217.3,94.51L218.23,97.65L222.92,97.65L223.85,99.58L224.79,103.58L225.73,103.58L226.66,103.58L227.6,99.58L228.54,99.58L229.47,95.9L230.41,96.3L231.35,99.98L235.09,99.99L236.03,103.14L236.96,103.14L237.9,93.63L238.84,103.14L239.77,103.14L246.33,103.14L247.27,98.95L248.2,95.79L249.14,95.79L250.08,95.79L251.01,98.95L251.95,98.95L252.89,89.46L254.76,89.46L255.7,81.46L258.51,81.46L259.44,78.29L270.68,78.29L271.62,81.46L297.85,81.46L298.78,78.31L392.44,78.31L393.38,75.16L544.18,75.16L545.11,77.92L550.73,77.92L551.67,70.68L552.61,74.28L553.54,70.68L554.48,70.68L555.42,74.09L556.35,77.7L557.29,70.94L558.23,77.7L559.16,77.7L563.85,77.7L564.78,74.02L569.46,74.02L570.4,77.59L571.34,74.02L572.27,74.02L588.2,74.02L589.13,77.59L590.07,74.02L591.01,74.02L665,74.02\" style=\"vector-effect: non-scaling-stroke; fill: none; stroke: rgb(99, 110, 250); stroke-opacity: 1; stroke-width: 2px; opacity: 1;\"/></g><g class=\"points\"/><g class=\"text\"/></g><g class=\"trace scatter trace4b6124\" style=\"stroke-miterlimit: 2; opacity: 1;\"><g class=\"fills\"/><g class=\"errorbars\"/><g class=\"lines\"><path class=\"js-line\" d=\"M0,168.98L1.87,138.27L2.81,99.36L4.68,13.5L5.62,34.47L6.56,34.38L7.49,70.54L9.37,48.5L10.3,50.32L11.24,51.72L12.18,57.03L13.11,59.08L14.05,28.79L15.92,78.53L16.86,65.91L18.73,76.82L19.67,63.31L20.61,71.08L21.54,54.54L22.48,61.57L23.42,57.35L24.35,58.4L25.29,65.65L26.23,49.79L27.16,59.13L28.1,52.07L29.04,66.02L29.97,70.13L30.91,63.34L31.85,60.19L32.78,79.52L34.65,59.64L35.59,59.77L37.46,74.67L38.4,81.52L39.34,62.44L40.27,61.8L41.21,81.56L42.15,65L43.08,77.26L44.02,73.51L44.96,77.31L45.89,70.46L46.83,89.67L47.77,89.85L48.7,83.57L49.64,84.83L50.58,84.69L51.51,87.32L52.45,87.93L53.39,98.48L55.26,90.88L56.2,74.16L57.13,76.69L58.07,84.45L59.01,87.38L59.94,78.41L60.88,81.04L61.82,81.28L62.75,79.9L63.69,94.71L64.63,81.04L65.56,81L66.5,91.61L67.44,77.27L69.31,88.01L70.25,77.19L71.18,80.37L72.12,77.04L73.06,75.45L73.99,87.71L74.93,84.21L75.87,84.11L76.8,84.84L77.74,84.11L78.68,81L79.61,81.04L80.55,81.04L81.49,83.48L82.42,80.52L83.36,84.84L84.3,84.11L85.23,77.46L86.17,80.79L87.11,81.04L88.04,88.44L88.98,87.38L90.85,71.5L91.79,77.68L92.73,84.84L93.66,81.04L95.54,88.44L96.47,84.84L98.35,90.88L99.28,81.58L100.22,68.76L101.15,81.04L102.09,88.01L103.03,87.38L103.96,90.88L104.9,81.04L105.84,83.48L106.77,73.5L107.71,77.31L108.65,87.76L110.52,84.21L111.46,88.37L113.33,84.11L114.27,77.04L115.2,80.22L116.14,87.79L117.08,73.2L118.01,80.31L118.95,84.84L119.89,84.21L120.82,84.21L121.76,91.18L122.7,84.26L123.63,88.01L124.57,73.24L125.51,83.59L126.44,80.42L127.38,84.84L128.32,81.04L129.25,84.21L130.19,87.71L131.13,84.32L132.06,76.68L133,84.11L133.94,76.51L134.87,84.11L136.75,79.9L137.68,84.17L139.56,77.19L140.49,77.04L141.43,72.51L142.37,87.81L143.3,72.57L144.24,88.01L145.18,81.04L146.11,84.11L147.05,77.04L147.99,81.15L148.92,84.84L149.86,76.31L150.8,81.04L151.73,91.61L152.67,73.5L153.61,88.01L155.48,81.04L156.42,75.51L157.35,84.21L158.29,83.48L159.23,84.11L160.16,81.04L161.1,84.21L162.04,81.48L162.97,88.44L163.91,80.21L164.85,84.84L165.78,84.84L167.65,76.17L168.59,84.84L169.53,77.19L170.46,87.77L171.4,88.44L172.34,81.04L173.27,81.04L174.21,88.44L175.15,84.11L176.08,84.6L177.02,83.14L177.96,84.84L178.89,88.01L179.83,76.11L181.7,72.18L182.64,81.04L183.58,84.84L184.51,80.31L185.45,84.84L186.39,84.65L187.32,88.01L188.26,84.21L189.2,84.11L190.13,81.04L191.07,84.84L192.01,83.93L193.88,84.63L194.82,84.6L195.75,81.15L196.69,88.01L197.63,84.84L198.56,84.84L199.5,81.15L200.44,88.44L202.31,81L203.25,81.04L204.18,92.06L205.12,84.84L206.06,87.71L206.99,80.42L207.93,84.75L208.87,81.04L209.8,84.84L210.74,68.93L211.68,84.84L212.61,84.84L214.49,81.15L215.42,84.84L216.36,74.56L217.3,79.25L218.23,87.28L219.17,80.31L220.11,84.84L221.04,80.64L221.98,76.51L222.92,84.11L223.85,84.84L224.79,77.19L226.66,84.63L227.6,83.93L228.54,84.6L229.47,84.21L230.41,88.01L231.35,84.84L232.28,87.28L233.22,84.11L234.15,90.88L235.09,88.01L236.96,81.04L237.9,83.91L238.84,81.15L239.77,88.44L240.71,81.04L241.65,81.04L242.58,84.84L243.52,84.14L245.39,84.84L246.33,90.88L247.27,82.97L248.2,88.01L250.08,81.04L251.01,81.04L251.95,84.21L252.89,73.5L253.82,77.04L254.76,88.44L255.7,81L256.63,80.01L257.57,88.01L258.51,88.44L259.44,91.61L260.38,88.01L261.32,69.39L262.25,88.44L263.19,88.47L264.13,84.84L265.06,80.94L266,88.01L266.94,77.04L267.87,92.07L269.75,71.81L270.68,84.84L272.56,77.04L273.49,84.84L276.3,72.18L277.24,84.6L278.18,77.04L279.11,80.42L280.05,81.04L280.99,80.42L281.92,80.42L282.86,78.41L283.8,84.63L284.73,76.62L285.67,73.24L286.61,81.04L287.54,81L288.48,84.84L291.29,84.21L292.23,91.61L293.16,79.17L294.1,81L295.04,84.6L295.97,91.61L296.91,77.34L297.85,81.15L298.78,84.63L299.72,81.58L300.65,80.94L301.59,73.2L303.46,87.39L304.4,83.48L305.34,78.41L306.27,68.48L307.21,81L308.15,80.79L309.08,81.26L310.02,76.41L310.96,88.01L311.89,77.19L312.83,81.04L313.77,76.83L314.7,84.63L315.64,80.37L316.58,84.21L317.51,84.84L318.45,76.37L319.39,77.31L322.2,88.01L323.13,84.32L325.94,85.81L326.88,69.39L327.82,84.11L328.75,83.91L329.69,76.62L330.63,84.6L331.56,84.84L332.5,76.62L333.44,63.95L334.37,87.28L335.31,88.44L336.25,84.6L337.18,81L338.12,84.84L339.06,90.88L339.99,80.31L341.87,80.31L342.8,77.04L343.74,81.04L344.68,80.31L345.61,87.71L346.55,84.84L347.49,78.41L348.42,84.17L349.36,84.84L350.3,91.18L351.23,83.36L352.17,84.21L353.11,87.81L354.04,84.84L354.98,84.63L355.92,91.61L357.79,84.17L358.73,88.44L359.66,88.01L360.6,73.24L362.47,81.04L363.41,76.37L364.35,82.21L365.28,80.79L366.22,90.98L367.15,84.11L369.03,84.84L369.96,72.71L371.84,83.48L372.77,84.63L373.71,81.04L374.65,84.75L375.58,87.28L376.52,84.11L377.46,83.91L378.39,88.44L379.33,76.41L380.27,80.31L381.2,84.17L382.14,77.04L384.01,91.18L384.95,84.84L386.82,84.11L387.76,84.84L388.7,84.17L389.63,84.84L390.57,84.32L391.51,76.31L392.44,87.76L393.38,81L394.32,81.04L395.25,82.21L396.19,80.37L397.13,80.94L398.06,88.44L399,87.28L399.94,81.04L400.87,84.84L401.81,81L402.75,84.84L403.68,78.41L404.62,84.11L405.56,84.21L406.49,81.04L407.43,73.24L408.37,84.84L409.3,77.34L410.24,88.01L411.18,81.04L412.11,81.04L413.05,84.21L413.99,81.04L415.86,88.44L416.8,88.01L417.73,84.84L418.67,77.19L422.42,88.01L423.35,80.37L424.29,79.79L425.23,76.6L426.16,84.21L427.1,73.24L428.04,87.71L428.97,81.15L429.91,84.21L430.85,84.63L431.78,80.31L432.72,84.84L433.65,80.31L434.59,81L435.53,81.15L436.46,73.24L439.27,83.91L440.21,81.04L441.15,84.02L442.08,80.21L443.02,87.81L443.96,81.04L445.83,80.94L446.77,84.75L447.7,69.63L448.64,81.04L449.58,77.31L450.51,80.94L452.39,69.39L453.32,83.48L454.26,57.23L455.2,77.34L456.13,77.85L457.07,80.52L458.01,81.04L458.94,84.11L459.88,70.45L460.82,77.11L461.75,77.34L462.69,84.84L463.63,91.61L464.56,73.43L465.5,72.81L466.44,84.63L467.37,88.01L468.31,81.04L469.25,79.48L470.18,80.37L471.12,88.44L472.06,80.36L472.99,77.34L473.93,77.34L474.87,91.61L475.8,84.84L476.74,91.63L477.68,81.58L478.61,80.91L479.55,77.04L480.49,84.84L481.42,81.04L482.36,81L483.3,86.65L484.23,84.84L485.17,77.19L486.11,84.17L487.04,80.37L487.98,84.17L488.92,84.84L489.85,84.17L490.79,84.63L492.66,77.19L493.6,83.18L494.54,88.01L495.47,69.39L497.35,84.11L498.28,80.91L500.15,81.04L501.09,88.01L502.03,88.01L502.96,84.84L504.84,80.31L505.77,77.34L507.65,84.84L508.58,84.84L509.52,80.14L510.46,88.01L512.33,82.01L513.27,84.84L514.2,88.01L515.14,81.04L516.08,76.37L517.01,87.28L517.95,91.16L518.89,88.01L519.82,81.04L520.76,84.84L521.7,84.32L522.63,81.04L523.57,81.58L524.51,83.97L525.44,77.34L526.38,77.34L527.32,84.11L528.25,84.84L529.19,88.01L530.13,84.84L531.06,83.48L532,83.91L532.94,81.58L533.87,76.83L535.75,84.11L536.68,81.04L537.62,88.44L538.56,89.45L539.49,72.08L540.43,80.64L541.37,76.86L542.3,81.04L543.24,84.02L544.18,72.81L545.11,81.04L546.05,81.15L546.99,81.04L547.92,84.16L549.8,76.41L550.73,81.04L551.67,73.2L552.61,80.64L553.54,84.75L554.48,77.04L555.42,78.41L556.35,73.24L557.29,84.14L558.23,81.04L559.16,84.63L560.1,80.64L561.04,81.15L561.97,80.31L562.91,84.84L563.85,82.21L564.78,81.15L565.72,77.04L566.65,77.34L567.59,81.04L568.53,77.34L569.46,88.44L570.4,73.24L571.34,84.84L572.27,88.01L573.21,87.92L574.15,77.68L575.08,80.37L576.02,87.81L576.96,77.04L577.89,81.04L578.83,81.15L579.77,84.84L580.7,74.43L581.64,81.04L582.58,80.31L583.51,77.34L584.45,84.84L585.39,80.31L586.32,81.04L587.26,88.44L588.2,81.04L589.13,76.62L590.07,76.62L591.01,84.84L591.94,84.84L592.88,84.84L593.82,81.04L594.75,80.01L595.69,84.84L596.63,77.19L597.56,81L598.5,81.04L599.44,84.11L600.37,69.39L601.31,81L602.25,77.75L603.18,77.68L605.99,84.84L606.93,85.38L608.8,81.04L609.74,84.21L610.68,84.63L611.61,80.21L612.55,80.37L613.49,76.51L614.42,84.21L615.36,84.12L616.3,88.01L617.23,83.93L618.17,84.21L619.11,87.28L620.04,90.98L620.98,84.21L621.92,79.91L622.85,83.48L623.79,84.32L624.73,80.52L626.6,88.01L627.54,84.11L628.47,83.08L629.41,77.31L631.28,91.09L632.22,76.41L633.15,84.84L634.09,80.21L635.03,73.43L635.96,91.18L636.9,76.68L637.84,83.97L638.77,84.84L639.71,84.21L640.65,80.31L641.58,88.01L642.52,83.97L643.46,84.21L645.33,84.32L646.27,80.37L647.2,84.84L648.14,85.38L649.08,87.81L650.01,84.68L650.95,91.61L651.89,91.61L652.82,81.04L653.76,84.21L654.7,87.28L655.63,87.28L656.57,81L657.51,81.64L658.44,87.81L659.38,84.11L661.25,91.61L662.19,80.37L665,88.44\" style=\"vector-effect: non-scaling-stroke; fill: none; stroke: rgb(239, 85, 59); stroke-opacity: 1; stroke-width: 2px; opacity: 1;\"/></g><g class=\"points\"/><g class=\"text\"/></g><g class=\"trace scatter tracee88f8f\" style=\"stroke-miterlimit: 2; opacity: 1;\"><g class=\"fills\"/><g class=\"errorbars\"/><g class=\"lines\"><path class=\"js-line\" d=\"M0,168.98L0.94,256.5L1.87,237.48L2.81,222.4L3.75,165.05L5.62,121.09L6.56,87.79L8.43,110.2L9.37,80.5L10.3,100.74L11.24,81.26L12.18,89.88L13.11,87.99L14.05,84.98L14.99,64.94L15.92,78.73L16.86,71.12L17.8,70.81L18.73,81.03L19.67,61.27L20.61,61.27L665,61.27\" style=\"vector-effect: non-scaling-stroke; fill: none; stroke: rgb(0, 204, 150); stroke-opacity: 1; stroke-width: 2px; opacity: 1;\"/></g><g class=\"points\"/><g class=\"text\"/></g></g></g><g class=\"overplot\"/><path class=\"xlines-above crisp\" d=\"M0,0\" style=\"fill: none;\"/><path class=\"ylines-above crisp\" d=\"M0,0\" style=\"fill: none;\"/><g class=\"overlines-above\"/><g class=\"xaxislayer-above\"><g class=\"xtick\"><text text-anchor=\"middle\" x=\"0\" y=\"383\" transform=\"translate(172.73000000000002,0)\" style=\"font-family: 'Open Sans', verdana, arial, sans-serif; font-size: 12px; fill: rgb(42, 63, 95); fill-opacity: 1; white-space: pre; opacity: 1;\">100</text></g><g class=\"xtick\"><text text-anchor=\"middle\" x=\"0\" y=\"383\" style=\"font-family: 'Open Sans', verdana, arial, sans-serif; font-size: 12px; fill: rgb(42, 63, 95); fill-opacity: 1; white-space: pre; opacity: 1;\" transform=\"translate(266.39,0)\">200</text></g><g class=\"xtick\"><text text-anchor=\"middle\" x=\"0\" y=\"383\" style=\"font-family: 'Open Sans', verdana, arial, sans-serif; font-size: 12px; fill: rgb(42, 63, 95); fill-opacity: 1; white-space: pre; opacity: 1;\" transform=\"translate(360.05,0)\">300</text></g><g class=\"xtick\"><text text-anchor=\"middle\" x=\"0\" y=\"383\" style=\"font-family: 'Open Sans', verdana, arial, sans-serif; font-size: 12px; fill: rgb(42, 63, 95); fill-opacity: 1; white-space: pre; opacity: 1;\" transform=\"translate(453.71,0)\">400</text></g><g class=\"xtick\"><text text-anchor=\"middle\" x=\"0\" y=\"383\" style=\"font-family: 'Open Sans', verdana, arial, sans-serif; font-size: 12px; fill: rgb(42, 63, 95); fill-opacity: 1; white-space: pre; opacity: 1;\" transform=\"translate(547.37,0)\">500</text></g><g class=\"xtick\"><text text-anchor=\"middle\" x=\"0\" y=\"383\" style=\"font-family: 'Open Sans', verdana, arial, sans-serif; font-size: 12px; fill: rgb(42, 63, 95); fill-opacity: 1; white-space: pre; opacity: 1;\" transform=\"translate(641.04,0)\">600</text></g><g class=\"xtick\"><text text-anchor=\"middle\" x=\"0\" y=\"383\" style=\"font-family: 'Open Sans', verdana, arial, sans-serif; font-size: 12px; fill: rgb(42, 63, 95); fill-opacity: 1; white-space: pre; opacity: 1;\" transform=\"translate(734.7,0)\">700</text></g></g><g class=\"yaxislayer-above\"><g class=\"ytick\"><text text-anchor=\"end\" x=\"79\" y=\"4.199999999999999\" transform=\"translate(0,341.93)\" style=\"font-family: 'Open Sans', verdana, arial, sans-serif; font-size: 12px; fill: rgb(42, 63, 95); fill-opacity: 1; white-space: pre; opacity: 1;\">0.76</text></g><g class=\"ytick\"><text text-anchor=\"end\" x=\"79\" y=\"4.199999999999999\" style=\"font-family: 'Open Sans', verdana, arial, sans-serif; font-size: 12px; fill: rgb(42, 63, 95); fill-opacity: 1; white-space: pre; opacity: 1;\" transform=\"translate(0,282.43)\">0.78</text></g><g class=\"ytick\"><text text-anchor=\"end\" x=\"79\" y=\"4.199999999999999\" style=\"font-family: 'Open Sans', verdana, arial, sans-serif; font-size: 12px; fill: rgb(42, 63, 95); fill-opacity: 1; white-space: pre; opacity: 1;\" transform=\"translate(0,222.93)\">0.8</text></g><g class=\"ytick\"><text text-anchor=\"end\" x=\"79\" y=\"4.199999999999999\" style=\"font-family: 'Open Sans', verdana, arial, sans-serif; font-size: 12px; fill: rgb(42, 63, 95); fill-opacity: 1; white-space: pre; opacity: 1;\" transform=\"translate(0,163.43)\">0.82</text></g><g class=\"ytick\"><text text-anchor=\"end\" x=\"79\" y=\"4.199999999999999\" style=\"font-family: 'Open Sans', verdana, arial, sans-serif; font-size: 12px; fill: rgb(42, 63, 95); fill-opacity: 1; white-space: pre; opacity: 1;\" transform=\"translate(0,103.93)\">0.84</text></g></g><g class=\"overaxes-above\"/></g></g><g class=\"polarlayer\"/><g class=\"smithlayer\"/><g class=\"ternarylayer\"/><g class=\"geolayer\"/><g class=\"funnelarealayer\"/><g class=\"pielayer\"/><g class=\"iciclelayer\"/><g class=\"treemaplayer\"/><g class=\"sunburstlayer\"/><g class=\"glimages\"/><defs id=\"topdefs-a604fd\"><g class=\"clips\"/><clipPath id=\"legenda604fd\"><rect width=\"210\" height=\"67\" x=\"0\" y=\"0\"/></clipPath></defs><g class=\"layer-above\"><g class=\"imagelayer\"/><g class=\"shapelayer\"/></g><g class=\"infolayer\"><g class=\"legend\" pointer-events=\"all\" transform=\"translate(758.3000000000001,100)\"><rect class=\"bg\" shape-rendering=\"crispEdges\" style=\"stroke: rgb(68, 68, 68); stroke-opacity: 1; fill: rgb(255, 255, 255); fill-opacity: 1; stroke-width: 0px;\" width=\"210\" height=\"67\" x=\"0\" y=\"0\"/><g class=\"scrollbox\" transform=\"\" clip-path=\"url(#legenda604fd)\"><g class=\"groups\"><g class=\"traces\" transform=\"translate(0,14.5)\" style=\"opacity: 1;\"><text class=\"legendtext\" text-anchor=\"start\" x=\"40\" y=\"4.680000000000001\" style=\"font-family: 'Open Sans', verdana, arial, sans-serif; font-size: 12px; fill: rgb(42, 63, 95); fill-opacity: 1; white-space: pre;\">Logistic Regression</text><g class=\"layers\" style=\"opacity: 1;\"><g class=\"legendfill\"/><g class=\"legendlines\"><path class=\"js-line\" d=\"M5,0h30\" style=\"fill: none; stroke: rgb(99, 110, 250); stroke-opacity: 1; stroke-width: 2px;\"/></g><g class=\"legendsymbols\"><g class=\"legendpoints\"/></g></g><rect class=\"legendtoggle\" x=\"0\" y=\"-9.5\" width=\"204.28125\" height=\"19\" style=\"fill: rgb(0, 0, 0); fill-opacity: 0;\"/></g><g class=\"traces\" transform=\"translate(0,33.5)\" style=\"opacity: 1;\"><text class=\"legendtext\" text-anchor=\"start\" x=\"40\" y=\"4.680000000000001\" style=\"font-family: 'Open Sans', verdana, arial, sans-serif; font-size: 12px; fill: rgb(42, 63, 95); fill-opacity: 1; white-space: pre;\">Gradient Boosting Classifer</text><g class=\"layers\" style=\"opacity: 1;\"><g class=\"legendfill\"/><g class=\"legendlines\"><path class=\"js-line\" d=\"M5,0h30\" style=\"fill: none; stroke: rgb(239, 85, 59); stroke-opacity: 1; stroke-width: 2px;\"/></g><g class=\"legendsymbols\"><g class=\"legendpoints\"/></g></g><rect class=\"legendtoggle\" x=\"0\" y=\"-9.5\" width=\"204.28125\" height=\"19\" style=\"fill: rgb(0, 0, 0); fill-opacity: 0;\"/></g><g class=\"traces\" transform=\"translate(0,52.5)\" style=\"opacity: 1;\"><text class=\"legendtext\" text-anchor=\"start\" x=\"40\" y=\"4.680000000000001\" style=\"font-family: 'Open Sans', verdana, arial, sans-serif; font-size: 12px; fill: rgb(42, 63, 95); fill-opacity: 1; white-space: pre;\">XGB Classifier</text><g class=\"layers\" style=\"opacity: 1;\"><g class=\"legendfill\"/><g class=\"legendlines\"><path class=\"js-line\" d=\"M5,0h30\" style=\"fill: none; stroke: rgb(0, 204, 150); stroke-opacity: 1; stroke-width: 2px;\"/></g><g class=\"legendsymbols\"><g class=\"legendpoints\"/></g></g><rect class=\"legendtoggle\" x=\"0\" y=\"-9.5\" width=\"204.28125\" height=\"19\" style=\"fill: rgb(0, 0, 0); fill-opacity: 0;\"/></g></g></g><rect class=\"scrollbar\" rx=\"20\" ry=\"3\" width=\"0\" height=\"0\" style=\"fill: rgb(128, 139, 164); fill-opacity: 1;\" x=\"0\" y=\"0\"/></g><g class=\"g-gtitle\"><text class=\"gtitle\" x=\"49\" y=\"50\" text-anchor=\"start\" dy=\"0em\" style=\"font-family: 'Arial Black'; font-size: 20px; fill: rgb(42, 63, 95); opacity: 1; font-weight: normal; white-space: pre;\">Recursive Feature Elimination for Selected Models</text></g><g class=\"g-xtitle\"><text class=\"xtitle\" x=\"412.5\" y=\"410.8\" text-anchor=\"middle\" style=\"font-family: 'Open Sans', verdana, arial, sans-serif; font-size: 14px; fill: rgb(42, 63, 95); opacity: 1; font-weight: normal; white-space: pre;\">Total Features Selected</text></g><g class=\"g-ytitle\"><text class=\"ytitle\" transform=\"rotate(-90,26.934375000000003,235)\" x=\"26.934375000000003\" y=\"235\" text-anchor=\"middle\" style=\"font-family: 'Open Sans', verdana, arial, sans-serif; font-size: 14px; fill: rgb(42, 63, 95); opacity: 1; font-weight: normal; white-space: pre;\">Weighted f1 score</text></g></g></svg>"
      ]
     },
     "metadata": {},
     "output_type": "display_data"
    }
   ],
   "source": [
    "# Setting up axes values. \n",
    "x_axis = list(range(1, len(dictLR['mean_test_score']) + 1)) # Maximum no. of features is 711.\n",
    "y_LR = dictLR['mean_test_score']\n",
    "y_GBC = dictGBC['mean_test_score']\n",
    "y_XGB = dictXGB['mean_test_score']\n",
    "\n",
    "visuals.plot_rfe(xaxis=x_axis, yLR=y_LR, yGBC=y_GBC, yXGB=y_XGB)"
   ]
  },
  {
   "cell_type": "markdown",
   "id": "14ba8573",
   "metadata": {},
   "source": [
    "* In conclusion we saw minor improvements across all models with the RFE technique.\n",
    "* The small boost in performance does not justify the long training hours it takes to eliminate redundnat features for only a 1-2% boost in performance.\n",
    "* Moving forward, we will not be including RFE into our pipeline, for efficiency purposes."
   ]
  },
  {
   "cell_type": "markdown",
   "id": "3920942f",
   "metadata": {},
   "source": [
    "&nbsp;"
   ]
  },
  {
   "cell_type": "markdown",
   "id": "025ee020",
   "metadata": {},
   "source": [
    "&nbsp;\n",
    "**Author:** Aaron Chew&nbsp;&nbsp;&nbsp;&nbsp;&nbsp;&nbsp; **|** &nbsp;&nbsp;&nbsp;&nbsp;&nbsp;&nbsp;**Date Published:** 11/08/2022 &nbsp;&nbsp;&nbsp;&nbsp;&nbsp;&nbsp;**|** &nbsp;&nbsp;&nbsp;&nbsp;&nbsp;&nbsp;**Email:** aaronsamuelchew@gmail.com &nbsp;&nbsp;&nbsp;&nbsp;&nbsp;&nbsp;**|**&nbsp;&nbsp;&nbsp;&nbsp;&nbsp;&nbsp; **GitHub:** https://github.com/aaron-chew  "
   ]
  }
 ],
 "metadata": {
  "kernelspec": {
   "display_name": "Python 3",
   "language": "python",
   "name": "python3"
  },
  "language_info": {
   "codemirror_mode": {
    "name": "ipython",
    "version": 3
   },
   "file_extension": ".py",
   "mimetype": "text/x-python",
   "name": "python",
   "nbconvert_exporter": "python",
   "pygments_lexer": "ipython3",
   "version": "3.7.4"
  }
 },
 "nbformat": 4,
 "nbformat_minor": 5
}
